{
 "cells": [
  {
   "cell_type": "markdown",
   "metadata": {},
   "source": [
    "## Beer Analysis\n",
    "---\n",
    "\n",
    "Notebook to get insights from the dataset for beers, breweries and reviews.\n",
    "\n",
    "The dataset came in 3 different CSV files: beers.csv, breweries.csv and reviews.csv that has around 9 Million reviews!\n",
    "\n",
    "#### Data Source: [Kaggle](https://www.kaggle.com/ehallmar/beers-breweries-and-beer-reviews#reviews.csv)\n",
    "\n",
    "The data comes from [BeerAdvocate](https://www.beeradvocate.com)"
   ]
  },
  {
   "cell_type": "code",
   "execution_count": 1,
   "metadata": {},
   "outputs": [],
   "source": [
    "# Dependencies and packages\n",
    "%reload_ext lab_black\n",
    "\n",
    "import os\n",
    "import pandas as pd\n",
    "import numpy as np\n",
    "import math as math\n",
    "import datetime as dt\n",
    "import plotly\n",
    "import plotly.express as px"
   ]
  },
  {
   "cell_type": "code",
   "execution_count": 2,
   "metadata": {},
   "outputs": [
    {
     "data": {
      "text/html": [
       "<div>\n",
       "<style scoped>\n",
       "    .dataframe tbody tr th:only-of-type {\n",
       "        vertical-align: middle;\n",
       "    }\n",
       "\n",
       "    .dataframe tbody tr th {\n",
       "        vertical-align: top;\n",
       "    }\n",
       "\n",
       "    .dataframe thead th {\n",
       "        text-align: right;\n",
       "    }\n",
       "</style>\n",
       "<table border=\"1\" class=\"dataframe\">\n",
       "  <thead>\n",
       "    <tr style=\"text-align: right;\">\n",
       "      <th></th>\n",
       "      <th>id</th>\n",
       "      <th>name</th>\n",
       "      <th>brewery_id</th>\n",
       "      <th>state</th>\n",
       "      <th>country</th>\n",
       "      <th>style</th>\n",
       "      <th>availability</th>\n",
       "      <th>abv</th>\n",
       "      <th>notes</th>\n",
       "      <th>retired</th>\n",
       "    </tr>\n",
       "  </thead>\n",
       "  <tbody>\n",
       "    <tr>\n",
       "      <th>0</th>\n",
       "      <td>202522</td>\n",
       "      <td>Olde Cogitator</td>\n",
       "      <td>2199</td>\n",
       "      <td>CA</td>\n",
       "      <td>US</td>\n",
       "      <td>English Oatmeal Stout</td>\n",
       "      <td>Rotating</td>\n",
       "      <td>7.3</td>\n",
       "      <td>No notes at this time.</td>\n",
       "      <td>f</td>\n",
       "    </tr>\n",
       "    <tr>\n",
       "      <th>1</th>\n",
       "      <td>82352</td>\n",
       "      <td>Konrads Stout Russian Imperial Stout</td>\n",
       "      <td>18604</td>\n",
       "      <td>NaN</td>\n",
       "      <td>NO</td>\n",
       "      <td>Russian Imperial Stout</td>\n",
       "      <td>Rotating</td>\n",
       "      <td>10.4</td>\n",
       "      <td>No notes at this time.</td>\n",
       "      <td>f</td>\n",
       "    </tr>\n",
       "    <tr>\n",
       "      <th>2</th>\n",
       "      <td>214879</td>\n",
       "      <td>Scottish Right</td>\n",
       "      <td>44306</td>\n",
       "      <td>IN</td>\n",
       "      <td>US</td>\n",
       "      <td>Scottish Ale</td>\n",
       "      <td>Year-round</td>\n",
       "      <td>4.0</td>\n",
       "      <td>No notes at this time.</td>\n",
       "      <td>t</td>\n",
       "    </tr>\n",
       "    <tr>\n",
       "      <th>3</th>\n",
       "      <td>320009</td>\n",
       "      <td>MegaMeow Imperial Stout</td>\n",
       "      <td>4378</td>\n",
       "      <td>WA</td>\n",
       "      <td>US</td>\n",
       "      <td>American Imperial Stout</td>\n",
       "      <td>Winter</td>\n",
       "      <td>8.7</td>\n",
       "      <td>Every time this year</td>\n",
       "      <td>f</td>\n",
       "    </tr>\n",
       "    <tr>\n",
       "      <th>4</th>\n",
       "      <td>246438</td>\n",
       "      <td>Peaches-N-Cream</td>\n",
       "      <td>44617</td>\n",
       "      <td>PA</td>\n",
       "      <td>US</td>\n",
       "      <td>American Cream Ale</td>\n",
       "      <td>Rotating</td>\n",
       "      <td>5.1</td>\n",
       "      <td>No notes at this time.</td>\n",
       "      <td>f</td>\n",
       "    </tr>\n",
       "  </tbody>\n",
       "</table>\n",
       "</div>"
      ],
      "text/plain": [
       "       id                                  name  brewery_id state country  \\\n",
       "0  202522                        Olde Cogitator        2199    CA      US   \n",
       "1   82352  Konrads Stout Russian Imperial Stout       18604   NaN      NO   \n",
       "2  214879                        Scottish Right       44306    IN      US   \n",
       "3  320009               MegaMeow Imperial Stout        4378    WA      US   \n",
       "4  246438                       Peaches-N-Cream       44617    PA      US   \n",
       "\n",
       "                     style availability   abv                   notes retired  \n",
       "0    English Oatmeal Stout     Rotating   7.3  No notes at this time.       f  \n",
       "1   Russian Imperial Stout     Rotating  10.4  No notes at this time.       f  \n",
       "2             Scottish Ale   Year-round   4.0  No notes at this time.       t  \n",
       "3  American Imperial Stout       Winter   8.7    Every time this year       f  \n",
       "4       American Cream Ale     Rotating   5.1  No notes at this time.       f  "
      ]
     },
     "execution_count": 2,
     "metadata": {},
     "output_type": "execute_result"
    }
   ],
   "source": [
    "csv_path = os.path.join(\"../data/csv/beers.csv\")\n",
    "df_beers = pd.read_csv(csv_path)\n",
    "\n",
    "df_beers.head()"
   ]
  },
  {
   "cell_type": "code",
   "execution_count": 3,
   "metadata": {},
   "outputs": [
    {
     "data": {
      "text/html": [
       "<div>\n",
       "<style scoped>\n",
       "    .dataframe tbody tr th:only-of-type {\n",
       "        vertical-align: middle;\n",
       "    }\n",
       "\n",
       "    .dataframe tbody tr th {\n",
       "        vertical-align: top;\n",
       "    }\n",
       "\n",
       "    .dataframe thead th {\n",
       "        text-align: right;\n",
       "    }\n",
       "</style>\n",
       "<table border=\"1\" class=\"dataframe\">\n",
       "  <thead>\n",
       "    <tr style=\"text-align: right;\">\n",
       "      <th></th>\n",
       "      <th>id</th>\n",
       "      <th>name</th>\n",
       "      <th>brewery_id</th>\n",
       "      <th>state</th>\n",
       "      <th>country</th>\n",
       "      <th>style</th>\n",
       "      <th>availability</th>\n",
       "      <th>abv</th>\n",
       "      <th>retired</th>\n",
       "    </tr>\n",
       "  </thead>\n",
       "  <tbody>\n",
       "    <tr>\n",
       "      <th>0</th>\n",
       "      <td>202522</td>\n",
       "      <td>Olde Cogitator</td>\n",
       "      <td>2199</td>\n",
       "      <td>CA</td>\n",
       "      <td>US</td>\n",
       "      <td>English Oatmeal Stout</td>\n",
       "      <td>Rotating</td>\n",
       "      <td>7.3</td>\n",
       "      <td>f</td>\n",
       "    </tr>\n",
       "    <tr>\n",
       "      <th>1</th>\n",
       "      <td>82352</td>\n",
       "      <td>Konrads Stout Russian Imperial Stout</td>\n",
       "      <td>18604</td>\n",
       "      <td>NaN</td>\n",
       "      <td>NO</td>\n",
       "      <td>Russian Imperial Stout</td>\n",
       "      <td>Rotating</td>\n",
       "      <td>10.4</td>\n",
       "      <td>f</td>\n",
       "    </tr>\n",
       "    <tr>\n",
       "      <th>2</th>\n",
       "      <td>214879</td>\n",
       "      <td>Scottish Right</td>\n",
       "      <td>44306</td>\n",
       "      <td>IN</td>\n",
       "      <td>US</td>\n",
       "      <td>Scottish Ale</td>\n",
       "      <td>Year-round</td>\n",
       "      <td>4.0</td>\n",
       "      <td>t</td>\n",
       "    </tr>\n",
       "    <tr>\n",
       "      <th>3</th>\n",
       "      <td>320009</td>\n",
       "      <td>MegaMeow Imperial Stout</td>\n",
       "      <td>4378</td>\n",
       "      <td>WA</td>\n",
       "      <td>US</td>\n",
       "      <td>American Imperial Stout</td>\n",
       "      <td>Winter</td>\n",
       "      <td>8.7</td>\n",
       "      <td>f</td>\n",
       "    </tr>\n",
       "    <tr>\n",
       "      <th>4</th>\n",
       "      <td>246438</td>\n",
       "      <td>Peaches-N-Cream</td>\n",
       "      <td>44617</td>\n",
       "      <td>PA</td>\n",
       "      <td>US</td>\n",
       "      <td>American Cream Ale</td>\n",
       "      <td>Rotating</td>\n",
       "      <td>5.1</td>\n",
       "      <td>f</td>\n",
       "    </tr>\n",
       "  </tbody>\n",
       "</table>\n",
       "</div>"
      ],
      "text/plain": [
       "       id                                  name  brewery_id state country  \\\n",
       "0  202522                        Olde Cogitator        2199    CA      US   \n",
       "1   82352  Konrads Stout Russian Imperial Stout       18604   NaN      NO   \n",
       "2  214879                        Scottish Right       44306    IN      US   \n",
       "3  320009               MegaMeow Imperial Stout        4378    WA      US   \n",
       "4  246438                       Peaches-N-Cream       44617    PA      US   \n",
       "\n",
       "                     style availability   abv retired  \n",
       "0    English Oatmeal Stout     Rotating   7.3       f  \n",
       "1   Russian Imperial Stout     Rotating  10.4       f  \n",
       "2             Scottish Ale   Year-round   4.0       t  \n",
       "3  American Imperial Stout       Winter   8.7       f  \n",
       "4       American Cream Ale     Rotating   5.1       f  "
      ]
     },
     "execution_count": 3,
     "metadata": {},
     "output_type": "execute_result"
    }
   ],
   "source": [
    "df_beers = df_beers.drop([\"notes\"], axis=1)\n",
    "df_beers.head()"
   ]
  },
  {
   "cell_type": "code",
   "execution_count": 4,
   "metadata": {},
   "outputs": [
    {
     "data": {
      "text/html": [
       "<div>\n",
       "<style scoped>\n",
       "    .dataframe tbody tr th:only-of-type {\n",
       "        vertical-align: middle;\n",
       "    }\n",
       "\n",
       "    .dataframe tbody tr th {\n",
       "        vertical-align: top;\n",
       "    }\n",
       "\n",
       "    .dataframe thead th {\n",
       "        text-align: right;\n",
       "    }\n",
       "</style>\n",
       "<table border=\"1\" class=\"dataframe\">\n",
       "  <thead>\n",
       "    <tr style=\"text-align: right;\">\n",
       "      <th></th>\n",
       "      <th>id</th>\n",
       "      <th>name</th>\n",
       "      <th>city</th>\n",
       "      <th>state</th>\n",
       "      <th>country</th>\n",
       "      <th>notes</th>\n",
       "      <th>types</th>\n",
       "    </tr>\n",
       "  </thead>\n",
       "  <tbody>\n",
       "    <tr>\n",
       "      <th>0</th>\n",
       "      <td>19730</td>\n",
       "      <td>Brouwerij Danny</td>\n",
       "      <td>Erpe-Mere</td>\n",
       "      <td>NaN</td>\n",
       "      <td>BE</td>\n",
       "      <td>No notes at this time.</td>\n",
       "      <td>Brewery</td>\n",
       "    </tr>\n",
       "    <tr>\n",
       "      <th>1</th>\n",
       "      <td>32541</td>\n",
       "      <td>Coachella Valley Brewing Co</td>\n",
       "      <td>Thousand Palms</td>\n",
       "      <td>CA</td>\n",
       "      <td>US</td>\n",
       "      <td>No notes at this time.</td>\n",
       "      <td>Brewery, Bar, Beer-to-go</td>\n",
       "    </tr>\n",
       "    <tr>\n",
       "      <th>2</th>\n",
       "      <td>44736</td>\n",
       "      <td>Beef 'O' Brady's</td>\n",
       "      <td>Plant City</td>\n",
       "      <td>FL</td>\n",
       "      <td>US</td>\n",
       "      <td>No notes at this time.</td>\n",
       "      <td>Bar, Eatery</td>\n",
       "    </tr>\n",
       "    <tr>\n",
       "      <th>3</th>\n",
       "      <td>23372</td>\n",
       "      <td>Broadway Wine Merchant</td>\n",
       "      <td>Oklahoma City</td>\n",
       "      <td>OK</td>\n",
       "      <td>US</td>\n",
       "      <td>No notes at this time.</td>\n",
       "      <td>Store</td>\n",
       "    </tr>\n",
       "    <tr>\n",
       "      <th>4</th>\n",
       "      <td>35328</td>\n",
       "      <td>Brighton Beer Dispensary (DUPLICATE)</td>\n",
       "      <td>Brighton</td>\n",
       "      <td>GB2</td>\n",
       "      <td>GB</td>\n",
       "      <td>Duplicate of https://www.beeradvocate.com/beer...</td>\n",
       "      <td>Bar, Eatery</td>\n",
       "    </tr>\n",
       "  </tbody>\n",
       "</table>\n",
       "</div>"
      ],
      "text/plain": [
       "      id                                  name            city state country  \\\n",
       "0  19730                       Brouwerij Danny       Erpe-Mere   NaN      BE   \n",
       "1  32541           Coachella Valley Brewing Co  Thousand Palms    CA      US   \n",
       "2  44736                      Beef 'O' Brady's      Plant City    FL      US   \n",
       "3  23372                Broadway Wine Merchant   Oklahoma City    OK      US   \n",
       "4  35328  Brighton Beer Dispensary (DUPLICATE)        Brighton   GB2      GB   \n",
       "\n",
       "                                               notes                     types  \n",
       "0                             No notes at this time.                   Brewery  \n",
       "1                             No notes at this time.  Brewery, Bar, Beer-to-go  \n",
       "2                             No notes at this time.               Bar, Eatery  \n",
       "3                             No notes at this time.                     Store  \n",
       "4  Duplicate of https://www.beeradvocate.com/beer...               Bar, Eatery  "
      ]
     },
     "execution_count": 4,
     "metadata": {},
     "output_type": "execute_result"
    }
   ],
   "source": [
    "csv_path2 = os.path.join(\"../data/csv/breweries.csv\")\n",
    "df_breweries = pd.read_csv(csv_path2)\n",
    "\n",
    "df_breweries.head()"
   ]
  },
  {
   "cell_type": "code",
   "execution_count": 5,
   "metadata": {},
   "outputs": [
    {
     "data": {
      "text/html": [
       "<div>\n",
       "<style scoped>\n",
       "    .dataframe tbody tr th:only-of-type {\n",
       "        vertical-align: middle;\n",
       "    }\n",
       "\n",
       "    .dataframe tbody tr th {\n",
       "        vertical-align: top;\n",
       "    }\n",
       "\n",
       "    .dataframe thead th {\n",
       "        text-align: right;\n",
       "    }\n",
       "</style>\n",
       "<table border=\"1\" class=\"dataframe\">\n",
       "  <thead>\n",
       "    <tr style=\"text-align: right;\">\n",
       "      <th></th>\n",
       "      <th>id</th>\n",
       "      <th>name</th>\n",
       "      <th>city</th>\n",
       "      <th>state</th>\n",
       "      <th>country</th>\n",
       "      <th>types</th>\n",
       "    </tr>\n",
       "  </thead>\n",
       "  <tbody>\n",
       "    <tr>\n",
       "      <th>0</th>\n",
       "      <td>19730</td>\n",
       "      <td>Brouwerij Danny</td>\n",
       "      <td>Erpe-Mere</td>\n",
       "      <td>NaN</td>\n",
       "      <td>BE</td>\n",
       "      <td>Brewery</td>\n",
       "    </tr>\n",
       "    <tr>\n",
       "      <th>1</th>\n",
       "      <td>32541</td>\n",
       "      <td>Coachella Valley Brewing Co</td>\n",
       "      <td>Thousand Palms</td>\n",
       "      <td>CA</td>\n",
       "      <td>US</td>\n",
       "      <td>Brewery, Bar, Beer-to-go</td>\n",
       "    </tr>\n",
       "    <tr>\n",
       "      <th>2</th>\n",
       "      <td>44736</td>\n",
       "      <td>Beef 'O' Brady's</td>\n",
       "      <td>Plant City</td>\n",
       "      <td>FL</td>\n",
       "      <td>US</td>\n",
       "      <td>Bar, Eatery</td>\n",
       "    </tr>\n",
       "    <tr>\n",
       "      <th>3</th>\n",
       "      <td>23372</td>\n",
       "      <td>Broadway Wine Merchant</td>\n",
       "      <td>Oklahoma City</td>\n",
       "      <td>OK</td>\n",
       "      <td>US</td>\n",
       "      <td>Store</td>\n",
       "    </tr>\n",
       "    <tr>\n",
       "      <th>4</th>\n",
       "      <td>35328</td>\n",
       "      <td>Brighton Beer Dispensary (DUPLICATE)</td>\n",
       "      <td>Brighton</td>\n",
       "      <td>GB2</td>\n",
       "      <td>GB</td>\n",
       "      <td>Bar, Eatery</td>\n",
       "    </tr>\n",
       "  </tbody>\n",
       "</table>\n",
       "</div>"
      ],
      "text/plain": [
       "      id                                  name            city state country  \\\n",
       "0  19730                       Brouwerij Danny       Erpe-Mere   NaN      BE   \n",
       "1  32541           Coachella Valley Brewing Co  Thousand Palms    CA      US   \n",
       "2  44736                      Beef 'O' Brady's      Plant City    FL      US   \n",
       "3  23372                Broadway Wine Merchant   Oklahoma City    OK      US   \n",
       "4  35328  Brighton Beer Dispensary (DUPLICATE)        Brighton   GB2      GB   \n",
       "\n",
       "                      types  \n",
       "0                   Brewery  \n",
       "1  Brewery, Bar, Beer-to-go  \n",
       "2               Bar, Eatery  \n",
       "3                     Store  \n",
       "4               Bar, Eatery  "
      ]
     },
     "execution_count": 5,
     "metadata": {},
     "output_type": "execute_result"
    }
   ],
   "source": [
    "df_breweries = df_breweries.drop([\"notes\"], axis=1)\n",
    "df_breweries.head()"
   ]
  },
  {
   "cell_type": "code",
   "execution_count": 6,
   "metadata": {},
   "outputs": [],
   "source": [
    "csv_path3 = os.path.join(\"../data/csv/reviews.csv\")\n",
    "df_reviews = pd.read_csv(csv_path3)"
   ]
  },
  {
   "cell_type": "code",
   "execution_count": 7,
   "metadata": {},
   "outputs": [
    {
     "data": {
      "text/html": [
       "<div>\n",
       "<style scoped>\n",
       "    .dataframe tbody tr th:only-of-type {\n",
       "        vertical-align: middle;\n",
       "    }\n",
       "\n",
       "    .dataframe tbody tr th {\n",
       "        vertical-align: top;\n",
       "    }\n",
       "\n",
       "    .dataframe thead th {\n",
       "        text-align: right;\n",
       "    }\n",
       "</style>\n",
       "<table border=\"1\" class=\"dataframe\">\n",
       "  <thead>\n",
       "    <tr style=\"text-align: right;\">\n",
       "      <th></th>\n",
       "      <th>beer_id</th>\n",
       "      <th>username</th>\n",
       "      <th>date</th>\n",
       "      <th>text</th>\n",
       "      <th>look</th>\n",
       "      <th>smell</th>\n",
       "      <th>taste</th>\n",
       "      <th>feel</th>\n",
       "      <th>overall</th>\n",
       "      <th>score</th>\n",
       "    </tr>\n",
       "  </thead>\n",
       "  <tbody>\n",
       "    <tr>\n",
       "      <th>0</th>\n",
       "      <td>271781</td>\n",
       "      <td>bluejacket74</td>\n",
       "      <td>2017-03-17</td>\n",
       "      <td>750 ml bottle, 2016 vintage, bottle #304 of...</td>\n",
       "      <td>4.00</td>\n",
       "      <td>4.00</td>\n",
       "      <td>4.00</td>\n",
       "      <td>4.25</td>\n",
       "      <td>4.00</td>\n",
       "      <td>4.03</td>\n",
       "    </tr>\n",
       "    <tr>\n",
       "      <th>1</th>\n",
       "      <td>125646</td>\n",
       "      <td>_dirty_</td>\n",
       "      <td>2017-12-21</td>\n",
       "      <td></td>\n",
       "      <td>4.50</td>\n",
       "      <td>4.50</td>\n",
       "      <td>4.50</td>\n",
       "      <td>4.50</td>\n",
       "      <td>4.50</td>\n",
       "      <td>4.50</td>\n",
       "    </tr>\n",
       "    <tr>\n",
       "      <th>2</th>\n",
       "      <td>125646</td>\n",
       "      <td>CJDUBYA</td>\n",
       "      <td>2017-12-21</td>\n",
       "      <td></td>\n",
       "      <td>4.75</td>\n",
       "      <td>4.75</td>\n",
       "      <td>4.75</td>\n",
       "      <td>4.75</td>\n",
       "      <td>4.75</td>\n",
       "      <td>4.75</td>\n",
       "    </tr>\n",
       "    <tr>\n",
       "      <th>3</th>\n",
       "      <td>125646</td>\n",
       "      <td>GratefulBeerGuy</td>\n",
       "      <td>2017-12-20</td>\n",
       "      <td>0% 16 oz can. Funny story: As I finally wal...</td>\n",
       "      <td>4.75</td>\n",
       "      <td>4.75</td>\n",
       "      <td>4.50</td>\n",
       "      <td>4.50</td>\n",
       "      <td>4.50</td>\n",
       "      <td>4.58</td>\n",
       "    </tr>\n",
       "    <tr>\n",
       "      <th>4</th>\n",
       "      <td>125646</td>\n",
       "      <td>LukeGude</td>\n",
       "      <td>2017-12-20</td>\n",
       "      <td>Classic TH NEIPA. Overflowing head and bouq...</td>\n",
       "      <td>4.25</td>\n",
       "      <td>4.50</td>\n",
       "      <td>4.25</td>\n",
       "      <td>4.25</td>\n",
       "      <td>4.25</td>\n",
       "      <td>4.31</td>\n",
       "    </tr>\n",
       "  </tbody>\n",
       "</table>\n",
       "</div>"
      ],
      "text/plain": [
       "   beer_id         username        date  \\\n",
       "0   271781     bluejacket74  2017-03-17   \n",
       "1   125646          _dirty_  2017-12-21   \n",
       "2   125646          CJDUBYA  2017-12-21   \n",
       "3   125646  GratefulBeerGuy  2017-12-20   \n",
       "4   125646         LukeGude  2017-12-20   \n",
       "\n",
       "                                                text  look  smell  taste  \\\n",
       "0     750 ml bottle, 2016 vintage, bottle #304 of...  4.00   4.00   4.00   \n",
       "1                                                     4.50   4.50   4.50   \n",
       "2                                                     4.75   4.75   4.75   \n",
       "3     0% 16 oz can. Funny story: As I finally wal...  4.75   4.75   4.50   \n",
       "4     Classic TH NEIPA. Overflowing head and bouq...  4.25   4.50   4.25   \n",
       "\n",
       "   feel  overall  score  \n",
       "0  4.25     4.00   4.03  \n",
       "1  4.50     4.50   4.50  \n",
       "2  4.75     4.75   4.75  \n",
       "3  4.50     4.50   4.58  \n",
       "4  4.25     4.25   4.31  "
      ]
     },
     "execution_count": 7,
     "metadata": {},
     "output_type": "execute_result"
    }
   ],
   "source": [
    "df_reviews.head()"
   ]
  },
  {
   "cell_type": "code",
   "execution_count": 8,
   "metadata": {},
   "outputs": [
    {
     "data": {
      "text/plain": [
       "(9073128, 10)"
      ]
     },
     "execution_count": 8,
     "metadata": {},
     "output_type": "execute_result"
    }
   ],
   "source": [
    "df_reviews.shape"
   ]
  },
  {
   "cell_type": "code",
   "execution_count": 9,
   "metadata": {},
   "outputs": [
    {
     "data": {
      "text/plain": [
       "(358873, 9)"
      ]
     },
     "execution_count": 9,
     "metadata": {},
     "output_type": "execute_result"
    }
   ],
   "source": [
    "df_beers.shape"
   ]
  },
  {
   "cell_type": "code",
   "execution_count": 10,
   "metadata": {},
   "outputs": [
    {
     "data": {
      "text/plain": [
       "(50347, 6)"
      ]
     },
     "execution_count": 10,
     "metadata": {},
     "output_type": "execute_result"
    }
   ],
   "source": [
    "df_breweries.shape"
   ]
  },
  {
   "cell_type": "code",
   "execution_count": 11,
   "metadata": {},
   "outputs": [
    {
     "data": {
      "text/plain": [
       "11757     17160\n",
       "2093      15947\n",
       "7971      14927\n",
       "1093      14915\n",
       "29619     14292\n",
       "          ...  \n",
       "203777        1\n",
       "126326        1\n",
       "109950        1\n",
       "282050        1\n",
       "8188          1\n",
       "Name: beer_id, Length: 309542, dtype: int64"
      ]
     },
     "execution_count": 11,
     "metadata": {},
     "output_type": "execute_result"
    }
   ],
   "source": [
    "# Find the number of unique beers in reviews.csv\n",
    "df_reviews[\"beer_id\"].value_counts()"
   ]
  },
  {
   "cell_type": "code",
   "execution_count": 12,
   "metadata": {},
   "outputs": [
    {
     "data": {
      "text/plain": [
       "Sammy            13798\n",
       "kylehay2004      12221\n",
       "acurtis          12016\n",
       "StonedTrippin    11859\n",
       "jaydoc           11800\n",
       "                 ...  \n",
       "Weird-N-Tasty        1\n",
       "Megora               1\n",
       "allimacika           1\n",
       "Teh_roxxorz          1\n",
       "vahsharo1980         1\n",
       "Name: username, Length: 164934, dtype: int64"
      ]
     },
     "execution_count": 12,
     "metadata": {},
     "output_type": "execute_result"
    }
   ],
   "source": [
    "# Find unique users who reviewed\n",
    "df_reviews[\"username\"].value_counts()"
   ]
  },
  {
   "cell_type": "code",
   "execution_count": 13,
   "metadata": {},
   "outputs": [
    {
     "data": {
      "text/html": [
       "<div>\n",
       "<style scoped>\n",
       "    .dataframe tbody tr th:only-of-type {\n",
       "        vertical-align: middle;\n",
       "    }\n",
       "\n",
       "    .dataframe tbody tr th {\n",
       "        vertical-align: top;\n",
       "    }\n",
       "\n",
       "    .dataframe thead th {\n",
       "        text-align: right;\n",
       "    }\n",
       "</style>\n",
       "<table border=\"1\" class=\"dataframe\">\n",
       "  <thead>\n",
       "    <tr style=\"text-align: right;\">\n",
       "      <th></th>\n",
       "      <th>id</th>\n",
       "      <th>name</th>\n",
       "      <th>brewery_id</th>\n",
       "      <th>state</th>\n",
       "      <th>country</th>\n",
       "      <th>style</th>\n",
       "      <th>availability</th>\n",
       "      <th>abv</th>\n",
       "      <th>retired</th>\n",
       "    </tr>\n",
       "  </thead>\n",
       "  <tbody>\n",
       "    <tr>\n",
       "      <th>False</th>\n",
       "      <td>358873.0</td>\n",
       "      <td>358873.0</td>\n",
       "      <td>358873.0</td>\n",
       "      <td>298147</td>\n",
       "      <td>358719</td>\n",
       "      <td>358872</td>\n",
       "      <td>358873.0</td>\n",
       "      <td>320076</td>\n",
       "      <td>358873.0</td>\n",
       "    </tr>\n",
       "    <tr>\n",
       "      <th>True</th>\n",
       "      <td>NaN</td>\n",
       "      <td>NaN</td>\n",
       "      <td>NaN</td>\n",
       "      <td>60726</td>\n",
       "      <td>154</td>\n",
       "      <td>1</td>\n",
       "      <td>NaN</td>\n",
       "      <td>38797</td>\n",
       "      <td>NaN</td>\n",
       "    </tr>\n",
       "  </tbody>\n",
       "</table>\n",
       "</div>"
      ],
      "text/plain": [
       "             id      name  brewery_id   state  country   style  availability  \\\n",
       "False  358873.0  358873.0    358873.0  298147   358719  358872      358873.0   \n",
       "True        NaN       NaN         NaN   60726      154       1           NaN   \n",
       "\n",
       "          abv   retired  \n",
       "False  320076  358873.0  \n",
       "True    38797       NaN  "
      ]
     },
     "execution_count": 13,
     "metadata": {},
     "output_type": "execute_result"
    }
   ],
   "source": [
    "# Find unique value counts for every column in beers.csv\n",
    "df_beers.apply(lambda x: x.isnull().value_counts())"
   ]
  },
  {
   "cell_type": "code",
   "execution_count": 14,
   "metadata": {},
   "outputs": [
    {
     "data": {
      "text/html": [
       "<div>\n",
       "<style scoped>\n",
       "    .dataframe tbody tr th:only-of-type {\n",
       "        vertical-align: middle;\n",
       "    }\n",
       "\n",
       "    .dataframe tbody tr th {\n",
       "        vertical-align: top;\n",
       "    }\n",
       "\n",
       "    .dataframe thead th {\n",
       "        text-align: right;\n",
       "    }\n",
       "</style>\n",
       "<table border=\"1\" class=\"dataframe\">\n",
       "  <thead>\n",
       "    <tr style=\"text-align: right;\">\n",
       "      <th></th>\n",
       "      <th>id</th>\n",
       "      <th>name</th>\n",
       "      <th>city</th>\n",
       "      <th>state</th>\n",
       "      <th>country</th>\n",
       "      <th>types</th>\n",
       "    </tr>\n",
       "  </thead>\n",
       "  <tbody>\n",
       "    <tr>\n",
       "      <th>False</th>\n",
       "      <td>50347.0</td>\n",
       "      <td>50347.0</td>\n",
       "      <td>50289</td>\n",
       "      <td>39076</td>\n",
       "      <td>50341</td>\n",
       "      <td>50347.0</td>\n",
       "    </tr>\n",
       "    <tr>\n",
       "      <th>True</th>\n",
       "      <td>NaN</td>\n",
       "      <td>NaN</td>\n",
       "      <td>58</td>\n",
       "      <td>11271</td>\n",
       "      <td>6</td>\n",
       "      <td>NaN</td>\n",
       "    </tr>\n",
       "  </tbody>\n",
       "</table>\n",
       "</div>"
      ],
      "text/plain": [
       "            id     name   city  state  country    types\n",
       "False  50347.0  50347.0  50289  39076    50341  50347.0\n",
       "True       NaN      NaN     58  11271        6      NaN"
      ]
     },
     "execution_count": 14,
     "metadata": {},
     "output_type": "execute_result"
    }
   ],
   "source": [
    "# Find value counts for every column in breweries.csv\n",
    "df_breweries.apply(lambda x: x.isnull().value_counts())"
   ]
  },
  {
   "cell_type": "code",
   "execution_count": 15,
   "metadata": {},
   "outputs": [
    {
     "data": {
      "text/html": [
       "<div>\n",
       "<style scoped>\n",
       "    .dataframe tbody tr th:only-of-type {\n",
       "        vertical-align: middle;\n",
       "    }\n",
       "\n",
       "    .dataframe tbody tr th {\n",
       "        vertical-align: top;\n",
       "    }\n",
       "\n",
       "    .dataframe thead th {\n",
       "        text-align: right;\n",
       "    }\n",
       "</style>\n",
       "<table border=\"1\" class=\"dataframe\">\n",
       "  <thead>\n",
       "    <tr style=\"text-align: right;\">\n",
       "      <th></th>\n",
       "      <th>beer_id</th>\n",
       "      <th>username</th>\n",
       "      <th>date</th>\n",
       "      <th>text</th>\n",
       "      <th>look</th>\n",
       "      <th>smell</th>\n",
       "      <th>taste</th>\n",
       "      <th>feel</th>\n",
       "      <th>overall</th>\n",
       "      <th>score</th>\n",
       "    </tr>\n",
       "  </thead>\n",
       "  <tbody>\n",
       "    <tr>\n",
       "      <th>False</th>\n",
       "      <td>9073128.0</td>\n",
       "      <td>9069313</td>\n",
       "      <td>9073128.0</td>\n",
       "      <td>9073128.0</td>\n",
       "      <td>5283110</td>\n",
       "      <td>5283110</td>\n",
       "      <td>5283110</td>\n",
       "      <td>5283110</td>\n",
       "      <td>5283110</td>\n",
       "      <td>9073128.0</td>\n",
       "    </tr>\n",
       "    <tr>\n",
       "      <th>True</th>\n",
       "      <td>NaN</td>\n",
       "      <td>3815</td>\n",
       "      <td>NaN</td>\n",
       "      <td>NaN</td>\n",
       "      <td>3790018</td>\n",
       "      <td>3790018</td>\n",
       "      <td>3790018</td>\n",
       "      <td>3790018</td>\n",
       "      <td>3790018</td>\n",
       "      <td>NaN</td>\n",
       "    </tr>\n",
       "  </tbody>\n",
       "</table>\n",
       "</div>"
      ],
      "text/plain": [
       "         beer_id  username       date       text     look    smell    taste  \\\n",
       "False  9073128.0   9069313  9073128.0  9073128.0  5283110  5283110  5283110   \n",
       "True         NaN      3815        NaN        NaN  3790018  3790018  3790018   \n",
       "\n",
       "          feel  overall      score  \n",
       "False  5283110  5283110  9073128.0  \n",
       "True   3790018  3790018        NaN  "
      ]
     },
     "execution_count": 15,
     "metadata": {},
     "output_type": "execute_result"
    }
   ],
   "source": [
    "# Find value counts for every column in reviews.csv\n",
    "df_reviews.apply(lambda x: x.isnull().value_counts())"
   ]
  },
  {
   "cell_type": "markdown",
   "metadata": {},
   "source": [
    "### Number of Breweries per Country"
   ]
  },
  {
   "cell_type": "code",
   "execution_count": 16,
   "metadata": {},
   "outputs": [
    {
     "data": {
      "text/plain": [
       "US    34693\n",
       "GB     2525\n",
       "CA     1890\n",
       "DE     1812\n",
       "BE      756\n",
       "      ...  \n",
       "TO        1\n",
       "SZ        1\n",
       "SB        1\n",
       "HT        1\n",
       "LY        1\n",
       "Name: country, Length: 199, dtype: int64"
      ]
     },
     "execution_count": 16,
     "metadata": {},
     "output_type": "execute_result"
    }
   ],
   "source": [
    "df_breweries[\"country\"].value_counts()"
   ]
  },
  {
   "cell_type": "code",
   "execution_count": 17,
   "metadata": {},
   "outputs": [
    {
     "data": {
      "text/plain": [
       "199"
      ]
     },
     "execution_count": 17,
     "metadata": {},
     "output_type": "execute_result"
    }
   ],
   "source": [
    "# Number of unique countries\n",
    "df_breweries[\"country\"].nunique()"
   ]
  },
  {
   "cell_type": "markdown",
   "metadata": {},
   "source": [
    "**Next Steps:**\n",
    "- Drop all the reviews that are below 4 and store in another DF\n",
    "\n",
    "- Drop column `'text'` - we dont need detailed review of the user.\n",
    "\n",
    "- Drop columns `look`, `smell`, `taste`, `feel` and `overall` ??"
   ]
  },
  {
   "cell_type": "code",
   "execution_count": 18,
   "metadata": {},
   "outputs": [],
   "source": [
    "# df_reviews2 is just a more cleaned up DF for the recommender app\n",
    "df_reviews2 = df_reviews.copy()"
   ]
  },
  {
   "cell_type": "code",
   "execution_count": 19,
   "metadata": {},
   "outputs": [],
   "source": [
    "# Only keep the reviews higher than 4\n",
    "df_reviews2.drop(df_reviews2[df_reviews2[\"score\"] < 4].index, inplace=True)"
   ]
  },
  {
   "cell_type": "code",
   "execution_count": 20,
   "metadata": {},
   "outputs": [
    {
     "data": {
      "text/plain": [
       "(4785625, 10)"
      ]
     },
     "execution_count": 20,
     "metadata": {},
     "output_type": "execute_result"
    }
   ],
   "source": [
    "df_reviews2.shape"
   ]
  },
  {
   "cell_type": "code",
   "execution_count": 21,
   "metadata": {},
   "outputs": [],
   "source": [
    "# remove the unwanted text column\n",
    "df_reviews2 = df_reviews2.drop([\"text\"], axis=1)"
   ]
  },
  {
   "cell_type": "code",
   "execution_count": 22,
   "metadata": {},
   "outputs": [
    {
     "data": {
      "text/html": [
       "<div>\n",
       "<style scoped>\n",
       "    .dataframe tbody tr th:only-of-type {\n",
       "        vertical-align: middle;\n",
       "    }\n",
       "\n",
       "    .dataframe tbody tr th {\n",
       "        vertical-align: top;\n",
       "    }\n",
       "\n",
       "    .dataframe thead th {\n",
       "        text-align: right;\n",
       "    }\n",
       "</style>\n",
       "<table border=\"1\" class=\"dataframe\">\n",
       "  <thead>\n",
       "    <tr style=\"text-align: right;\">\n",
       "      <th></th>\n",
       "      <th>beer_id</th>\n",
       "      <th>username</th>\n",
       "      <th>date</th>\n",
       "      <th>look</th>\n",
       "      <th>smell</th>\n",
       "      <th>taste</th>\n",
       "      <th>feel</th>\n",
       "      <th>overall</th>\n",
       "      <th>score</th>\n",
       "    </tr>\n",
       "  </thead>\n",
       "  <tbody>\n",
       "    <tr>\n",
       "      <th>1</th>\n",
       "      <td>125646</td>\n",
       "      <td>_dirty_</td>\n",
       "      <td>2017-12-21</td>\n",
       "      <td>4.50</td>\n",
       "      <td>4.50</td>\n",
       "      <td>4.50</td>\n",
       "      <td>4.50</td>\n",
       "      <td>4.50</td>\n",
       "      <td>4.50</td>\n",
       "    </tr>\n",
       "    <tr>\n",
       "      <th>2</th>\n",
       "      <td>125646</td>\n",
       "      <td>CJDUBYA</td>\n",
       "      <td>2017-12-21</td>\n",
       "      <td>4.75</td>\n",
       "      <td>4.75</td>\n",
       "      <td>4.75</td>\n",
       "      <td>4.75</td>\n",
       "      <td>4.75</td>\n",
       "      <td>4.75</td>\n",
       "    </tr>\n",
       "    <tr>\n",
       "      <th>3</th>\n",
       "      <td>125646</td>\n",
       "      <td>GratefulBeerGuy</td>\n",
       "      <td>2017-12-20</td>\n",
       "      <td>4.75</td>\n",
       "      <td>4.75</td>\n",
       "      <td>4.50</td>\n",
       "      <td>4.50</td>\n",
       "      <td>4.50</td>\n",
       "      <td>4.58</td>\n",
       "    </tr>\n",
       "    <tr>\n",
       "      <th>4</th>\n",
       "      <td>125646</td>\n",
       "      <td>LukeGude</td>\n",
       "      <td>2017-12-20</td>\n",
       "      <td>4.25</td>\n",
       "      <td>4.50</td>\n",
       "      <td>4.25</td>\n",
       "      <td>4.25</td>\n",
       "      <td>4.25</td>\n",
       "      <td>4.31</td>\n",
       "    </tr>\n",
       "    <tr>\n",
       "      <th>5</th>\n",
       "      <td>125646</td>\n",
       "      <td>jneff33</td>\n",
       "      <td>2017-12-20</td>\n",
       "      <td>4.50</td>\n",
       "      <td>4.75</td>\n",
       "      <td>5.00</td>\n",
       "      <td>5.00</td>\n",
       "      <td>5.00</td>\n",
       "      <td>4.91</td>\n",
       "    </tr>\n",
       "  </tbody>\n",
       "</table>\n",
       "</div>"
      ],
      "text/plain": [
       "   beer_id         username        date  look  smell  taste  feel  overall  \\\n",
       "1   125646          _dirty_  2017-12-21  4.50   4.50   4.50  4.50     4.50   \n",
       "2   125646          CJDUBYA  2017-12-21  4.75   4.75   4.75  4.75     4.75   \n",
       "3   125646  GratefulBeerGuy  2017-12-20  4.75   4.75   4.50  4.50     4.50   \n",
       "4   125646         LukeGude  2017-12-20  4.25   4.50   4.25  4.25     4.25   \n",
       "5   125646          jneff33  2017-12-20  4.50   4.75   5.00  5.00     5.00   \n",
       "\n",
       "   score  \n",
       "1   4.50  \n",
       "2   4.75  \n",
       "3   4.58  \n",
       "4   4.31  \n",
       "5   4.91  "
      ]
     },
     "execution_count": 22,
     "metadata": {},
     "output_type": "execute_result"
    }
   ],
   "source": [
    "# remove the reviews and reviewed beers than had less than 10 reviews\n",
    "# df_reviews2.groupby(\"beer_id\").filter(lambda x: len(x) > 10)\n",
    "df_reviews2 = df_reviews2[\n",
    "    df_reviews2.groupby(\"beer_id\").beer_id.transform(\"count\") > 10\n",
    "].copy()\n",
    "df_reviews2.head()"
   ]
  },
  {
   "cell_type": "code",
   "execution_count": 23,
   "metadata": {},
   "outputs": [
    {
     "data": {
      "text/plain": [
       "11757     16119\n",
       "7971      14432\n",
       "16814     13927\n",
       "2093      13409\n",
       "29619     12814\n",
       "          ...  \n",
       "313143       11\n",
       "47012        11\n",
       "96152        11\n",
       "286845       11\n",
       "4098         11\n",
       "Name: beer_id, Length: 35593, dtype: int64"
      ]
     },
     "execution_count": 23,
     "metadata": {},
     "output_type": "execute_result"
    }
   ],
   "source": [
    "df_reviews2[\"beer_id\"].value_counts()"
   ]
  },
  {
   "cell_type": "code",
   "execution_count": 24,
   "metadata": {},
   "outputs": [],
   "source": [
    "df_reviews2 = df_reviews2.drop([\"look\", \"smell\", \"taste\", \"feel\", \"overall\"], axis=1)"
   ]
  },
  {
   "cell_type": "code",
   "execution_count": 25,
   "metadata": {},
   "outputs": [
    {
     "data": {
      "text/html": [
       "<div>\n",
       "<style scoped>\n",
       "    .dataframe tbody tr th:only-of-type {\n",
       "        vertical-align: middle;\n",
       "    }\n",
       "\n",
       "    .dataframe tbody tr th {\n",
       "        vertical-align: top;\n",
       "    }\n",
       "\n",
       "    .dataframe thead th {\n",
       "        text-align: right;\n",
       "    }\n",
       "</style>\n",
       "<table border=\"1\" class=\"dataframe\">\n",
       "  <thead>\n",
       "    <tr style=\"text-align: right;\">\n",
       "      <th></th>\n",
       "      <th>beer_id</th>\n",
       "      <th>username</th>\n",
       "      <th>date</th>\n",
       "      <th>score</th>\n",
       "    </tr>\n",
       "  </thead>\n",
       "  <tbody>\n",
       "    <tr>\n",
       "      <th>1</th>\n",
       "      <td>125646</td>\n",
       "      <td>_dirty_</td>\n",
       "      <td>2017-12-21</td>\n",
       "      <td>4.50</td>\n",
       "    </tr>\n",
       "    <tr>\n",
       "      <th>2</th>\n",
       "      <td>125646</td>\n",
       "      <td>CJDUBYA</td>\n",
       "      <td>2017-12-21</td>\n",
       "      <td>4.75</td>\n",
       "    </tr>\n",
       "    <tr>\n",
       "      <th>3</th>\n",
       "      <td>125646</td>\n",
       "      <td>GratefulBeerGuy</td>\n",
       "      <td>2017-12-20</td>\n",
       "      <td>4.58</td>\n",
       "    </tr>\n",
       "    <tr>\n",
       "      <th>4</th>\n",
       "      <td>125646</td>\n",
       "      <td>LukeGude</td>\n",
       "      <td>2017-12-20</td>\n",
       "      <td>4.31</td>\n",
       "    </tr>\n",
       "    <tr>\n",
       "      <th>5</th>\n",
       "      <td>125646</td>\n",
       "      <td>jneff33</td>\n",
       "      <td>2017-12-20</td>\n",
       "      <td>4.91</td>\n",
       "    </tr>\n",
       "    <tr>\n",
       "      <th>...</th>\n",
       "      <td>...</td>\n",
       "      <td>...</td>\n",
       "      <td>...</td>\n",
       "      <td>...</td>\n",
       "    </tr>\n",
       "    <tr>\n",
       "      <th>9073123</th>\n",
       "      <td>104824</td>\n",
       "      <td>CTJman</td>\n",
       "      <td>2014-06-08</td>\n",
       "      <td>4.00</td>\n",
       "    </tr>\n",
       "    <tr>\n",
       "      <th>9073124</th>\n",
       "      <td>104824</td>\n",
       "      <td>IMSPEAKNOENGLISH</td>\n",
       "      <td>2014-06-06</td>\n",
       "      <td>5.00</td>\n",
       "    </tr>\n",
       "    <tr>\n",
       "      <th>9073125</th>\n",
       "      <td>104824</td>\n",
       "      <td>twizzard</td>\n",
       "      <td>2014-06-05</td>\n",
       "      <td>5.00</td>\n",
       "    </tr>\n",
       "    <tr>\n",
       "      <th>9073126</th>\n",
       "      <td>104824</td>\n",
       "      <td>bootdown21</td>\n",
       "      <td>2014-06-04</td>\n",
       "      <td>4.50</td>\n",
       "    </tr>\n",
       "    <tr>\n",
       "      <th>9073127</th>\n",
       "      <td>104824</td>\n",
       "      <td>Brensol</td>\n",
       "      <td>2014-06-01</td>\n",
       "      <td>4.75</td>\n",
       "    </tr>\n",
       "  </tbody>\n",
       "</table>\n",
       "<p>4383375 rows × 4 columns</p>\n",
       "</div>"
      ],
      "text/plain": [
       "         beer_id          username        date  score\n",
       "1         125646           _dirty_  2017-12-21   4.50\n",
       "2         125646           CJDUBYA  2017-12-21   4.75\n",
       "3         125646   GratefulBeerGuy  2017-12-20   4.58\n",
       "4         125646          LukeGude  2017-12-20   4.31\n",
       "5         125646           jneff33  2017-12-20   4.91\n",
       "...          ...               ...         ...    ...\n",
       "9073123   104824            CTJman  2014-06-08   4.00\n",
       "9073124   104824  IMSPEAKNOENGLISH  2014-06-06   5.00\n",
       "9073125   104824          twizzard  2014-06-05   5.00\n",
       "9073126   104824        bootdown21  2014-06-04   4.50\n",
       "9073127   104824           Brensol  2014-06-01   4.75\n",
       "\n",
       "[4383375 rows x 4 columns]"
      ]
     },
     "execution_count": 25,
     "metadata": {},
     "output_type": "execute_result"
    }
   ],
   "source": [
    "df_reviews2"
   ]
  },
  {
   "cell_type": "code",
   "execution_count": 26,
   "metadata": {},
   "outputs": [],
   "source": [
    "df_reviews2.to_csv(os.path.join(\"../data/csv/clean_reviews.csv\"))"
   ]
  },
  {
   "cell_type": "code",
   "execution_count": 27,
   "metadata": {},
   "outputs": [],
   "source": [
    "state_counts = pd.DataFrame(\n",
    "    df_breweries[\"state\"].value_counts().rename_axis(\"state\").reset_index(name=\"counts\")\n",
    ")"
   ]
  },
  {
   "cell_type": "code",
   "execution_count": 28,
   "metadata": {},
   "outputs": [
    {
     "data": {
      "text/html": [
       "<div>\n",
       "<style scoped>\n",
       "    .dataframe tbody tr th:only-of-type {\n",
       "        vertical-align: middle;\n",
       "    }\n",
       "\n",
       "    .dataframe tbody tr th {\n",
       "        vertical-align: top;\n",
       "    }\n",
       "\n",
       "    .dataframe thead th {\n",
       "        text-align: right;\n",
       "    }\n",
       "</style>\n",
       "<table border=\"1\" class=\"dataframe\">\n",
       "  <thead>\n",
       "    <tr style=\"text-align: right;\">\n",
       "      <th></th>\n",
       "      <th>state</th>\n",
       "      <th>counts</th>\n",
       "    </tr>\n",
       "  </thead>\n",
       "  <tbody>\n",
       "    <tr>\n",
       "      <th>0</th>\n",
       "      <td>CA</td>\n",
       "      <td>3638</td>\n",
       "    </tr>\n",
       "    <tr>\n",
       "      <th>1</th>\n",
       "      <td>PA</td>\n",
       "      <td>2454</td>\n",
       "    </tr>\n",
       "    <tr>\n",
       "      <th>2</th>\n",
       "      <td>NY</td>\n",
       "      <td>2284</td>\n",
       "    </tr>\n",
       "    <tr>\n",
       "      <th>3</th>\n",
       "      <td>GB2</td>\n",
       "      <td>2152</td>\n",
       "    </tr>\n",
       "    <tr>\n",
       "      <th>4</th>\n",
       "      <td>FL</td>\n",
       "      <td>1595</td>\n",
       "    </tr>\n",
       "  </tbody>\n",
       "</table>\n",
       "</div>"
      ],
      "text/plain": [
       "  state  counts\n",
       "0    CA    3638\n",
       "1    PA    2454\n",
       "2    NY    2284\n",
       "3   GB2    2152\n",
       "4    FL    1595"
      ]
     },
     "execution_count": 28,
     "metadata": {},
     "output_type": "execute_result"
    }
   ],
   "source": [
    "state_counts.head(5)"
   ]
  },
  {
   "cell_type": "code",
   "execution_count": 29,
   "metadata": {},
   "outputs": [
    {
     "data": {
      "text/plain": [
       "American IPA                       44719\n",
       "American Pale Ale (APA)            22159\n",
       "American Imperial IPA              18338\n",
       "Belgian Saison                     18167\n",
       "American Wild Ale                  12972\n",
       "                                   ...  \n",
       "Finnish Sahti                        123\n",
       "Japanese Happoshu                    123\n",
       "Bière de Champagne / Bière Brut      116\n",
       "Belgian Faro                          32\n",
       "Wild/Sour Beers                        4\n",
       "Name: style, Length: 112, dtype: int64"
      ]
     },
     "execution_count": 29,
     "metadata": {},
     "output_type": "execute_result"
    }
   ],
   "source": [
    "df_beers[\"style\"].value_counts()"
   ]
  },
  {
   "cell_type": "markdown",
   "metadata": {},
   "source": [
    "### Read BA Beerstyles csv file"
   ]
  },
  {
   "cell_type": "code",
   "execution_count": 30,
   "metadata": {},
   "outputs": [
    {
     "data": {
      "text/html": [
       "<div>\n",
       "<style scoped>\n",
       "    .dataframe tbody tr th:only-of-type {\n",
       "        vertical-align: middle;\n",
       "    }\n",
       "\n",
       "    .dataframe tbody tr th {\n",
       "        vertical-align: top;\n",
       "    }\n",
       "\n",
       "    .dataframe thead th {\n",
       "        text-align: right;\n",
       "    }\n",
       "</style>\n",
       "<table border=\"1\" class=\"dataframe\">\n",
       "  <thead>\n",
       "    <tr style=\"text-align: right;\">\n",
       "      <th></th>\n",
       "      <th>Category</th>\n",
       "      <th>Style</th>\n",
       "      <th>ABV (min)</th>\n",
       "      <th>ABV (max)</th>\n",
       "      <th>ABV (avg)</th>\n",
       "      <th>IBU (min)</th>\n",
       "      <th>IBU (max)</th>\n",
       "      <th>IBU (avg)</th>\n",
       "      <th>SRM Range</th>\n",
       "      <th>Glassware</th>\n",
       "      <th>Description</th>\n",
       "    </tr>\n",
       "  </thead>\n",
       "  <tbody>\n",
       "    <tr>\n",
       "      <th>0</th>\n",
       "      <td>German Bock</td>\n",
       "      <td>Bock</td>\n",
       "      <td>6.3</td>\n",
       "      <td>7.6</td>\n",
       "      <td>6.95</td>\n",
       "      <td>20</td>\n",
       "      <td>30</td>\n",
       "      <td>25.0</td>\n",
       "      <td>20 to 30</td>\n",
       "      <td>Tulip</td>\n",
       "      <td>Bock is a bottom fermenting lager that general...</td>\n",
       "    </tr>\n",
       "    <tr>\n",
       "      <th>1</th>\n",
       "      <td>German Doppelbock</td>\n",
       "      <td>Bock</td>\n",
       "      <td>6.6</td>\n",
       "      <td>7.9</td>\n",
       "      <td>7.25</td>\n",
       "      <td>17</td>\n",
       "      <td>27</td>\n",
       "      <td>22.0</td>\n",
       "      <td>12 to 30</td>\n",
       "      <td>Tulip</td>\n",
       "      <td>“Doppel” meaning “double,” this style is a big...</td>\n",
       "    </tr>\n",
       "    <tr>\n",
       "      <th>2</th>\n",
       "      <td>German Eisbock</td>\n",
       "      <td>Bock</td>\n",
       "      <td>7.0</td>\n",
       "      <td>14.0</td>\n",
       "      <td>10.50</td>\n",
       "      <td>25</td>\n",
       "      <td>35</td>\n",
       "      <td>30.0</td>\n",
       "      <td>12 to 30</td>\n",
       "      <td>Snifter</td>\n",
       "      <td>Eisbock is an extremely strong beer with a typ...</td>\n",
       "    </tr>\n",
       "    <tr>\n",
       "      <th>3</th>\n",
       "      <td>German Maibock</td>\n",
       "      <td>Bock</td>\n",
       "      <td>6.3</td>\n",
       "      <td>8.1</td>\n",
       "      <td>7.20</td>\n",
       "      <td>20</td>\n",
       "      <td>38</td>\n",
       "      <td>29.0</td>\n",
       "      <td>4 to 9</td>\n",
       "      <td>Goblet</td>\n",
       "      <td>Also called “Heller Bock” (meaning “Pale Bock”...</td>\n",
       "    </tr>\n",
       "    <tr>\n",
       "      <th>4</th>\n",
       "      <td>German Weizenbock</td>\n",
       "      <td>Bock</td>\n",
       "      <td>7.0</td>\n",
       "      <td>9.5</td>\n",
       "      <td>8.25</td>\n",
       "      <td>15</td>\n",
       "      <td>35</td>\n",
       "      <td>25.0</td>\n",
       "      <td>4 to 30</td>\n",
       "      <td>Tulip</td>\n",
       "      <td>The German-style Weizenbock is a wheat version...</td>\n",
       "    </tr>\n",
       "  </tbody>\n",
       "</table>\n",
       "</div>"
      ],
      "text/plain": [
       "            Category Style  ABV (min)  ABV (max)  ABV (avg)  IBU (min)  \\\n",
       "0        German Bock  Bock        6.3        7.6       6.95         20   \n",
       "1  German Doppelbock  Bock        6.6        7.9       7.25         17   \n",
       "2     German Eisbock  Bock        7.0       14.0      10.50         25   \n",
       "3     German Maibock  Bock        6.3        8.1       7.20         20   \n",
       "4  German Weizenbock  Bock        7.0        9.5       8.25         15   \n",
       "\n",
       "   IBU (max)  IBU (avg) SRM Range Glassware   \\\n",
       "0         30       25.0  20 to 30      Tulip   \n",
       "1         27       22.0  12 to 30      Tulip   \n",
       "2         35       30.0  12 to 30    Snifter   \n",
       "3         38       29.0    4 to 9     Goblet   \n",
       "4         35       25.0   4 to 30      Tulip   \n",
       "\n",
       "                                         Description  \n",
       "0  Bock is a bottom fermenting lager that general...  \n",
       "1  “Doppel” meaning “double,” this style is a big...  \n",
       "2  Eisbock is an extremely strong beer with a typ...  \n",
       "3  Also called “Heller Bock” (meaning “Pale Bock”...  \n",
       "4  The German-style Weizenbock is a wheat version...  "
      ]
     },
     "execution_count": 30,
     "metadata": {},
     "output_type": "execute_result"
    }
   ],
   "source": [
    "csv_path4 = os.path.join(\"../data/csv/ba_beerstyles.csv\")\n",
    "df_beerstyles = pd.read_csv(csv_path4)\n",
    "\n",
    "df_beerstyles.head()"
   ]
  },
  {
   "cell_type": "code",
   "execution_count": 31,
   "metadata": {},
   "outputs": [
    {
     "data": {
      "text/plain": [
       "Category       111\n",
       "Style           14\n",
       "ABV (min)       29\n",
       "ABV (max)       36\n",
       "ABV (avg)       53\n",
       "IBU (min)       21\n",
       "IBU (max)       25\n",
       "IBU (avg)       35\n",
       "SRM Range       33\n",
       "Glassware        9\n",
       "Description    111\n",
       "dtype: int64"
      ]
     },
     "execution_count": 31,
     "metadata": {},
     "output_type": "execute_result"
    }
   ],
   "source": [
    "df_beerstyles.nunique()"
   ]
  },
  {
   "cell_type": "code",
   "execution_count": 32,
   "metadata": {},
   "outputs": [
    {
     "data": {
      "text/plain": [
       "id              358873\n",
       "name            298567\n",
       "brewery_id       16569\n",
       "state               67\n",
       "country            193\n",
       "style              112\n",
       "availability        20\n",
       "abv                939\n",
       "retired              2\n",
       "dtype: int64"
      ]
     },
     "execution_count": 32,
     "metadata": {},
     "output_type": "execute_result"
    }
   ],
   "source": [
    "df_beers.nunique()"
   ]
  },
  {
   "cell_type": "code",
   "execution_count": 33,
   "metadata": {},
   "outputs": [
    {
     "data": {
      "text/plain": [
       "id         50347\n",
       "name       45245\n",
       "city       11664\n",
       "state         67\n",
       "country      199\n",
       "types         30\n",
       "dtype: int64"
      ]
     },
     "execution_count": 33,
     "metadata": {},
     "output_type": "execute_result"
    }
   ],
   "source": [
    "df_breweries.nunique()"
   ]
  },
  {
   "cell_type": "code",
   "execution_count": 34,
   "metadata": {},
   "outputs": [
    {
     "data": {
      "text/plain": [
       "Bar, Eatery                                   13573\n",
       "Store                                          9726\n",
       "Brewery                                        8005\n",
       "Brewery, Bar, Eatery                           2801\n",
       "Bar, Eatery, Beer-to-go                        2789\n",
       "Brewery, Bar, Beer-to-go                       2670\n",
       "Bar                                            2466\n",
       "Brewery, Bar, Eatery, Beer-to-go               2370\n",
       "Brewery, Bar                                   1360\n",
       "Bar, Beer-to-go                                1258\n",
       "Homebrew                                        806\n",
       "Brewery, Beer-to-go                             755\n",
       "Brewery, Eatery                                 671\n",
       "Eatery, Beer-to-go                              272\n",
       "Homebrew, Beer-to-go                            224\n",
       "Eatery                                          186\n",
       "Brewery, Eatery, Beer-to-go                      93\n",
       "Bar, Homebrew, Beer-to-go                        61\n",
       "Brewery, Bar, Homebrew, Beer-to-go               52\n",
       "Brewery, Bar, Eatery, Homebrew, Beer-to-go       40\n",
       "Brewery, Homebrew                                40\n",
       "Brewery, Homebrew, Beer-to-go                    31\n",
       "Brewery, Bar, Homebrew                           28\n",
       "Bar, Eatery, Homebrew, Beer-to-go                28\n",
       "Brewery, Bar, Eatery, Homebrew                   23\n",
       "Bar, Homebrew                                     6\n",
       "Bar, Eatery, Homebrew                             4\n",
       "Brewery, Eatery, Homebrew                         4\n",
       "Eatery, Homebrew, Beer-to-go                      4\n",
       "Brewery, Eatery, Homebrew, Beer-to-go             1\n",
       "Name: types, dtype: int64"
      ]
     },
     "execution_count": 34,
     "metadata": {},
     "output_type": "execute_result"
    }
   ],
   "source": [
    "df_breweries[\"types\"].value_counts()"
   ]
  },
  {
   "cell_type": "code",
   "execution_count": 35,
   "metadata": {},
   "outputs": [
    {
     "data": {
      "text/html": [
       "<div>\n",
       "<style scoped>\n",
       "    .dataframe tbody tr th:only-of-type {\n",
       "        vertical-align: middle;\n",
       "    }\n",
       "\n",
       "    .dataframe tbody tr th {\n",
       "        vertical-align: top;\n",
       "    }\n",
       "\n",
       "    .dataframe thead th {\n",
       "        text-align: right;\n",
       "    }\n",
       "</style>\n",
       "<table border=\"1\" class=\"dataframe\">\n",
       "  <thead>\n",
       "    <tr style=\"text-align: right;\">\n",
       "      <th></th>\n",
       "      <th>id</th>\n",
       "      <th>name</th>\n",
       "      <th>city</th>\n",
       "      <th>state</th>\n",
       "      <th>country</th>\n",
       "      <th>types</th>\n",
       "    </tr>\n",
       "  </thead>\n",
       "  <tbody>\n",
       "    <tr>\n",
       "      <th>1</th>\n",
       "      <td>32541</td>\n",
       "      <td>Coachella Valley Brewing Co</td>\n",
       "      <td>Thousand Palms</td>\n",
       "      <td>CA</td>\n",
       "      <td>US</td>\n",
       "      <td>Brewery, Bar, Beer-to-go</td>\n",
       "    </tr>\n",
       "    <tr>\n",
       "      <th>2</th>\n",
       "      <td>44736</td>\n",
       "      <td>Beef 'O' Brady's</td>\n",
       "      <td>Plant City</td>\n",
       "      <td>FL</td>\n",
       "      <td>US</td>\n",
       "      <td>Bar, Eatery</td>\n",
       "    </tr>\n",
       "    <tr>\n",
       "      <th>3</th>\n",
       "      <td>23372</td>\n",
       "      <td>Broadway Wine Merchant</td>\n",
       "      <td>Oklahoma City</td>\n",
       "      <td>OK</td>\n",
       "      <td>US</td>\n",
       "      <td>Store</td>\n",
       "    </tr>\n",
       "    <tr>\n",
       "      <th>5</th>\n",
       "      <td>31561</td>\n",
       "      <td>Teddy's Tavern</td>\n",
       "      <td>Seattle</td>\n",
       "      <td>WA</td>\n",
       "      <td>US</td>\n",
       "      <td>Bar, Beer-to-go</td>\n",
       "    </tr>\n",
       "    <tr>\n",
       "      <th>9</th>\n",
       "      <td>41278</td>\n",
       "      <td>The Other End</td>\n",
       "      <td>Destin</td>\n",
       "      <td>FL</td>\n",
       "      <td>US</td>\n",
       "      <td>Bar, Eatery</td>\n",
       "    </tr>\n",
       "  </tbody>\n",
       "</table>\n",
       "</div>"
      ],
      "text/plain": [
       "      id                         name            city state country  \\\n",
       "1  32541  Coachella Valley Brewing Co  Thousand Palms    CA      US   \n",
       "2  44736             Beef 'O' Brady's      Plant City    FL      US   \n",
       "3  23372       Broadway Wine Merchant   Oklahoma City    OK      US   \n",
       "5  31561               Teddy's Tavern         Seattle    WA      US   \n",
       "9  41278                The Other End          Destin    FL      US   \n",
       "\n",
       "                      types  \n",
       "1  Brewery, Bar, Beer-to-go  \n",
       "2               Bar, Eatery  \n",
       "3                     Store  \n",
       "5           Bar, Beer-to-go  \n",
       "9               Bar, Eatery  "
      ]
     },
     "execution_count": 35,
     "metadata": {},
     "output_type": "execute_result"
    }
   ],
   "source": [
    "us_breweries = df_breweries[df_breweries[\"country\"] == \"US\"]\n",
    "us_breweries.head()"
   ]
  },
  {
   "cell_type": "code",
   "execution_count": 36,
   "metadata": {},
   "outputs": [
    {
     "data": {
      "text/plain": [
       "id         34693\n",
       "name       30185\n",
       "city        4958\n",
       "state         51\n",
       "country        1\n",
       "types         30\n",
       "dtype: int64"
      ]
     },
     "execution_count": 36,
     "metadata": {},
     "output_type": "execute_result"
    }
   ],
   "source": [
    "us_breweries.nunique()"
   ]
  },
  {
   "cell_type": "code",
   "execution_count": 37,
   "metadata": {},
   "outputs": [
    {
     "data": {
      "text/html": [
       "<div>\n",
       "<style scoped>\n",
       "    .dataframe tbody tr th:only-of-type {\n",
       "        vertical-align: middle;\n",
       "    }\n",
       "\n",
       "    .dataframe tbody tr th {\n",
       "        vertical-align: top;\n",
       "    }\n",
       "\n",
       "    .dataframe thead th {\n",
       "        text-align: right;\n",
       "    }\n",
       "</style>\n",
       "<table border=\"1\" class=\"dataframe\">\n",
       "  <thead>\n",
       "    <tr style=\"text-align: right;\">\n",
       "      <th></th>\n",
       "      <th>id</th>\n",
       "      <th>name</th>\n",
       "      <th>city</th>\n",
       "      <th>state</th>\n",
       "      <th>country</th>\n",
       "      <th>types</th>\n",
       "    </tr>\n",
       "  </thead>\n",
       "  <tbody>\n",
       "    <tr>\n",
       "      <th>18</th>\n",
       "      <td>31986</td>\n",
       "      <td>Power Marketing / Wicked Pissa</td>\n",
       "      <td>Westport</td>\n",
       "      <td>MA</td>\n",
       "      <td>US</td>\n",
       "      <td>Brewery</td>\n",
       "    </tr>\n",
       "    <tr>\n",
       "      <th>20</th>\n",
       "      <td>8590</td>\n",
       "      <td>Wet Planet Beverage Co.</td>\n",
       "      <td>Utica</td>\n",
       "      <td>NY</td>\n",
       "      <td>US</td>\n",
       "      <td>Brewery</td>\n",
       "    </tr>\n",
       "    <tr>\n",
       "      <th>81</th>\n",
       "      <td>28724</td>\n",
       "      <td>Lewis Beer Company</td>\n",
       "      <td>Temecula</td>\n",
       "      <td>CA</td>\n",
       "      <td>US</td>\n",
       "      <td>Brewery</td>\n",
       "    </tr>\n",
       "    <tr>\n",
       "      <th>85</th>\n",
       "      <td>30278</td>\n",
       "      <td>New Ulm Brewing &amp; Beverage Company</td>\n",
       "      <td>Sleepy Eye</td>\n",
       "      <td>MN</td>\n",
       "      <td>US</td>\n",
       "      <td>Brewery</td>\n",
       "    </tr>\n",
       "    <tr>\n",
       "      <th>115</th>\n",
       "      <td>32066</td>\n",
       "      <td>Pacific Breach</td>\n",
       "      <td>Pearl City</td>\n",
       "      <td>HI</td>\n",
       "      <td>US</td>\n",
       "      <td>Brewery</td>\n",
       "    </tr>\n",
       "  </tbody>\n",
       "</table>\n",
       "</div>"
      ],
      "text/plain": [
       "        id                                name        city state country  \\\n",
       "18   31986      Power Marketing / Wicked Pissa    Westport    MA      US   \n",
       "20    8590             Wet Planet Beverage Co.       Utica    NY      US   \n",
       "81   28724                  Lewis Beer Company    Temecula    CA      US   \n",
       "85   30278  New Ulm Brewing & Beverage Company  Sleepy Eye    MN      US   \n",
       "115  32066                      Pacific Breach  Pearl City    HI      US   \n",
       "\n",
       "       types  \n",
       "18   Brewery  \n",
       "20   Brewery  \n",
       "81   Brewery  \n",
       "85   Brewery  \n",
       "115  Brewery  "
      ]
     },
     "execution_count": 37,
     "metadata": {},
     "output_type": "execute_result"
    }
   ],
   "source": [
    "brewery_only = us_breweries[us_breweries[\"types\"] == \"Brewery\"]\n",
    "brewery_only.head()"
   ]
  },
  {
   "cell_type": "code",
   "execution_count": 38,
   "metadata": {},
   "outputs": [
    {
     "data": {
      "text/plain": [
       "id         1376\n",
       "name       1369\n",
       "city        826\n",
       "state        51\n",
       "country       1\n",
       "types         1\n",
       "dtype: int64"
      ]
     },
     "execution_count": 38,
     "metadata": {},
     "output_type": "execute_result"
    }
   ],
   "source": [
    "brewery_only.nunique()"
   ]
  },
  {
   "cell_type": "code",
   "execution_count": 39,
   "metadata": {},
   "outputs": [
    {
     "data": {
      "text/html": [
       "<div>\n",
       "<style scoped>\n",
       "    .dataframe tbody tr th:only-of-type {\n",
       "        vertical-align: middle;\n",
       "    }\n",
       "\n",
       "    .dataframe tbody tr th {\n",
       "        vertical-align: top;\n",
       "    }\n",
       "\n",
       "    .dataframe thead th {\n",
       "        text-align: right;\n",
       "    }\n",
       "</style>\n",
       "<table border=\"1\" class=\"dataframe\">\n",
       "  <thead>\n",
       "    <tr style=\"text-align: right;\">\n",
       "      <th></th>\n",
       "      <th>id</th>\n",
       "      <th>name</th>\n",
       "      <th>city</th>\n",
       "      <th>state</th>\n",
       "      <th>country</th>\n",
       "      <th>types</th>\n",
       "    </tr>\n",
       "  </thead>\n",
       "  <tbody>\n",
       "    <tr>\n",
       "      <th>1</th>\n",
       "      <td>32541</td>\n",
       "      <td>Coachella Valley Brewing Co</td>\n",
       "      <td>Thousand Palms</td>\n",
       "      <td>CA</td>\n",
       "      <td>US</td>\n",
       "      <td>Brewery, Bar, Beer-to-go</td>\n",
       "    </tr>\n",
       "    <tr>\n",
       "      <th>18</th>\n",
       "      <td>31986</td>\n",
       "      <td>Power Marketing / Wicked Pissa</td>\n",
       "      <td>Westport</td>\n",
       "      <td>MA</td>\n",
       "      <td>US</td>\n",
       "      <td>Brewery</td>\n",
       "    </tr>\n",
       "    <tr>\n",
       "      <th>20</th>\n",
       "      <td>8590</td>\n",
       "      <td>Wet Planet Beverage Co.</td>\n",
       "      <td>Utica</td>\n",
       "      <td>NY</td>\n",
       "      <td>US</td>\n",
       "      <td>Brewery</td>\n",
       "    </tr>\n",
       "    <tr>\n",
       "      <th>23</th>\n",
       "      <td>53919</td>\n",
       "      <td>Amity Ales Brewpub and Eatery</td>\n",
       "      <td>Amityville</td>\n",
       "      <td>NY</td>\n",
       "      <td>US</td>\n",
       "      <td>Brewery, Bar, Eatery</td>\n",
       "    </tr>\n",
       "    <tr>\n",
       "      <th>27</th>\n",
       "      <td>48475</td>\n",
       "      <td>Springdale Barrel Room</td>\n",
       "      <td>Framingham</td>\n",
       "      <td>MA</td>\n",
       "      <td>US</td>\n",
       "      <td>Brewery, Bar</td>\n",
       "    </tr>\n",
       "  </tbody>\n",
       "</table>\n",
       "</div>"
      ],
      "text/plain": [
       "       id                            name            city state country  \\\n",
       "1   32541     Coachella Valley Brewing Co  Thousand Palms    CA      US   \n",
       "18  31986  Power Marketing / Wicked Pissa        Westport    MA      US   \n",
       "20   8590         Wet Planet Beverage Co.           Utica    NY      US   \n",
       "23  53919   Amity Ales Brewpub and Eatery      Amityville    NY      US   \n",
       "27  48475          Springdale Barrel Room      Framingham    MA      US   \n",
       "\n",
       "                       types  \n",
       "1   Brewery, Bar, Beer-to-go  \n",
       "18                   Brewery  \n",
       "20                   Brewery  \n",
       "23      Brewery, Bar, Eatery  \n",
       "27              Brewery, Bar  "
      ]
     },
     "execution_count": 39,
     "metadata": {},
     "output_type": "execute_result"
    }
   ],
   "source": [
    "# filter out breweries that fall under type \"brewery\" and drop all other like \"eatery, bars etc\"\n",
    "us_breweries = us_breweries[us_breweries[\"types\"].str.contains(\"Brewery\")]\n",
    "us_breweries.head()"
   ]
  },
  {
   "cell_type": "code",
   "execution_count": 40,
   "metadata": {},
   "outputs": [],
   "source": [
    "us_breweries.to_csv(os.path.join(\"../data/csv/usa_breweries.csv\"))"
   ]
  },
  {
   "cell_type": "code",
   "execution_count": 41,
   "metadata": {},
   "outputs": [],
   "source": [
    "us_state = pd.DataFrame(\n",
    "    us_breweries[\"state\"].value_counts().rename_axis(\"state\").reset_index(name=\"counts\")\n",
    ")"
   ]
  },
  {
   "cell_type": "code",
   "execution_count": 42,
   "metadata": {},
   "outputs": [],
   "source": [
    "import plotly.graph_objects as go\n",
    "import plotly.io as pio\n",
    "\n",
    "pio.renderers\n",
    "pio.renderers.default = \"jupyterlab\""
   ]
  },
  {
   "cell_type": "code",
   "execution_count": 43,
   "metadata": {},
   "outputs": [
    {
     "data": {
      "application/vnd.plotly.v1+json": {
       "config": {
        "plotlyServerURL": "https://plot.ly"
       },
       "data": [
        {
         "colorbar": {
          "title": {
           "text": "Brewery Count"
          }
         },
         "colorscale": [
          [
           0,
           "rgb(210, 251, 212)"
          ],
          [
           0.16666666666666666,
           "rgb(165, 219, 194)"
          ],
          [
           0.3333333333333333,
           "rgb(123, 188, 176)"
          ],
          [
           0.5,
           "rgb(85, 156, 158)"
          ],
          [
           0.6666666666666666,
           "rgb(58, 124, 137)"
          ],
          [
           0.8333333333333334,
           "rgb(35, 93, 114)"
          ],
          [
           1,
           "rgb(18, 63, 90)"
          ]
         ],
         "locationmode": "USA-states",
         "locations": [
          "CA",
          "WA",
          "NY",
          "CO",
          "PA",
          "MI",
          "FL",
          "OR",
          "TX",
          "NC",
          "IL",
          "VA",
          "OH",
          "WI",
          "MN",
          "MA",
          "IN",
          "MO",
          "MD",
          "CT",
          "AZ",
          "NJ",
          "ME",
          "TN",
          "IA",
          "GA",
          "VT",
          "NM",
          "NH",
          "SC",
          "MT",
          "ID",
          "KY",
          "NV",
          "KS",
          "AL",
          "NE",
          "LA",
          "AK",
          "WY",
          "OK",
          "UT",
          "SD",
          "AR",
          "HI",
          "RI",
          "DE",
          "WV",
          "MS",
          "ND",
          "DC"
         ],
         "type": "choropleth",
         "z": [
          1035,
          466,
          462,
          449,
          402,
          374,
          344,
          332,
          323,
          316,
          304,
          288,
          280,
          248,
          223,
          217,
          190,
          146,
          135,
          128,
          127,
          122,
          120,
          109,
          102,
          101,
          100,
          96,
          90,
          88,
          81,
          75,
          62,
          58,
          53,
          51,
          49,
          46,
          46,
          41,
          41,
          37,
          35,
          34,
          28,
          28,
          28,
          27,
          22,
          21,
          17
         ]
        }
       ],
       "layout": {
        "geo": {
         "scope": "usa"
        },
        "template": {
         "data": {
          "bar": [
           {
            "error_x": {
             "color": "#2a3f5f"
            },
            "error_y": {
             "color": "#2a3f5f"
            },
            "marker": {
             "line": {
              "color": "#E5ECF6",
              "width": 0.5
             }
            },
            "type": "bar"
           }
          ],
          "barpolar": [
           {
            "marker": {
             "line": {
              "color": "#E5ECF6",
              "width": 0.5
             }
            },
            "type": "barpolar"
           }
          ],
          "carpet": [
           {
            "aaxis": {
             "endlinecolor": "#2a3f5f",
             "gridcolor": "white",
             "linecolor": "white",
             "minorgridcolor": "white",
             "startlinecolor": "#2a3f5f"
            },
            "baxis": {
             "endlinecolor": "#2a3f5f",
             "gridcolor": "white",
             "linecolor": "white",
             "minorgridcolor": "white",
             "startlinecolor": "#2a3f5f"
            },
            "type": "carpet"
           }
          ],
          "choropleth": [
           {
            "colorbar": {
             "outlinewidth": 0,
             "ticks": ""
            },
            "type": "choropleth"
           }
          ],
          "contour": [
           {
            "colorbar": {
             "outlinewidth": 0,
             "ticks": ""
            },
            "colorscale": [
             [
              0,
              "#0d0887"
             ],
             [
              0.1111111111111111,
              "#46039f"
             ],
             [
              0.2222222222222222,
              "#7201a8"
             ],
             [
              0.3333333333333333,
              "#9c179e"
             ],
             [
              0.4444444444444444,
              "#bd3786"
             ],
             [
              0.5555555555555556,
              "#d8576b"
             ],
             [
              0.6666666666666666,
              "#ed7953"
             ],
             [
              0.7777777777777778,
              "#fb9f3a"
             ],
             [
              0.8888888888888888,
              "#fdca26"
             ],
             [
              1,
              "#f0f921"
             ]
            ],
            "type": "contour"
           }
          ],
          "contourcarpet": [
           {
            "colorbar": {
             "outlinewidth": 0,
             "ticks": ""
            },
            "type": "contourcarpet"
           }
          ],
          "heatmap": [
           {
            "colorbar": {
             "outlinewidth": 0,
             "ticks": ""
            },
            "colorscale": [
             [
              0,
              "#0d0887"
             ],
             [
              0.1111111111111111,
              "#46039f"
             ],
             [
              0.2222222222222222,
              "#7201a8"
             ],
             [
              0.3333333333333333,
              "#9c179e"
             ],
             [
              0.4444444444444444,
              "#bd3786"
             ],
             [
              0.5555555555555556,
              "#d8576b"
             ],
             [
              0.6666666666666666,
              "#ed7953"
             ],
             [
              0.7777777777777778,
              "#fb9f3a"
             ],
             [
              0.8888888888888888,
              "#fdca26"
             ],
             [
              1,
              "#f0f921"
             ]
            ],
            "type": "heatmap"
           }
          ],
          "heatmapgl": [
           {
            "colorbar": {
             "outlinewidth": 0,
             "ticks": ""
            },
            "colorscale": [
             [
              0,
              "#0d0887"
             ],
             [
              0.1111111111111111,
              "#46039f"
             ],
             [
              0.2222222222222222,
              "#7201a8"
             ],
             [
              0.3333333333333333,
              "#9c179e"
             ],
             [
              0.4444444444444444,
              "#bd3786"
             ],
             [
              0.5555555555555556,
              "#d8576b"
             ],
             [
              0.6666666666666666,
              "#ed7953"
             ],
             [
              0.7777777777777778,
              "#fb9f3a"
             ],
             [
              0.8888888888888888,
              "#fdca26"
             ],
             [
              1,
              "#f0f921"
             ]
            ],
            "type": "heatmapgl"
           }
          ],
          "histogram": [
           {
            "marker": {
             "colorbar": {
              "outlinewidth": 0,
              "ticks": ""
             }
            },
            "type": "histogram"
           }
          ],
          "histogram2d": [
           {
            "colorbar": {
             "outlinewidth": 0,
             "ticks": ""
            },
            "colorscale": [
             [
              0,
              "#0d0887"
             ],
             [
              0.1111111111111111,
              "#46039f"
             ],
             [
              0.2222222222222222,
              "#7201a8"
             ],
             [
              0.3333333333333333,
              "#9c179e"
             ],
             [
              0.4444444444444444,
              "#bd3786"
             ],
             [
              0.5555555555555556,
              "#d8576b"
             ],
             [
              0.6666666666666666,
              "#ed7953"
             ],
             [
              0.7777777777777778,
              "#fb9f3a"
             ],
             [
              0.8888888888888888,
              "#fdca26"
             ],
             [
              1,
              "#f0f921"
             ]
            ],
            "type": "histogram2d"
           }
          ],
          "histogram2dcontour": [
           {
            "colorbar": {
             "outlinewidth": 0,
             "ticks": ""
            },
            "colorscale": [
             [
              0,
              "#0d0887"
             ],
             [
              0.1111111111111111,
              "#46039f"
             ],
             [
              0.2222222222222222,
              "#7201a8"
             ],
             [
              0.3333333333333333,
              "#9c179e"
             ],
             [
              0.4444444444444444,
              "#bd3786"
             ],
             [
              0.5555555555555556,
              "#d8576b"
             ],
             [
              0.6666666666666666,
              "#ed7953"
             ],
             [
              0.7777777777777778,
              "#fb9f3a"
             ],
             [
              0.8888888888888888,
              "#fdca26"
             ],
             [
              1,
              "#f0f921"
             ]
            ],
            "type": "histogram2dcontour"
           }
          ],
          "mesh3d": [
           {
            "colorbar": {
             "outlinewidth": 0,
             "ticks": ""
            },
            "type": "mesh3d"
           }
          ],
          "parcoords": [
           {
            "line": {
             "colorbar": {
              "outlinewidth": 0,
              "ticks": ""
             }
            },
            "type": "parcoords"
           }
          ],
          "pie": [
           {
            "automargin": true,
            "type": "pie"
           }
          ],
          "scatter": [
           {
            "marker": {
             "colorbar": {
              "outlinewidth": 0,
              "ticks": ""
             }
            },
            "type": "scatter"
           }
          ],
          "scatter3d": [
           {
            "line": {
             "colorbar": {
              "outlinewidth": 0,
              "ticks": ""
             }
            },
            "marker": {
             "colorbar": {
              "outlinewidth": 0,
              "ticks": ""
             }
            },
            "type": "scatter3d"
           }
          ],
          "scattercarpet": [
           {
            "marker": {
             "colorbar": {
              "outlinewidth": 0,
              "ticks": ""
             }
            },
            "type": "scattercarpet"
           }
          ],
          "scattergeo": [
           {
            "marker": {
             "colorbar": {
              "outlinewidth": 0,
              "ticks": ""
             }
            },
            "type": "scattergeo"
           }
          ],
          "scattergl": [
           {
            "marker": {
             "colorbar": {
              "outlinewidth": 0,
              "ticks": ""
             }
            },
            "type": "scattergl"
           }
          ],
          "scattermapbox": [
           {
            "marker": {
             "colorbar": {
              "outlinewidth": 0,
              "ticks": ""
             }
            },
            "type": "scattermapbox"
           }
          ],
          "scatterpolar": [
           {
            "marker": {
             "colorbar": {
              "outlinewidth": 0,
              "ticks": ""
             }
            },
            "type": "scatterpolar"
           }
          ],
          "scatterpolargl": [
           {
            "marker": {
             "colorbar": {
              "outlinewidth": 0,
              "ticks": ""
             }
            },
            "type": "scatterpolargl"
           }
          ],
          "scatterternary": [
           {
            "marker": {
             "colorbar": {
              "outlinewidth": 0,
              "ticks": ""
             }
            },
            "type": "scatterternary"
           }
          ],
          "surface": [
           {
            "colorbar": {
             "outlinewidth": 0,
             "ticks": ""
            },
            "colorscale": [
             [
              0,
              "#0d0887"
             ],
             [
              0.1111111111111111,
              "#46039f"
             ],
             [
              0.2222222222222222,
              "#7201a8"
             ],
             [
              0.3333333333333333,
              "#9c179e"
             ],
             [
              0.4444444444444444,
              "#bd3786"
             ],
             [
              0.5555555555555556,
              "#d8576b"
             ],
             [
              0.6666666666666666,
              "#ed7953"
             ],
             [
              0.7777777777777778,
              "#fb9f3a"
             ],
             [
              0.8888888888888888,
              "#fdca26"
             ],
             [
              1,
              "#f0f921"
             ]
            ],
            "type": "surface"
           }
          ],
          "table": [
           {
            "cells": {
             "fill": {
              "color": "#EBF0F8"
             },
             "line": {
              "color": "white"
             }
            },
            "header": {
             "fill": {
              "color": "#C8D4E3"
             },
             "line": {
              "color": "white"
             }
            },
            "type": "table"
           }
          ]
         },
         "layout": {
          "annotationdefaults": {
           "arrowcolor": "#2a3f5f",
           "arrowhead": 0,
           "arrowwidth": 1
          },
          "coloraxis": {
           "colorbar": {
            "outlinewidth": 0,
            "ticks": ""
           }
          },
          "colorscale": {
           "diverging": [
            [
             0,
             "#8e0152"
            ],
            [
             0.1,
             "#c51b7d"
            ],
            [
             0.2,
             "#de77ae"
            ],
            [
             0.3,
             "#f1b6da"
            ],
            [
             0.4,
             "#fde0ef"
            ],
            [
             0.5,
             "#f7f7f7"
            ],
            [
             0.6,
             "#e6f5d0"
            ],
            [
             0.7,
             "#b8e186"
            ],
            [
             0.8,
             "#7fbc41"
            ],
            [
             0.9,
             "#4d9221"
            ],
            [
             1,
             "#276419"
            ]
           ],
           "sequential": [
            [
             0,
             "#0d0887"
            ],
            [
             0.1111111111111111,
             "#46039f"
            ],
            [
             0.2222222222222222,
             "#7201a8"
            ],
            [
             0.3333333333333333,
             "#9c179e"
            ],
            [
             0.4444444444444444,
             "#bd3786"
            ],
            [
             0.5555555555555556,
             "#d8576b"
            ],
            [
             0.6666666666666666,
             "#ed7953"
            ],
            [
             0.7777777777777778,
             "#fb9f3a"
            ],
            [
             0.8888888888888888,
             "#fdca26"
            ],
            [
             1,
             "#f0f921"
            ]
           ],
           "sequentialminus": [
            [
             0,
             "#0d0887"
            ],
            [
             0.1111111111111111,
             "#46039f"
            ],
            [
             0.2222222222222222,
             "#7201a8"
            ],
            [
             0.3333333333333333,
             "#9c179e"
            ],
            [
             0.4444444444444444,
             "#bd3786"
            ],
            [
             0.5555555555555556,
             "#d8576b"
            ],
            [
             0.6666666666666666,
             "#ed7953"
            ],
            [
             0.7777777777777778,
             "#fb9f3a"
            ],
            [
             0.8888888888888888,
             "#fdca26"
            ],
            [
             1,
             "#f0f921"
            ]
           ]
          },
          "colorway": [
           "#636efa",
           "#EF553B",
           "#00cc96",
           "#ab63fa",
           "#FFA15A",
           "#19d3f3",
           "#FF6692",
           "#B6E880",
           "#FF97FF",
           "#FECB52"
          ],
          "font": {
           "color": "#2a3f5f"
          },
          "geo": {
           "bgcolor": "white",
           "lakecolor": "white",
           "landcolor": "#E5ECF6",
           "showlakes": true,
           "showland": true,
           "subunitcolor": "white"
          },
          "hoverlabel": {
           "align": "left"
          },
          "hovermode": "closest",
          "mapbox": {
           "style": "light"
          },
          "paper_bgcolor": "white",
          "plot_bgcolor": "#E5ECF6",
          "polar": {
           "angularaxis": {
            "gridcolor": "white",
            "linecolor": "white",
            "ticks": ""
           },
           "bgcolor": "#E5ECF6",
           "radialaxis": {
            "gridcolor": "white",
            "linecolor": "white",
            "ticks": ""
           }
          },
          "scene": {
           "xaxis": {
            "backgroundcolor": "#E5ECF6",
            "gridcolor": "white",
            "gridwidth": 2,
            "linecolor": "white",
            "showbackground": true,
            "ticks": "",
            "zerolinecolor": "white"
           },
           "yaxis": {
            "backgroundcolor": "#E5ECF6",
            "gridcolor": "white",
            "gridwidth": 2,
            "linecolor": "white",
            "showbackground": true,
            "ticks": "",
            "zerolinecolor": "white"
           },
           "zaxis": {
            "backgroundcolor": "#E5ECF6",
            "gridcolor": "white",
            "gridwidth": 2,
            "linecolor": "white",
            "showbackground": true,
            "ticks": "",
            "zerolinecolor": "white"
           }
          },
          "shapedefaults": {
           "line": {
            "color": "#2a3f5f"
           }
          },
          "ternary": {
           "aaxis": {
            "gridcolor": "white",
            "linecolor": "white",
            "ticks": ""
           },
           "baxis": {
            "gridcolor": "white",
            "linecolor": "white",
            "ticks": ""
           },
           "bgcolor": "#E5ECF6",
           "caxis": {
            "gridcolor": "white",
            "linecolor": "white",
            "ticks": ""
           }
          },
          "title": {
           "x": 0.05
          },
          "xaxis": {
           "automargin": true,
           "gridcolor": "white",
           "linecolor": "white",
           "ticks": "",
           "title": {
            "standoff": 15
           },
           "zerolinecolor": "white",
           "zerolinewidth": 2
          },
          "yaxis": {
           "automargin": true,
           "gridcolor": "white",
           "linecolor": "white",
           "ticks": "",
           "title": {
            "standoff": 15
           },
           "zerolinecolor": "white",
           "zerolinewidth": 2
          }
         }
        },
        "title": {
         "text": "Breweries in USA"
        }
       }
      }
     },
     "metadata": {},
     "output_type": "display_data"
    }
   ],
   "source": [
    "fig = go.Figure(\n",
    "    data=go.Choropleth(\n",
    "        locations=us_state[\"state\"],  # Spatial coordinates\n",
    "        z=us_state[\"counts\"].astype(float),  # Data to be color-coded\n",
    "        locationmode=\"USA-states\",  # set of locations match entries in `locations`\n",
    "        colorscale=\"Darkmint\",\n",
    "        colorbar_title=\"Brewery Count\",\n",
    "    )\n",
    ")\n",
    "\n",
    "fig.update_layout(\n",
    "    title_text=\"Breweries in USA\", geo_scope=\"usa\",  # limite map scope to USA\n",
    ")\n",
    "\n",
    "fig.show()"
   ]
  },
  {
   "cell_type": "code",
   "execution_count": 44,
   "metadata": {},
   "outputs": [
    {
     "data": {
      "text/plain": [
       "Brewery, Bar, Beer-to-go                      2267\n",
       "Brewery, Bar, Eatery, Beer-to-go              1752\n",
       "Brewery, Bar, Eatery                          1549\n",
       "Brewery                                       1376\n",
       "Brewery, Bar                                   981\n",
       "Brewery, Eatery                                275\n",
       "Brewery, Beer-to-go                            256\n",
       "Brewery, Eatery, Beer-to-go                     42\n",
       "Brewery, Bar, Homebrew, Beer-to-go              40\n",
       "Brewery, Bar, Eatery, Homebrew, Beer-to-go      29\n",
       "Brewery, Bar, Homebrew                          26\n",
       "Brewery, Bar, Eatery, Homebrew                  18\n",
       "Brewery, Homebrew                               10\n",
       "Brewery, Homebrew, Beer-to-go                    7\n",
       "Brewery, Eatery, Homebrew, Beer-to-go            1\n",
       "Brewery, Eatery, Homebrew                        1\n",
       "Name: types, dtype: int64"
      ]
     },
     "execution_count": 44,
     "metadata": {},
     "output_type": "execute_result"
    }
   ],
   "source": [
    "us_breweries[\"types\"].value_counts()"
   ]
  },
  {
   "cell_type": "code",
   "execution_count": 45,
   "metadata": {},
   "outputs": [
    {
     "data": {
      "text/html": [
       "<div>\n",
       "<style scoped>\n",
       "    .dataframe tbody tr th:only-of-type {\n",
       "        vertical-align: middle;\n",
       "    }\n",
       "\n",
       "    .dataframe tbody tr th {\n",
       "        vertical-align: top;\n",
       "    }\n",
       "\n",
       "    .dataframe thead th {\n",
       "        text-align: right;\n",
       "    }\n",
       "</style>\n",
       "<table border=\"1\" class=\"dataframe\">\n",
       "  <thead>\n",
       "    <tr style=\"text-align: right;\">\n",
       "      <th></th>\n",
       "      <th>id</th>\n",
       "      <th>name</th>\n",
       "      <th>city</th>\n",
       "      <th>state</th>\n",
       "      <th>country</th>\n",
       "      <th>types</th>\n",
       "    </tr>\n",
       "  </thead>\n",
       "  <tbody>\n",
       "    <tr>\n",
       "      <th>0</th>\n",
       "      <td>19730</td>\n",
       "      <td>Brouwerij Danny</td>\n",
       "      <td>Erpe-Mere</td>\n",
       "      <td>NaN</td>\n",
       "      <td>BE</td>\n",
       "      <td>Brewery</td>\n",
       "    </tr>\n",
       "    <tr>\n",
       "      <th>1</th>\n",
       "      <td>32541</td>\n",
       "      <td>Coachella Valley Brewing Co</td>\n",
       "      <td>Thousand Palms</td>\n",
       "      <td>CA</td>\n",
       "      <td>US</td>\n",
       "      <td>Brewery, Bar, Beer-to-go</td>\n",
       "    </tr>\n",
       "    <tr>\n",
       "      <th>6</th>\n",
       "      <td>35975</td>\n",
       "      <td>Modus Operandi Brewing Co.</td>\n",
       "      <td>Mona Vale</td>\n",
       "      <td>NaN</td>\n",
       "      <td>AU</td>\n",
       "      <td>Brewery, Bar, Eatery, Beer-to-go</td>\n",
       "    </tr>\n",
       "    <tr>\n",
       "      <th>7</th>\n",
       "      <td>5618</td>\n",
       "      <td>Hops! Beer Restaurant &amp; Pizza</td>\n",
       "      <td>Riccione (RN)</td>\n",
       "      <td>NaN</td>\n",
       "      <td>IT</td>\n",
       "      <td>Brewery, Bar, Eatery</td>\n",
       "    </tr>\n",
       "    <tr>\n",
       "      <th>13</th>\n",
       "      <td>16995</td>\n",
       "      <td>Le Bien, Le Malt</td>\n",
       "      <td>Rimouski</td>\n",
       "      <td>QC</td>\n",
       "      <td>CA</td>\n",
       "      <td>Brewery, Bar, Eatery</td>\n",
       "    </tr>\n",
       "  </tbody>\n",
       "</table>\n",
       "</div>"
      ],
      "text/plain": [
       "       id                           name            city state country  \\\n",
       "0   19730                Brouwerij Danny       Erpe-Mere   NaN      BE   \n",
       "1   32541    Coachella Valley Brewing Co  Thousand Palms    CA      US   \n",
       "6   35975     Modus Operandi Brewing Co.       Mona Vale   NaN      AU   \n",
       "7    5618  Hops! Beer Restaurant & Pizza   Riccione (RN)   NaN      IT   \n",
       "13  16995               Le Bien, Le Malt        Rimouski    QC      CA   \n",
       "\n",
       "                               types  \n",
       "0                            Brewery  \n",
       "1           Brewery, Bar, Beer-to-go  \n",
       "6   Brewery, Bar, Eatery, Beer-to-go  \n",
       "7               Brewery, Bar, Eatery  \n",
       "13              Brewery, Bar, Eatery  "
      ]
     },
     "execution_count": 45,
     "metadata": {},
     "output_type": "execute_result"
    }
   ],
   "source": [
    "df_breweries = df_breweries[df_breweries[\"types\"].str.contains(\"Brewery\")]\n",
    "df_breweries.head()"
   ]
  },
  {
   "cell_type": "code",
   "execution_count": 46,
   "metadata": {},
   "outputs": [],
   "source": [
    "df_breweries.to_csv(os.path.join(\"../data/csv/clean_breweries.csv\"))"
   ]
  },
  {
   "cell_type": "code",
   "execution_count": 47,
   "metadata": {},
   "outputs": [],
   "source": [
    "df_beers.to_csv(os.path.join(\"../data/csv/clean_beers.csv\"))"
   ]
  },
  {
   "cell_type": "code",
   "execution_count": 48,
   "metadata": {},
   "outputs": [
    {
     "data": {
      "text/html": [
       "<div>\n",
       "<style scoped>\n",
       "    .dataframe tbody tr th:only-of-type {\n",
       "        vertical-align: middle;\n",
       "    }\n",
       "\n",
       "    .dataframe tbody tr th {\n",
       "        vertical-align: top;\n",
       "    }\n",
       "\n",
       "    .dataframe thead th {\n",
       "        text-align: right;\n",
       "    }\n",
       "</style>\n",
       "<table border=\"1\" class=\"dataframe\">\n",
       "  <thead>\n",
       "    <tr style=\"text-align: right;\">\n",
       "      <th></th>\n",
       "      <th>id</th>\n",
       "      <th>name</th>\n",
       "      <th>brewery_id</th>\n",
       "      <th>state</th>\n",
       "      <th>country</th>\n",
       "      <th>style</th>\n",
       "      <th>availability</th>\n",
       "      <th>abv</th>\n",
       "      <th>retired</th>\n",
       "    </tr>\n",
       "  </thead>\n",
       "  <tbody>\n",
       "    <tr>\n",
       "      <th>0</th>\n",
       "      <td>202522</td>\n",
       "      <td>Olde Cogitator</td>\n",
       "      <td>2199</td>\n",
       "      <td>CA</td>\n",
       "      <td>US</td>\n",
       "      <td>English Oatmeal Stout</td>\n",
       "      <td>Rotating</td>\n",
       "      <td>7.3</td>\n",
       "      <td>f</td>\n",
       "    </tr>\n",
       "    <tr>\n",
       "      <th>1</th>\n",
       "      <td>82352</td>\n",
       "      <td>Konrads Stout Russian Imperial Stout</td>\n",
       "      <td>18604</td>\n",
       "      <td>NaN</td>\n",
       "      <td>NO</td>\n",
       "      <td>Russian Imperial Stout</td>\n",
       "      <td>Rotating</td>\n",
       "      <td>10.4</td>\n",
       "      <td>f</td>\n",
       "    </tr>\n",
       "    <tr>\n",
       "      <th>2</th>\n",
       "      <td>214879</td>\n",
       "      <td>Scottish Right</td>\n",
       "      <td>44306</td>\n",
       "      <td>IN</td>\n",
       "      <td>US</td>\n",
       "      <td>Scottish Ale</td>\n",
       "      <td>Year-round</td>\n",
       "      <td>4.0</td>\n",
       "      <td>t</td>\n",
       "    </tr>\n",
       "    <tr>\n",
       "      <th>3</th>\n",
       "      <td>320009</td>\n",
       "      <td>MegaMeow Imperial Stout</td>\n",
       "      <td>4378</td>\n",
       "      <td>WA</td>\n",
       "      <td>US</td>\n",
       "      <td>American Imperial Stout</td>\n",
       "      <td>Winter</td>\n",
       "      <td>8.7</td>\n",
       "      <td>f</td>\n",
       "    </tr>\n",
       "    <tr>\n",
       "      <th>4</th>\n",
       "      <td>246438</td>\n",
       "      <td>Peaches-N-Cream</td>\n",
       "      <td>44617</td>\n",
       "      <td>PA</td>\n",
       "      <td>US</td>\n",
       "      <td>American Cream Ale</td>\n",
       "      <td>Rotating</td>\n",
       "      <td>5.1</td>\n",
       "      <td>f</td>\n",
       "    </tr>\n",
       "    <tr>\n",
       "      <th>...</th>\n",
       "      <td>...</td>\n",
       "      <td>...</td>\n",
       "      <td>...</td>\n",
       "      <td>...</td>\n",
       "      <td>...</td>\n",
       "      <td>...</td>\n",
       "      <td>...</td>\n",
       "      <td>...</td>\n",
       "      <td>...</td>\n",
       "    </tr>\n",
       "    <tr>\n",
       "      <th>358868</th>\n",
       "      <td>267703</td>\n",
       "      <td>Collective Project: Gose</td>\n",
       "      <td>32763</td>\n",
       "      <td>ON</td>\n",
       "      <td>CA</td>\n",
       "      <td>Leipzig Gose</td>\n",
       "      <td>Limited (brewed once)</td>\n",
       "      <td>5.0</td>\n",
       "      <td>t</td>\n",
       "    </tr>\n",
       "    <tr>\n",
       "      <th>358869</th>\n",
       "      <td>300013</td>\n",
       "      <td>Tripel</td>\n",
       "      <td>50238</td>\n",
       "      <td>NaN</td>\n",
       "      <td>BE</td>\n",
       "      <td>Belgian Tripel</td>\n",
       "      <td>Year-round</td>\n",
       "      <td>8.0</td>\n",
       "      <td>f</td>\n",
       "    </tr>\n",
       "    <tr>\n",
       "      <th>358870</th>\n",
       "      <td>187618</td>\n",
       "      <td>RIPTA</td>\n",
       "      <td>34665</td>\n",
       "      <td>RI</td>\n",
       "      <td>US</td>\n",
       "      <td>Belgian Tripel</td>\n",
       "      <td>Rotating</td>\n",
       "      <td>9.5</td>\n",
       "      <td>f</td>\n",
       "    </tr>\n",
       "    <tr>\n",
       "      <th>358871</th>\n",
       "      <td>283124</td>\n",
       "      <td>Rumble Fish</td>\n",
       "      <td>29238</td>\n",
       "      <td>MI</td>\n",
       "      <td>US</td>\n",
       "      <td>American Imperial IPA</td>\n",
       "      <td>Rotating</td>\n",
       "      <td>8.3</td>\n",
       "      <td>f</td>\n",
       "    </tr>\n",
       "    <tr>\n",
       "      <th>358872</th>\n",
       "      <td>267484</td>\n",
       "      <td>Joie De Vivre</td>\n",
       "      <td>25032</td>\n",
       "      <td>CA</td>\n",
       "      <td>US</td>\n",
       "      <td>Belgian Saison</td>\n",
       "      <td>Limited (brewed once)</td>\n",
       "      <td>6.6</td>\n",
       "      <td>t</td>\n",
       "    </tr>\n",
       "  </tbody>\n",
       "</table>\n",
       "<p>358873 rows × 9 columns</p>\n",
       "</div>"
      ],
      "text/plain": [
       "            id                                  name  brewery_id state  \\\n",
       "0       202522                        Olde Cogitator        2199    CA   \n",
       "1        82352  Konrads Stout Russian Imperial Stout       18604   NaN   \n",
       "2       214879                        Scottish Right       44306    IN   \n",
       "3       320009               MegaMeow Imperial Stout        4378    WA   \n",
       "4       246438                       Peaches-N-Cream       44617    PA   \n",
       "...        ...                                   ...         ...   ...   \n",
       "358868  267703              Collective Project: Gose       32763    ON   \n",
       "358869  300013                                Tripel       50238   NaN   \n",
       "358870  187618                                 RIPTA       34665    RI   \n",
       "358871  283124                           Rumble Fish       29238    MI   \n",
       "358872  267484                         Joie De Vivre       25032    CA   \n",
       "\n",
       "       country                    style           availability   abv retired  \n",
       "0           US    English Oatmeal Stout               Rotating   7.3       f  \n",
       "1           NO   Russian Imperial Stout               Rotating  10.4       f  \n",
       "2           US             Scottish Ale             Year-round   4.0       t  \n",
       "3           US  American Imperial Stout                 Winter   8.7       f  \n",
       "4           US       American Cream Ale               Rotating   5.1       f  \n",
       "...        ...                      ...                    ...   ...     ...  \n",
       "358868      CA             Leipzig Gose  Limited (brewed once)   5.0       t  \n",
       "358869      BE           Belgian Tripel             Year-round   8.0       f  \n",
       "358870      US           Belgian Tripel               Rotating   9.5       f  \n",
       "358871      US    American Imperial IPA               Rotating   8.3       f  \n",
       "358872      US           Belgian Saison  Limited (brewed once)   6.6       t  \n",
       "\n",
       "[358873 rows x 9 columns]"
      ]
     },
     "execution_count": 48,
     "metadata": {},
     "output_type": "execute_result"
    }
   ],
   "source": [
    "df_beers"
   ]
  },
  {
   "cell_type": "markdown",
   "metadata": {},
   "source": [
    "### "
   ]
  },
  {
   "cell_type": "markdown",
   "metadata": {},
   "source": [
    "### Merge Dataframes"
   ]
  },
  {
   "cell_type": "code",
   "execution_count": 49,
   "metadata": {},
   "outputs": [
    {
     "data": {
      "text/html": [
       "<div>\n",
       "<style scoped>\n",
       "    .dataframe tbody tr th:only-of-type {\n",
       "        vertical-align: middle;\n",
       "    }\n",
       "\n",
       "    .dataframe tbody tr th {\n",
       "        vertical-align: top;\n",
       "    }\n",
       "\n",
       "    .dataframe thead th {\n",
       "        text-align: right;\n",
       "    }\n",
       "</style>\n",
       "<table border=\"1\" class=\"dataframe\">\n",
       "  <thead>\n",
       "    <tr style=\"text-align: right;\">\n",
       "      <th></th>\n",
       "      <th>id_x</th>\n",
       "      <th>name_x</th>\n",
       "      <th>brewery_id</th>\n",
       "      <th>state_x</th>\n",
       "      <th>country_x</th>\n",
       "      <th>style</th>\n",
       "      <th>availability</th>\n",
       "      <th>abv</th>\n",
       "      <th>retired</th>\n",
       "      <th>id_y</th>\n",
       "      <th>name_y</th>\n",
       "      <th>city</th>\n",
       "      <th>state_y</th>\n",
       "      <th>country_y</th>\n",
       "      <th>types</th>\n",
       "    </tr>\n",
       "  </thead>\n",
       "  <tbody>\n",
       "    <tr>\n",
       "      <th>0</th>\n",
       "      <td>202522</td>\n",
       "      <td>Olde Cogitator</td>\n",
       "      <td>2199</td>\n",
       "      <td>CA</td>\n",
       "      <td>US</td>\n",
       "      <td>English Oatmeal Stout</td>\n",
       "      <td>Rotating</td>\n",
       "      <td>7.3</td>\n",
       "      <td>f</td>\n",
       "      <td>2199</td>\n",
       "      <td>Main Street Brewery</td>\n",
       "      <td>Pleasanton</td>\n",
       "      <td>CA</td>\n",
       "      <td>US</td>\n",
       "      <td>Brewery, Bar, Eatery</td>\n",
       "    </tr>\n",
       "    <tr>\n",
       "      <th>1</th>\n",
       "      <td>8677</td>\n",
       "      <td>Red Leaf Strong Ale</td>\n",
       "      <td>2199</td>\n",
       "      <td>CA</td>\n",
       "      <td>US</td>\n",
       "      <td>American Strong Ale</td>\n",
       "      <td>Year-round</td>\n",
       "      <td>8.6</td>\n",
       "      <td>f</td>\n",
       "      <td>2199</td>\n",
       "      <td>Main Street Brewery</td>\n",
       "      <td>Pleasanton</td>\n",
       "      <td>CA</td>\n",
       "      <td>US</td>\n",
       "      <td>Brewery, Bar, Eatery</td>\n",
       "    </tr>\n",
       "    <tr>\n",
       "      <th>2</th>\n",
       "      <td>8129</td>\n",
       "      <td>Hefeweisen</td>\n",
       "      <td>2199</td>\n",
       "      <td>CA</td>\n",
       "      <td>US</td>\n",
       "      <td>German Hefeweizen</td>\n",
       "      <td>Year-round</td>\n",
       "      <td>NaN</td>\n",
       "      <td>t</td>\n",
       "      <td>2199</td>\n",
       "      <td>Main Street Brewery</td>\n",
       "      <td>Pleasanton</td>\n",
       "      <td>CA</td>\n",
       "      <td>US</td>\n",
       "      <td>Brewery, Bar, Eatery</td>\n",
       "    </tr>\n",
       "    <tr>\n",
       "      <th>3</th>\n",
       "      <td>202536</td>\n",
       "      <td>Bikini Bottom</td>\n",
       "      <td>2199</td>\n",
       "      <td>CA</td>\n",
       "      <td>US</td>\n",
       "      <td>American Lager</td>\n",
       "      <td>Rotating</td>\n",
       "      <td>4.9</td>\n",
       "      <td>f</td>\n",
       "      <td>2199</td>\n",
       "      <td>Main Street Brewery</td>\n",
       "      <td>Pleasanton</td>\n",
       "      <td>CA</td>\n",
       "      <td>US</td>\n",
       "      <td>Brewery, Bar, Eatery</td>\n",
       "    </tr>\n",
       "    <tr>\n",
       "      <th>4</th>\n",
       "      <td>33121</td>\n",
       "      <td>Fog Lifter IPA</td>\n",
       "      <td>2199</td>\n",
       "      <td>CA</td>\n",
       "      <td>US</td>\n",
       "      <td>American IPA</td>\n",
       "      <td>Rotating</td>\n",
       "      <td>NaN</td>\n",
       "      <td>t</td>\n",
       "      <td>2199</td>\n",
       "      <td>Main Street Brewery</td>\n",
       "      <td>Pleasanton</td>\n",
       "      <td>CA</td>\n",
       "      <td>US</td>\n",
       "      <td>Brewery, Bar, Eatery</td>\n",
       "    </tr>\n",
       "  </tbody>\n",
       "</table>\n",
       "</div>"
      ],
      "text/plain": [
       "     id_x               name_x  brewery_id state_x country_x  \\\n",
       "0  202522       Olde Cogitator        2199      CA        US   \n",
       "1    8677  Red Leaf Strong Ale        2199      CA        US   \n",
       "2    8129           Hefeweisen        2199      CA        US   \n",
       "3  202536        Bikini Bottom        2199      CA        US   \n",
       "4   33121       Fog Lifter IPA        2199      CA        US   \n",
       "\n",
       "                   style availability  abv retired  id_y               name_y  \\\n",
       "0  English Oatmeal Stout     Rotating  7.3       f  2199  Main Street Brewery   \n",
       "1    American Strong Ale   Year-round  8.6       f  2199  Main Street Brewery   \n",
       "2      German Hefeweizen   Year-round  NaN       t  2199  Main Street Brewery   \n",
       "3         American Lager     Rotating  4.9       f  2199  Main Street Brewery   \n",
       "4           American IPA     Rotating  NaN       t  2199  Main Street Brewery   \n",
       "\n",
       "         city state_y country_y                 types  \n",
       "0  Pleasanton      CA        US  Brewery, Bar, Eatery  \n",
       "1  Pleasanton      CA        US  Brewery, Bar, Eatery  \n",
       "2  Pleasanton      CA        US  Brewery, Bar, Eatery  \n",
       "3  Pleasanton      CA        US  Brewery, Bar, Eatery  \n",
       "4  Pleasanton      CA        US  Brewery, Bar, Eatery  "
      ]
     },
     "execution_count": 49,
     "metadata": {},
     "output_type": "execute_result"
    }
   ],
   "source": [
    "df_merge1 = pd.merge(df_beers, df_breweries, left_on=\"brewery_id\", right_on=\"id\")\n",
    "df_merge1.head(5)"
   ]
  },
  {
   "cell_type": "code",
   "execution_count": 50,
   "metadata": {},
   "outputs": [],
   "source": [
    "df_merge1 = df_merge1.rename(\n",
    "    columns={\"id_x\": \"beer_id\", \"name_x\": \"beer_name\", \"style\": \"beer_style\"}\n",
    ")"
   ]
  },
  {
   "cell_type": "code",
   "execution_count": 51,
   "metadata": {},
   "outputs": [
    {
     "data": {
      "text/html": [
       "<div>\n",
       "<style scoped>\n",
       "    .dataframe tbody tr th:only-of-type {\n",
       "        vertical-align: middle;\n",
       "    }\n",
       "\n",
       "    .dataframe tbody tr th {\n",
       "        vertical-align: top;\n",
       "    }\n",
       "\n",
       "    .dataframe thead th {\n",
       "        text-align: right;\n",
       "    }\n",
       "</style>\n",
       "<table border=\"1\" class=\"dataframe\">\n",
       "  <thead>\n",
       "    <tr style=\"text-align: right;\">\n",
       "      <th></th>\n",
       "      <th>beer_id</th>\n",
       "      <th>username</th>\n",
       "      <th>date</th>\n",
       "      <th>score</th>\n",
       "      <th>beer_name</th>\n",
       "      <th>brewery_id</th>\n",
       "      <th>state_x</th>\n",
       "      <th>country_x</th>\n",
       "      <th>beer_style</th>\n",
       "      <th>availability</th>\n",
       "      <th>abv</th>\n",
       "      <th>retired</th>\n",
       "      <th>id_y</th>\n",
       "      <th>name_y</th>\n",
       "      <th>city</th>\n",
       "      <th>state_y</th>\n",
       "      <th>country_y</th>\n",
       "      <th>types</th>\n",
       "    </tr>\n",
       "  </thead>\n",
       "  <tbody>\n",
       "    <tr>\n",
       "      <th>0</th>\n",
       "      <td>125646</td>\n",
       "      <td>_dirty_</td>\n",
       "      <td>2017-12-21</td>\n",
       "      <td>4.50</td>\n",
       "      <td>Haze</td>\n",
       "      <td>28743</td>\n",
       "      <td>MA</td>\n",
       "      <td>US</td>\n",
       "      <td>New England IPA</td>\n",
       "      <td>Rotating</td>\n",
       "      <td>8.2</td>\n",
       "      <td>f</td>\n",
       "      <td>28743</td>\n",
       "      <td>Tree House Brewing Company</td>\n",
       "      <td>Charlton</td>\n",
       "      <td>MA</td>\n",
       "      <td>US</td>\n",
       "      <td>Brewery, Bar, Beer-to-go</td>\n",
       "    </tr>\n",
       "    <tr>\n",
       "      <th>1</th>\n",
       "      <td>125646</td>\n",
       "      <td>CJDUBYA</td>\n",
       "      <td>2017-12-21</td>\n",
       "      <td>4.75</td>\n",
       "      <td>Haze</td>\n",
       "      <td>28743</td>\n",
       "      <td>MA</td>\n",
       "      <td>US</td>\n",
       "      <td>New England IPA</td>\n",
       "      <td>Rotating</td>\n",
       "      <td>8.2</td>\n",
       "      <td>f</td>\n",
       "      <td>28743</td>\n",
       "      <td>Tree House Brewing Company</td>\n",
       "      <td>Charlton</td>\n",
       "      <td>MA</td>\n",
       "      <td>US</td>\n",
       "      <td>Brewery, Bar, Beer-to-go</td>\n",
       "    </tr>\n",
       "    <tr>\n",
       "      <th>2</th>\n",
       "      <td>125646</td>\n",
       "      <td>GratefulBeerGuy</td>\n",
       "      <td>2017-12-20</td>\n",
       "      <td>4.58</td>\n",
       "      <td>Haze</td>\n",
       "      <td>28743</td>\n",
       "      <td>MA</td>\n",
       "      <td>US</td>\n",
       "      <td>New England IPA</td>\n",
       "      <td>Rotating</td>\n",
       "      <td>8.2</td>\n",
       "      <td>f</td>\n",
       "      <td>28743</td>\n",
       "      <td>Tree House Brewing Company</td>\n",
       "      <td>Charlton</td>\n",
       "      <td>MA</td>\n",
       "      <td>US</td>\n",
       "      <td>Brewery, Bar, Beer-to-go</td>\n",
       "    </tr>\n",
       "    <tr>\n",
       "      <th>3</th>\n",
       "      <td>125646</td>\n",
       "      <td>LukeGude</td>\n",
       "      <td>2017-12-20</td>\n",
       "      <td>4.31</td>\n",
       "      <td>Haze</td>\n",
       "      <td>28743</td>\n",
       "      <td>MA</td>\n",
       "      <td>US</td>\n",
       "      <td>New England IPA</td>\n",
       "      <td>Rotating</td>\n",
       "      <td>8.2</td>\n",
       "      <td>f</td>\n",
       "      <td>28743</td>\n",
       "      <td>Tree House Brewing Company</td>\n",
       "      <td>Charlton</td>\n",
       "      <td>MA</td>\n",
       "      <td>US</td>\n",
       "      <td>Brewery, Bar, Beer-to-go</td>\n",
       "    </tr>\n",
       "    <tr>\n",
       "      <th>4</th>\n",
       "      <td>125646</td>\n",
       "      <td>jneff33</td>\n",
       "      <td>2017-12-20</td>\n",
       "      <td>4.91</td>\n",
       "      <td>Haze</td>\n",
       "      <td>28743</td>\n",
       "      <td>MA</td>\n",
       "      <td>US</td>\n",
       "      <td>New England IPA</td>\n",
       "      <td>Rotating</td>\n",
       "      <td>8.2</td>\n",
       "      <td>f</td>\n",
       "      <td>28743</td>\n",
       "      <td>Tree House Brewing Company</td>\n",
       "      <td>Charlton</td>\n",
       "      <td>MA</td>\n",
       "      <td>US</td>\n",
       "      <td>Brewery, Bar, Beer-to-go</td>\n",
       "    </tr>\n",
       "  </tbody>\n",
       "</table>\n",
       "</div>"
      ],
      "text/plain": [
       "   beer_id         username        date  score beer_name  brewery_id state_x  \\\n",
       "0   125646          _dirty_  2017-12-21   4.50      Haze       28743      MA   \n",
       "1   125646          CJDUBYA  2017-12-21   4.75      Haze       28743      MA   \n",
       "2   125646  GratefulBeerGuy  2017-12-20   4.58      Haze       28743      MA   \n",
       "3   125646         LukeGude  2017-12-20   4.31      Haze       28743      MA   \n",
       "4   125646          jneff33  2017-12-20   4.91      Haze       28743      MA   \n",
       "\n",
       "  country_x       beer_style availability  abv retired   id_y  \\\n",
       "0        US  New England IPA     Rotating  8.2       f  28743   \n",
       "1        US  New England IPA     Rotating  8.2       f  28743   \n",
       "2        US  New England IPA     Rotating  8.2       f  28743   \n",
       "3        US  New England IPA     Rotating  8.2       f  28743   \n",
       "4        US  New England IPA     Rotating  8.2       f  28743   \n",
       "\n",
       "                       name_y      city state_y country_y  \\\n",
       "0  Tree House Brewing Company  Charlton      MA        US   \n",
       "1  Tree House Brewing Company  Charlton      MA        US   \n",
       "2  Tree House Brewing Company  Charlton      MA        US   \n",
       "3  Tree House Brewing Company  Charlton      MA        US   \n",
       "4  Tree House Brewing Company  Charlton      MA        US   \n",
       "\n",
       "                      types  \n",
       "0  Brewery, Bar, Beer-to-go  \n",
       "1  Brewery, Bar, Beer-to-go  \n",
       "2  Brewery, Bar, Beer-to-go  \n",
       "3  Brewery, Bar, Beer-to-go  \n",
       "4  Brewery, Bar, Beer-to-go  "
      ]
     },
     "execution_count": 51,
     "metadata": {},
     "output_type": "execute_result"
    }
   ],
   "source": [
    "df_merge2 = pd.merge(df_reviews2, df_merge1, left_on=\"beer_id\", right_on=\"beer_id\")\n",
    "df_merge2.head(5)"
   ]
  },
  {
   "cell_type": "code",
   "execution_count": 52,
   "metadata": {},
   "outputs": [],
   "source": [
    "df_merge2 = df_merge2.rename(\n",
    "    columns={\"state_x\": \"state\", \"country_x\": \"country\", \"name_y\": \"brewery_name\"}\n",
    ").drop([\"id_y\", \"state_y\", \"country_y\"], axis=1)"
   ]
  },
  {
   "cell_type": "code",
   "execution_count": 53,
   "metadata": {},
   "outputs": [
    {
     "data": {
      "text/html": [
       "<div>\n",
       "<style scoped>\n",
       "    .dataframe tbody tr th:only-of-type {\n",
       "        vertical-align: middle;\n",
       "    }\n",
       "\n",
       "    .dataframe tbody tr th {\n",
       "        vertical-align: top;\n",
       "    }\n",
       "\n",
       "    .dataframe thead th {\n",
       "        text-align: right;\n",
       "    }\n",
       "</style>\n",
       "<table border=\"1\" class=\"dataframe\">\n",
       "  <thead>\n",
       "    <tr style=\"text-align: right;\">\n",
       "      <th></th>\n",
       "      <th>beer_id</th>\n",
       "      <th>username</th>\n",
       "      <th>date</th>\n",
       "      <th>score</th>\n",
       "      <th>beer_name</th>\n",
       "      <th>brewery_id</th>\n",
       "      <th>state</th>\n",
       "      <th>country</th>\n",
       "      <th>beer_style</th>\n",
       "      <th>availability</th>\n",
       "      <th>abv</th>\n",
       "      <th>retired</th>\n",
       "      <th>brewery_name</th>\n",
       "      <th>city</th>\n",
       "      <th>types</th>\n",
       "    </tr>\n",
       "  </thead>\n",
       "  <tbody>\n",
       "    <tr>\n",
       "      <th>0</th>\n",
       "      <td>125646</td>\n",
       "      <td>_dirty_</td>\n",
       "      <td>2017-12-21</td>\n",
       "      <td>4.50</td>\n",
       "      <td>Haze</td>\n",
       "      <td>28743</td>\n",
       "      <td>MA</td>\n",
       "      <td>US</td>\n",
       "      <td>New England IPA</td>\n",
       "      <td>Rotating</td>\n",
       "      <td>8.2</td>\n",
       "      <td>f</td>\n",
       "      <td>Tree House Brewing Company</td>\n",
       "      <td>Charlton</td>\n",
       "      <td>Brewery, Bar, Beer-to-go</td>\n",
       "    </tr>\n",
       "    <tr>\n",
       "      <th>1</th>\n",
       "      <td>125646</td>\n",
       "      <td>CJDUBYA</td>\n",
       "      <td>2017-12-21</td>\n",
       "      <td>4.75</td>\n",
       "      <td>Haze</td>\n",
       "      <td>28743</td>\n",
       "      <td>MA</td>\n",
       "      <td>US</td>\n",
       "      <td>New England IPA</td>\n",
       "      <td>Rotating</td>\n",
       "      <td>8.2</td>\n",
       "      <td>f</td>\n",
       "      <td>Tree House Brewing Company</td>\n",
       "      <td>Charlton</td>\n",
       "      <td>Brewery, Bar, Beer-to-go</td>\n",
       "    </tr>\n",
       "    <tr>\n",
       "      <th>2</th>\n",
       "      <td>125646</td>\n",
       "      <td>GratefulBeerGuy</td>\n",
       "      <td>2017-12-20</td>\n",
       "      <td>4.58</td>\n",
       "      <td>Haze</td>\n",
       "      <td>28743</td>\n",
       "      <td>MA</td>\n",
       "      <td>US</td>\n",
       "      <td>New England IPA</td>\n",
       "      <td>Rotating</td>\n",
       "      <td>8.2</td>\n",
       "      <td>f</td>\n",
       "      <td>Tree House Brewing Company</td>\n",
       "      <td>Charlton</td>\n",
       "      <td>Brewery, Bar, Beer-to-go</td>\n",
       "    </tr>\n",
       "    <tr>\n",
       "      <th>3</th>\n",
       "      <td>125646</td>\n",
       "      <td>LukeGude</td>\n",
       "      <td>2017-12-20</td>\n",
       "      <td>4.31</td>\n",
       "      <td>Haze</td>\n",
       "      <td>28743</td>\n",
       "      <td>MA</td>\n",
       "      <td>US</td>\n",
       "      <td>New England IPA</td>\n",
       "      <td>Rotating</td>\n",
       "      <td>8.2</td>\n",
       "      <td>f</td>\n",
       "      <td>Tree House Brewing Company</td>\n",
       "      <td>Charlton</td>\n",
       "      <td>Brewery, Bar, Beer-to-go</td>\n",
       "    </tr>\n",
       "    <tr>\n",
       "      <th>4</th>\n",
       "      <td>125646</td>\n",
       "      <td>jneff33</td>\n",
       "      <td>2017-12-20</td>\n",
       "      <td>4.91</td>\n",
       "      <td>Haze</td>\n",
       "      <td>28743</td>\n",
       "      <td>MA</td>\n",
       "      <td>US</td>\n",
       "      <td>New England IPA</td>\n",
       "      <td>Rotating</td>\n",
       "      <td>8.2</td>\n",
       "      <td>f</td>\n",
       "      <td>Tree House Brewing Company</td>\n",
       "      <td>Charlton</td>\n",
       "      <td>Brewery, Bar, Beer-to-go</td>\n",
       "    </tr>\n",
       "  </tbody>\n",
       "</table>\n",
       "</div>"
      ],
      "text/plain": [
       "   beer_id         username        date  score beer_name  brewery_id state  \\\n",
       "0   125646          _dirty_  2017-12-21   4.50      Haze       28743    MA   \n",
       "1   125646          CJDUBYA  2017-12-21   4.75      Haze       28743    MA   \n",
       "2   125646  GratefulBeerGuy  2017-12-20   4.58      Haze       28743    MA   \n",
       "3   125646         LukeGude  2017-12-20   4.31      Haze       28743    MA   \n",
       "4   125646          jneff33  2017-12-20   4.91      Haze       28743    MA   \n",
       "\n",
       "  country       beer_style availability  abv retired  \\\n",
       "0      US  New England IPA     Rotating  8.2       f   \n",
       "1      US  New England IPA     Rotating  8.2       f   \n",
       "2      US  New England IPA     Rotating  8.2       f   \n",
       "3      US  New England IPA     Rotating  8.2       f   \n",
       "4      US  New England IPA     Rotating  8.2       f   \n",
       "\n",
       "                 brewery_name      city                     types  \n",
       "0  Tree House Brewing Company  Charlton  Brewery, Bar, Beer-to-go  \n",
       "1  Tree House Brewing Company  Charlton  Brewery, Bar, Beer-to-go  \n",
       "2  Tree House Brewing Company  Charlton  Brewery, Bar, Beer-to-go  \n",
       "3  Tree House Brewing Company  Charlton  Brewery, Bar, Beer-to-go  \n",
       "4  Tree House Brewing Company  Charlton  Brewery, Bar, Beer-to-go  "
      ]
     },
     "execution_count": 53,
     "metadata": {},
     "output_type": "execute_result"
    }
   ],
   "source": [
    "df_merge2.head(5)"
   ]
  },
  {
   "cell_type": "code",
   "execution_count": 54,
   "metadata": {},
   "outputs": [],
   "source": [
    "# df_merge2.to_csv(os.path.join(\"../data/csv/final_merged_data.csv\"))"
   ]
  },
  {
   "cell_type": "code",
   "execution_count": 55,
   "metadata": {},
   "outputs": [
    {
     "data": {
      "text/html": [
       "<div>\n",
       "<style scoped>\n",
       "    .dataframe tbody tr th:only-of-type {\n",
       "        vertical-align: middle;\n",
       "    }\n",
       "\n",
       "    .dataframe tbody tr th {\n",
       "        vertical-align: top;\n",
       "    }\n",
       "\n",
       "    .dataframe thead th {\n",
       "        text-align: right;\n",
       "    }\n",
       "</style>\n",
       "<table border=\"1\" class=\"dataframe\">\n",
       "  <thead>\n",
       "    <tr style=\"text-align: right;\">\n",
       "      <th></th>\n",
       "      <th>beer_id</th>\n",
       "      <th>username</th>\n",
       "      <th>date</th>\n",
       "      <th>score</th>\n",
       "      <th>beer_name</th>\n",
       "      <th>brewery_id</th>\n",
       "      <th>state</th>\n",
       "      <th>country</th>\n",
       "      <th>beer_style</th>\n",
       "      <th>availability</th>\n",
       "      <th>abv</th>\n",
       "      <th>retired</th>\n",
       "      <th>brewery_name</th>\n",
       "      <th>city</th>\n",
       "      <th>types</th>\n",
       "    </tr>\n",
       "  </thead>\n",
       "  <tbody>\n",
       "    <tr>\n",
       "      <th>False</th>\n",
       "      <td>4383363.0</td>\n",
       "      <td>4381525</td>\n",
       "      <td>4383363.0</td>\n",
       "      <td>4383363.0</td>\n",
       "      <td>4383363.0</td>\n",
       "      <td>4383363.0</td>\n",
       "      <td>3908748</td>\n",
       "      <td>4381425</td>\n",
       "      <td>4383363.0</td>\n",
       "      <td>4383363.0</td>\n",
       "      <td>4345162</td>\n",
       "      <td>4383363.0</td>\n",
       "      <td>4383363.0</td>\n",
       "      <td>4376015</td>\n",
       "      <td>4383363.0</td>\n",
       "    </tr>\n",
       "    <tr>\n",
       "      <th>True</th>\n",
       "      <td>NaN</td>\n",
       "      <td>1838</td>\n",
       "      <td>NaN</td>\n",
       "      <td>NaN</td>\n",
       "      <td>NaN</td>\n",
       "      <td>NaN</td>\n",
       "      <td>474615</td>\n",
       "      <td>1938</td>\n",
       "      <td>NaN</td>\n",
       "      <td>NaN</td>\n",
       "      <td>38201</td>\n",
       "      <td>NaN</td>\n",
       "      <td>NaN</td>\n",
       "      <td>7348</td>\n",
       "      <td>NaN</td>\n",
       "    </tr>\n",
       "  </tbody>\n",
       "</table>\n",
       "</div>"
      ],
      "text/plain": [
       "         beer_id  username       date      score  beer_name  brewery_id  \\\n",
       "False  4383363.0   4381525  4383363.0  4383363.0  4383363.0   4383363.0   \n",
       "True         NaN      1838        NaN        NaN        NaN         NaN   \n",
       "\n",
       "         state  country  beer_style  availability      abv    retired  \\\n",
       "False  3908748  4381425   4383363.0     4383363.0  4345162  4383363.0   \n",
       "True    474615     1938         NaN           NaN    38201        NaN   \n",
       "\n",
       "       brewery_name     city      types  \n",
       "False     4383363.0  4376015  4383363.0  \n",
       "True            NaN     7348        NaN  "
      ]
     },
     "execution_count": 55,
     "metadata": {},
     "output_type": "execute_result"
    }
   ],
   "source": [
    "# Find number of nulls for every column\n",
    "df_merge2.apply(lambda x: x.isnull().value_counts())"
   ]
  },
  {
   "cell_type": "code",
   "execution_count": 56,
   "metadata": {},
   "outputs": [],
   "source": [
    "df_merge3 = pd.merge(\n",
    "    df_merge2, df_beerstyles, left_on=\"beer_style\", right_on=\"Category\"\n",
    ")\n",
    "df_merge3 = df_merge3.drop([\"date\", \"retired\"], axis=1)"
   ]
  },
  {
   "cell_type": "code",
   "execution_count": 57,
   "metadata": {},
   "outputs": [],
   "source": [
    "df_merge3 = df_merge3.drop([\"Category\", \"username\"], axis=1)"
   ]
  },
  {
   "cell_type": "code",
   "execution_count": 58,
   "metadata": {},
   "outputs": [],
   "source": [
    "df_merge3 = df_merge3.rename(columns={\"Style\": \"Category\"})"
   ]
  },
  {
   "cell_type": "code",
   "execution_count": 59,
   "metadata": {},
   "outputs": [
    {
     "data": {
      "text/html": [
       "<div>\n",
       "<style scoped>\n",
       "    .dataframe tbody tr th:only-of-type {\n",
       "        vertical-align: middle;\n",
       "    }\n",
       "\n",
       "    .dataframe tbody tr th {\n",
       "        vertical-align: top;\n",
       "    }\n",
       "\n",
       "    .dataframe thead th {\n",
       "        text-align: right;\n",
       "    }\n",
       "</style>\n",
       "<table border=\"1\" class=\"dataframe\">\n",
       "  <thead>\n",
       "    <tr style=\"text-align: right;\">\n",
       "      <th></th>\n",
       "      <th>beer_id</th>\n",
       "      <th>score</th>\n",
       "      <th>beer_name</th>\n",
       "      <th>brewery_id</th>\n",
       "      <th>state</th>\n",
       "      <th>country</th>\n",
       "      <th>beer_style</th>\n",
       "      <th>availability</th>\n",
       "      <th>abv</th>\n",
       "      <th>brewery_name</th>\n",
       "      <th>...</th>\n",
       "      <th>Category</th>\n",
       "      <th>ABV (min)</th>\n",
       "      <th>ABV (max)</th>\n",
       "      <th>ABV (avg)</th>\n",
       "      <th>IBU (min)</th>\n",
       "      <th>IBU (max)</th>\n",
       "      <th>IBU (avg)</th>\n",
       "      <th>SRM Range</th>\n",
       "      <th>Glassware</th>\n",
       "      <th>Description</th>\n",
       "    </tr>\n",
       "  </thead>\n",
       "  <tbody>\n",
       "    <tr>\n",
       "      <th>0</th>\n",
       "      <td>125646</td>\n",
       "      <td>4.50</td>\n",
       "      <td>Haze</td>\n",
       "      <td>28743</td>\n",
       "      <td>MA</td>\n",
       "      <td>US</td>\n",
       "      <td>New England IPA</td>\n",
       "      <td>Rotating</td>\n",
       "      <td>8.2</td>\n",
       "      <td>Tree House Brewing Company</td>\n",
       "      <td>...</td>\n",
       "      <td>India Pale Ale</td>\n",
       "      <td>6.3</td>\n",
       "      <td>7.5</td>\n",
       "      <td>6.9</td>\n",
       "      <td>50</td>\n",
       "      <td>70</td>\n",
       "      <td>60.0</td>\n",
       "      <td>6 to 15</td>\n",
       "      <td>Pint Glass</td>\n",
       "      <td>Emphasizing hop aroma and flavor without braci...</td>\n",
       "    </tr>\n",
       "    <tr>\n",
       "      <th>1</th>\n",
       "      <td>125646</td>\n",
       "      <td>4.75</td>\n",
       "      <td>Haze</td>\n",
       "      <td>28743</td>\n",
       "      <td>MA</td>\n",
       "      <td>US</td>\n",
       "      <td>New England IPA</td>\n",
       "      <td>Rotating</td>\n",
       "      <td>8.2</td>\n",
       "      <td>Tree House Brewing Company</td>\n",
       "      <td>...</td>\n",
       "      <td>India Pale Ale</td>\n",
       "      <td>6.3</td>\n",
       "      <td>7.5</td>\n",
       "      <td>6.9</td>\n",
       "      <td>50</td>\n",
       "      <td>70</td>\n",
       "      <td>60.0</td>\n",
       "      <td>6 to 15</td>\n",
       "      <td>Pint Glass</td>\n",
       "      <td>Emphasizing hop aroma and flavor without braci...</td>\n",
       "    </tr>\n",
       "    <tr>\n",
       "      <th>2</th>\n",
       "      <td>125646</td>\n",
       "      <td>4.58</td>\n",
       "      <td>Haze</td>\n",
       "      <td>28743</td>\n",
       "      <td>MA</td>\n",
       "      <td>US</td>\n",
       "      <td>New England IPA</td>\n",
       "      <td>Rotating</td>\n",
       "      <td>8.2</td>\n",
       "      <td>Tree House Brewing Company</td>\n",
       "      <td>...</td>\n",
       "      <td>India Pale Ale</td>\n",
       "      <td>6.3</td>\n",
       "      <td>7.5</td>\n",
       "      <td>6.9</td>\n",
       "      <td>50</td>\n",
       "      <td>70</td>\n",
       "      <td>60.0</td>\n",
       "      <td>6 to 15</td>\n",
       "      <td>Pint Glass</td>\n",
       "      <td>Emphasizing hop aroma and flavor without braci...</td>\n",
       "    </tr>\n",
       "    <tr>\n",
       "      <th>3</th>\n",
       "      <td>125646</td>\n",
       "      <td>4.31</td>\n",
       "      <td>Haze</td>\n",
       "      <td>28743</td>\n",
       "      <td>MA</td>\n",
       "      <td>US</td>\n",
       "      <td>New England IPA</td>\n",
       "      <td>Rotating</td>\n",
       "      <td>8.2</td>\n",
       "      <td>Tree House Brewing Company</td>\n",
       "      <td>...</td>\n",
       "      <td>India Pale Ale</td>\n",
       "      <td>6.3</td>\n",
       "      <td>7.5</td>\n",
       "      <td>6.9</td>\n",
       "      <td>50</td>\n",
       "      <td>70</td>\n",
       "      <td>60.0</td>\n",
       "      <td>6 to 15</td>\n",
       "      <td>Pint Glass</td>\n",
       "      <td>Emphasizing hop aroma and flavor without braci...</td>\n",
       "    </tr>\n",
       "    <tr>\n",
       "      <th>4</th>\n",
       "      <td>125646</td>\n",
       "      <td>4.91</td>\n",
       "      <td>Haze</td>\n",
       "      <td>28743</td>\n",
       "      <td>MA</td>\n",
       "      <td>US</td>\n",
       "      <td>New England IPA</td>\n",
       "      <td>Rotating</td>\n",
       "      <td>8.2</td>\n",
       "      <td>Tree House Brewing Company</td>\n",
       "      <td>...</td>\n",
       "      <td>India Pale Ale</td>\n",
       "      <td>6.3</td>\n",
       "      <td>7.5</td>\n",
       "      <td>6.9</td>\n",
       "      <td>50</td>\n",
       "      <td>70</td>\n",
       "      <td>60.0</td>\n",
       "      <td>6 to 15</td>\n",
       "      <td>Pint Glass</td>\n",
       "      <td>Emphasizing hop aroma and flavor without braci...</td>\n",
       "    </tr>\n",
       "  </tbody>\n",
       "</table>\n",
       "<p>5 rows × 22 columns</p>\n",
       "</div>"
      ],
      "text/plain": [
       "   beer_id  score beer_name  brewery_id state country       beer_style  \\\n",
       "0   125646   4.50      Haze       28743    MA      US  New England IPA   \n",
       "1   125646   4.75      Haze       28743    MA      US  New England IPA   \n",
       "2   125646   4.58      Haze       28743    MA      US  New England IPA   \n",
       "3   125646   4.31      Haze       28743    MA      US  New England IPA   \n",
       "4   125646   4.91      Haze       28743    MA      US  New England IPA   \n",
       "\n",
       "  availability  abv                brewery_name  ...        Category  \\\n",
       "0     Rotating  8.2  Tree House Brewing Company  ...  India Pale Ale   \n",
       "1     Rotating  8.2  Tree House Brewing Company  ...  India Pale Ale   \n",
       "2     Rotating  8.2  Tree House Brewing Company  ...  India Pale Ale   \n",
       "3     Rotating  8.2  Tree House Brewing Company  ...  India Pale Ale   \n",
       "4     Rotating  8.2  Tree House Brewing Company  ...  India Pale Ale   \n",
       "\n",
       "  ABV (min) ABV (max)  ABV (avg)  IBU (min)  IBU (max)  IBU (avg)  SRM Range  \\\n",
       "0       6.3       7.5        6.9         50         70       60.0    6 to 15   \n",
       "1       6.3       7.5        6.9         50         70       60.0    6 to 15   \n",
       "2       6.3       7.5        6.9         50         70       60.0    6 to 15   \n",
       "3       6.3       7.5        6.9         50         70       60.0    6 to 15   \n",
       "4       6.3       7.5        6.9         50         70       60.0    6 to 15   \n",
       "\n",
       "   Glassware                                         Description  \n",
       "0  Pint Glass  Emphasizing hop aroma and flavor without braci...  \n",
       "1  Pint Glass  Emphasizing hop aroma and flavor without braci...  \n",
       "2  Pint Glass  Emphasizing hop aroma and flavor without braci...  \n",
       "3  Pint Glass  Emphasizing hop aroma and flavor without braci...  \n",
       "4  Pint Glass  Emphasizing hop aroma and flavor without braci...  \n",
       "\n",
       "[5 rows x 22 columns]"
      ]
     },
     "execution_count": 59,
     "metadata": {},
     "output_type": "execute_result"
    }
   ],
   "source": [
    "df_merge3.head(5)"
   ]
  },
  {
   "cell_type": "code",
   "execution_count": 60,
   "metadata": {},
   "outputs": [
    {
     "data": {
      "text/html": [
       "<div>\n",
       "<style scoped>\n",
       "    .dataframe tbody tr th:only-of-type {\n",
       "        vertical-align: middle;\n",
       "    }\n",
       "\n",
       "    .dataframe tbody tr th {\n",
       "        vertical-align: top;\n",
       "    }\n",
       "\n",
       "    .dataframe thead th {\n",
       "        text-align: right;\n",
       "    }\n",
       "</style>\n",
       "<table border=\"1\" class=\"dataframe\">\n",
       "  <thead>\n",
       "    <tr style=\"text-align: right;\">\n",
       "      <th></th>\n",
       "      <th>beer_id</th>\n",
       "      <th>score</th>\n",
       "      <th>beer_name</th>\n",
       "      <th>brewery_id</th>\n",
       "      <th>state</th>\n",
       "      <th>country</th>\n",
       "      <th>beer_style</th>\n",
       "      <th>availability</th>\n",
       "      <th>abv</th>\n",
       "      <th>brewery_name</th>\n",
       "      <th>...</th>\n",
       "      <th>Category</th>\n",
       "      <th>ABV (min)</th>\n",
       "      <th>ABV (max)</th>\n",
       "      <th>ABV (avg)</th>\n",
       "      <th>IBU (min)</th>\n",
       "      <th>IBU (max)</th>\n",
       "      <th>IBU (avg)</th>\n",
       "      <th>SRM Range</th>\n",
       "      <th>Glassware</th>\n",
       "      <th>Description</th>\n",
       "    </tr>\n",
       "  </thead>\n",
       "  <tbody>\n",
       "    <tr>\n",
       "      <th>False</th>\n",
       "      <td>3830013.0</td>\n",
       "      <td>3830013.0</td>\n",
       "      <td>3830013.0</td>\n",
       "      <td>3830013.0</td>\n",
       "      <td>3475764</td>\n",
       "      <td>3828212</td>\n",
       "      <td>3830013.0</td>\n",
       "      <td>3830013.0</td>\n",
       "      <td>3794514</td>\n",
       "      <td>3830013.0</td>\n",
       "      <td>...</td>\n",
       "      <td>3830013.0</td>\n",
       "      <td>3830013.0</td>\n",
       "      <td>3830013.0</td>\n",
       "      <td>3830013.0</td>\n",
       "      <td>3830013.0</td>\n",
       "      <td>3830013.0</td>\n",
       "      <td>3830013.0</td>\n",
       "      <td>3830013.0</td>\n",
       "      <td>3830013.0</td>\n",
       "      <td>3830013.0</td>\n",
       "    </tr>\n",
       "    <tr>\n",
       "      <th>True</th>\n",
       "      <td>NaN</td>\n",
       "      <td>NaN</td>\n",
       "      <td>NaN</td>\n",
       "      <td>NaN</td>\n",
       "      <td>354249</td>\n",
       "      <td>1801</td>\n",
       "      <td>NaN</td>\n",
       "      <td>NaN</td>\n",
       "      <td>35499</td>\n",
       "      <td>NaN</td>\n",
       "      <td>...</td>\n",
       "      <td>NaN</td>\n",
       "      <td>NaN</td>\n",
       "      <td>NaN</td>\n",
       "      <td>NaN</td>\n",
       "      <td>NaN</td>\n",
       "      <td>NaN</td>\n",
       "      <td>NaN</td>\n",
       "      <td>NaN</td>\n",
       "      <td>NaN</td>\n",
       "      <td>NaN</td>\n",
       "    </tr>\n",
       "  </tbody>\n",
       "</table>\n",
       "<p>2 rows × 22 columns</p>\n",
       "</div>"
      ],
      "text/plain": [
       "         beer_id      score  beer_name  brewery_id    state  country  \\\n",
       "False  3830013.0  3830013.0  3830013.0   3830013.0  3475764  3828212   \n",
       "True         NaN        NaN        NaN         NaN   354249     1801   \n",
       "\n",
       "       beer_style  availability      abv  brewery_name  ...   Category  \\\n",
       "False   3830013.0     3830013.0  3794514     3830013.0  ...  3830013.0   \n",
       "True          NaN           NaN    35499           NaN  ...        NaN   \n",
       "\n",
       "       ABV (min)  ABV (max)  ABV (avg)  IBU (min)  IBU (max)  IBU (avg)  \\\n",
       "False  3830013.0  3830013.0  3830013.0  3830013.0  3830013.0  3830013.0   \n",
       "True         NaN        NaN        NaN        NaN        NaN        NaN   \n",
       "\n",
       "       SRM Range  Glassware   Description  \n",
       "False  3830013.0   3830013.0    3830013.0  \n",
       "True         NaN         NaN          NaN  \n",
       "\n",
       "[2 rows x 22 columns]"
      ]
     },
     "execution_count": 60,
     "metadata": {},
     "output_type": "execute_result"
    }
   ],
   "source": [
    "# Find number of nulls for every column\n",
    "df_merge3.apply(lambda x: x.isnull().value_counts())"
   ]
  },
  {
   "cell_type": "code",
   "execution_count": 61,
   "metadata": {},
   "outputs": [
    {
     "data": {
      "text/plain": [
       "beer_id         3830013\n",
       "score           3830013\n",
       "beer_name       3830013\n",
       "brewery_id      3830013\n",
       "state           3475764\n",
       "country         3828212\n",
       "beer_style      3830013\n",
       "availability    3830013\n",
       "abv             3794514\n",
       "brewery_name    3830013\n",
       "city            3823610\n",
       "types           3830013\n",
       "Category        3830013\n",
       "ABV (min)       3830013\n",
       "ABV (max)       3830013\n",
       "ABV (avg)       3830013\n",
       "IBU (min)       3830013\n",
       "IBU (max)       3830013\n",
       "IBU (avg)       3830013\n",
       "SRM Range       3830013\n",
       "Glassware       3830013\n",
       "Description     3830013\n",
       "dtype: int64"
      ]
     },
     "execution_count": 61,
     "metadata": {},
     "output_type": "execute_result"
    }
   ],
   "source": [
    "df_merge3.count()"
   ]
  },
  {
   "cell_type": "code",
   "execution_count": 67,
   "metadata": {},
   "outputs": [
    {
     "ename": "KeyError",
     "evalue": "\"['Glassware'] not in index\"",
     "output_type": "error",
     "traceback": [
      "\u001b[0;31m---------------------------------------------------------------------------\u001b[0m",
      "\u001b[0;31mKeyError\u001b[0m                                  Traceback (most recent call last)",
      "\u001b[0;32m<ipython-input-67-c32ddfd4ccfe>\u001b[0m in \u001b[0;36m<module>\u001b[0;34m\u001b[0m\n\u001b[1;32m      1\u001b[0m \u001b[0;31m# drop \"username\", \"types\"?\u001b[0m\u001b[0;34m\u001b[0m\u001b[0;34m\u001b[0m\u001b[0;34m\u001b[0m\u001b[0m\n\u001b[0;32m----> 2\u001b[0;31m \u001b[0mdf_merge3\u001b[0m \u001b[0;34m=\u001b[0m \u001b[0mdf_merge3\u001b[0m\u001b[0;34m[\u001b[0m\u001b[0;34m[\u001b[0m\u001b[0;34m'beer_id'\u001b[0m\u001b[0;34m,\u001b[0m\u001b[0;34m'beer_name'\u001b[0m\u001b[0;34m,\u001b[0m\u001b[0;34m'beer_style'\u001b[0m\u001b[0;34m,\u001b[0m\u001b[0;34m'Category'\u001b[0m\u001b[0;34m,\u001b[0m\u001b[0;34m'score'\u001b[0m\u001b[0;34m,\u001b[0m\u001b[0;34m'abv'\u001b[0m\u001b[0;34m,\u001b[0m\u001b[0;34m'brewery_name'\u001b[0m\u001b[0;34m,\u001b[0m\u001b[0;34m'brewery_id'\u001b[0m\u001b[0;34m,\u001b[0m\u001b[0;34m'city'\u001b[0m\u001b[0;34m,\u001b[0m \u001b[0;34m'state'\u001b[0m\u001b[0;34m,\u001b[0m \u001b[0;34m'country'\u001b[0m\u001b[0;34m,\u001b[0m\u001b[0;34m'ABV (min)'\u001b[0m\u001b[0;34m,\u001b[0m \u001b[0;34m'ABV (max)'\u001b[0m\u001b[0;34m,\u001b[0m\u001b[0;34m'ABV (avg)'\u001b[0m\u001b[0;34m,\u001b[0m\u001b[0;34m'IBU (min)'\u001b[0m\u001b[0;34m,\u001b[0m\u001b[0;34m'IBU (max)'\u001b[0m\u001b[0;34m,\u001b[0m \u001b[0;34m'IBU (avg)'\u001b[0m\u001b[0;34m,\u001b[0m\u001b[0;34m'SRM Range'\u001b[0m\u001b[0;34m,\u001b[0m\u001b[0;34m'Glassware'\u001b[0m\u001b[0;34m,\u001b[0m\u001b[0;34m'Description'\u001b[0m\u001b[0;34m,\u001b[0m\u001b[0;34m'types'\u001b[0m\u001b[0;34m,\u001b[0m\u001b[0;34m'availability'\u001b[0m\u001b[0;34m]\u001b[0m\u001b[0;34m]\u001b[0m\u001b[0;34m\u001b[0m\u001b[0;34m\u001b[0m\u001b[0m\n\u001b[0m",
      "\u001b[0;32m~/.local/share/virtualenvs/ALE-gorithm-LbPHY3pf/lib/python3.8/site-packages/pandas/core/frame.py\u001b[0m in \u001b[0;36m__getitem__\u001b[0;34m(self, key)\u001b[0m\n\u001b[1;32m   2804\u001b[0m             \u001b[0;32mif\u001b[0m \u001b[0mis_iterator\u001b[0m\u001b[0;34m(\u001b[0m\u001b[0mkey\u001b[0m\u001b[0;34m)\u001b[0m\u001b[0;34m:\u001b[0m\u001b[0;34m\u001b[0m\u001b[0;34m\u001b[0m\u001b[0m\n\u001b[1;32m   2805\u001b[0m                 \u001b[0mkey\u001b[0m \u001b[0;34m=\u001b[0m \u001b[0mlist\u001b[0m\u001b[0;34m(\u001b[0m\u001b[0mkey\u001b[0m\u001b[0;34m)\u001b[0m\u001b[0;34m\u001b[0m\u001b[0;34m\u001b[0m\u001b[0m\n\u001b[0;32m-> 2806\u001b[0;31m             \u001b[0mindexer\u001b[0m \u001b[0;34m=\u001b[0m \u001b[0mself\u001b[0m\u001b[0;34m.\u001b[0m\u001b[0mloc\u001b[0m\u001b[0;34m.\u001b[0m\u001b[0m_get_listlike_indexer\u001b[0m\u001b[0;34m(\u001b[0m\u001b[0mkey\u001b[0m\u001b[0;34m,\u001b[0m \u001b[0maxis\u001b[0m\u001b[0;34m=\u001b[0m\u001b[0;36m1\u001b[0m\u001b[0;34m,\u001b[0m \u001b[0mraise_missing\u001b[0m\u001b[0;34m=\u001b[0m\u001b[0;32mTrue\u001b[0m\u001b[0;34m)\u001b[0m\u001b[0;34m[\u001b[0m\u001b[0;36m1\u001b[0m\u001b[0;34m]\u001b[0m\u001b[0;34m\u001b[0m\u001b[0;34m\u001b[0m\u001b[0m\n\u001b[0m\u001b[1;32m   2807\u001b[0m \u001b[0;34m\u001b[0m\u001b[0m\n\u001b[1;32m   2808\u001b[0m         \u001b[0;31m# take() does not accept boolean indexers\u001b[0m\u001b[0;34m\u001b[0m\u001b[0;34m\u001b[0m\u001b[0;34m\u001b[0m\u001b[0m\n",
      "\u001b[0;32m~/.local/share/virtualenvs/ALE-gorithm-LbPHY3pf/lib/python3.8/site-packages/pandas/core/indexing.py\u001b[0m in \u001b[0;36m_get_listlike_indexer\u001b[0;34m(self, key, axis, raise_missing)\u001b[0m\n\u001b[1;32m   1550\u001b[0m             \u001b[0mkeyarr\u001b[0m\u001b[0;34m,\u001b[0m \u001b[0mindexer\u001b[0m\u001b[0;34m,\u001b[0m \u001b[0mnew_indexer\u001b[0m \u001b[0;34m=\u001b[0m \u001b[0max\u001b[0m\u001b[0;34m.\u001b[0m\u001b[0m_reindex_non_unique\u001b[0m\u001b[0;34m(\u001b[0m\u001b[0mkeyarr\u001b[0m\u001b[0;34m)\u001b[0m\u001b[0;34m\u001b[0m\u001b[0;34m\u001b[0m\u001b[0m\n\u001b[1;32m   1551\u001b[0m \u001b[0;34m\u001b[0m\u001b[0m\n\u001b[0;32m-> 1552\u001b[0;31m         self._validate_read_indexer(\n\u001b[0m\u001b[1;32m   1553\u001b[0m             \u001b[0mkeyarr\u001b[0m\u001b[0;34m,\u001b[0m \u001b[0mindexer\u001b[0m\u001b[0;34m,\u001b[0m \u001b[0mo\u001b[0m\u001b[0;34m.\u001b[0m\u001b[0m_get_axis_number\u001b[0m\u001b[0;34m(\u001b[0m\u001b[0maxis\u001b[0m\u001b[0;34m)\u001b[0m\u001b[0;34m,\u001b[0m \u001b[0mraise_missing\u001b[0m\u001b[0;34m=\u001b[0m\u001b[0mraise_missing\u001b[0m\u001b[0;34m\u001b[0m\u001b[0;34m\u001b[0m\u001b[0m\n\u001b[1;32m   1554\u001b[0m         )\n",
      "\u001b[0;32m~/.local/share/virtualenvs/ALE-gorithm-LbPHY3pf/lib/python3.8/site-packages/pandas/core/indexing.py\u001b[0m in \u001b[0;36m_validate_read_indexer\u001b[0;34m(self, key, indexer, axis, raise_missing)\u001b[0m\n\u001b[1;32m   1644\u001b[0m             \u001b[0;32mif\u001b[0m \u001b[0;32mnot\u001b[0m \u001b[0;34m(\u001b[0m\u001b[0mself\u001b[0m\u001b[0;34m.\u001b[0m\u001b[0mname\u001b[0m \u001b[0;34m==\u001b[0m \u001b[0;34m\"loc\"\u001b[0m \u001b[0;32mand\u001b[0m \u001b[0;32mnot\u001b[0m \u001b[0mraise_missing\u001b[0m\u001b[0;34m)\u001b[0m\u001b[0;34m:\u001b[0m\u001b[0;34m\u001b[0m\u001b[0;34m\u001b[0m\u001b[0m\n\u001b[1;32m   1645\u001b[0m                 \u001b[0mnot_found\u001b[0m \u001b[0;34m=\u001b[0m \u001b[0mlist\u001b[0m\u001b[0;34m(\u001b[0m\u001b[0mset\u001b[0m\u001b[0;34m(\u001b[0m\u001b[0mkey\u001b[0m\u001b[0;34m)\u001b[0m \u001b[0;34m-\u001b[0m \u001b[0mset\u001b[0m\u001b[0;34m(\u001b[0m\u001b[0max\u001b[0m\u001b[0;34m)\u001b[0m\u001b[0;34m)\u001b[0m\u001b[0;34m\u001b[0m\u001b[0;34m\u001b[0m\u001b[0m\n\u001b[0;32m-> 1646\u001b[0;31m                 \u001b[0;32mraise\u001b[0m \u001b[0mKeyError\u001b[0m\u001b[0;34m(\u001b[0m\u001b[0;34mf\"{not_found} not in index\"\u001b[0m\u001b[0;34m)\u001b[0m\u001b[0;34m\u001b[0m\u001b[0;34m\u001b[0m\u001b[0m\n\u001b[0m\u001b[1;32m   1647\u001b[0m \u001b[0;34m\u001b[0m\u001b[0m\n\u001b[1;32m   1648\u001b[0m             \u001b[0;31m# we skip the warning on Categorical/Interval\u001b[0m\u001b[0;34m\u001b[0m\u001b[0;34m\u001b[0m\u001b[0;34m\u001b[0m\u001b[0m\n",
      "\u001b[0;31mKeyError\u001b[0m: \"['Glassware'] not in index\""
     ]
    }
   ],
   "source": [
    "# drop \"username\", \"types\"?\n",
    "df_merge3 = df_merge3[['beer_id','beer_name','beer_style','Category','score','abv','brewery_name','brewery_id','city', 'state', 'country','ABV (min)', 'ABV (max)','ABV (avg)','IBU (min)','IBU (max)', 'IBU (avg)','SRM Range','Glassware','Description','types','availability']]"
   ]
  },
  {
   "cell_type": "code",
   "execution_count": 63,
   "metadata": {},
   "outputs": [],
   "source": [
    "df_merge3.to_csv(os.path.join(\"../data/csv/final_merged_data.csv\"))"
   ]
  },
  {
   "cell_type": "code",
   "execution_count": 66,
   "metadata": {},
   "outputs": [
    {
     "data": {
      "text/html": [
       "<div>\n",
       "<style scoped>\n",
       "    .dataframe tbody tr th:only-of-type {\n",
       "        vertical-align: middle;\n",
       "    }\n",
       "\n",
       "    .dataframe tbody tr th {\n",
       "        vertical-align: top;\n",
       "    }\n",
       "\n",
       "    .dataframe thead th {\n",
       "        text-align: right;\n",
       "    }\n",
       "</style>\n",
       "<table border=\"1\" class=\"dataframe\">\n",
       "  <thead>\n",
       "    <tr style=\"text-align: right;\">\n",
       "      <th></th>\n",
       "      <th>beer_id</th>\n",
       "      <th>score</th>\n",
       "      <th>beer_name</th>\n",
       "      <th>brewery_id</th>\n",
       "      <th>state</th>\n",
       "      <th>country</th>\n",
       "      <th>beer_style</th>\n",
       "      <th>availability</th>\n",
       "      <th>abv</th>\n",
       "      <th>brewery_name</th>\n",
       "      <th>...</th>\n",
       "      <th>Category</th>\n",
       "      <th>ABV (min)</th>\n",
       "      <th>ABV (max)</th>\n",
       "      <th>ABV (avg)</th>\n",
       "      <th>IBU (min)</th>\n",
       "      <th>IBU (max)</th>\n",
       "      <th>IBU (avg)</th>\n",
       "      <th>SRM Range</th>\n",
       "      <th>Glassware</th>\n",
       "      <th>Description</th>\n",
       "    </tr>\n",
       "  </thead>\n",
       "  <tbody>\n",
       "    <tr>\n",
       "      <th>0</th>\n",
       "      <td>125646</td>\n",
       "      <td>4.50</td>\n",
       "      <td>Haze</td>\n",
       "      <td>28743</td>\n",
       "      <td>MA</td>\n",
       "      <td>US</td>\n",
       "      <td>New England IPA</td>\n",
       "      <td>Rotating</td>\n",
       "      <td>8.2</td>\n",
       "      <td>Tree House Brewing Company</td>\n",
       "      <td>...</td>\n",
       "      <td>India Pale Ale</td>\n",
       "      <td>6.3</td>\n",
       "      <td>7.5</td>\n",
       "      <td>6.9</td>\n",
       "      <td>50</td>\n",
       "      <td>70</td>\n",
       "      <td>60.0</td>\n",
       "      <td>6 to 15</td>\n",
       "      <td>Pint Glass</td>\n",
       "      <td>Emphasizing hop aroma and flavor without braci...</td>\n",
       "    </tr>\n",
       "    <tr>\n",
       "      <th>1</th>\n",
       "      <td>125646</td>\n",
       "      <td>4.75</td>\n",
       "      <td>Haze</td>\n",
       "      <td>28743</td>\n",
       "      <td>MA</td>\n",
       "      <td>US</td>\n",
       "      <td>New England IPA</td>\n",
       "      <td>Rotating</td>\n",
       "      <td>8.2</td>\n",
       "      <td>Tree House Brewing Company</td>\n",
       "      <td>...</td>\n",
       "      <td>India Pale Ale</td>\n",
       "      <td>6.3</td>\n",
       "      <td>7.5</td>\n",
       "      <td>6.9</td>\n",
       "      <td>50</td>\n",
       "      <td>70</td>\n",
       "      <td>60.0</td>\n",
       "      <td>6 to 15</td>\n",
       "      <td>Pint Glass</td>\n",
       "      <td>Emphasizing hop aroma and flavor without braci...</td>\n",
       "    </tr>\n",
       "    <tr>\n",
       "      <th>2</th>\n",
       "      <td>125646</td>\n",
       "      <td>4.58</td>\n",
       "      <td>Haze</td>\n",
       "      <td>28743</td>\n",
       "      <td>MA</td>\n",
       "      <td>US</td>\n",
       "      <td>New England IPA</td>\n",
       "      <td>Rotating</td>\n",
       "      <td>8.2</td>\n",
       "      <td>Tree House Brewing Company</td>\n",
       "      <td>...</td>\n",
       "      <td>India Pale Ale</td>\n",
       "      <td>6.3</td>\n",
       "      <td>7.5</td>\n",
       "      <td>6.9</td>\n",
       "      <td>50</td>\n",
       "      <td>70</td>\n",
       "      <td>60.0</td>\n",
       "      <td>6 to 15</td>\n",
       "      <td>Pint Glass</td>\n",
       "      <td>Emphasizing hop aroma and flavor without braci...</td>\n",
       "    </tr>\n",
       "    <tr>\n",
       "      <th>3</th>\n",
       "      <td>125646</td>\n",
       "      <td>4.31</td>\n",
       "      <td>Haze</td>\n",
       "      <td>28743</td>\n",
       "      <td>MA</td>\n",
       "      <td>US</td>\n",
       "      <td>New England IPA</td>\n",
       "      <td>Rotating</td>\n",
       "      <td>8.2</td>\n",
       "      <td>Tree House Brewing Company</td>\n",
       "      <td>...</td>\n",
       "      <td>India Pale Ale</td>\n",
       "      <td>6.3</td>\n",
       "      <td>7.5</td>\n",
       "      <td>6.9</td>\n",
       "      <td>50</td>\n",
       "      <td>70</td>\n",
       "      <td>60.0</td>\n",
       "      <td>6 to 15</td>\n",
       "      <td>Pint Glass</td>\n",
       "      <td>Emphasizing hop aroma and flavor without braci...</td>\n",
       "    </tr>\n",
       "    <tr>\n",
       "      <th>4</th>\n",
       "      <td>125646</td>\n",
       "      <td>4.91</td>\n",
       "      <td>Haze</td>\n",
       "      <td>28743</td>\n",
       "      <td>MA</td>\n",
       "      <td>US</td>\n",
       "      <td>New England IPA</td>\n",
       "      <td>Rotating</td>\n",
       "      <td>8.2</td>\n",
       "      <td>Tree House Brewing Company</td>\n",
       "      <td>...</td>\n",
       "      <td>India Pale Ale</td>\n",
       "      <td>6.3</td>\n",
       "      <td>7.5</td>\n",
       "      <td>6.9</td>\n",
       "      <td>50</td>\n",
       "      <td>70</td>\n",
       "      <td>60.0</td>\n",
       "      <td>6 to 15</td>\n",
       "      <td>Pint Glass</td>\n",
       "      <td>Emphasizing hop aroma and flavor without braci...</td>\n",
       "    </tr>\n",
       "  </tbody>\n",
       "</table>\n",
       "<p>5 rows × 22 columns</p>\n",
       "</div>"
      ],
      "text/plain": [
       "   beer_id  score beer_name  brewery_id state country       beer_style  \\\n",
       "0   125646   4.50      Haze       28743    MA      US  New England IPA   \n",
       "1   125646   4.75      Haze       28743    MA      US  New England IPA   \n",
       "2   125646   4.58      Haze       28743    MA      US  New England IPA   \n",
       "3   125646   4.31      Haze       28743    MA      US  New England IPA   \n",
       "4   125646   4.91      Haze       28743    MA      US  New England IPA   \n",
       "\n",
       "  availability  abv                brewery_name  ...        Category  \\\n",
       "0     Rotating  8.2  Tree House Brewing Company  ...  India Pale Ale   \n",
       "1     Rotating  8.2  Tree House Brewing Company  ...  India Pale Ale   \n",
       "2     Rotating  8.2  Tree House Brewing Company  ...  India Pale Ale   \n",
       "3     Rotating  8.2  Tree House Brewing Company  ...  India Pale Ale   \n",
       "4     Rotating  8.2  Tree House Brewing Company  ...  India Pale Ale   \n",
       "\n",
       "  ABV (min) ABV (max)  ABV (avg)  IBU (min)  IBU (max)  IBU (avg)  SRM Range  \\\n",
       "0       6.3       7.5        6.9         50         70       60.0    6 to 15   \n",
       "1       6.3       7.5        6.9         50         70       60.0    6 to 15   \n",
       "2       6.3       7.5        6.9         50         70       60.0    6 to 15   \n",
       "3       6.3       7.5        6.9         50         70       60.0    6 to 15   \n",
       "4       6.3       7.5        6.9         50         70       60.0    6 to 15   \n",
       "\n",
       "   Glassware                                         Description  \n",
       "0  Pint Glass  Emphasizing hop aroma and flavor without braci...  \n",
       "1  Pint Glass  Emphasizing hop aroma and flavor without braci...  \n",
       "2  Pint Glass  Emphasizing hop aroma and flavor without braci...  \n",
       "3  Pint Glass  Emphasizing hop aroma and flavor without braci...  \n",
       "4  Pint Glass  Emphasizing hop aroma and flavor without braci...  \n",
       "\n",
       "[5 rows x 22 columns]"
      ]
     },
     "execution_count": 66,
     "metadata": {},
     "output_type": "execute_result"
    }
   ],
   "source": [
    "df_merge3.head(5)"
   ]
  },
  {
   "cell_type": "markdown",
   "metadata": {},
   "source": [
    "### Recommender App"
   ]
  },
  {
   "cell_type": "code",
   "execution_count": 64,
   "metadata": {},
   "outputs": [
    {
     "data": {
      "text/html": [
       "<div>\n",
       "<style scoped>\n",
       "    .dataframe tbody tr th:only-of-type {\n",
       "        vertical-align: middle;\n",
       "    }\n",
       "\n",
       "    .dataframe tbody tr th {\n",
       "        vertical-align: top;\n",
       "    }\n",
       "\n",
       "    .dataframe thead th {\n",
       "        text-align: right;\n",
       "    }\n",
       "</style>\n",
       "<table border=\"1\" class=\"dataframe\">\n",
       "  <thead>\n",
       "    <tr style=\"text-align: right;\">\n",
       "      <th></th>\n",
       "      <th>beer_id</th>\n",
       "      <th>score</th>\n",
       "      <th>beer_name</th>\n",
       "      <th>brewery_id</th>\n",
       "      <th>state</th>\n",
       "      <th>country</th>\n",
       "      <th>beer_style</th>\n",
       "      <th>availability</th>\n",
       "      <th>abv</th>\n",
       "      <th>brewery_name</th>\n",
       "      <th>...</th>\n",
       "      <th>Category</th>\n",
       "      <th>ABV (min)</th>\n",
       "      <th>ABV (max)</th>\n",
       "      <th>ABV (avg)</th>\n",
       "      <th>IBU (min)</th>\n",
       "      <th>IBU (max)</th>\n",
       "      <th>IBU (avg)</th>\n",
       "      <th>SRM Range</th>\n",
       "      <th>Glassware</th>\n",
       "      <th>Description</th>\n",
       "    </tr>\n",
       "  </thead>\n",
       "  <tbody>\n",
       "    <tr>\n",
       "      <th>1606118</th>\n",
       "      <td>4083</td>\n",
       "      <td>5.0</td>\n",
       "      <td>Ruination IPA</td>\n",
       "      <td>147</td>\n",
       "      <td>CA</td>\n",
       "      <td>US</td>\n",
       "      <td>American Imperial IPA</td>\n",
       "      <td>Year-round</td>\n",
       "      <td>8.2</td>\n",
       "      <td>Stone Brewing</td>\n",
       "      <td>...</td>\n",
       "      <td>India Pale Ale</td>\n",
       "      <td>7.0</td>\n",
       "      <td>12.0</td>\n",
       "      <td>9.5</td>\n",
       "      <td>65</td>\n",
       "      <td>100</td>\n",
       "      <td>82.5</td>\n",
       "      <td>6 to 15</td>\n",
       "      <td>Tulip</td>\n",
       "      <td>We have west coast American brewers to thank f...</td>\n",
       "    </tr>\n",
       "    <tr>\n",
       "      <th>3302523</th>\n",
       "      <td>5488</td>\n",
       "      <td>5.0</td>\n",
       "      <td>Wells Banana Bread Beer</td>\n",
       "      <td>664</td>\n",
       "      <td>GB2</td>\n",
       "      <td>GB</td>\n",
       "      <td>Fruit and Field Beer</td>\n",
       "      <td>Year-round</td>\n",
       "      <td>5.2</td>\n",
       "      <td>Wells &amp; Young's Ltd</td>\n",
       "      <td>...</td>\n",
       "      <td>Specialty Beer</td>\n",
       "      <td>2.5</td>\n",
       "      <td>13.3</td>\n",
       "      <td>7.9</td>\n",
       "      <td>5</td>\n",
       "      <td>45</td>\n",
       "      <td>25.0</td>\n",
       "      <td>3 to 12</td>\n",
       "      <td>Tulip</td>\n",
       "      <td>Fruit beer is made with fruit, or fruit extrac...</td>\n",
       "    </tr>\n",
       "    <tr>\n",
       "      <th>793828</th>\n",
       "      <td>88407</td>\n",
       "      <td>5.0</td>\n",
       "      <td>Baudoinia</td>\n",
       "      <td>1146</td>\n",
       "      <td>IL</td>\n",
       "      <td>US</td>\n",
       "      <td>American Imperial Stout</td>\n",
       "      <td>Limited (brewed once)</td>\n",
       "      <td>15.0</td>\n",
       "      <td>Goose Island Beer Co.</td>\n",
       "      <td>...</td>\n",
       "      <td>Stout</td>\n",
       "      <td>7.0</td>\n",
       "      <td>12.0</td>\n",
       "      <td>9.5</td>\n",
       "      <td>50</td>\n",
       "      <td>80</td>\n",
       "      <td>65.0</td>\n",
       "      <td>30 to 40</td>\n",
       "      <td>Snifter</td>\n",
       "      <td>The American-style Imperial Stout is the stron...</td>\n",
       "    </tr>\n",
       "    <tr>\n",
       "      <th>793826</th>\n",
       "      <td>88407</td>\n",
       "      <td>5.0</td>\n",
       "      <td>Baudoinia</td>\n",
       "      <td>1146</td>\n",
       "      <td>IL</td>\n",
       "      <td>US</td>\n",
       "      <td>American Imperial Stout</td>\n",
       "      <td>Limited (brewed once)</td>\n",
       "      <td>15.0</td>\n",
       "      <td>Goose Island Beer Co.</td>\n",
       "      <td>...</td>\n",
       "      <td>Stout</td>\n",
       "      <td>7.0</td>\n",
       "      <td>12.0</td>\n",
       "      <td>9.5</td>\n",
       "      <td>50</td>\n",
       "      <td>80</td>\n",
       "      <td>65.0</td>\n",
       "      <td>30 to 40</td>\n",
       "      <td>Snifter</td>\n",
       "      <td>The American-style Imperial Stout is the stron...</td>\n",
       "    </tr>\n",
       "    <tr>\n",
       "      <th>793820</th>\n",
       "      <td>88407</td>\n",
       "      <td>5.0</td>\n",
       "      <td>Baudoinia</td>\n",
       "      <td>1146</td>\n",
       "      <td>IL</td>\n",
       "      <td>US</td>\n",
       "      <td>American Imperial Stout</td>\n",
       "      <td>Limited (brewed once)</td>\n",
       "      <td>15.0</td>\n",
       "      <td>Goose Island Beer Co.</td>\n",
       "      <td>...</td>\n",
       "      <td>Stout</td>\n",
       "      <td>7.0</td>\n",
       "      <td>12.0</td>\n",
       "      <td>9.5</td>\n",
       "      <td>50</td>\n",
       "      <td>80</td>\n",
       "      <td>65.0</td>\n",
       "      <td>30 to 40</td>\n",
       "      <td>Snifter</td>\n",
       "      <td>The American-style Imperial Stout is the stron...</td>\n",
       "    </tr>\n",
       "    <tr>\n",
       "      <th>...</th>\n",
       "      <td>...</td>\n",
       "      <td>...</td>\n",
       "      <td>...</td>\n",
       "      <td>...</td>\n",
       "      <td>...</td>\n",
       "      <td>...</td>\n",
       "      <td>...</td>\n",
       "      <td>...</td>\n",
       "      <td>...</td>\n",
       "      <td>...</td>\n",
       "      <td>...</td>\n",
       "      <td>...</td>\n",
       "      <td>...</td>\n",
       "      <td>...</td>\n",
       "      <td>...</td>\n",
       "      <td>...</td>\n",
       "      <td>...</td>\n",
       "      <td>...</td>\n",
       "      <td>...</td>\n",
       "      <td>...</td>\n",
       "      <td>...</td>\n",
       "    </tr>\n",
       "    <tr>\n",
       "      <th>2382754</th>\n",
       "      <td>72361</td>\n",
       "      <td>4.0</td>\n",
       "      <td>Duchessa</td>\n",
       "      <td>14046</td>\n",
       "      <td>NaN</td>\n",
       "      <td>IT</td>\n",
       "      <td>Belgian Saison</td>\n",
       "      <td>Year-round</td>\n",
       "      <td>5.8</td>\n",
       "      <td>Birra Del Borgo</td>\n",
       "      <td>...</td>\n",
       "      <td>Pale Ale</td>\n",
       "      <td>4.4</td>\n",
       "      <td>8.4</td>\n",
       "      <td>6.4</td>\n",
       "      <td>20</td>\n",
       "      <td>38</td>\n",
       "      <td>29.0</td>\n",
       "      <td>3 to 11</td>\n",
       "      <td>Tulip</td>\n",
       "      <td>Beers in this category are gold to light amber...</td>\n",
       "    </tr>\n",
       "    <tr>\n",
       "      <th>2382753</th>\n",
       "      <td>72361</td>\n",
       "      <td>4.0</td>\n",
       "      <td>Duchessa</td>\n",
       "      <td>14046</td>\n",
       "      <td>NaN</td>\n",
       "      <td>IT</td>\n",
       "      <td>Belgian Saison</td>\n",
       "      <td>Year-round</td>\n",
       "      <td>5.8</td>\n",
       "      <td>Birra Del Borgo</td>\n",
       "      <td>...</td>\n",
       "      <td>Pale Ale</td>\n",
       "      <td>4.4</td>\n",
       "      <td>8.4</td>\n",
       "      <td>6.4</td>\n",
       "      <td>20</td>\n",
       "      <td>38</td>\n",
       "      <td>29.0</td>\n",
       "      <td>3 to 11</td>\n",
       "      <td>Tulip</td>\n",
       "      <td>Beers in this category are gold to light amber...</td>\n",
       "    </tr>\n",
       "    <tr>\n",
       "      <th>2382751</th>\n",
       "      <td>72361</td>\n",
       "      <td>4.0</td>\n",
       "      <td>Duchessa</td>\n",
       "      <td>14046</td>\n",
       "      <td>NaN</td>\n",
       "      <td>IT</td>\n",
       "      <td>Belgian Saison</td>\n",
       "      <td>Year-round</td>\n",
       "      <td>5.8</td>\n",
       "      <td>Birra Del Borgo</td>\n",
       "      <td>...</td>\n",
       "      <td>Pale Ale</td>\n",
       "      <td>4.4</td>\n",
       "      <td>8.4</td>\n",
       "      <td>6.4</td>\n",
       "      <td>20</td>\n",
       "      <td>38</td>\n",
       "      <td>29.0</td>\n",
       "      <td>3 to 11</td>\n",
       "      <td>Tulip</td>\n",
       "      <td>Beers in this category are gold to light amber...</td>\n",
       "    </tr>\n",
       "    <tr>\n",
       "      <th>2382748</th>\n",
       "      <td>72361</td>\n",
       "      <td>4.0</td>\n",
       "      <td>Duchessa</td>\n",
       "      <td>14046</td>\n",
       "      <td>NaN</td>\n",
       "      <td>IT</td>\n",
       "      <td>Belgian Saison</td>\n",
       "      <td>Year-round</td>\n",
       "      <td>5.8</td>\n",
       "      <td>Birra Del Borgo</td>\n",
       "      <td>...</td>\n",
       "      <td>Pale Ale</td>\n",
       "      <td>4.4</td>\n",
       "      <td>8.4</td>\n",
       "      <td>6.4</td>\n",
       "      <td>20</td>\n",
       "      <td>38</td>\n",
       "      <td>29.0</td>\n",
       "      <td>3 to 11</td>\n",
       "      <td>Tulip</td>\n",
       "      <td>Beers in this category are gold to light amber...</td>\n",
       "    </tr>\n",
       "    <tr>\n",
       "      <th>3830012</th>\n",
       "      <td>58111</td>\n",
       "      <td>4.0</td>\n",
       "      <td>Coedo Beniaka</td>\n",
       "      <td>3551</td>\n",
       "      <td>NaN</td>\n",
       "      <td>JP</td>\n",
       "      <td>Japanese Happoshu</td>\n",
       "      <td>Year-round</td>\n",
       "      <td>7.0</td>\n",
       "      <td>Coedo Brewery (Kyodo Shoji Koedo Brewery)</td>\n",
       "      <td>...</td>\n",
       "      <td>Specialty Beer</td>\n",
       "      <td>4.0</td>\n",
       "      <td>7.0</td>\n",
       "      <td>5.5</td>\n",
       "      <td>0</td>\n",
       "      <td>0</td>\n",
       "      <td>0.0</td>\n",
       "      <td>2 to 7</td>\n",
       "      <td>Pilsener Glass</td>\n",
       "      <td>Happoshu is a sparkling low-malt beverage prod...</td>\n",
       "    </tr>\n",
       "  </tbody>\n",
       "</table>\n",
       "<p>3830013 rows × 22 columns</p>\n",
       "</div>"
      ],
      "text/plain": [
       "         beer_id  score                beer_name  brewery_id state country  \\\n",
       "1606118     4083    5.0            Ruination IPA         147    CA      US   \n",
       "3302523     5488    5.0  Wells Banana Bread Beer         664   GB2      GB   \n",
       "793828     88407    5.0                Baudoinia        1146    IL      US   \n",
       "793826     88407    5.0                Baudoinia        1146    IL      US   \n",
       "793820     88407    5.0                Baudoinia        1146    IL      US   \n",
       "...          ...    ...                      ...         ...   ...     ...   \n",
       "2382754    72361    4.0                 Duchessa       14046   NaN      IT   \n",
       "2382753    72361    4.0                 Duchessa       14046   NaN      IT   \n",
       "2382751    72361    4.0                 Duchessa       14046   NaN      IT   \n",
       "2382748    72361    4.0                 Duchessa       14046   NaN      IT   \n",
       "3830012    58111    4.0            Coedo Beniaka        3551   NaN      JP   \n",
       "\n",
       "                      beer_style            availability   abv  \\\n",
       "1606118    American Imperial IPA              Year-round   8.2   \n",
       "3302523     Fruit and Field Beer              Year-round   5.2   \n",
       "793828   American Imperial Stout   Limited (brewed once)  15.0   \n",
       "793826   American Imperial Stout   Limited (brewed once)  15.0   \n",
       "793820   American Imperial Stout   Limited (brewed once)  15.0   \n",
       "...                          ...                     ...   ...   \n",
       "2382754           Belgian Saison              Year-round   5.8   \n",
       "2382753           Belgian Saison              Year-round   5.8   \n",
       "2382751           Belgian Saison              Year-round   5.8   \n",
       "2382748           Belgian Saison              Year-round   5.8   \n",
       "3830012        Japanese Happoshu              Year-round   7.0   \n",
       "\n",
       "                                      brewery_name  ...        Category  \\\n",
       "1606118                              Stone Brewing  ...  India Pale Ale   \n",
       "3302523                        Wells & Young's Ltd  ...  Specialty Beer   \n",
       "793828                       Goose Island Beer Co.  ...           Stout   \n",
       "793826                       Goose Island Beer Co.  ...           Stout   \n",
       "793820                       Goose Island Beer Co.  ...           Stout   \n",
       "...                                            ...  ...             ...   \n",
       "2382754                            Birra Del Borgo  ...        Pale Ale   \n",
       "2382753                            Birra Del Borgo  ...        Pale Ale   \n",
       "2382751                            Birra Del Borgo  ...        Pale Ale   \n",
       "2382748                            Birra Del Borgo  ...        Pale Ale   \n",
       "3830012  Coedo Brewery (Kyodo Shoji Koedo Brewery)  ...  Specialty Beer   \n",
       "\n",
       "        ABV (min) ABV (max)  ABV (avg)  IBU (min)  IBU (max)  IBU (avg)  \\\n",
       "1606118       7.0      12.0        9.5         65        100       82.5   \n",
       "3302523       2.5      13.3        7.9          5         45       25.0   \n",
       "793828        7.0      12.0        9.5         50         80       65.0   \n",
       "793826        7.0      12.0        9.5         50         80       65.0   \n",
       "793820        7.0      12.0        9.5         50         80       65.0   \n",
       "...           ...       ...        ...        ...        ...        ...   \n",
       "2382754       4.4       8.4        6.4         20         38       29.0   \n",
       "2382753       4.4       8.4        6.4         20         38       29.0   \n",
       "2382751       4.4       8.4        6.4         20         38       29.0   \n",
       "2382748       4.4       8.4        6.4         20         38       29.0   \n",
       "3830012       4.0       7.0        5.5          0          0        0.0   \n",
       "\n",
       "         SRM Range      Glassware   \\\n",
       "1606118    6 to 15           Tulip   \n",
       "3302523    3 to 12           Tulip   \n",
       "793828    30 to 40         Snifter   \n",
       "793826    30 to 40         Snifter   \n",
       "793820    30 to 40         Snifter   \n",
       "...            ...             ...   \n",
       "2382754    3 to 11           Tulip   \n",
       "2382753    3 to 11           Tulip   \n",
       "2382751    3 to 11           Tulip   \n",
       "2382748    3 to 11           Tulip   \n",
       "3830012     2 to 7  Pilsener Glass   \n",
       "\n",
       "                                               Description  \n",
       "1606118  We have west coast American brewers to thank f...  \n",
       "3302523  Fruit beer is made with fruit, or fruit extrac...  \n",
       "793828   The American-style Imperial Stout is the stron...  \n",
       "793826   The American-style Imperial Stout is the stron...  \n",
       "793820   The American-style Imperial Stout is the stron...  \n",
       "...                                                    ...  \n",
       "2382754  Beers in this category are gold to light amber...  \n",
       "2382753  Beers in this category are gold to light amber...  \n",
       "2382751  Beers in this category are gold to light amber...  \n",
       "2382748  Beers in this category are gold to light amber...  \n",
       "3830012  Happoshu is a sparkling low-malt beverage prod...  \n",
       "\n",
       "[3830013 rows x 22 columns]"
      ]
     },
     "execution_count": 64,
     "metadata": {},
     "output_type": "execute_result"
    }
   ],
   "source": [
    "df_merge3.sort_values(by=[\"score\"], ascending=False)"
   ]
  },
  {
   "cell_type": "code",
   "execution_count": 65,
   "metadata": {},
   "outputs": [
    {
     "data": {
      "text/plain": [
       "American IPA               524175\n",
       "American Imperial IPA      519752\n",
       "American Imperial Stout    442952\n",
       "American Wild Ale          196061\n",
       "Russian Imperial Stout     195276\n",
       "                            ...  \n",
       "English Pale Mild Ale         173\n",
       "Russian Kvass                 121\n",
       "American Brut IPA              51\n",
       "Low Alcohol Beer               35\n",
       "Japanese Happoshu              12\n",
       "Name: beer_style, Length: 94, dtype: int64"
      ]
     },
     "execution_count": 65,
     "metadata": {},
     "output_type": "execute_result"
    }
   ],
   "source": [
    "df_merge3[\"beer_style\"].value_counts()"
   ]
  },
  {
   "cell_type": "code",
   "execution_count": null,
   "metadata": {},
   "outputs": [],
   "source": []
  }
 ],
 "metadata": {
  "kernelspec": {
   "display_name": "Ale-Kernel",
   "language": "python",
   "name": "python3"
  },
  "language_info": {
   "codemirror_mode": {
    "name": "ipython",
    "version": 3
   },
   "file_extension": ".py",
   "mimetype": "text/x-python",
   "name": "python",
   "nbconvert_exporter": "python",
   "pygments_lexer": "ipython3",
   "version": "3.8.0"
  }
 },
 "nbformat": 4,
 "nbformat_minor": 4
}
