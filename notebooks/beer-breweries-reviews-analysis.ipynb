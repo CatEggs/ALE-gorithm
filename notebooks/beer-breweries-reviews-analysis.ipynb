{
 "cells": [
  {
   "cell_type": "markdown",
   "metadata": {},
   "source": [
    "## Beer Analysis\n",
    "---\n",
    "\n",
    "Notebook to get insights from the dataset for beers, breweries and reviews.\n",
    "\n",
    "The dataset came in 3 different CSV files: beers.csv, breweries.csv and reviews.csv that has around 9 Million reviews!\n",
    "\n",
    "#### Data Source: [Kaggle](https://www.kaggle.com/ehallmar/beers-breweries-and-beer-reviews#reviews.csv)\n",
    "\n",
    "The data comes from [BeerAdvocate](https://www.beeradvocate.com)"
   ]
  },
  {
   "cell_type": "code",
   "execution_count": 1,
   "metadata": {},
   "outputs": [],
   "source": [
    "# Dependencies and packages\n",
    "%reload_ext lab_black\n",
    "\n",
    "import os\n",
    "import pandas as pd\n",
    "import numpy as np\n",
    "import math as math\n",
    "import datetime as dt\n",
    "import plotly\n",
    "import plotly.express as px"
   ]
  },
  {
   "cell_type": "code",
   "execution_count": 2,
   "metadata": {},
   "outputs": [
    {
     "data": {
      "text/html": [
       "<div>\n",
       "<style scoped>\n",
       "    .dataframe tbody tr th:only-of-type {\n",
       "        vertical-align: middle;\n",
       "    }\n",
       "\n",
       "    .dataframe tbody tr th {\n",
       "        vertical-align: top;\n",
       "    }\n",
       "\n",
       "    .dataframe thead th {\n",
       "        text-align: right;\n",
       "    }\n",
       "</style>\n",
       "<table border=\"1\" class=\"dataframe\">\n",
       "  <thead>\n",
       "    <tr style=\"text-align: right;\">\n",
       "      <th></th>\n",
       "      <th>id</th>\n",
       "      <th>name</th>\n",
       "      <th>brewery_id</th>\n",
       "      <th>state</th>\n",
       "      <th>country</th>\n",
       "      <th>style</th>\n",
       "      <th>availability</th>\n",
       "      <th>abv</th>\n",
       "      <th>notes</th>\n",
       "      <th>retired</th>\n",
       "    </tr>\n",
       "  </thead>\n",
       "  <tbody>\n",
       "    <tr>\n",
       "      <th>0</th>\n",
       "      <td>202522</td>\n",
       "      <td>Olde Cogitator</td>\n",
       "      <td>2199</td>\n",
       "      <td>CA</td>\n",
       "      <td>US</td>\n",
       "      <td>English Oatmeal Stout</td>\n",
       "      <td>Rotating</td>\n",
       "      <td>7.3</td>\n",
       "      <td>No notes at this time.</td>\n",
       "      <td>f</td>\n",
       "    </tr>\n",
       "    <tr>\n",
       "      <th>1</th>\n",
       "      <td>82352</td>\n",
       "      <td>Konrads Stout Russian Imperial Stout</td>\n",
       "      <td>18604</td>\n",
       "      <td>NaN</td>\n",
       "      <td>NO</td>\n",
       "      <td>Russian Imperial Stout</td>\n",
       "      <td>Rotating</td>\n",
       "      <td>10.4</td>\n",
       "      <td>No notes at this time.</td>\n",
       "      <td>f</td>\n",
       "    </tr>\n",
       "    <tr>\n",
       "      <th>2</th>\n",
       "      <td>214879</td>\n",
       "      <td>Scottish Right</td>\n",
       "      <td>44306</td>\n",
       "      <td>IN</td>\n",
       "      <td>US</td>\n",
       "      <td>Scottish Ale</td>\n",
       "      <td>Year-round</td>\n",
       "      <td>4.0</td>\n",
       "      <td>No notes at this time.</td>\n",
       "      <td>t</td>\n",
       "    </tr>\n",
       "    <tr>\n",
       "      <th>3</th>\n",
       "      <td>320009</td>\n",
       "      <td>MegaMeow Imperial Stout</td>\n",
       "      <td>4378</td>\n",
       "      <td>WA</td>\n",
       "      <td>US</td>\n",
       "      <td>American Imperial Stout</td>\n",
       "      <td>Winter</td>\n",
       "      <td>8.7</td>\n",
       "      <td>Every time this year</td>\n",
       "      <td>f</td>\n",
       "    </tr>\n",
       "    <tr>\n",
       "      <th>4</th>\n",
       "      <td>246438</td>\n",
       "      <td>Peaches-N-Cream</td>\n",
       "      <td>44617</td>\n",
       "      <td>PA</td>\n",
       "      <td>US</td>\n",
       "      <td>American Cream Ale</td>\n",
       "      <td>Rotating</td>\n",
       "      <td>5.1</td>\n",
       "      <td>No notes at this time.</td>\n",
       "      <td>f</td>\n",
       "    </tr>\n",
       "  </tbody>\n",
       "</table>\n",
       "</div>"
      ],
      "text/plain": [
       "       id                                  name  brewery_id state country  \\\n",
       "0  202522                        Olde Cogitator        2199    CA      US   \n",
       "1   82352  Konrads Stout Russian Imperial Stout       18604   NaN      NO   \n",
       "2  214879                        Scottish Right       44306    IN      US   \n",
       "3  320009               MegaMeow Imperial Stout        4378    WA      US   \n",
       "4  246438                       Peaches-N-Cream       44617    PA      US   \n",
       "\n",
       "                     style availability   abv                   notes retired  \n",
       "0    English Oatmeal Stout     Rotating   7.3  No notes at this time.       f  \n",
       "1   Russian Imperial Stout     Rotating  10.4  No notes at this time.       f  \n",
       "2             Scottish Ale   Year-round   4.0  No notes at this time.       t  \n",
       "3  American Imperial Stout       Winter   8.7    Every time this year       f  \n",
       "4       American Cream Ale     Rotating   5.1  No notes at this time.       f  "
      ]
     },
     "execution_count": 2,
     "metadata": {},
     "output_type": "execute_result"
    }
   ],
   "source": [
    "csv_path = os.path.join(\"../data/csv/beers.csv\")\n",
    "df_beers = pd.read_csv(csv_path)\n",
    "\n",
    "df_beers.head()"
   ]
  },
  {
   "cell_type": "code",
   "execution_count": 3,
   "metadata": {},
   "outputs": [
    {
     "data": {
      "text/html": [
       "<div>\n",
       "<style scoped>\n",
       "    .dataframe tbody tr th:only-of-type {\n",
       "        vertical-align: middle;\n",
       "    }\n",
       "\n",
       "    .dataframe tbody tr th {\n",
       "        vertical-align: top;\n",
       "    }\n",
       "\n",
       "    .dataframe thead th {\n",
       "        text-align: right;\n",
       "    }\n",
       "</style>\n",
       "<table border=\"1\" class=\"dataframe\">\n",
       "  <thead>\n",
       "    <tr style=\"text-align: right;\">\n",
       "      <th></th>\n",
       "      <th>id</th>\n",
       "      <th>name</th>\n",
       "      <th>brewery_id</th>\n",
       "      <th>state</th>\n",
       "      <th>country</th>\n",
       "      <th>style</th>\n",
       "      <th>availability</th>\n",
       "      <th>abv</th>\n",
       "      <th>retired</th>\n",
       "    </tr>\n",
       "  </thead>\n",
       "  <tbody>\n",
       "    <tr>\n",
       "      <th>0</th>\n",
       "      <td>202522</td>\n",
       "      <td>Olde Cogitator</td>\n",
       "      <td>2199</td>\n",
       "      <td>CA</td>\n",
       "      <td>US</td>\n",
       "      <td>English Oatmeal Stout</td>\n",
       "      <td>Rotating</td>\n",
       "      <td>7.3</td>\n",
       "      <td>f</td>\n",
       "    </tr>\n",
       "    <tr>\n",
       "      <th>1</th>\n",
       "      <td>82352</td>\n",
       "      <td>Konrads Stout Russian Imperial Stout</td>\n",
       "      <td>18604</td>\n",
       "      <td>NaN</td>\n",
       "      <td>NO</td>\n",
       "      <td>Russian Imperial Stout</td>\n",
       "      <td>Rotating</td>\n",
       "      <td>10.4</td>\n",
       "      <td>f</td>\n",
       "    </tr>\n",
       "    <tr>\n",
       "      <th>2</th>\n",
       "      <td>214879</td>\n",
       "      <td>Scottish Right</td>\n",
       "      <td>44306</td>\n",
       "      <td>IN</td>\n",
       "      <td>US</td>\n",
       "      <td>Scottish Ale</td>\n",
       "      <td>Year-round</td>\n",
       "      <td>4.0</td>\n",
       "      <td>t</td>\n",
       "    </tr>\n",
       "    <tr>\n",
       "      <th>3</th>\n",
       "      <td>320009</td>\n",
       "      <td>MegaMeow Imperial Stout</td>\n",
       "      <td>4378</td>\n",
       "      <td>WA</td>\n",
       "      <td>US</td>\n",
       "      <td>American Imperial Stout</td>\n",
       "      <td>Winter</td>\n",
       "      <td>8.7</td>\n",
       "      <td>f</td>\n",
       "    </tr>\n",
       "    <tr>\n",
       "      <th>4</th>\n",
       "      <td>246438</td>\n",
       "      <td>Peaches-N-Cream</td>\n",
       "      <td>44617</td>\n",
       "      <td>PA</td>\n",
       "      <td>US</td>\n",
       "      <td>American Cream Ale</td>\n",
       "      <td>Rotating</td>\n",
       "      <td>5.1</td>\n",
       "      <td>f</td>\n",
       "    </tr>\n",
       "  </tbody>\n",
       "</table>\n",
       "</div>"
      ],
      "text/plain": [
       "       id                                  name  brewery_id state country  \\\n",
       "0  202522                        Olde Cogitator        2199    CA      US   \n",
       "1   82352  Konrads Stout Russian Imperial Stout       18604   NaN      NO   \n",
       "2  214879                        Scottish Right       44306    IN      US   \n",
       "3  320009               MegaMeow Imperial Stout        4378    WA      US   \n",
       "4  246438                       Peaches-N-Cream       44617    PA      US   \n",
       "\n",
       "                     style availability   abv retired  \n",
       "0    English Oatmeal Stout     Rotating   7.3       f  \n",
       "1   Russian Imperial Stout     Rotating  10.4       f  \n",
       "2             Scottish Ale   Year-round   4.0       t  \n",
       "3  American Imperial Stout       Winter   8.7       f  \n",
       "4       American Cream Ale     Rotating   5.1       f  "
      ]
     },
     "execution_count": 3,
     "metadata": {},
     "output_type": "execute_result"
    }
   ],
   "source": [
    "df_beers = df_beers.drop([\"notes\"], axis=1)\n",
    "df_beers.head()"
   ]
  },
  {
   "cell_type": "code",
   "execution_count": 4,
   "metadata": {},
   "outputs": [
    {
     "data": {
      "text/html": [
       "<div>\n",
       "<style scoped>\n",
       "    .dataframe tbody tr th:only-of-type {\n",
       "        vertical-align: middle;\n",
       "    }\n",
       "\n",
       "    .dataframe tbody tr th {\n",
       "        vertical-align: top;\n",
       "    }\n",
       "\n",
       "    .dataframe thead th {\n",
       "        text-align: right;\n",
       "    }\n",
       "</style>\n",
       "<table border=\"1\" class=\"dataframe\">\n",
       "  <thead>\n",
       "    <tr style=\"text-align: right;\">\n",
       "      <th></th>\n",
       "      <th>id</th>\n",
       "      <th>name</th>\n",
       "      <th>city</th>\n",
       "      <th>state</th>\n",
       "      <th>country</th>\n",
       "      <th>notes</th>\n",
       "      <th>types</th>\n",
       "    </tr>\n",
       "  </thead>\n",
       "  <tbody>\n",
       "    <tr>\n",
       "      <th>0</th>\n",
       "      <td>19730</td>\n",
       "      <td>Brouwerij Danny</td>\n",
       "      <td>Erpe-Mere</td>\n",
       "      <td>NaN</td>\n",
       "      <td>BE</td>\n",
       "      <td>No notes at this time.</td>\n",
       "      <td>Brewery</td>\n",
       "    </tr>\n",
       "    <tr>\n",
       "      <th>1</th>\n",
       "      <td>32541</td>\n",
       "      <td>Coachella Valley Brewing Co</td>\n",
       "      <td>Thousand Palms</td>\n",
       "      <td>CA</td>\n",
       "      <td>US</td>\n",
       "      <td>No notes at this time.</td>\n",
       "      <td>Brewery, Bar, Beer-to-go</td>\n",
       "    </tr>\n",
       "    <tr>\n",
       "      <th>2</th>\n",
       "      <td>44736</td>\n",
       "      <td>Beef 'O' Brady's</td>\n",
       "      <td>Plant City</td>\n",
       "      <td>FL</td>\n",
       "      <td>US</td>\n",
       "      <td>No notes at this time.</td>\n",
       "      <td>Bar, Eatery</td>\n",
       "    </tr>\n",
       "    <tr>\n",
       "      <th>3</th>\n",
       "      <td>23372</td>\n",
       "      <td>Broadway Wine Merchant</td>\n",
       "      <td>Oklahoma City</td>\n",
       "      <td>OK</td>\n",
       "      <td>US</td>\n",
       "      <td>No notes at this time.</td>\n",
       "      <td>Store</td>\n",
       "    </tr>\n",
       "    <tr>\n",
       "      <th>4</th>\n",
       "      <td>35328</td>\n",
       "      <td>Brighton Beer Dispensary (DUPLICATE)</td>\n",
       "      <td>Brighton</td>\n",
       "      <td>GB2</td>\n",
       "      <td>GB</td>\n",
       "      <td>Duplicate of https://www.beeradvocate.com/beer...</td>\n",
       "      <td>Bar, Eatery</td>\n",
       "    </tr>\n",
       "  </tbody>\n",
       "</table>\n",
       "</div>"
      ],
      "text/plain": [
       "      id                                  name            city state country  \\\n",
       "0  19730                       Brouwerij Danny       Erpe-Mere   NaN      BE   \n",
       "1  32541           Coachella Valley Brewing Co  Thousand Palms    CA      US   \n",
       "2  44736                      Beef 'O' Brady's      Plant City    FL      US   \n",
       "3  23372                Broadway Wine Merchant   Oklahoma City    OK      US   \n",
       "4  35328  Brighton Beer Dispensary (DUPLICATE)        Brighton   GB2      GB   \n",
       "\n",
       "                                               notes                     types  \n",
       "0                             No notes at this time.                   Brewery  \n",
       "1                             No notes at this time.  Brewery, Bar, Beer-to-go  \n",
       "2                             No notes at this time.               Bar, Eatery  \n",
       "3                             No notes at this time.                     Store  \n",
       "4  Duplicate of https://www.beeradvocate.com/beer...               Bar, Eatery  "
      ]
     },
     "execution_count": 4,
     "metadata": {},
     "output_type": "execute_result"
    }
   ],
   "source": [
    "csv_path2 = os.path.join(\"../data/csv/breweries.csv\")\n",
    "df_breweries = pd.read_csv(csv_path2)\n",
    "\n",
    "df_breweries.head()"
   ]
  },
  {
   "cell_type": "code",
   "execution_count": 5,
   "metadata": {},
   "outputs": [
    {
     "data": {
      "text/html": [
       "<div>\n",
       "<style scoped>\n",
       "    .dataframe tbody tr th:only-of-type {\n",
       "        vertical-align: middle;\n",
       "    }\n",
       "\n",
       "    .dataframe tbody tr th {\n",
       "        vertical-align: top;\n",
       "    }\n",
       "\n",
       "    .dataframe thead th {\n",
       "        text-align: right;\n",
       "    }\n",
       "</style>\n",
       "<table border=\"1\" class=\"dataframe\">\n",
       "  <thead>\n",
       "    <tr style=\"text-align: right;\">\n",
       "      <th></th>\n",
       "      <th>id</th>\n",
       "      <th>name</th>\n",
       "      <th>city</th>\n",
       "      <th>state</th>\n",
       "      <th>country</th>\n",
       "      <th>types</th>\n",
       "    </tr>\n",
       "  </thead>\n",
       "  <tbody>\n",
       "    <tr>\n",
       "      <th>0</th>\n",
       "      <td>19730</td>\n",
       "      <td>Brouwerij Danny</td>\n",
       "      <td>Erpe-Mere</td>\n",
       "      <td>NaN</td>\n",
       "      <td>BE</td>\n",
       "      <td>Brewery</td>\n",
       "    </tr>\n",
       "    <tr>\n",
       "      <th>1</th>\n",
       "      <td>32541</td>\n",
       "      <td>Coachella Valley Brewing Co</td>\n",
       "      <td>Thousand Palms</td>\n",
       "      <td>CA</td>\n",
       "      <td>US</td>\n",
       "      <td>Brewery, Bar, Beer-to-go</td>\n",
       "    </tr>\n",
       "    <tr>\n",
       "      <th>2</th>\n",
       "      <td>44736</td>\n",
       "      <td>Beef 'O' Brady's</td>\n",
       "      <td>Plant City</td>\n",
       "      <td>FL</td>\n",
       "      <td>US</td>\n",
       "      <td>Bar, Eatery</td>\n",
       "    </tr>\n",
       "    <tr>\n",
       "      <th>3</th>\n",
       "      <td>23372</td>\n",
       "      <td>Broadway Wine Merchant</td>\n",
       "      <td>Oklahoma City</td>\n",
       "      <td>OK</td>\n",
       "      <td>US</td>\n",
       "      <td>Store</td>\n",
       "    </tr>\n",
       "    <tr>\n",
       "      <th>4</th>\n",
       "      <td>35328</td>\n",
       "      <td>Brighton Beer Dispensary (DUPLICATE)</td>\n",
       "      <td>Brighton</td>\n",
       "      <td>GB2</td>\n",
       "      <td>GB</td>\n",
       "      <td>Bar, Eatery</td>\n",
       "    </tr>\n",
       "  </tbody>\n",
       "</table>\n",
       "</div>"
      ],
      "text/plain": [
       "      id                                  name            city state country  \\\n",
       "0  19730                       Brouwerij Danny       Erpe-Mere   NaN      BE   \n",
       "1  32541           Coachella Valley Brewing Co  Thousand Palms    CA      US   \n",
       "2  44736                      Beef 'O' Brady's      Plant City    FL      US   \n",
       "3  23372                Broadway Wine Merchant   Oklahoma City    OK      US   \n",
       "4  35328  Brighton Beer Dispensary (DUPLICATE)        Brighton   GB2      GB   \n",
       "\n",
       "                      types  \n",
       "0                   Brewery  \n",
       "1  Brewery, Bar, Beer-to-go  \n",
       "2               Bar, Eatery  \n",
       "3                     Store  \n",
       "4               Bar, Eatery  "
      ]
     },
     "execution_count": 5,
     "metadata": {},
     "output_type": "execute_result"
    }
   ],
   "source": [
    "df_breweries = df_breweries.drop([\"notes\"], axis=1)\n",
    "df_breweries.head()"
   ]
  },
  {
   "cell_type": "code",
   "execution_count": 6,
   "metadata": {},
   "outputs": [],
   "source": [
    "csv_path3 = os.path.join(\"../data/csv/reviews.csv\")\n",
    "df_reviews = pd.read_csv(csv_path3)"
   ]
  },
  {
   "cell_type": "code",
   "execution_count": 7,
   "metadata": {},
   "outputs": [
    {
     "data": {
      "text/html": [
       "<div>\n",
       "<style scoped>\n",
       "    .dataframe tbody tr th:only-of-type {\n",
       "        vertical-align: middle;\n",
       "    }\n",
       "\n",
       "    .dataframe tbody tr th {\n",
       "        vertical-align: top;\n",
       "    }\n",
       "\n",
       "    .dataframe thead th {\n",
       "        text-align: right;\n",
       "    }\n",
       "</style>\n",
       "<table border=\"1\" class=\"dataframe\">\n",
       "  <thead>\n",
       "    <tr style=\"text-align: right;\">\n",
       "      <th></th>\n",
       "      <th>beer_id</th>\n",
       "      <th>username</th>\n",
       "      <th>date</th>\n",
       "      <th>text</th>\n",
       "      <th>look</th>\n",
       "      <th>smell</th>\n",
       "      <th>taste</th>\n",
       "      <th>feel</th>\n",
       "      <th>overall</th>\n",
       "      <th>score</th>\n",
       "    </tr>\n",
       "  </thead>\n",
       "  <tbody>\n",
       "    <tr>\n",
       "      <th>0</th>\n",
       "      <td>271781</td>\n",
       "      <td>bluejacket74</td>\n",
       "      <td>2017-03-17</td>\n",
       "      <td>750 ml bottle, 2016 vintage, bottle #304 of...</td>\n",
       "      <td>4.00</td>\n",
       "      <td>4.00</td>\n",
       "      <td>4.00</td>\n",
       "      <td>4.25</td>\n",
       "      <td>4.00</td>\n",
       "      <td>4.03</td>\n",
       "    </tr>\n",
       "    <tr>\n",
       "      <th>1</th>\n",
       "      <td>125646</td>\n",
       "      <td>_dirty_</td>\n",
       "      <td>2017-12-21</td>\n",
       "      <td></td>\n",
       "      <td>4.50</td>\n",
       "      <td>4.50</td>\n",
       "      <td>4.50</td>\n",
       "      <td>4.50</td>\n",
       "      <td>4.50</td>\n",
       "      <td>4.50</td>\n",
       "    </tr>\n",
       "    <tr>\n",
       "      <th>2</th>\n",
       "      <td>125646</td>\n",
       "      <td>CJDUBYA</td>\n",
       "      <td>2017-12-21</td>\n",
       "      <td></td>\n",
       "      <td>4.75</td>\n",
       "      <td>4.75</td>\n",
       "      <td>4.75</td>\n",
       "      <td>4.75</td>\n",
       "      <td>4.75</td>\n",
       "      <td>4.75</td>\n",
       "    </tr>\n",
       "    <tr>\n",
       "      <th>3</th>\n",
       "      <td>125646</td>\n",
       "      <td>GratefulBeerGuy</td>\n",
       "      <td>2017-12-20</td>\n",
       "      <td>0% 16 oz can. Funny story: As I finally wal...</td>\n",
       "      <td>4.75</td>\n",
       "      <td>4.75</td>\n",
       "      <td>4.50</td>\n",
       "      <td>4.50</td>\n",
       "      <td>4.50</td>\n",
       "      <td>4.58</td>\n",
       "    </tr>\n",
       "    <tr>\n",
       "      <th>4</th>\n",
       "      <td>125646</td>\n",
       "      <td>LukeGude</td>\n",
       "      <td>2017-12-20</td>\n",
       "      <td>Classic TH NEIPA. Overflowing head and bouq...</td>\n",
       "      <td>4.25</td>\n",
       "      <td>4.50</td>\n",
       "      <td>4.25</td>\n",
       "      <td>4.25</td>\n",
       "      <td>4.25</td>\n",
       "      <td>4.31</td>\n",
       "    </tr>\n",
       "  </tbody>\n",
       "</table>\n",
       "</div>"
      ],
      "text/plain": [
       "   beer_id         username        date  \\\n",
       "0   271781     bluejacket74  2017-03-17   \n",
       "1   125646          _dirty_  2017-12-21   \n",
       "2   125646          CJDUBYA  2017-12-21   \n",
       "3   125646  GratefulBeerGuy  2017-12-20   \n",
       "4   125646         LukeGude  2017-12-20   \n",
       "\n",
       "                                                text  look  smell  taste  \\\n",
       "0     750 ml bottle, 2016 vintage, bottle #304 of...  4.00   4.00   4.00   \n",
       "1                                                     4.50   4.50   4.50   \n",
       "2                                                     4.75   4.75   4.75   \n",
       "3     0% 16 oz can. Funny story: As I finally wal...  4.75   4.75   4.50   \n",
       "4     Classic TH NEIPA. Overflowing head and bouq...  4.25   4.50   4.25   \n",
       "\n",
       "   feel  overall  score  \n",
       "0  4.25     4.00   4.03  \n",
       "1  4.50     4.50   4.50  \n",
       "2  4.75     4.75   4.75  \n",
       "3  4.50     4.50   4.58  \n",
       "4  4.25     4.25   4.31  "
      ]
     },
     "execution_count": 7,
     "metadata": {},
     "output_type": "execute_result"
    }
   ],
   "source": [
    "df_reviews.head()"
   ]
  },
  {
   "cell_type": "code",
   "execution_count": 8,
   "metadata": {},
   "outputs": [
    {
     "name": "stdout",
     "output_type": "stream",
     "text": [
      "(358873, 9)\n",
      "(50347, 6)\n",
      "(9073128, 10)\n"
     ]
    }
   ],
   "source": [
    "print(df_beers.shape)\n",
    "print(df_breweries.shape)\n",
    "print(df_reviews.shape)"
   ]
  },
  {
   "cell_type": "code",
   "execution_count": 9,
   "metadata": {},
   "outputs": [
    {
     "data": {
      "text/plain": [
       "11757     17160\n",
       "2093      15947\n",
       "7971      14927\n",
       "1093      14915\n",
       "29619     14292\n",
       "          ...  \n",
       "203777        1\n",
       "126326        1\n",
       "109950        1\n",
       "282050        1\n",
       "8188          1\n",
       "Name: beer_id, Length: 309542, dtype: int64"
      ]
     },
     "execution_count": 9,
     "metadata": {},
     "output_type": "execute_result"
    }
   ],
   "source": [
    "# Find the number of unique beers in reviews.csv\n",
    "df_reviews[\"beer_id\"].value_counts()"
   ]
  },
  {
   "cell_type": "code",
   "execution_count": 10,
   "metadata": {},
   "outputs": [
    {
     "data": {
      "text/plain": [
       "Sammy            13798\n",
       "kylehay2004      12221\n",
       "acurtis          12016\n",
       "StonedTrippin    11859\n",
       "jaydoc           11800\n",
       "                 ...  \n",
       "AZ1974               1\n",
       "ccevallos            1\n",
       "SaintG               1\n",
       "TroyAABT             1\n",
       "Myyyyyke             1\n",
       "Name: username, Length: 164934, dtype: int64"
      ]
     },
     "execution_count": 10,
     "metadata": {},
     "output_type": "execute_result"
    }
   ],
   "source": [
    "# Find unique users who reviewed\n",
    "df_reviews[\"username\"].value_counts()"
   ]
  },
  {
   "cell_type": "code",
   "execution_count": 11,
   "metadata": {},
   "outputs": [
    {
     "data": {
      "text/html": [
       "<div>\n",
       "<style scoped>\n",
       "    .dataframe tbody tr th:only-of-type {\n",
       "        vertical-align: middle;\n",
       "    }\n",
       "\n",
       "    .dataframe tbody tr th {\n",
       "        vertical-align: top;\n",
       "    }\n",
       "\n",
       "    .dataframe thead th {\n",
       "        text-align: right;\n",
       "    }\n",
       "</style>\n",
       "<table border=\"1\" class=\"dataframe\">\n",
       "  <thead>\n",
       "    <tr style=\"text-align: right;\">\n",
       "      <th></th>\n",
       "      <th>id</th>\n",
       "      <th>name</th>\n",
       "      <th>brewery_id</th>\n",
       "      <th>state</th>\n",
       "      <th>country</th>\n",
       "      <th>style</th>\n",
       "      <th>availability</th>\n",
       "      <th>abv</th>\n",
       "      <th>retired</th>\n",
       "    </tr>\n",
       "  </thead>\n",
       "  <tbody>\n",
       "    <tr>\n",
       "      <th>False</th>\n",
       "      <td>358873.0</td>\n",
       "      <td>358873.0</td>\n",
       "      <td>358873.0</td>\n",
       "      <td>298147</td>\n",
       "      <td>358719</td>\n",
       "      <td>358872</td>\n",
       "      <td>358873.0</td>\n",
       "      <td>320076</td>\n",
       "      <td>358873.0</td>\n",
       "    </tr>\n",
       "    <tr>\n",
       "      <th>True</th>\n",
       "      <td>NaN</td>\n",
       "      <td>NaN</td>\n",
       "      <td>NaN</td>\n",
       "      <td>60726</td>\n",
       "      <td>154</td>\n",
       "      <td>1</td>\n",
       "      <td>NaN</td>\n",
       "      <td>38797</td>\n",
       "      <td>NaN</td>\n",
       "    </tr>\n",
       "  </tbody>\n",
       "</table>\n",
       "</div>"
      ],
      "text/plain": [
       "             id      name  brewery_id   state  country   style  availability  \\\n",
       "False  358873.0  358873.0    358873.0  298147   358719  358872      358873.0   \n",
       "True        NaN       NaN         NaN   60726      154       1           NaN   \n",
       "\n",
       "          abv   retired  \n",
       "False  320076  358873.0  \n",
       "True    38797       NaN  "
      ]
     },
     "execution_count": 11,
     "metadata": {},
     "output_type": "execute_result"
    }
   ],
   "source": [
    "# Find unique value counts for every column in beers.csv\n",
    "df_beers.apply(lambda x: x.isnull().value_counts())"
   ]
  },
  {
   "cell_type": "code",
   "execution_count": 12,
   "metadata": {},
   "outputs": [
    {
     "data": {
      "text/html": [
       "<div>\n",
       "<style scoped>\n",
       "    .dataframe tbody tr th:only-of-type {\n",
       "        vertical-align: middle;\n",
       "    }\n",
       "\n",
       "    .dataframe tbody tr th {\n",
       "        vertical-align: top;\n",
       "    }\n",
       "\n",
       "    .dataframe thead th {\n",
       "        text-align: right;\n",
       "    }\n",
       "</style>\n",
       "<table border=\"1\" class=\"dataframe\">\n",
       "  <thead>\n",
       "    <tr style=\"text-align: right;\">\n",
       "      <th></th>\n",
       "      <th>id</th>\n",
       "      <th>name</th>\n",
       "      <th>city</th>\n",
       "      <th>state</th>\n",
       "      <th>country</th>\n",
       "      <th>types</th>\n",
       "    </tr>\n",
       "  </thead>\n",
       "  <tbody>\n",
       "    <tr>\n",
       "      <th>False</th>\n",
       "      <td>50347.0</td>\n",
       "      <td>50347.0</td>\n",
       "      <td>50289</td>\n",
       "      <td>39076</td>\n",
       "      <td>50341</td>\n",
       "      <td>50347.0</td>\n",
       "    </tr>\n",
       "    <tr>\n",
       "      <th>True</th>\n",
       "      <td>NaN</td>\n",
       "      <td>NaN</td>\n",
       "      <td>58</td>\n",
       "      <td>11271</td>\n",
       "      <td>6</td>\n",
       "      <td>NaN</td>\n",
       "    </tr>\n",
       "  </tbody>\n",
       "</table>\n",
       "</div>"
      ],
      "text/plain": [
       "            id     name   city  state  country    types\n",
       "False  50347.0  50347.0  50289  39076    50341  50347.0\n",
       "True       NaN      NaN     58  11271        6      NaN"
      ]
     },
     "execution_count": 12,
     "metadata": {},
     "output_type": "execute_result"
    }
   ],
   "source": [
    "# Find value counts for every column in breweries.csv\n",
    "df_breweries.apply(lambda x: x.isnull().value_counts())"
   ]
  },
  {
   "cell_type": "code",
   "execution_count": 13,
   "metadata": {},
   "outputs": [
    {
     "data": {
      "text/html": [
       "<div>\n",
       "<style scoped>\n",
       "    .dataframe tbody tr th:only-of-type {\n",
       "        vertical-align: middle;\n",
       "    }\n",
       "\n",
       "    .dataframe tbody tr th {\n",
       "        vertical-align: top;\n",
       "    }\n",
       "\n",
       "    .dataframe thead th {\n",
       "        text-align: right;\n",
       "    }\n",
       "</style>\n",
       "<table border=\"1\" class=\"dataframe\">\n",
       "  <thead>\n",
       "    <tr style=\"text-align: right;\">\n",
       "      <th></th>\n",
       "      <th>beer_id</th>\n",
       "      <th>username</th>\n",
       "      <th>date</th>\n",
       "      <th>text</th>\n",
       "      <th>look</th>\n",
       "      <th>smell</th>\n",
       "      <th>taste</th>\n",
       "      <th>feel</th>\n",
       "      <th>overall</th>\n",
       "      <th>score</th>\n",
       "    </tr>\n",
       "  </thead>\n",
       "  <tbody>\n",
       "    <tr>\n",
       "      <th>False</th>\n",
       "      <td>9073128.0</td>\n",
       "      <td>9069313</td>\n",
       "      <td>9073128.0</td>\n",
       "      <td>9073128.0</td>\n",
       "      <td>5283110</td>\n",
       "      <td>5283110</td>\n",
       "      <td>5283110</td>\n",
       "      <td>5283110</td>\n",
       "      <td>5283110</td>\n",
       "      <td>9073128.0</td>\n",
       "    </tr>\n",
       "    <tr>\n",
       "      <th>True</th>\n",
       "      <td>NaN</td>\n",
       "      <td>3815</td>\n",
       "      <td>NaN</td>\n",
       "      <td>NaN</td>\n",
       "      <td>3790018</td>\n",
       "      <td>3790018</td>\n",
       "      <td>3790018</td>\n",
       "      <td>3790018</td>\n",
       "      <td>3790018</td>\n",
       "      <td>NaN</td>\n",
       "    </tr>\n",
       "  </tbody>\n",
       "</table>\n",
       "</div>"
      ],
      "text/plain": [
       "         beer_id  username       date       text     look    smell    taste  \\\n",
       "False  9073128.0   9069313  9073128.0  9073128.0  5283110  5283110  5283110   \n",
       "True         NaN      3815        NaN        NaN  3790018  3790018  3790018   \n",
       "\n",
       "          feel  overall      score  \n",
       "False  5283110  5283110  9073128.0  \n",
       "True   3790018  3790018        NaN  "
      ]
     },
     "execution_count": 13,
     "metadata": {},
     "output_type": "execute_result"
    }
   ],
   "source": [
    "# Find value counts for every column in reviews.csv\n",
    "df_reviews.apply(lambda x: x.isnull().value_counts())"
   ]
  },
  {
   "cell_type": "markdown",
   "metadata": {},
   "source": [
    "### Number of Breweries per Country"
   ]
  },
  {
   "cell_type": "code",
   "execution_count": 14,
   "metadata": {},
   "outputs": [
    {
     "data": {
      "text/plain": [
       "US    34693\n",
       "GB     2525\n",
       "CA     1890\n",
       "DE     1812\n",
       "BE      756\n",
       "      ...  \n",
       "GQ        1\n",
       "BW        1\n",
       "GN        1\n",
       "SN        1\n",
       "CV        1\n",
       "Name: country, Length: 199, dtype: int64"
      ]
     },
     "execution_count": 14,
     "metadata": {},
     "output_type": "execute_result"
    }
   ],
   "source": [
    "df_breweries[\"country\"].value_counts()"
   ]
  },
  {
   "cell_type": "code",
   "execution_count": 15,
   "metadata": {},
   "outputs": [
    {
     "data": {
      "text/plain": [
       "199"
      ]
     },
     "execution_count": 15,
     "metadata": {},
     "output_type": "execute_result"
    }
   ],
   "source": [
    "# Number of unique countries\n",
    "df_breweries[\"country\"].nunique()"
   ]
  },
  {
   "cell_type": "markdown",
   "metadata": {},
   "source": [
    "**Next Steps:**\n",
    "- Drop all the reviews that are below 4 and store in another DF\n",
    "\n",
    "- Drop column `'text'` - we dont need detailed review of the user.\n",
    "\n",
    "- Drop columns `look`, `smell`, `taste`, `feel` and `overall`"
   ]
  },
  {
   "cell_type": "code",
   "execution_count": 16,
   "metadata": {},
   "outputs": [],
   "source": [
    "# df_reviews2 is just a more cleaned up DF for the recommender app\n",
    "df_reviews2 = df_reviews.copy()"
   ]
  },
  {
   "cell_type": "code",
   "execution_count": 17,
   "metadata": {},
   "outputs": [],
   "source": [
    "# Only keep the reviews higher than 4\n",
    "df_reviews2.drop(df_reviews2[df_reviews2[\"score\"] < 4].index, inplace=True)"
   ]
  },
  {
   "cell_type": "code",
   "execution_count": 18,
   "metadata": {},
   "outputs": [
    {
     "data": {
      "text/plain": [
       "(4785625, 10)"
      ]
     },
     "execution_count": 18,
     "metadata": {},
     "output_type": "execute_result"
    }
   ],
   "source": [
    "df_reviews2.shape"
   ]
  },
  {
   "cell_type": "code",
   "execution_count": 19,
   "metadata": {},
   "outputs": [],
   "source": [
    "# remove the unwanted text column\n",
    "df_reviews2 = df_reviews2.drop([\"text\"], axis=1)"
   ]
  },
  {
   "cell_type": "code",
   "execution_count": 20,
   "metadata": {},
   "outputs": [
    {
     "data": {
      "text/html": [
       "<div>\n",
       "<style scoped>\n",
       "    .dataframe tbody tr th:only-of-type {\n",
       "        vertical-align: middle;\n",
       "    }\n",
       "\n",
       "    .dataframe tbody tr th {\n",
       "        vertical-align: top;\n",
       "    }\n",
       "\n",
       "    .dataframe thead th {\n",
       "        text-align: right;\n",
       "    }\n",
       "</style>\n",
       "<table border=\"1\" class=\"dataframe\">\n",
       "  <thead>\n",
       "    <tr style=\"text-align: right;\">\n",
       "      <th></th>\n",
       "      <th>beer_id</th>\n",
       "      <th>username</th>\n",
       "      <th>date</th>\n",
       "      <th>look</th>\n",
       "      <th>smell</th>\n",
       "      <th>taste</th>\n",
       "      <th>feel</th>\n",
       "      <th>overall</th>\n",
       "      <th>score</th>\n",
       "    </tr>\n",
       "  </thead>\n",
       "  <tbody>\n",
       "    <tr>\n",
       "      <th>1</th>\n",
       "      <td>125646</td>\n",
       "      <td>_dirty_</td>\n",
       "      <td>2017-12-21</td>\n",
       "      <td>4.50</td>\n",
       "      <td>4.50</td>\n",
       "      <td>4.50</td>\n",
       "      <td>4.50</td>\n",
       "      <td>4.50</td>\n",
       "      <td>4.50</td>\n",
       "    </tr>\n",
       "    <tr>\n",
       "      <th>2</th>\n",
       "      <td>125646</td>\n",
       "      <td>CJDUBYA</td>\n",
       "      <td>2017-12-21</td>\n",
       "      <td>4.75</td>\n",
       "      <td>4.75</td>\n",
       "      <td>4.75</td>\n",
       "      <td>4.75</td>\n",
       "      <td>4.75</td>\n",
       "      <td>4.75</td>\n",
       "    </tr>\n",
       "    <tr>\n",
       "      <th>3</th>\n",
       "      <td>125646</td>\n",
       "      <td>GratefulBeerGuy</td>\n",
       "      <td>2017-12-20</td>\n",
       "      <td>4.75</td>\n",
       "      <td>4.75</td>\n",
       "      <td>4.50</td>\n",
       "      <td>4.50</td>\n",
       "      <td>4.50</td>\n",
       "      <td>4.58</td>\n",
       "    </tr>\n",
       "    <tr>\n",
       "      <th>4</th>\n",
       "      <td>125646</td>\n",
       "      <td>LukeGude</td>\n",
       "      <td>2017-12-20</td>\n",
       "      <td>4.25</td>\n",
       "      <td>4.50</td>\n",
       "      <td>4.25</td>\n",
       "      <td>4.25</td>\n",
       "      <td>4.25</td>\n",
       "      <td>4.31</td>\n",
       "    </tr>\n",
       "    <tr>\n",
       "      <th>5</th>\n",
       "      <td>125646</td>\n",
       "      <td>jneff33</td>\n",
       "      <td>2017-12-20</td>\n",
       "      <td>4.50</td>\n",
       "      <td>4.75</td>\n",
       "      <td>5.00</td>\n",
       "      <td>5.00</td>\n",
       "      <td>5.00</td>\n",
       "      <td>4.91</td>\n",
       "    </tr>\n",
       "  </tbody>\n",
       "</table>\n",
       "</div>"
      ],
      "text/plain": [
       "   beer_id         username        date  look  smell  taste  feel  overall  \\\n",
       "1   125646          _dirty_  2017-12-21  4.50   4.50   4.50  4.50     4.50   \n",
       "2   125646          CJDUBYA  2017-12-21  4.75   4.75   4.75  4.75     4.75   \n",
       "3   125646  GratefulBeerGuy  2017-12-20  4.75   4.75   4.50  4.50     4.50   \n",
       "4   125646         LukeGude  2017-12-20  4.25   4.50   4.25  4.25     4.25   \n",
       "5   125646          jneff33  2017-12-20  4.50   4.75   5.00  5.00     5.00   \n",
       "\n",
       "   score  \n",
       "1   4.50  \n",
       "2   4.75  \n",
       "3   4.58  \n",
       "4   4.31  \n",
       "5   4.91  "
      ]
     },
     "execution_count": 20,
     "metadata": {},
     "output_type": "execute_result"
    }
   ],
   "source": [
    "# remove the reviews and reviewed beers than had less than 10 reviews\n",
    "# df_reviews2.groupby(\"beer_id\").filter(lambda x: len(x) > 10)\n",
    "df_reviews2 = df_reviews2[\n",
    "    df_reviews2.groupby(\"beer_id\").beer_id.transform(\"count\") > 10\n",
    "].copy()\n",
    "df_reviews2.head()"
   ]
  },
  {
   "cell_type": "code",
   "execution_count": 21,
   "metadata": {},
   "outputs": [
    {
     "data": {
      "text/plain": [
       "11757     16119\n",
       "7971      14432\n",
       "16814     13927\n",
       "2093      13409\n",
       "29619     12814\n",
       "          ...  \n",
       "313143       11\n",
       "47012        11\n",
       "96152        11\n",
       "286845       11\n",
       "4098         11\n",
       "Name: beer_id, Length: 35593, dtype: int64"
      ]
     },
     "execution_count": 21,
     "metadata": {},
     "output_type": "execute_result"
    }
   ],
   "source": [
    "df_reviews2[\"beer_id\"].value_counts()"
   ]
  },
  {
   "cell_type": "code",
   "execution_count": 22,
   "metadata": {},
   "outputs": [],
   "source": [
    "df_reviews2 = df_reviews2.drop([\"look\", \"smell\", \"taste\", \"feel\", \"overall\"], axis=1)"
   ]
  },
  {
   "cell_type": "code",
   "execution_count": 23,
   "metadata": {},
   "outputs": [],
   "source": [
    "df_reviews2 = df_reviews2.drop([\"date\", \"username\"], axis=1)"
   ]
  },
  {
   "cell_type": "code",
   "execution_count": 24,
   "metadata": {},
   "outputs": [
    {
     "data": {
      "text/html": [
       "<div>\n",
       "<style scoped>\n",
       "    .dataframe tbody tr th:only-of-type {\n",
       "        vertical-align: middle;\n",
       "    }\n",
       "\n",
       "    .dataframe tbody tr th {\n",
       "        vertical-align: top;\n",
       "    }\n",
       "\n",
       "    .dataframe thead th {\n",
       "        text-align: right;\n",
       "    }\n",
       "</style>\n",
       "<table border=\"1\" class=\"dataframe\">\n",
       "  <thead>\n",
       "    <tr style=\"text-align: right;\">\n",
       "      <th></th>\n",
       "      <th>beer_id</th>\n",
       "      <th>score</th>\n",
       "    </tr>\n",
       "  </thead>\n",
       "  <tbody>\n",
       "    <tr>\n",
       "      <th>1</th>\n",
       "      <td>125646</td>\n",
       "      <td>4.50</td>\n",
       "    </tr>\n",
       "    <tr>\n",
       "      <th>2</th>\n",
       "      <td>125646</td>\n",
       "      <td>4.75</td>\n",
       "    </tr>\n",
       "    <tr>\n",
       "      <th>3</th>\n",
       "      <td>125646</td>\n",
       "      <td>4.58</td>\n",
       "    </tr>\n",
       "    <tr>\n",
       "      <th>4</th>\n",
       "      <td>125646</td>\n",
       "      <td>4.31</td>\n",
       "    </tr>\n",
       "    <tr>\n",
       "      <th>5</th>\n",
       "      <td>125646</td>\n",
       "      <td>4.91</td>\n",
       "    </tr>\n",
       "    <tr>\n",
       "      <th>...</th>\n",
       "      <td>...</td>\n",
       "      <td>...</td>\n",
       "    </tr>\n",
       "    <tr>\n",
       "      <th>9073123</th>\n",
       "      <td>104824</td>\n",
       "      <td>4.00</td>\n",
       "    </tr>\n",
       "    <tr>\n",
       "      <th>9073124</th>\n",
       "      <td>104824</td>\n",
       "      <td>5.00</td>\n",
       "    </tr>\n",
       "    <tr>\n",
       "      <th>9073125</th>\n",
       "      <td>104824</td>\n",
       "      <td>5.00</td>\n",
       "    </tr>\n",
       "    <tr>\n",
       "      <th>9073126</th>\n",
       "      <td>104824</td>\n",
       "      <td>4.50</td>\n",
       "    </tr>\n",
       "    <tr>\n",
       "      <th>9073127</th>\n",
       "      <td>104824</td>\n",
       "      <td>4.75</td>\n",
       "    </tr>\n",
       "  </tbody>\n",
       "</table>\n",
       "<p>4383375 rows × 2 columns</p>\n",
       "</div>"
      ],
      "text/plain": [
       "         beer_id  score\n",
       "1         125646   4.50\n",
       "2         125646   4.75\n",
       "3         125646   4.58\n",
       "4         125646   4.31\n",
       "5         125646   4.91\n",
       "...          ...    ...\n",
       "9073123   104824   4.00\n",
       "9073124   104824   5.00\n",
       "9073125   104824   5.00\n",
       "9073126   104824   4.50\n",
       "9073127   104824   4.75\n",
       "\n",
       "[4383375 rows x 2 columns]"
      ]
     },
     "execution_count": 24,
     "metadata": {},
     "output_type": "execute_result"
    }
   ],
   "source": [
    "df_reviews2"
   ]
  },
  {
   "cell_type": "code",
   "execution_count": 25,
   "metadata": {},
   "outputs": [],
   "source": [
    "df_reviews2.to_csv(os.path.join(\"../data/csv/clean_reviews.csv\"))"
   ]
  },
  {
   "cell_type": "code",
   "execution_count": 26,
   "metadata": {},
   "outputs": [],
   "source": [
    "state_counts = pd.DataFrame(\n",
    "    df_breweries[\"state\"].value_counts().rename_axis(\"state\").reset_index(name=\"counts\")\n",
    ")"
   ]
  },
  {
   "cell_type": "code",
   "execution_count": 27,
   "metadata": {},
   "outputs": [
    {
     "data": {
      "text/html": [
       "<div>\n",
       "<style scoped>\n",
       "    .dataframe tbody tr th:only-of-type {\n",
       "        vertical-align: middle;\n",
       "    }\n",
       "\n",
       "    .dataframe tbody tr th {\n",
       "        vertical-align: top;\n",
       "    }\n",
       "\n",
       "    .dataframe thead th {\n",
       "        text-align: right;\n",
       "    }\n",
       "</style>\n",
       "<table border=\"1\" class=\"dataframe\">\n",
       "  <thead>\n",
       "    <tr style=\"text-align: right;\">\n",
       "      <th></th>\n",
       "      <th>state</th>\n",
       "      <th>counts</th>\n",
       "    </tr>\n",
       "  </thead>\n",
       "  <tbody>\n",
       "    <tr>\n",
       "      <th>0</th>\n",
       "      <td>CA</td>\n",
       "      <td>3638</td>\n",
       "    </tr>\n",
       "    <tr>\n",
       "      <th>1</th>\n",
       "      <td>PA</td>\n",
       "      <td>2454</td>\n",
       "    </tr>\n",
       "    <tr>\n",
       "      <th>2</th>\n",
       "      <td>NY</td>\n",
       "      <td>2284</td>\n",
       "    </tr>\n",
       "    <tr>\n",
       "      <th>3</th>\n",
       "      <td>GB2</td>\n",
       "      <td>2152</td>\n",
       "    </tr>\n",
       "    <tr>\n",
       "      <th>4</th>\n",
       "      <td>FL</td>\n",
       "      <td>1595</td>\n",
       "    </tr>\n",
       "  </tbody>\n",
       "</table>\n",
       "</div>"
      ],
      "text/plain": [
       "  state  counts\n",
       "0    CA    3638\n",
       "1    PA    2454\n",
       "2    NY    2284\n",
       "3   GB2    2152\n",
       "4    FL    1595"
      ]
     },
     "execution_count": 27,
     "metadata": {},
     "output_type": "execute_result"
    }
   ],
   "source": [
    "state_counts.head(5)"
   ]
  },
  {
   "cell_type": "code",
   "execution_count": 28,
   "metadata": {},
   "outputs": [
    {
     "data": {
      "text/plain": [
       "American IPA                       44719\n",
       "American Pale Ale (APA)            22159\n",
       "American Imperial IPA              18338\n",
       "Belgian Saison                     18167\n",
       "American Wild Ale                  12972\n",
       "                                   ...  \n",
       "Finnish Sahti                        123\n",
       "Japanese Happoshu                    123\n",
       "Bière de Champagne / Bière Brut      116\n",
       "Belgian Faro                          32\n",
       "Wild/Sour Beers                        4\n",
       "Name: style, Length: 112, dtype: int64"
      ]
     },
     "execution_count": 28,
     "metadata": {},
     "output_type": "execute_result"
    }
   ],
   "source": [
    "df_beers[\"style\"].value_counts()"
   ]
  },
  {
   "cell_type": "markdown",
   "metadata": {},
   "source": [
    "### Read BA Beerstyles csv file"
   ]
  },
  {
   "cell_type": "code",
   "execution_count": 29,
   "metadata": {},
   "outputs": [
    {
     "data": {
      "text/html": [
       "<div>\n",
       "<style scoped>\n",
       "    .dataframe tbody tr th:only-of-type {\n",
       "        vertical-align: middle;\n",
       "    }\n",
       "\n",
       "    .dataframe tbody tr th {\n",
       "        vertical-align: top;\n",
       "    }\n",
       "\n",
       "    .dataframe thead th {\n",
       "        text-align: right;\n",
       "    }\n",
       "</style>\n",
       "<table border=\"1\" class=\"dataframe\">\n",
       "  <thead>\n",
       "    <tr style=\"text-align: right;\">\n",
       "      <th></th>\n",
       "      <th>Style</th>\n",
       "      <th>Category</th>\n",
       "      <th>ABV (min)</th>\n",
       "      <th>ABV (max)</th>\n",
       "      <th>ABV (avg)</th>\n",
       "      <th>IBU (min)</th>\n",
       "      <th>IBU (max)</th>\n",
       "      <th>IBU (avg)</th>\n",
       "      <th>SRM (min)</th>\n",
       "      <th>SRM (max)</th>\n",
       "      <th>Glassware</th>\n",
       "      <th>Description</th>\n",
       "    </tr>\n",
       "  </thead>\n",
       "  <tbody>\n",
       "    <tr>\n",
       "      <th>0</th>\n",
       "      <td>German Bock</td>\n",
       "      <td>Bock</td>\n",
       "      <td>6.3</td>\n",
       "      <td>7.6</td>\n",
       "      <td>6.95</td>\n",
       "      <td>20</td>\n",
       "      <td>30</td>\n",
       "      <td>25.0</td>\n",
       "      <td>20</td>\n",
       "      <td>30</td>\n",
       "      <td>Tulip</td>\n",
       "      <td>Bock is a bottom fermenting lager that general...</td>\n",
       "    </tr>\n",
       "    <tr>\n",
       "      <th>1</th>\n",
       "      <td>German Doppelbock</td>\n",
       "      <td>Bock</td>\n",
       "      <td>6.6</td>\n",
       "      <td>7.9</td>\n",
       "      <td>7.25</td>\n",
       "      <td>17</td>\n",
       "      <td>27</td>\n",
       "      <td>22.0</td>\n",
       "      <td>12</td>\n",
       "      <td>30</td>\n",
       "      <td>Tulip</td>\n",
       "      <td>“Doppel” meaning “double,” this style is a big...</td>\n",
       "    </tr>\n",
       "    <tr>\n",
       "      <th>2</th>\n",
       "      <td>German Eisbock</td>\n",
       "      <td>Bock</td>\n",
       "      <td>7.0</td>\n",
       "      <td>14.0</td>\n",
       "      <td>10.50</td>\n",
       "      <td>25</td>\n",
       "      <td>35</td>\n",
       "      <td>30.0</td>\n",
       "      <td>12</td>\n",
       "      <td>30</td>\n",
       "      <td>Snifter</td>\n",
       "      <td>Eisbock is an extremely strong beer with a typ...</td>\n",
       "    </tr>\n",
       "    <tr>\n",
       "      <th>3</th>\n",
       "      <td>German Maibock</td>\n",
       "      <td>Bock</td>\n",
       "      <td>6.3</td>\n",
       "      <td>8.1</td>\n",
       "      <td>7.20</td>\n",
       "      <td>20</td>\n",
       "      <td>38</td>\n",
       "      <td>29.0</td>\n",
       "      <td>4</td>\n",
       "      <td>9</td>\n",
       "      <td>Goblet</td>\n",
       "      <td>Also called “Heller Bock” (meaning “Pale Bock”...</td>\n",
       "    </tr>\n",
       "    <tr>\n",
       "      <th>4</th>\n",
       "      <td>German Weizenbock</td>\n",
       "      <td>Bock</td>\n",
       "      <td>7.0</td>\n",
       "      <td>9.5</td>\n",
       "      <td>8.25</td>\n",
       "      <td>15</td>\n",
       "      <td>35</td>\n",
       "      <td>25.0</td>\n",
       "      <td>4</td>\n",
       "      <td>30</td>\n",
       "      <td>Tulip</td>\n",
       "      <td>The German-style Weizenbock is a wheat version...</td>\n",
       "    </tr>\n",
       "  </tbody>\n",
       "</table>\n",
       "</div>"
      ],
      "text/plain": [
       "               Style Category  ABV (min)  ABV (max)  ABV (avg)  IBU (min)  \\\n",
       "0        German Bock     Bock        6.3        7.6       6.95         20   \n",
       "1  German Doppelbock     Bock        6.6        7.9       7.25         17   \n",
       "2     German Eisbock     Bock        7.0       14.0      10.50         25   \n",
       "3     German Maibock     Bock        6.3        8.1       7.20         20   \n",
       "4  German Weizenbock     Bock        7.0        9.5       8.25         15   \n",
       "\n",
       "   IBU (max)  IBU (avg)  SRM (min)  SRM (max) Glassware   \\\n",
       "0         30       25.0         20         30      Tulip   \n",
       "1         27       22.0         12         30      Tulip   \n",
       "2         35       30.0         12         30    Snifter   \n",
       "3         38       29.0          4          9     Goblet   \n",
       "4         35       25.0          4         30      Tulip   \n",
       "\n",
       "                                         Description  \n",
       "0  Bock is a bottom fermenting lager that general...  \n",
       "1  “Doppel” meaning “double,” this style is a big...  \n",
       "2  Eisbock is an extremely strong beer with a typ...  \n",
       "3  Also called “Heller Bock” (meaning “Pale Bock”...  \n",
       "4  The German-style Weizenbock is a wheat version...  "
      ]
     },
     "execution_count": 29,
     "metadata": {},
     "output_type": "execute_result"
    }
   ],
   "source": [
    "csv_path4 = os.path.join(\"../data/csv/ba_beerstyles.csv\")\n",
    "df_beerstyles = pd.read_csv(csv_path4)\n",
    "\n",
    "df_beerstyles.head()"
   ]
  },
  {
   "cell_type": "code",
   "execution_count": 88,
   "metadata": {},
   "outputs": [],
   "source": [
    "df_beerstyles = df_beerstyles.rename(columns={\"Glassware \": \"Glassware\"})"
   ]
  },
  {
   "cell_type": "code",
   "execution_count": 90,
   "metadata": {},
   "outputs": [],
   "source": [
    "df_beerstyles.to_csv(os.path.join(\"../data/csv/ba_beerstyles.csv\"))"
   ]
  },
  {
   "cell_type": "code",
   "execution_count": 89,
   "metadata": {},
   "outputs": [
    {
     "data": {
      "text/plain": [
       "Style          111\n",
       "Category        14\n",
       "ABV (min)       29\n",
       "ABV (max)       36\n",
       "ABV (avg)       53\n",
       "IBU (min)       21\n",
       "IBU (max)       25\n",
       "IBU (avg)       35\n",
       "SRM (min)       16\n",
       "SRM (max)       18\n",
       "Glassware        9\n",
       "Description    111\n",
       "dtype: int64"
      ]
     },
     "execution_count": 89,
     "metadata": {},
     "output_type": "execute_result"
    }
   ],
   "source": [
    "df_beerstyles.nunique()"
   ]
  },
  {
   "cell_type": "code",
   "execution_count": 31,
   "metadata": {},
   "outputs": [
    {
     "data": {
      "text/plain": [
       "id              358873\n",
       "name            298567\n",
       "brewery_id       16569\n",
       "state               67\n",
       "country            193\n",
       "style              112\n",
       "availability        20\n",
       "abv                939\n",
       "retired              2\n",
       "dtype: int64"
      ]
     },
     "execution_count": 31,
     "metadata": {},
     "output_type": "execute_result"
    }
   ],
   "source": [
    "df_beers.nunique()"
   ]
  },
  {
   "cell_type": "code",
   "execution_count": 32,
   "metadata": {},
   "outputs": [
    {
     "data": {
      "text/plain": [
       "id         50347\n",
       "name       45245\n",
       "city       11664\n",
       "state         67\n",
       "country      199\n",
       "types         30\n",
       "dtype: int64"
      ]
     },
     "execution_count": 32,
     "metadata": {},
     "output_type": "execute_result"
    }
   ],
   "source": [
    "df_breweries.nunique()"
   ]
  },
  {
   "cell_type": "code",
   "execution_count": 33,
   "metadata": {},
   "outputs": [
    {
     "data": {
      "text/plain": [
       "Bar, Eatery                                   13573\n",
       "Store                                          9726\n",
       "Brewery                                        8005\n",
       "Brewery, Bar, Eatery                           2801\n",
       "Bar, Eatery, Beer-to-go                        2789\n",
       "Brewery, Bar, Beer-to-go                       2670\n",
       "Bar                                            2466\n",
       "Brewery, Bar, Eatery, Beer-to-go               2370\n",
       "Brewery, Bar                                   1360\n",
       "Bar, Beer-to-go                                1258\n",
       "Homebrew                                        806\n",
       "Brewery, Beer-to-go                             755\n",
       "Brewery, Eatery                                 671\n",
       "Eatery, Beer-to-go                              272\n",
       "Homebrew, Beer-to-go                            224\n",
       "Eatery                                          186\n",
       "Brewery, Eatery, Beer-to-go                      93\n",
       "Bar, Homebrew, Beer-to-go                        61\n",
       "Brewery, Bar, Homebrew, Beer-to-go               52\n",
       "Brewery, Bar, Eatery, Homebrew, Beer-to-go       40\n",
       "Brewery, Homebrew                                40\n",
       "Brewery, Homebrew, Beer-to-go                    31\n",
       "Brewery, Bar, Homebrew                           28\n",
       "Bar, Eatery, Homebrew, Beer-to-go                28\n",
       "Brewery, Bar, Eatery, Homebrew                   23\n",
       "Bar, Homebrew                                     6\n",
       "Eatery, Homebrew, Beer-to-go                      4\n",
       "Bar, Eatery, Homebrew                             4\n",
       "Brewery, Eatery, Homebrew                         4\n",
       "Brewery, Eatery, Homebrew, Beer-to-go             1\n",
       "Name: types, dtype: int64"
      ]
     },
     "execution_count": 33,
     "metadata": {},
     "output_type": "execute_result"
    }
   ],
   "source": [
    "df_breweries[\"types\"].value_counts()"
   ]
  },
  {
   "cell_type": "code",
   "execution_count": 34,
   "metadata": {},
   "outputs": [
    {
     "data": {
      "text/html": [
       "<div>\n",
       "<style scoped>\n",
       "    .dataframe tbody tr th:only-of-type {\n",
       "        vertical-align: middle;\n",
       "    }\n",
       "\n",
       "    .dataframe tbody tr th {\n",
       "        vertical-align: top;\n",
       "    }\n",
       "\n",
       "    .dataframe thead th {\n",
       "        text-align: right;\n",
       "    }\n",
       "</style>\n",
       "<table border=\"1\" class=\"dataframe\">\n",
       "  <thead>\n",
       "    <tr style=\"text-align: right;\">\n",
       "      <th></th>\n",
       "      <th>id</th>\n",
       "      <th>name</th>\n",
       "      <th>city</th>\n",
       "      <th>state</th>\n",
       "      <th>country</th>\n",
       "      <th>types</th>\n",
       "    </tr>\n",
       "  </thead>\n",
       "  <tbody>\n",
       "    <tr>\n",
       "      <th>1</th>\n",
       "      <td>32541</td>\n",
       "      <td>Coachella Valley Brewing Co</td>\n",
       "      <td>Thousand Palms</td>\n",
       "      <td>CA</td>\n",
       "      <td>US</td>\n",
       "      <td>Brewery, Bar, Beer-to-go</td>\n",
       "    </tr>\n",
       "    <tr>\n",
       "      <th>2</th>\n",
       "      <td>44736</td>\n",
       "      <td>Beef 'O' Brady's</td>\n",
       "      <td>Plant City</td>\n",
       "      <td>FL</td>\n",
       "      <td>US</td>\n",
       "      <td>Bar, Eatery</td>\n",
       "    </tr>\n",
       "    <tr>\n",
       "      <th>3</th>\n",
       "      <td>23372</td>\n",
       "      <td>Broadway Wine Merchant</td>\n",
       "      <td>Oklahoma City</td>\n",
       "      <td>OK</td>\n",
       "      <td>US</td>\n",
       "      <td>Store</td>\n",
       "    </tr>\n",
       "    <tr>\n",
       "      <th>5</th>\n",
       "      <td>31561</td>\n",
       "      <td>Teddy's Tavern</td>\n",
       "      <td>Seattle</td>\n",
       "      <td>WA</td>\n",
       "      <td>US</td>\n",
       "      <td>Bar, Beer-to-go</td>\n",
       "    </tr>\n",
       "    <tr>\n",
       "      <th>9</th>\n",
       "      <td>41278</td>\n",
       "      <td>The Other End</td>\n",
       "      <td>Destin</td>\n",
       "      <td>FL</td>\n",
       "      <td>US</td>\n",
       "      <td>Bar, Eatery</td>\n",
       "    </tr>\n",
       "  </tbody>\n",
       "</table>\n",
       "</div>"
      ],
      "text/plain": [
       "      id                         name            city state country  \\\n",
       "1  32541  Coachella Valley Brewing Co  Thousand Palms    CA      US   \n",
       "2  44736             Beef 'O' Brady's      Plant City    FL      US   \n",
       "3  23372       Broadway Wine Merchant   Oklahoma City    OK      US   \n",
       "5  31561               Teddy's Tavern         Seattle    WA      US   \n",
       "9  41278                The Other End          Destin    FL      US   \n",
       "\n",
       "                      types  \n",
       "1  Brewery, Bar, Beer-to-go  \n",
       "2               Bar, Eatery  \n",
       "3                     Store  \n",
       "5           Bar, Beer-to-go  \n",
       "9               Bar, Eatery  "
      ]
     },
     "execution_count": 34,
     "metadata": {},
     "output_type": "execute_result"
    }
   ],
   "source": [
    "us_breweries = df_breweries[df_breweries[\"country\"] == \"US\"]\n",
    "us_breweries.head()"
   ]
  },
  {
   "cell_type": "code",
   "execution_count": 35,
   "metadata": {},
   "outputs": [
    {
     "data": {
      "text/plain": [
       "id         34693\n",
       "name       30185\n",
       "city        4958\n",
       "state         51\n",
       "country        1\n",
       "types         30\n",
       "dtype: int64"
      ]
     },
     "execution_count": 35,
     "metadata": {},
     "output_type": "execute_result"
    }
   ],
   "source": [
    "us_breweries.nunique()"
   ]
  },
  {
   "cell_type": "code",
   "execution_count": 36,
   "metadata": {},
   "outputs": [
    {
     "data": {
      "text/html": [
       "<div>\n",
       "<style scoped>\n",
       "    .dataframe tbody tr th:only-of-type {\n",
       "        vertical-align: middle;\n",
       "    }\n",
       "\n",
       "    .dataframe tbody tr th {\n",
       "        vertical-align: top;\n",
       "    }\n",
       "\n",
       "    .dataframe thead th {\n",
       "        text-align: right;\n",
       "    }\n",
       "</style>\n",
       "<table border=\"1\" class=\"dataframe\">\n",
       "  <thead>\n",
       "    <tr style=\"text-align: right;\">\n",
       "      <th></th>\n",
       "      <th>id</th>\n",
       "      <th>name</th>\n",
       "      <th>city</th>\n",
       "      <th>state</th>\n",
       "      <th>country</th>\n",
       "      <th>types</th>\n",
       "    </tr>\n",
       "  </thead>\n",
       "  <tbody>\n",
       "    <tr>\n",
       "      <th>18</th>\n",
       "      <td>31986</td>\n",
       "      <td>Power Marketing / Wicked Pissa</td>\n",
       "      <td>Westport</td>\n",
       "      <td>MA</td>\n",
       "      <td>US</td>\n",
       "      <td>Brewery</td>\n",
       "    </tr>\n",
       "    <tr>\n",
       "      <th>20</th>\n",
       "      <td>8590</td>\n",
       "      <td>Wet Planet Beverage Co.</td>\n",
       "      <td>Utica</td>\n",
       "      <td>NY</td>\n",
       "      <td>US</td>\n",
       "      <td>Brewery</td>\n",
       "    </tr>\n",
       "    <tr>\n",
       "      <th>81</th>\n",
       "      <td>28724</td>\n",
       "      <td>Lewis Beer Company</td>\n",
       "      <td>Temecula</td>\n",
       "      <td>CA</td>\n",
       "      <td>US</td>\n",
       "      <td>Brewery</td>\n",
       "    </tr>\n",
       "    <tr>\n",
       "      <th>85</th>\n",
       "      <td>30278</td>\n",
       "      <td>New Ulm Brewing &amp; Beverage Company</td>\n",
       "      <td>Sleepy Eye</td>\n",
       "      <td>MN</td>\n",
       "      <td>US</td>\n",
       "      <td>Brewery</td>\n",
       "    </tr>\n",
       "    <tr>\n",
       "      <th>115</th>\n",
       "      <td>32066</td>\n",
       "      <td>Pacific Breach</td>\n",
       "      <td>Pearl City</td>\n",
       "      <td>HI</td>\n",
       "      <td>US</td>\n",
       "      <td>Brewery</td>\n",
       "    </tr>\n",
       "  </tbody>\n",
       "</table>\n",
       "</div>"
      ],
      "text/plain": [
       "        id                                name        city state country  \\\n",
       "18   31986      Power Marketing / Wicked Pissa    Westport    MA      US   \n",
       "20    8590             Wet Planet Beverage Co.       Utica    NY      US   \n",
       "81   28724                  Lewis Beer Company    Temecula    CA      US   \n",
       "85   30278  New Ulm Brewing & Beverage Company  Sleepy Eye    MN      US   \n",
       "115  32066                      Pacific Breach  Pearl City    HI      US   \n",
       "\n",
       "       types  \n",
       "18   Brewery  \n",
       "20   Brewery  \n",
       "81   Brewery  \n",
       "85   Brewery  \n",
       "115  Brewery  "
      ]
     },
     "execution_count": 36,
     "metadata": {},
     "output_type": "execute_result"
    }
   ],
   "source": [
    "brewery_only = us_breweries[us_breweries[\"types\"] == \"Brewery\"]\n",
    "brewery_only.head()"
   ]
  },
  {
   "cell_type": "code",
   "execution_count": 37,
   "metadata": {},
   "outputs": [
    {
     "data": {
      "text/plain": [
       "id         1376\n",
       "name       1369\n",
       "city        826\n",
       "state        51\n",
       "country       1\n",
       "types         1\n",
       "dtype: int64"
      ]
     },
     "execution_count": 37,
     "metadata": {},
     "output_type": "execute_result"
    }
   ],
   "source": [
    "brewery_only.nunique()"
   ]
  },
  {
   "cell_type": "code",
   "execution_count": 38,
   "metadata": {},
   "outputs": [
    {
     "data": {
      "text/html": [
       "<div>\n",
       "<style scoped>\n",
       "    .dataframe tbody tr th:only-of-type {\n",
       "        vertical-align: middle;\n",
       "    }\n",
       "\n",
       "    .dataframe tbody tr th {\n",
       "        vertical-align: top;\n",
       "    }\n",
       "\n",
       "    .dataframe thead th {\n",
       "        text-align: right;\n",
       "    }\n",
       "</style>\n",
       "<table border=\"1\" class=\"dataframe\">\n",
       "  <thead>\n",
       "    <tr style=\"text-align: right;\">\n",
       "      <th></th>\n",
       "      <th>id</th>\n",
       "      <th>name</th>\n",
       "      <th>city</th>\n",
       "      <th>state</th>\n",
       "      <th>country</th>\n",
       "      <th>types</th>\n",
       "    </tr>\n",
       "  </thead>\n",
       "  <tbody>\n",
       "    <tr>\n",
       "      <th>1</th>\n",
       "      <td>32541</td>\n",
       "      <td>Coachella Valley Brewing Co</td>\n",
       "      <td>Thousand Palms</td>\n",
       "      <td>CA</td>\n",
       "      <td>US</td>\n",
       "      <td>Brewery, Bar, Beer-to-go</td>\n",
       "    </tr>\n",
       "    <tr>\n",
       "      <th>18</th>\n",
       "      <td>31986</td>\n",
       "      <td>Power Marketing / Wicked Pissa</td>\n",
       "      <td>Westport</td>\n",
       "      <td>MA</td>\n",
       "      <td>US</td>\n",
       "      <td>Brewery</td>\n",
       "    </tr>\n",
       "    <tr>\n",
       "      <th>20</th>\n",
       "      <td>8590</td>\n",
       "      <td>Wet Planet Beverage Co.</td>\n",
       "      <td>Utica</td>\n",
       "      <td>NY</td>\n",
       "      <td>US</td>\n",
       "      <td>Brewery</td>\n",
       "    </tr>\n",
       "    <tr>\n",
       "      <th>23</th>\n",
       "      <td>53919</td>\n",
       "      <td>Amity Ales Brewpub and Eatery</td>\n",
       "      <td>Amityville</td>\n",
       "      <td>NY</td>\n",
       "      <td>US</td>\n",
       "      <td>Brewery, Bar, Eatery</td>\n",
       "    </tr>\n",
       "    <tr>\n",
       "      <th>27</th>\n",
       "      <td>48475</td>\n",
       "      <td>Springdale Barrel Room</td>\n",
       "      <td>Framingham</td>\n",
       "      <td>MA</td>\n",
       "      <td>US</td>\n",
       "      <td>Brewery, Bar</td>\n",
       "    </tr>\n",
       "  </tbody>\n",
       "</table>\n",
       "</div>"
      ],
      "text/plain": [
       "       id                            name            city state country  \\\n",
       "1   32541     Coachella Valley Brewing Co  Thousand Palms    CA      US   \n",
       "18  31986  Power Marketing / Wicked Pissa        Westport    MA      US   \n",
       "20   8590         Wet Planet Beverage Co.           Utica    NY      US   \n",
       "23  53919   Amity Ales Brewpub and Eatery      Amityville    NY      US   \n",
       "27  48475          Springdale Barrel Room      Framingham    MA      US   \n",
       "\n",
       "                       types  \n",
       "1   Brewery, Bar, Beer-to-go  \n",
       "18                   Brewery  \n",
       "20                   Brewery  \n",
       "23      Brewery, Bar, Eatery  \n",
       "27              Brewery, Bar  "
      ]
     },
     "execution_count": 38,
     "metadata": {},
     "output_type": "execute_result"
    }
   ],
   "source": [
    "# filter out breweries that fall under type \"brewery\" and drop all other like \"eatery, bars etc\"\n",
    "us_breweries = us_breweries[us_breweries[\"types\"].str.contains(\"Brewery\")]\n",
    "us_breweries.head()"
   ]
  },
  {
   "cell_type": "code",
   "execution_count": 39,
   "metadata": {},
   "outputs": [],
   "source": [
    "us_breweries.to_csv(os.path.join(\"../data/csv/usa_breweries.csv\"))"
   ]
  },
  {
   "cell_type": "code",
   "execution_count": 40,
   "metadata": {},
   "outputs": [],
   "source": [
    "us_state = pd.DataFrame(\n",
    "    us_breweries[\"state\"].value_counts().rename_axis(\"state\").reset_index(name=\"counts\")\n",
    ")"
   ]
  },
  {
   "cell_type": "code",
   "execution_count": 41,
   "metadata": {},
   "outputs": [],
   "source": [
    "import plotly.graph_objects as go\n",
    "import plotly.io as pio\n",
    "\n",
    "pio.renderers\n",
    "pio.renderers.default = \"jupyterlab\""
   ]
  },
  {
   "cell_type": "code",
   "execution_count": 42,
   "metadata": {},
   "outputs": [
    {
     "data": {
      "application/vnd.plotly.v1+json": {
       "config": {
        "plotlyServerURL": "https://plot.ly"
       },
       "data": [
        {
         "colorbar": {
          "title": {
           "text": "Brewery Count"
          }
         },
         "colorscale": [
          [
           0,
           "rgb(210, 251, 212)"
          ],
          [
           0.16666666666666666,
           "rgb(165, 219, 194)"
          ],
          [
           0.3333333333333333,
           "rgb(123, 188, 176)"
          ],
          [
           0.5,
           "rgb(85, 156, 158)"
          ],
          [
           0.6666666666666666,
           "rgb(58, 124, 137)"
          ],
          [
           0.8333333333333334,
           "rgb(35, 93, 114)"
          ],
          [
           1,
           "rgb(18, 63, 90)"
          ]
         ],
         "locationmode": "USA-states",
         "locations": [
          "CA",
          "WA",
          "NY",
          "CO",
          "PA",
          "MI",
          "FL",
          "OR",
          "TX",
          "NC",
          "IL",
          "VA",
          "OH",
          "WI",
          "MN",
          "MA",
          "IN",
          "MO",
          "MD",
          "CT",
          "AZ",
          "NJ",
          "ME",
          "TN",
          "IA",
          "GA",
          "VT",
          "NM",
          "NH",
          "SC",
          "MT",
          "ID",
          "KY",
          "NV",
          "KS",
          "AL",
          "NE",
          "LA",
          "AK",
          "WY",
          "OK",
          "UT",
          "SD",
          "AR",
          "DE",
          "RI",
          "HI",
          "WV",
          "MS",
          "ND",
          "DC"
         ],
         "type": "choropleth",
         "z": [
          1035,
          466,
          462,
          449,
          402,
          374,
          344,
          332,
          323,
          316,
          304,
          288,
          280,
          248,
          223,
          217,
          190,
          146,
          135,
          128,
          127,
          122,
          120,
          109,
          102,
          101,
          100,
          96,
          90,
          88,
          81,
          75,
          62,
          58,
          53,
          51,
          49,
          46,
          46,
          41,
          41,
          37,
          35,
          34,
          28,
          28,
          28,
          27,
          22,
          21,
          17
         ]
        }
       ],
       "layout": {
        "autosize": true,
        "geo": {
         "center": {
          "lat": 17.43953416187619,
          "lon": -72.84840985624315
         },
         "projection": {
          "scale": 1.4661167571892098
         },
         "scope": "usa"
        },
        "template": {
         "data": {
          "bar": [
           {
            "error_x": {
             "color": "#2a3f5f"
            },
            "error_y": {
             "color": "#2a3f5f"
            },
            "marker": {
             "line": {
              "color": "#E5ECF6",
              "width": 0.5
             }
            },
            "type": "bar"
           }
          ],
          "barpolar": [
           {
            "marker": {
             "line": {
              "color": "#E5ECF6",
              "width": 0.5
             }
            },
            "type": "barpolar"
           }
          ],
          "carpet": [
           {
            "aaxis": {
             "endlinecolor": "#2a3f5f",
             "gridcolor": "white",
             "linecolor": "white",
             "minorgridcolor": "white",
             "startlinecolor": "#2a3f5f"
            },
            "baxis": {
             "endlinecolor": "#2a3f5f",
             "gridcolor": "white",
             "linecolor": "white",
             "minorgridcolor": "white",
             "startlinecolor": "#2a3f5f"
            },
            "type": "carpet"
           }
          ],
          "choropleth": [
           {
            "colorbar": {
             "outlinewidth": 0,
             "ticks": ""
            },
            "type": "choropleth"
           }
          ],
          "contour": [
           {
            "colorbar": {
             "outlinewidth": 0,
             "ticks": ""
            },
            "colorscale": [
             [
              0,
              "#0d0887"
             ],
             [
              0.1111111111111111,
              "#46039f"
             ],
             [
              0.2222222222222222,
              "#7201a8"
             ],
             [
              0.3333333333333333,
              "#9c179e"
             ],
             [
              0.4444444444444444,
              "#bd3786"
             ],
             [
              0.5555555555555556,
              "#d8576b"
             ],
             [
              0.6666666666666666,
              "#ed7953"
             ],
             [
              0.7777777777777778,
              "#fb9f3a"
             ],
             [
              0.8888888888888888,
              "#fdca26"
             ],
             [
              1,
              "#f0f921"
             ]
            ],
            "type": "contour"
           }
          ],
          "contourcarpet": [
           {
            "colorbar": {
             "outlinewidth": 0,
             "ticks": ""
            },
            "type": "contourcarpet"
           }
          ],
          "heatmap": [
           {
            "colorbar": {
             "outlinewidth": 0,
             "ticks": ""
            },
            "colorscale": [
             [
              0,
              "#0d0887"
             ],
             [
              0.1111111111111111,
              "#46039f"
             ],
             [
              0.2222222222222222,
              "#7201a8"
             ],
             [
              0.3333333333333333,
              "#9c179e"
             ],
             [
              0.4444444444444444,
              "#bd3786"
             ],
             [
              0.5555555555555556,
              "#d8576b"
             ],
             [
              0.6666666666666666,
              "#ed7953"
             ],
             [
              0.7777777777777778,
              "#fb9f3a"
             ],
             [
              0.8888888888888888,
              "#fdca26"
             ],
             [
              1,
              "#f0f921"
             ]
            ],
            "type": "heatmap"
           }
          ],
          "heatmapgl": [
           {
            "colorbar": {
             "outlinewidth": 0,
             "ticks": ""
            },
            "colorscale": [
             [
              0,
              "#0d0887"
             ],
             [
              0.1111111111111111,
              "#46039f"
             ],
             [
              0.2222222222222222,
              "#7201a8"
             ],
             [
              0.3333333333333333,
              "#9c179e"
             ],
             [
              0.4444444444444444,
              "#bd3786"
             ],
             [
              0.5555555555555556,
              "#d8576b"
             ],
             [
              0.6666666666666666,
              "#ed7953"
             ],
             [
              0.7777777777777778,
              "#fb9f3a"
             ],
             [
              0.8888888888888888,
              "#fdca26"
             ],
             [
              1,
              "#f0f921"
             ]
            ],
            "type": "heatmapgl"
           }
          ],
          "histogram": [
           {
            "marker": {
             "colorbar": {
              "outlinewidth": 0,
              "ticks": ""
             }
            },
            "type": "histogram"
           }
          ],
          "histogram2d": [
           {
            "colorbar": {
             "outlinewidth": 0,
             "ticks": ""
            },
            "colorscale": [
             [
              0,
              "#0d0887"
             ],
             [
              0.1111111111111111,
              "#46039f"
             ],
             [
              0.2222222222222222,
              "#7201a8"
             ],
             [
              0.3333333333333333,
              "#9c179e"
             ],
             [
              0.4444444444444444,
              "#bd3786"
             ],
             [
              0.5555555555555556,
              "#d8576b"
             ],
             [
              0.6666666666666666,
              "#ed7953"
             ],
             [
              0.7777777777777778,
              "#fb9f3a"
             ],
             [
              0.8888888888888888,
              "#fdca26"
             ],
             [
              1,
              "#f0f921"
             ]
            ],
            "type": "histogram2d"
           }
          ],
          "histogram2dcontour": [
           {
            "colorbar": {
             "outlinewidth": 0,
             "ticks": ""
            },
            "colorscale": [
             [
              0,
              "#0d0887"
             ],
             [
              0.1111111111111111,
              "#46039f"
             ],
             [
              0.2222222222222222,
              "#7201a8"
             ],
             [
              0.3333333333333333,
              "#9c179e"
             ],
             [
              0.4444444444444444,
              "#bd3786"
             ],
             [
              0.5555555555555556,
              "#d8576b"
             ],
             [
              0.6666666666666666,
              "#ed7953"
             ],
             [
              0.7777777777777778,
              "#fb9f3a"
             ],
             [
              0.8888888888888888,
              "#fdca26"
             ],
             [
              1,
              "#f0f921"
             ]
            ],
            "type": "histogram2dcontour"
           }
          ],
          "mesh3d": [
           {
            "colorbar": {
             "outlinewidth": 0,
             "ticks": ""
            },
            "type": "mesh3d"
           }
          ],
          "parcoords": [
           {
            "line": {
             "colorbar": {
              "outlinewidth": 0,
              "ticks": ""
             }
            },
            "type": "parcoords"
           }
          ],
          "pie": [
           {
            "automargin": true,
            "type": "pie"
           }
          ],
          "scatter": [
           {
            "marker": {
             "colorbar": {
              "outlinewidth": 0,
              "ticks": ""
             }
            },
            "type": "scatter"
           }
          ],
          "scatter3d": [
           {
            "line": {
             "colorbar": {
              "outlinewidth": 0,
              "ticks": ""
             }
            },
            "marker": {
             "colorbar": {
              "outlinewidth": 0,
              "ticks": ""
             }
            },
            "type": "scatter3d"
           }
          ],
          "scattercarpet": [
           {
            "marker": {
             "colorbar": {
              "outlinewidth": 0,
              "ticks": ""
             }
            },
            "type": "scattercarpet"
           }
          ],
          "scattergeo": [
           {
            "marker": {
             "colorbar": {
              "outlinewidth": 0,
              "ticks": ""
             }
            },
            "type": "scattergeo"
           }
          ],
          "scattergl": [
           {
            "marker": {
             "colorbar": {
              "outlinewidth": 0,
              "ticks": ""
             }
            },
            "type": "scattergl"
           }
          ],
          "scattermapbox": [
           {
            "marker": {
             "colorbar": {
              "outlinewidth": 0,
              "ticks": ""
             }
            },
            "type": "scattermapbox"
           }
          ],
          "scatterpolar": [
           {
            "marker": {
             "colorbar": {
              "outlinewidth": 0,
              "ticks": ""
             }
            },
            "type": "scatterpolar"
           }
          ],
          "scatterpolargl": [
           {
            "marker": {
             "colorbar": {
              "outlinewidth": 0,
              "ticks": ""
             }
            },
            "type": "scatterpolargl"
           }
          ],
          "scatterternary": [
           {
            "marker": {
             "colorbar": {
              "outlinewidth": 0,
              "ticks": ""
             }
            },
            "type": "scatterternary"
           }
          ],
          "surface": [
           {
            "colorbar": {
             "outlinewidth": 0,
             "ticks": ""
            },
            "colorscale": [
             [
              0,
              "#0d0887"
             ],
             [
              0.1111111111111111,
              "#46039f"
             ],
             [
              0.2222222222222222,
              "#7201a8"
             ],
             [
              0.3333333333333333,
              "#9c179e"
             ],
             [
              0.4444444444444444,
              "#bd3786"
             ],
             [
              0.5555555555555556,
              "#d8576b"
             ],
             [
              0.6666666666666666,
              "#ed7953"
             ],
             [
              0.7777777777777778,
              "#fb9f3a"
             ],
             [
              0.8888888888888888,
              "#fdca26"
             ],
             [
              1,
              "#f0f921"
             ]
            ],
            "type": "surface"
           }
          ],
          "table": [
           {
            "cells": {
             "fill": {
              "color": "#EBF0F8"
             },
             "line": {
              "color": "white"
             }
            },
            "header": {
             "fill": {
              "color": "#C8D4E3"
             },
             "line": {
              "color": "white"
             }
            },
            "type": "table"
           }
          ]
         },
         "layout": {
          "annotationdefaults": {
           "arrowcolor": "#2a3f5f",
           "arrowhead": 0,
           "arrowwidth": 1
          },
          "coloraxis": {
           "colorbar": {
            "outlinewidth": 0,
            "ticks": ""
           }
          },
          "colorscale": {
           "diverging": [
            [
             0,
             "#8e0152"
            ],
            [
             0.1,
             "#c51b7d"
            ],
            [
             0.2,
             "#de77ae"
            ],
            [
             0.3,
             "#f1b6da"
            ],
            [
             0.4,
             "#fde0ef"
            ],
            [
             0.5,
             "#f7f7f7"
            ],
            [
             0.6,
             "#e6f5d0"
            ],
            [
             0.7,
             "#b8e186"
            ],
            [
             0.8,
             "#7fbc41"
            ],
            [
             0.9,
             "#4d9221"
            ],
            [
             1,
             "#276419"
            ]
           ],
           "sequential": [
            [
             0,
             "#0d0887"
            ],
            [
             0.1111111111111111,
             "#46039f"
            ],
            [
             0.2222222222222222,
             "#7201a8"
            ],
            [
             0.3333333333333333,
             "#9c179e"
            ],
            [
             0.4444444444444444,
             "#bd3786"
            ],
            [
             0.5555555555555556,
             "#d8576b"
            ],
            [
             0.6666666666666666,
             "#ed7953"
            ],
            [
             0.7777777777777778,
             "#fb9f3a"
            ],
            [
             0.8888888888888888,
             "#fdca26"
            ],
            [
             1,
             "#f0f921"
            ]
           ],
           "sequentialminus": [
            [
             0,
             "#0d0887"
            ],
            [
             0.1111111111111111,
             "#46039f"
            ],
            [
             0.2222222222222222,
             "#7201a8"
            ],
            [
             0.3333333333333333,
             "#9c179e"
            ],
            [
             0.4444444444444444,
             "#bd3786"
            ],
            [
             0.5555555555555556,
             "#d8576b"
            ],
            [
             0.6666666666666666,
             "#ed7953"
            ],
            [
             0.7777777777777778,
             "#fb9f3a"
            ],
            [
             0.8888888888888888,
             "#fdca26"
            ],
            [
             1,
             "#f0f921"
            ]
           ]
          },
          "colorway": [
           "#636efa",
           "#EF553B",
           "#00cc96",
           "#ab63fa",
           "#FFA15A",
           "#19d3f3",
           "#FF6692",
           "#B6E880",
           "#FF97FF",
           "#FECB52"
          ],
          "font": {
           "color": "#2a3f5f"
          },
          "geo": {
           "bgcolor": "white",
           "lakecolor": "white",
           "landcolor": "#E5ECF6",
           "showlakes": true,
           "showland": true,
           "subunitcolor": "white"
          },
          "hoverlabel": {
           "align": "left"
          },
          "hovermode": "closest",
          "mapbox": {
           "style": "light"
          },
          "paper_bgcolor": "white",
          "plot_bgcolor": "#E5ECF6",
          "polar": {
           "angularaxis": {
            "gridcolor": "white",
            "linecolor": "white",
            "ticks": ""
           },
           "bgcolor": "#E5ECF6",
           "radialaxis": {
            "gridcolor": "white",
            "linecolor": "white",
            "ticks": ""
           }
          },
          "scene": {
           "xaxis": {
            "backgroundcolor": "#E5ECF6",
            "gridcolor": "white",
            "gridwidth": 2,
            "linecolor": "white",
            "showbackground": true,
            "ticks": "",
            "zerolinecolor": "white"
           },
           "yaxis": {
            "backgroundcolor": "#E5ECF6",
            "gridcolor": "white",
            "gridwidth": 2,
            "linecolor": "white",
            "showbackground": true,
            "ticks": "",
            "zerolinecolor": "white"
           },
           "zaxis": {
            "backgroundcolor": "#E5ECF6",
            "gridcolor": "white",
            "gridwidth": 2,
            "linecolor": "white",
            "showbackground": true,
            "ticks": "",
            "zerolinecolor": "white"
           }
          },
          "shapedefaults": {
           "line": {
            "color": "#2a3f5f"
           }
          },
          "ternary": {
           "aaxis": {
            "gridcolor": "white",
            "linecolor": "white",
            "ticks": ""
           },
           "baxis": {
            "gridcolor": "white",
            "linecolor": "white",
            "ticks": ""
           },
           "bgcolor": "#E5ECF6",
           "caxis": {
            "gridcolor": "white",
            "linecolor": "white",
            "ticks": ""
           }
          },
          "title": {
           "x": 0.05
          },
          "xaxis": {
           "automargin": true,
           "gridcolor": "white",
           "linecolor": "white",
           "ticks": "",
           "title": {
            "standoff": 15
           },
           "zerolinecolor": "white",
           "zerolinewidth": 2
          },
          "yaxis": {
           "automargin": true,
           "gridcolor": "white",
           "linecolor": "white",
           "ticks": "",
           "title": {
            "standoff": 15
           },
           "zerolinecolor": "white",
           "zerolinewidth": 2
          }
         }
        },
        "title": {
         "text": "Breweries in USA"
        }
       }
      },
      "image/png": "[encoded data removed]"
     },
     "metadata": {},
     "output_type": "display_data"
    }
   ],
   "source": [
    "fig = go.Figure(\n",
    "    data=go.Choropleth(\n",
    "        locations=us_state[\"state\"],  # Spatial coordinates\n",
    "        z=us_state[\"counts\"].astype(float),  # Data to be color-coded\n",
    "        locationmode=\"USA-states\",  # set of locations match entries in `locations`\n",
    "        colorscale=\"Darkmint\",\n",
    "        colorbar_title=\"Brewery Count\",\n",
    "    )\n",
    ")\n",
    "\n",
    "fig.update_layout(\n",
    "    title_text=\"Breweries in USA\", geo_scope=\"usa\",  # limite map scope to USA\n",
    ")\n",
    "\n",
    "fig.show()"
   ]
  },
  {
   "cell_type": "code",
   "execution_count": 43,
   "metadata": {},
   "outputs": [
    {
     "data": {
      "text/plain": [
       "Brewery, Bar, Beer-to-go                      2267\n",
       "Brewery, Bar, Eatery, Beer-to-go              1752\n",
       "Brewery, Bar, Eatery                          1549\n",
       "Brewery                                       1376\n",
       "Brewery, Bar                                   981\n",
       "Brewery, Eatery                                275\n",
       "Brewery, Beer-to-go                            256\n",
       "Brewery, Eatery, Beer-to-go                     42\n",
       "Brewery, Bar, Homebrew, Beer-to-go              40\n",
       "Brewery, Bar, Eatery, Homebrew, Beer-to-go      29\n",
       "Brewery, Bar, Homebrew                          26\n",
       "Brewery, Bar, Eatery, Homebrew                  18\n",
       "Brewery, Homebrew                               10\n",
       "Brewery, Homebrew, Beer-to-go                    7\n",
       "Brewery, Eatery, Homebrew                        1\n",
       "Brewery, Eatery, Homebrew, Beer-to-go            1\n",
       "Name: types, dtype: int64"
      ]
     },
     "execution_count": 43,
     "metadata": {},
     "output_type": "execute_result"
    }
   ],
   "source": [
    "us_breweries[\"types\"].value_counts()"
   ]
  },
  {
   "cell_type": "code",
   "execution_count": 44,
   "metadata": {},
   "outputs": [
    {
     "data": {
      "text/html": [
       "<div>\n",
       "<style scoped>\n",
       "    .dataframe tbody tr th:only-of-type {\n",
       "        vertical-align: middle;\n",
       "    }\n",
       "\n",
       "    .dataframe tbody tr th {\n",
       "        vertical-align: top;\n",
       "    }\n",
       "\n",
       "    .dataframe thead th {\n",
       "        text-align: right;\n",
       "    }\n",
       "</style>\n",
       "<table border=\"1\" class=\"dataframe\">\n",
       "  <thead>\n",
       "    <tr style=\"text-align: right;\">\n",
       "      <th></th>\n",
       "      <th>id</th>\n",
       "      <th>name</th>\n",
       "      <th>city</th>\n",
       "      <th>state</th>\n",
       "      <th>country</th>\n",
       "      <th>types</th>\n",
       "    </tr>\n",
       "  </thead>\n",
       "  <tbody>\n",
       "    <tr>\n",
       "      <th>0</th>\n",
       "      <td>19730</td>\n",
       "      <td>Brouwerij Danny</td>\n",
       "      <td>Erpe-Mere</td>\n",
       "      <td>NaN</td>\n",
       "      <td>BE</td>\n",
       "      <td>Brewery</td>\n",
       "    </tr>\n",
       "    <tr>\n",
       "      <th>1</th>\n",
       "      <td>32541</td>\n",
       "      <td>Coachella Valley Brewing Co</td>\n",
       "      <td>Thousand Palms</td>\n",
       "      <td>CA</td>\n",
       "      <td>US</td>\n",
       "      <td>Brewery, Bar, Beer-to-go</td>\n",
       "    </tr>\n",
       "    <tr>\n",
       "      <th>6</th>\n",
       "      <td>35975</td>\n",
       "      <td>Modus Operandi Brewing Co.</td>\n",
       "      <td>Mona Vale</td>\n",
       "      <td>NaN</td>\n",
       "      <td>AU</td>\n",
       "      <td>Brewery, Bar, Eatery, Beer-to-go</td>\n",
       "    </tr>\n",
       "    <tr>\n",
       "      <th>7</th>\n",
       "      <td>5618</td>\n",
       "      <td>Hops! Beer Restaurant &amp; Pizza</td>\n",
       "      <td>Riccione (RN)</td>\n",
       "      <td>NaN</td>\n",
       "      <td>IT</td>\n",
       "      <td>Brewery, Bar, Eatery</td>\n",
       "    </tr>\n",
       "    <tr>\n",
       "      <th>13</th>\n",
       "      <td>16995</td>\n",
       "      <td>Le Bien, Le Malt</td>\n",
       "      <td>Rimouski</td>\n",
       "      <td>QC</td>\n",
       "      <td>CA</td>\n",
       "      <td>Brewery, Bar, Eatery</td>\n",
       "    </tr>\n",
       "  </tbody>\n",
       "</table>\n",
       "</div>"
      ],
      "text/plain": [
       "       id                           name            city state country  \\\n",
       "0   19730                Brouwerij Danny       Erpe-Mere   NaN      BE   \n",
       "1   32541    Coachella Valley Brewing Co  Thousand Palms    CA      US   \n",
       "6   35975     Modus Operandi Brewing Co.       Mona Vale   NaN      AU   \n",
       "7    5618  Hops! Beer Restaurant & Pizza   Riccione (RN)   NaN      IT   \n",
       "13  16995               Le Bien, Le Malt        Rimouski    QC      CA   \n",
       "\n",
       "                               types  \n",
       "0                            Brewery  \n",
       "1           Brewery, Bar, Beer-to-go  \n",
       "6   Brewery, Bar, Eatery, Beer-to-go  \n",
       "7               Brewery, Bar, Eatery  \n",
       "13              Brewery, Bar, Eatery  "
      ]
     },
     "execution_count": 44,
     "metadata": {},
     "output_type": "execute_result"
    }
   ],
   "source": [
    "df_breweries = df_breweries[df_breweries[\"types\"].str.contains(\"Brewery\")]\n",
    "df_breweries.head()"
   ]
  },
  {
   "cell_type": "code",
   "execution_count": 45,
   "metadata": {},
   "outputs": [],
   "source": [
    "clean_breweries = df_breweries.rename(columns={\"id\": \"brewery_id\"})"
   ]
  },
  {
   "cell_type": "code",
   "execution_count": 46,
   "metadata": {},
   "outputs": [],
   "source": [
    "clean_breweries.to_csv(os.path.join(\"../data/csv/clean_breweries.csv\"))"
   ]
  },
  {
   "cell_type": "code",
   "execution_count": 47,
   "metadata": {},
   "outputs": [],
   "source": [
    "clean_beers = df_beers.rename(columns={\"id\": \"beer_id\"})"
   ]
  },
  {
   "cell_type": "code",
   "execution_count": 48,
   "metadata": {},
   "outputs": [],
   "source": [
    "clean_beers = clean_beers.drop([\"retired\"], axis=1)"
   ]
  },
  {
   "cell_type": "code",
   "execution_count": 49,
   "metadata": {},
   "outputs": [],
   "source": [
    "clean_beers.to_csv(os.path.join(\"../data/csv/clean_beers.csv\"))"
   ]
  },
  {
   "cell_type": "code",
   "execution_count": 50,
   "metadata": {},
   "outputs": [
    {
     "data": {
      "text/html": [
       "<div>\n",
       "<style scoped>\n",
       "    .dataframe tbody tr th:only-of-type {\n",
       "        vertical-align: middle;\n",
       "    }\n",
       "\n",
       "    .dataframe tbody tr th {\n",
       "        vertical-align: top;\n",
       "    }\n",
       "\n",
       "    .dataframe thead th {\n",
       "        text-align: right;\n",
       "    }\n",
       "</style>\n",
       "<table border=\"1\" class=\"dataframe\">\n",
       "  <thead>\n",
       "    <tr style=\"text-align: right;\">\n",
       "      <th></th>\n",
       "      <th>brewery_id</th>\n",
       "      <th>name</th>\n",
       "      <th>city</th>\n",
       "      <th>state</th>\n",
       "      <th>country</th>\n",
       "      <th>types</th>\n",
       "    </tr>\n",
       "  </thead>\n",
       "  <tbody>\n",
       "    <tr>\n",
       "      <th>0</th>\n",
       "      <td>19730</td>\n",
       "      <td>Brouwerij Danny</td>\n",
       "      <td>Erpe-Mere</td>\n",
       "      <td>NaN</td>\n",
       "      <td>BE</td>\n",
       "      <td>Brewery</td>\n",
       "    </tr>\n",
       "    <tr>\n",
       "      <th>1</th>\n",
       "      <td>32541</td>\n",
       "      <td>Coachella Valley Brewing Co</td>\n",
       "      <td>Thousand Palms</td>\n",
       "      <td>CA</td>\n",
       "      <td>US</td>\n",
       "      <td>Brewery, Bar, Beer-to-go</td>\n",
       "    </tr>\n",
       "    <tr>\n",
       "      <th>6</th>\n",
       "      <td>35975</td>\n",
       "      <td>Modus Operandi Brewing Co.</td>\n",
       "      <td>Mona Vale</td>\n",
       "      <td>NaN</td>\n",
       "      <td>AU</td>\n",
       "      <td>Brewery, Bar, Eatery, Beer-to-go</td>\n",
       "    </tr>\n",
       "    <tr>\n",
       "      <th>7</th>\n",
       "      <td>5618</td>\n",
       "      <td>Hops! Beer Restaurant &amp; Pizza</td>\n",
       "      <td>Riccione (RN)</td>\n",
       "      <td>NaN</td>\n",
       "      <td>IT</td>\n",
       "      <td>Brewery, Bar, Eatery</td>\n",
       "    </tr>\n",
       "    <tr>\n",
       "      <th>13</th>\n",
       "      <td>16995</td>\n",
       "      <td>Le Bien, Le Malt</td>\n",
       "      <td>Rimouski</td>\n",
       "      <td>QC</td>\n",
       "      <td>CA</td>\n",
       "      <td>Brewery, Bar, Eatery</td>\n",
       "    </tr>\n",
       "    <tr>\n",
       "      <th>...</th>\n",
       "      <td>...</td>\n",
       "      <td>...</td>\n",
       "      <td>...</td>\n",
       "      <td>...</td>\n",
       "      <td>...</td>\n",
       "      <td>...</td>\n",
       "    </tr>\n",
       "    <tr>\n",
       "      <th>50337</th>\n",
       "      <td>10186</td>\n",
       "      <td>Blackpool Brewery</td>\n",
       "      <td>Blackpool, Lancs</td>\n",
       "      <td>GB2</td>\n",
       "      <td>GB</td>\n",
       "      <td>Brewery</td>\n",
       "    </tr>\n",
       "    <tr>\n",
       "      <th>50339</th>\n",
       "      <td>30980</td>\n",
       "      <td>Zipline Brewing Co</td>\n",
       "      <td>Lincoln</td>\n",
       "      <td>NE</td>\n",
       "      <td>US</td>\n",
       "      <td>Brewery, Bar, Beer-to-go</td>\n",
       "    </tr>\n",
       "    <tr>\n",
       "      <th>50340</th>\n",
       "      <td>23055</td>\n",
       "      <td>Banff Ave. Brewing Co.</td>\n",
       "      <td>Banff</td>\n",
       "      <td>AB</td>\n",
       "      <td>CA</td>\n",
       "      <td>Brewery, Bar, Eatery, Beer-to-go</td>\n",
       "    </tr>\n",
       "    <tr>\n",
       "      <th>50342</th>\n",
       "      <td>1430</td>\n",
       "      <td>Blagodarnensky Brewery</td>\n",
       "      <td>Blagodarny</td>\n",
       "      <td>NaN</td>\n",
       "      <td>RU</td>\n",
       "      <td>Brewery</td>\n",
       "    </tr>\n",
       "    <tr>\n",
       "      <th>50346</th>\n",
       "      <td>13986</td>\n",
       "      <td>Landmark Beer Company</td>\n",
       "      <td>Syracuse</td>\n",
       "      <td>NY</td>\n",
       "      <td>US</td>\n",
       "      <td>Brewery</td>\n",
       "    </tr>\n",
       "  </tbody>\n",
       "</table>\n",
       "<p>18944 rows × 6 columns</p>\n",
       "</div>"
      ],
      "text/plain": [
       "       brewery_id                           name              city state  \\\n",
       "0           19730                Brouwerij Danny         Erpe-Mere   NaN   \n",
       "1           32541    Coachella Valley Brewing Co    Thousand Palms    CA   \n",
       "6           35975     Modus Operandi Brewing Co.         Mona Vale   NaN   \n",
       "7            5618  Hops! Beer Restaurant & Pizza     Riccione (RN)   NaN   \n",
       "13          16995               Le Bien, Le Malt          Rimouski    QC   \n",
       "...           ...                            ...               ...   ...   \n",
       "50337       10186              Blackpool Brewery  Blackpool, Lancs   GB2   \n",
       "50339       30980             Zipline Brewing Co           Lincoln    NE   \n",
       "50340       23055         Banff Ave. Brewing Co.             Banff    AB   \n",
       "50342        1430         Blagodarnensky Brewery        Blagodarny   NaN   \n",
       "50346       13986          Landmark Beer Company          Syracuse    NY   \n",
       "\n",
       "      country                             types  \n",
       "0          BE                           Brewery  \n",
       "1          US          Brewery, Bar, Beer-to-go  \n",
       "6          AU  Brewery, Bar, Eatery, Beer-to-go  \n",
       "7          IT              Brewery, Bar, Eatery  \n",
       "13         CA              Brewery, Bar, Eatery  \n",
       "...       ...                               ...  \n",
       "50337      GB                           Brewery  \n",
       "50339      US          Brewery, Bar, Beer-to-go  \n",
       "50340      CA  Brewery, Bar, Eatery, Beer-to-go  \n",
       "50342      RU                           Brewery  \n",
       "50346      US                           Brewery  \n",
       "\n",
       "[18944 rows x 6 columns]"
      ]
     },
     "execution_count": 50,
     "metadata": {},
     "output_type": "execute_result"
    }
   ],
   "source": [
    "clean_breweries"
   ]
  },
  {
   "cell_type": "markdown",
   "metadata": {},
   "source": [
    "### "
   ]
  },
  {
   "cell_type": "markdown",
   "metadata": {},
   "source": [
    "### Merge Dataframes"
   ]
  },
  {
   "cell_type": "code",
   "execution_count": 51,
   "metadata": {},
   "outputs": [
    {
     "data": {
      "text/html": [
       "<div>\n",
       "<style scoped>\n",
       "    .dataframe tbody tr th:only-of-type {\n",
       "        vertical-align: middle;\n",
       "    }\n",
       "\n",
       "    .dataframe tbody tr th {\n",
       "        vertical-align: top;\n",
       "    }\n",
       "\n",
       "    .dataframe thead th {\n",
       "        text-align: right;\n",
       "    }\n",
       "</style>\n",
       "<table border=\"1\" class=\"dataframe\">\n",
       "  <thead>\n",
       "    <tr style=\"text-align: right;\">\n",
       "      <th></th>\n",
       "      <th>beer_id</th>\n",
       "      <th>name_x</th>\n",
       "      <th>brewery_id</th>\n",
       "      <th>state_x</th>\n",
       "      <th>country_x</th>\n",
       "      <th>style</th>\n",
       "      <th>availability</th>\n",
       "      <th>abv</th>\n",
       "      <th>name_y</th>\n",
       "      <th>city</th>\n",
       "      <th>state_y</th>\n",
       "      <th>country_y</th>\n",
       "      <th>types</th>\n",
       "    </tr>\n",
       "  </thead>\n",
       "  <tbody>\n",
       "    <tr>\n",
       "      <th>0</th>\n",
       "      <td>202522</td>\n",
       "      <td>Olde Cogitator</td>\n",
       "      <td>2199</td>\n",
       "      <td>CA</td>\n",
       "      <td>US</td>\n",
       "      <td>English Oatmeal Stout</td>\n",
       "      <td>Rotating</td>\n",
       "      <td>7.3</td>\n",
       "      <td>Main Street Brewery</td>\n",
       "      <td>Pleasanton</td>\n",
       "      <td>CA</td>\n",
       "      <td>US</td>\n",
       "      <td>Brewery, Bar, Eatery</td>\n",
       "    </tr>\n",
       "    <tr>\n",
       "      <th>1</th>\n",
       "      <td>8677</td>\n",
       "      <td>Red Leaf Strong Ale</td>\n",
       "      <td>2199</td>\n",
       "      <td>CA</td>\n",
       "      <td>US</td>\n",
       "      <td>American Strong Ale</td>\n",
       "      <td>Year-round</td>\n",
       "      <td>8.6</td>\n",
       "      <td>Main Street Brewery</td>\n",
       "      <td>Pleasanton</td>\n",
       "      <td>CA</td>\n",
       "      <td>US</td>\n",
       "      <td>Brewery, Bar, Eatery</td>\n",
       "    </tr>\n",
       "    <tr>\n",
       "      <th>2</th>\n",
       "      <td>8129</td>\n",
       "      <td>Hefeweisen</td>\n",
       "      <td>2199</td>\n",
       "      <td>CA</td>\n",
       "      <td>US</td>\n",
       "      <td>German Hefeweizen</td>\n",
       "      <td>Year-round</td>\n",
       "      <td>NaN</td>\n",
       "      <td>Main Street Brewery</td>\n",
       "      <td>Pleasanton</td>\n",
       "      <td>CA</td>\n",
       "      <td>US</td>\n",
       "      <td>Brewery, Bar, Eatery</td>\n",
       "    </tr>\n",
       "    <tr>\n",
       "      <th>3</th>\n",
       "      <td>202536</td>\n",
       "      <td>Bikini Bottom</td>\n",
       "      <td>2199</td>\n",
       "      <td>CA</td>\n",
       "      <td>US</td>\n",
       "      <td>American Lager</td>\n",
       "      <td>Rotating</td>\n",
       "      <td>4.9</td>\n",
       "      <td>Main Street Brewery</td>\n",
       "      <td>Pleasanton</td>\n",
       "      <td>CA</td>\n",
       "      <td>US</td>\n",
       "      <td>Brewery, Bar, Eatery</td>\n",
       "    </tr>\n",
       "    <tr>\n",
       "      <th>4</th>\n",
       "      <td>33121</td>\n",
       "      <td>Fog Lifter IPA</td>\n",
       "      <td>2199</td>\n",
       "      <td>CA</td>\n",
       "      <td>US</td>\n",
       "      <td>American IPA</td>\n",
       "      <td>Rotating</td>\n",
       "      <td>NaN</td>\n",
       "      <td>Main Street Brewery</td>\n",
       "      <td>Pleasanton</td>\n",
       "      <td>CA</td>\n",
       "      <td>US</td>\n",
       "      <td>Brewery, Bar, Eatery</td>\n",
       "    </tr>\n",
       "  </tbody>\n",
       "</table>\n",
       "</div>"
      ],
      "text/plain": [
       "   beer_id               name_x  brewery_id state_x country_x  \\\n",
       "0   202522       Olde Cogitator        2199      CA        US   \n",
       "1     8677  Red Leaf Strong Ale        2199      CA        US   \n",
       "2     8129           Hefeweisen        2199      CA        US   \n",
       "3   202536        Bikini Bottom        2199      CA        US   \n",
       "4    33121       Fog Lifter IPA        2199      CA        US   \n",
       "\n",
       "                   style availability  abv               name_y        city  \\\n",
       "0  English Oatmeal Stout     Rotating  7.3  Main Street Brewery  Pleasanton   \n",
       "1    American Strong Ale   Year-round  8.6  Main Street Brewery  Pleasanton   \n",
       "2      German Hefeweizen   Year-round  NaN  Main Street Brewery  Pleasanton   \n",
       "3         American Lager     Rotating  4.9  Main Street Brewery  Pleasanton   \n",
       "4           American IPA     Rotating  NaN  Main Street Brewery  Pleasanton   \n",
       "\n",
       "  state_y country_y                 types  \n",
       "0      CA        US  Brewery, Bar, Eatery  \n",
       "1      CA        US  Brewery, Bar, Eatery  \n",
       "2      CA        US  Brewery, Bar, Eatery  \n",
       "3      CA        US  Brewery, Bar, Eatery  \n",
       "4      CA        US  Brewery, Bar, Eatery  "
      ]
     },
     "execution_count": 51,
     "metadata": {},
     "output_type": "execute_result"
    }
   ],
   "source": [
    "df_merge1 = pd.merge(\n",
    "    clean_beers, clean_breweries, left_on=\"brewery_id\", right_on=\"brewery_id\"\n",
    ")\n",
    "df_merge1.head(5)"
   ]
  },
  {
   "cell_type": "code",
   "execution_count": 52,
   "metadata": {},
   "outputs": [],
   "source": [
    "df_merge1 = df_merge1.rename(\n",
    "    columns={\n",
    "        \"name_x\": \"beer_name\",\n",
    "        \"style\": \"beer_style\",\n",
    "        \"state_x\": \"state\",\n",
    "        \"country_x\": \"country\",\n",
    "    }\n",
    ")"
   ]
  },
  {
   "cell_type": "code",
   "execution_count": 53,
   "metadata": {},
   "outputs": [],
   "source": [
    "df_merge1 = df_merge1.rename(columns={\"name_y\": \"brewery_name\"}).drop(\n",
    "    [\"state_y\", \"country_y\"], axis=1\n",
    ")"
   ]
  },
  {
   "cell_type": "code",
   "execution_count": 54,
   "metadata": {},
   "outputs": [
    {
     "data": {
      "text/html": [
       "<div>\n",
       "<style scoped>\n",
       "    .dataframe tbody tr th:only-of-type {\n",
       "        vertical-align: middle;\n",
       "    }\n",
       "\n",
       "    .dataframe tbody tr th {\n",
       "        vertical-align: top;\n",
       "    }\n",
       "\n",
       "    .dataframe thead th {\n",
       "        text-align: right;\n",
       "    }\n",
       "</style>\n",
       "<table border=\"1\" class=\"dataframe\">\n",
       "  <thead>\n",
       "    <tr style=\"text-align: right;\">\n",
       "      <th></th>\n",
       "      <th>beer_id</th>\n",
       "      <th>beer_name</th>\n",
       "      <th>brewery_id</th>\n",
       "      <th>state</th>\n",
       "      <th>country</th>\n",
       "      <th>beer_style</th>\n",
       "      <th>availability</th>\n",
       "      <th>abv</th>\n",
       "      <th>brewery_name</th>\n",
       "      <th>city</th>\n",
       "      <th>types</th>\n",
       "    </tr>\n",
       "  </thead>\n",
       "  <tbody>\n",
       "    <tr>\n",
       "      <th>0</th>\n",
       "      <td>202522</td>\n",
       "      <td>Olde Cogitator</td>\n",
       "      <td>2199</td>\n",
       "      <td>CA</td>\n",
       "      <td>US</td>\n",
       "      <td>English Oatmeal Stout</td>\n",
       "      <td>Rotating</td>\n",
       "      <td>7.3</td>\n",
       "      <td>Main Street Brewery</td>\n",
       "      <td>Pleasanton</td>\n",
       "      <td>Brewery, Bar, Eatery</td>\n",
       "    </tr>\n",
       "    <tr>\n",
       "      <th>1</th>\n",
       "      <td>8677</td>\n",
       "      <td>Red Leaf Strong Ale</td>\n",
       "      <td>2199</td>\n",
       "      <td>CA</td>\n",
       "      <td>US</td>\n",
       "      <td>American Strong Ale</td>\n",
       "      <td>Year-round</td>\n",
       "      <td>8.6</td>\n",
       "      <td>Main Street Brewery</td>\n",
       "      <td>Pleasanton</td>\n",
       "      <td>Brewery, Bar, Eatery</td>\n",
       "    </tr>\n",
       "    <tr>\n",
       "      <th>2</th>\n",
       "      <td>8129</td>\n",
       "      <td>Hefeweisen</td>\n",
       "      <td>2199</td>\n",
       "      <td>CA</td>\n",
       "      <td>US</td>\n",
       "      <td>German Hefeweizen</td>\n",
       "      <td>Year-round</td>\n",
       "      <td>NaN</td>\n",
       "      <td>Main Street Brewery</td>\n",
       "      <td>Pleasanton</td>\n",
       "      <td>Brewery, Bar, Eatery</td>\n",
       "    </tr>\n",
       "    <tr>\n",
       "      <th>3</th>\n",
       "      <td>202536</td>\n",
       "      <td>Bikini Bottom</td>\n",
       "      <td>2199</td>\n",
       "      <td>CA</td>\n",
       "      <td>US</td>\n",
       "      <td>American Lager</td>\n",
       "      <td>Rotating</td>\n",
       "      <td>4.9</td>\n",
       "      <td>Main Street Brewery</td>\n",
       "      <td>Pleasanton</td>\n",
       "      <td>Brewery, Bar, Eatery</td>\n",
       "    </tr>\n",
       "    <tr>\n",
       "      <th>4</th>\n",
       "      <td>33121</td>\n",
       "      <td>Fog Lifter IPA</td>\n",
       "      <td>2199</td>\n",
       "      <td>CA</td>\n",
       "      <td>US</td>\n",
       "      <td>American IPA</td>\n",
       "      <td>Rotating</td>\n",
       "      <td>NaN</td>\n",
       "      <td>Main Street Brewery</td>\n",
       "      <td>Pleasanton</td>\n",
       "      <td>Brewery, Bar, Eatery</td>\n",
       "    </tr>\n",
       "    <tr>\n",
       "      <th>...</th>\n",
       "      <td>...</td>\n",
       "      <td>...</td>\n",
       "      <td>...</td>\n",
       "      <td>...</td>\n",
       "      <td>...</td>\n",
       "      <td>...</td>\n",
       "      <td>...</td>\n",
       "      <td>...</td>\n",
       "      <td>...</td>\n",
       "      <td>...</td>\n",
       "      <td>...</td>\n",
       "    </tr>\n",
       "    <tr>\n",
       "      <th>358761</th>\n",
       "      <td>167034</td>\n",
       "      <td>Vals Paterke</td>\n",
       "      <td>40028</td>\n",
       "      <td>NaN</td>\n",
       "      <td>BE</td>\n",
       "      <td>Belgian Strong Pale Ale</td>\n",
       "      <td>Year-round</td>\n",
       "      <td>8.3</td>\n",
       "      <td>Brouwerij 't Drankorgel</td>\n",
       "      <td>Mol</td>\n",
       "      <td>Brewery, Beer-to-go</td>\n",
       "    </tr>\n",
       "    <tr>\n",
       "      <th>358762</th>\n",
       "      <td>214214</td>\n",
       "      <td>Crus - Sacra Birra</td>\n",
       "      <td>44211</td>\n",
       "      <td>NaN</td>\n",
       "      <td>IT</td>\n",
       "      <td>Belgian Dubbel</td>\n",
       "      <td>Rotating</td>\n",
       "      <td>7.0</td>\n",
       "      <td>Birrificio Artigianale Opera</td>\n",
       "      <td>Pavia</td>\n",
       "      <td>Brewery</td>\n",
       "    </tr>\n",
       "    <tr>\n",
       "      <th>358763</th>\n",
       "      <td>200378</td>\n",
       "      <td>Caudillo India Pale Ale</td>\n",
       "      <td>43193</td>\n",
       "      <td>NaN</td>\n",
       "      <td>CL</td>\n",
       "      <td>English India Pale Ale (IPA)</td>\n",
       "      <td>Year-round</td>\n",
       "      <td>8.3</td>\n",
       "      <td>Cerveza Caudillo</td>\n",
       "      <td>Santiago</td>\n",
       "      <td>Brewery</td>\n",
       "    </tr>\n",
       "    <tr>\n",
       "      <th>358764</th>\n",
       "      <td>289252</td>\n",
       "      <td>Hellegat Blond</td>\n",
       "      <td>49596</td>\n",
       "      <td>NaN</td>\n",
       "      <td>BE</td>\n",
       "      <td>Belgian Blonde Ale</td>\n",
       "      <td>Year-round</td>\n",
       "      <td>6.5</td>\n",
       "      <td>Brouwerij De Klem</td>\n",
       "      <td>Niel</td>\n",
       "      <td>Brewery, Bar</td>\n",
       "    </tr>\n",
       "    <tr>\n",
       "      <th>358765</th>\n",
       "      <td>300013</td>\n",
       "      <td>Tripel</td>\n",
       "      <td>50238</td>\n",
       "      <td>NaN</td>\n",
       "      <td>BE</td>\n",
       "      <td>Belgian Tripel</td>\n",
       "      <td>Year-round</td>\n",
       "      <td>8.0</td>\n",
       "      <td>La Baraque Michel</td>\n",
       "      <td>Jalhay</td>\n",
       "      <td>Brewery, Bar, Eatery, Beer-to-go</td>\n",
       "    </tr>\n",
       "  </tbody>\n",
       "</table>\n",
       "<p>358766 rows × 11 columns</p>\n",
       "</div>"
      ],
      "text/plain": [
       "        beer_id                beer_name  brewery_id state country  \\\n",
       "0        202522           Olde Cogitator        2199    CA      US   \n",
       "1          8677      Red Leaf Strong Ale        2199    CA      US   \n",
       "2          8129               Hefeweisen        2199    CA      US   \n",
       "3        202536            Bikini Bottom        2199    CA      US   \n",
       "4         33121           Fog Lifter IPA        2199    CA      US   \n",
       "...         ...                      ...         ...   ...     ...   \n",
       "358761   167034             Vals Paterke       40028   NaN      BE   \n",
       "358762   214214       Crus - Sacra Birra       44211   NaN      IT   \n",
       "358763   200378  Caudillo India Pale Ale       43193   NaN      CL   \n",
       "358764   289252           Hellegat Blond       49596   NaN      BE   \n",
       "358765   300013                   Tripel       50238   NaN      BE   \n",
       "\n",
       "                          beer_style availability  abv  \\\n",
       "0              English Oatmeal Stout     Rotating  7.3   \n",
       "1                American Strong Ale   Year-round  8.6   \n",
       "2                  German Hefeweizen   Year-round  NaN   \n",
       "3                     American Lager     Rotating  4.9   \n",
       "4                       American IPA     Rotating  NaN   \n",
       "...                              ...          ...  ...   \n",
       "358761       Belgian Strong Pale Ale   Year-round  8.3   \n",
       "358762                Belgian Dubbel     Rotating  7.0   \n",
       "358763  English India Pale Ale (IPA)   Year-round  8.3   \n",
       "358764            Belgian Blonde Ale   Year-round  6.5   \n",
       "358765                Belgian Tripel   Year-round  8.0   \n",
       "\n",
       "                        brewery_name        city  \\\n",
       "0                Main Street Brewery  Pleasanton   \n",
       "1                Main Street Brewery  Pleasanton   \n",
       "2                Main Street Brewery  Pleasanton   \n",
       "3                Main Street Brewery  Pleasanton   \n",
       "4                Main Street Brewery  Pleasanton   \n",
       "...                              ...         ...   \n",
       "358761       Brouwerij 't Drankorgel         Mol   \n",
       "358762  Birrificio Artigianale Opera       Pavia   \n",
       "358763              Cerveza Caudillo    Santiago   \n",
       "358764             Brouwerij De Klem        Niel   \n",
       "358765             La Baraque Michel      Jalhay   \n",
       "\n",
       "                                   types  \n",
       "0                   Brewery, Bar, Eatery  \n",
       "1                   Brewery, Bar, Eatery  \n",
       "2                   Brewery, Bar, Eatery  \n",
       "3                   Brewery, Bar, Eatery  \n",
       "4                   Brewery, Bar, Eatery  \n",
       "...                                  ...  \n",
       "358761               Brewery, Beer-to-go  \n",
       "358762                           Brewery  \n",
       "358763                           Brewery  \n",
       "358764                      Brewery, Bar  \n",
       "358765  Brewery, Bar, Eatery, Beer-to-go  \n",
       "\n",
       "[358766 rows x 11 columns]"
      ]
     },
     "execution_count": 54,
     "metadata": {},
     "output_type": "execute_result"
    }
   ],
   "source": [
    "df_merge1"
   ]
  },
  {
   "cell_type": "code",
   "execution_count": 55,
   "metadata": {},
   "outputs": [
    {
     "data": {
      "text/html": [
       "<div>\n",
       "<style scoped>\n",
       "    .dataframe tbody tr th:only-of-type {\n",
       "        vertical-align: middle;\n",
       "    }\n",
       "\n",
       "    .dataframe tbody tr th {\n",
       "        vertical-align: top;\n",
       "    }\n",
       "\n",
       "    .dataframe thead th {\n",
       "        text-align: right;\n",
       "    }\n",
       "</style>\n",
       "<table border=\"1\" class=\"dataframe\">\n",
       "  <thead>\n",
       "    <tr style=\"text-align: right;\">\n",
       "      <th></th>\n",
       "      <th>beer_id</th>\n",
       "      <th>score</th>\n",
       "      <th>beer_name</th>\n",
       "      <th>brewery_id</th>\n",
       "      <th>state</th>\n",
       "      <th>country</th>\n",
       "      <th>beer_style</th>\n",
       "      <th>availability</th>\n",
       "      <th>abv</th>\n",
       "      <th>brewery_name</th>\n",
       "      <th>city</th>\n",
       "      <th>types</th>\n",
       "    </tr>\n",
       "  </thead>\n",
       "  <tbody>\n",
       "    <tr>\n",
       "      <th>0</th>\n",
       "      <td>125646</td>\n",
       "      <td>4.50</td>\n",
       "      <td>Haze</td>\n",
       "      <td>28743</td>\n",
       "      <td>MA</td>\n",
       "      <td>US</td>\n",
       "      <td>New England IPA</td>\n",
       "      <td>Rotating</td>\n",
       "      <td>8.2</td>\n",
       "      <td>Tree House Brewing Company</td>\n",
       "      <td>Charlton</td>\n",
       "      <td>Brewery, Bar, Beer-to-go</td>\n",
       "    </tr>\n",
       "    <tr>\n",
       "      <th>1</th>\n",
       "      <td>125646</td>\n",
       "      <td>4.75</td>\n",
       "      <td>Haze</td>\n",
       "      <td>28743</td>\n",
       "      <td>MA</td>\n",
       "      <td>US</td>\n",
       "      <td>New England IPA</td>\n",
       "      <td>Rotating</td>\n",
       "      <td>8.2</td>\n",
       "      <td>Tree House Brewing Company</td>\n",
       "      <td>Charlton</td>\n",
       "      <td>Brewery, Bar, Beer-to-go</td>\n",
       "    </tr>\n",
       "    <tr>\n",
       "      <th>2</th>\n",
       "      <td>125646</td>\n",
       "      <td>4.58</td>\n",
       "      <td>Haze</td>\n",
       "      <td>28743</td>\n",
       "      <td>MA</td>\n",
       "      <td>US</td>\n",
       "      <td>New England IPA</td>\n",
       "      <td>Rotating</td>\n",
       "      <td>8.2</td>\n",
       "      <td>Tree House Brewing Company</td>\n",
       "      <td>Charlton</td>\n",
       "      <td>Brewery, Bar, Beer-to-go</td>\n",
       "    </tr>\n",
       "    <tr>\n",
       "      <th>3</th>\n",
       "      <td>125646</td>\n",
       "      <td>4.31</td>\n",
       "      <td>Haze</td>\n",
       "      <td>28743</td>\n",
       "      <td>MA</td>\n",
       "      <td>US</td>\n",
       "      <td>New England IPA</td>\n",
       "      <td>Rotating</td>\n",
       "      <td>8.2</td>\n",
       "      <td>Tree House Brewing Company</td>\n",
       "      <td>Charlton</td>\n",
       "      <td>Brewery, Bar, Beer-to-go</td>\n",
       "    </tr>\n",
       "    <tr>\n",
       "      <th>4</th>\n",
       "      <td>125646</td>\n",
       "      <td>4.91</td>\n",
       "      <td>Haze</td>\n",
       "      <td>28743</td>\n",
       "      <td>MA</td>\n",
       "      <td>US</td>\n",
       "      <td>New England IPA</td>\n",
       "      <td>Rotating</td>\n",
       "      <td>8.2</td>\n",
       "      <td>Tree House Brewing Company</td>\n",
       "      <td>Charlton</td>\n",
       "      <td>Brewery, Bar, Beer-to-go</td>\n",
       "    </tr>\n",
       "  </tbody>\n",
       "</table>\n",
       "</div>"
      ],
      "text/plain": [
       "   beer_id  score beer_name  brewery_id state country       beer_style  \\\n",
       "0   125646   4.50      Haze       28743    MA      US  New England IPA   \n",
       "1   125646   4.75      Haze       28743    MA      US  New England IPA   \n",
       "2   125646   4.58      Haze       28743    MA      US  New England IPA   \n",
       "3   125646   4.31      Haze       28743    MA      US  New England IPA   \n",
       "4   125646   4.91      Haze       28743    MA      US  New England IPA   \n",
       "\n",
       "  availability  abv                brewery_name      city  \\\n",
       "0     Rotating  8.2  Tree House Brewing Company  Charlton   \n",
       "1     Rotating  8.2  Tree House Brewing Company  Charlton   \n",
       "2     Rotating  8.2  Tree House Brewing Company  Charlton   \n",
       "3     Rotating  8.2  Tree House Brewing Company  Charlton   \n",
       "4     Rotating  8.2  Tree House Brewing Company  Charlton   \n",
       "\n",
       "                      types  \n",
       "0  Brewery, Bar, Beer-to-go  \n",
       "1  Brewery, Bar, Beer-to-go  \n",
       "2  Brewery, Bar, Beer-to-go  \n",
       "3  Brewery, Bar, Beer-to-go  \n",
       "4  Brewery, Bar, Beer-to-go  "
      ]
     },
     "execution_count": 55,
     "metadata": {},
     "output_type": "execute_result"
    }
   ],
   "source": [
    "df_merge2 = pd.merge(df_reviews2, df_merge1, left_on=\"beer_id\", right_on=\"beer_id\")\n",
    "df_merge2.head(5)"
   ]
  },
  {
   "cell_type": "code",
   "execution_count": 56,
   "metadata": {},
   "outputs": [],
   "source": [
    "# df_merge2.to_csv(os.path.join(\"../data/csv/final_merged_data.csv\"))"
   ]
  },
  {
   "cell_type": "code",
   "execution_count": 57,
   "metadata": {},
   "outputs": [
    {
     "data": {
      "text/html": [
       "<div>\n",
       "<style scoped>\n",
       "    .dataframe tbody tr th:only-of-type {\n",
       "        vertical-align: middle;\n",
       "    }\n",
       "\n",
       "    .dataframe tbody tr th {\n",
       "        vertical-align: top;\n",
       "    }\n",
       "\n",
       "    .dataframe thead th {\n",
       "        text-align: right;\n",
       "    }\n",
       "</style>\n",
       "<table border=\"1\" class=\"dataframe\">\n",
       "  <thead>\n",
       "    <tr style=\"text-align: right;\">\n",
       "      <th></th>\n",
       "      <th>beer_id</th>\n",
       "      <th>score</th>\n",
       "      <th>beer_name</th>\n",
       "      <th>brewery_id</th>\n",
       "      <th>state</th>\n",
       "      <th>country</th>\n",
       "      <th>beer_style</th>\n",
       "      <th>availability</th>\n",
       "      <th>abv</th>\n",
       "      <th>brewery_name</th>\n",
       "      <th>city</th>\n",
       "      <th>types</th>\n",
       "    </tr>\n",
       "  </thead>\n",
       "  <tbody>\n",
       "    <tr>\n",
       "      <th>False</th>\n",
       "      <td>4383363.0</td>\n",
       "      <td>4383363.0</td>\n",
       "      <td>4383363.0</td>\n",
       "      <td>4383363.0</td>\n",
       "      <td>3908748</td>\n",
       "      <td>4381425</td>\n",
       "      <td>4383363.0</td>\n",
       "      <td>4383363.0</td>\n",
       "      <td>4345162</td>\n",
       "      <td>4383363.0</td>\n",
       "      <td>4376015</td>\n",
       "      <td>4383363.0</td>\n",
       "    </tr>\n",
       "    <tr>\n",
       "      <th>True</th>\n",
       "      <td>NaN</td>\n",
       "      <td>NaN</td>\n",
       "      <td>NaN</td>\n",
       "      <td>NaN</td>\n",
       "      <td>474615</td>\n",
       "      <td>1938</td>\n",
       "      <td>NaN</td>\n",
       "      <td>NaN</td>\n",
       "      <td>38201</td>\n",
       "      <td>NaN</td>\n",
       "      <td>7348</td>\n",
       "      <td>NaN</td>\n",
       "    </tr>\n",
       "  </tbody>\n",
       "</table>\n",
       "</div>"
      ],
      "text/plain": [
       "         beer_id      score  beer_name  brewery_id    state  country  \\\n",
       "False  4383363.0  4383363.0  4383363.0   4383363.0  3908748  4381425   \n",
       "True         NaN        NaN        NaN         NaN   474615     1938   \n",
       "\n",
       "       beer_style  availability      abv  brewery_name     city      types  \n",
       "False   4383363.0     4383363.0  4345162     4383363.0  4376015  4383363.0  \n",
       "True          NaN           NaN    38201           NaN     7348        NaN  "
      ]
     },
     "execution_count": 57,
     "metadata": {},
     "output_type": "execute_result"
    }
   ],
   "source": [
    "# Find number of nulls for every column\n",
    "df_merge2.apply(lambda x: x.isnull().value_counts())"
   ]
  },
  {
   "cell_type": "code",
   "execution_count": 58,
   "metadata": {},
   "outputs": [],
   "source": [
    "df_merge3 = pd.merge(df_merge2, df_beerstyles, left_on=\"beer_style\", right_on=\"Style\")"
   ]
  },
  {
   "cell_type": "code",
   "execution_count": 59,
   "metadata": {},
   "outputs": [
    {
     "data": {
      "text/html": [
       "<div>\n",
       "<style scoped>\n",
       "    .dataframe tbody tr th:only-of-type {\n",
       "        vertical-align: middle;\n",
       "    }\n",
       "\n",
       "    .dataframe tbody tr th {\n",
       "        vertical-align: top;\n",
       "    }\n",
       "\n",
       "    .dataframe thead th {\n",
       "        text-align: right;\n",
       "    }\n",
       "</style>\n",
       "<table border=\"1\" class=\"dataframe\">\n",
       "  <thead>\n",
       "    <tr style=\"text-align: right;\">\n",
       "      <th></th>\n",
       "      <th>beer_id</th>\n",
       "      <th>score</th>\n",
       "      <th>beer_name</th>\n",
       "      <th>brewery_id</th>\n",
       "      <th>state</th>\n",
       "      <th>country</th>\n",
       "      <th>beer_style</th>\n",
       "      <th>availability</th>\n",
       "      <th>abv</th>\n",
       "      <th>brewery_name</th>\n",
       "      <th>...</th>\n",
       "      <th>ABV (min)</th>\n",
       "      <th>ABV (max)</th>\n",
       "      <th>ABV (avg)</th>\n",
       "      <th>IBU (min)</th>\n",
       "      <th>IBU (max)</th>\n",
       "      <th>IBU (avg)</th>\n",
       "      <th>SRM (min)</th>\n",
       "      <th>SRM (max)</th>\n",
       "      <th>Glassware</th>\n",
       "      <th>Description</th>\n",
       "    </tr>\n",
       "  </thead>\n",
       "  <tbody>\n",
       "    <tr>\n",
       "      <th>0</th>\n",
       "      <td>125646</td>\n",
       "      <td>4.50</td>\n",
       "      <td>Haze</td>\n",
       "      <td>28743</td>\n",
       "      <td>MA</td>\n",
       "      <td>US</td>\n",
       "      <td>New England IPA</td>\n",
       "      <td>Rotating</td>\n",
       "      <td>8.2</td>\n",
       "      <td>Tree House Brewing Company</td>\n",
       "      <td>...</td>\n",
       "      <td>6.3</td>\n",
       "      <td>7.5</td>\n",
       "      <td>6.9</td>\n",
       "      <td>50</td>\n",
       "      <td>70</td>\n",
       "      <td>60.0</td>\n",
       "      <td>6</td>\n",
       "      <td>15</td>\n",
       "      <td>Pint Glass</td>\n",
       "      <td>Emphasizing hop aroma and flavor without braci...</td>\n",
       "    </tr>\n",
       "    <tr>\n",
       "      <th>1</th>\n",
       "      <td>125646</td>\n",
       "      <td>4.75</td>\n",
       "      <td>Haze</td>\n",
       "      <td>28743</td>\n",
       "      <td>MA</td>\n",
       "      <td>US</td>\n",
       "      <td>New England IPA</td>\n",
       "      <td>Rotating</td>\n",
       "      <td>8.2</td>\n",
       "      <td>Tree House Brewing Company</td>\n",
       "      <td>...</td>\n",
       "      <td>6.3</td>\n",
       "      <td>7.5</td>\n",
       "      <td>6.9</td>\n",
       "      <td>50</td>\n",
       "      <td>70</td>\n",
       "      <td>60.0</td>\n",
       "      <td>6</td>\n",
       "      <td>15</td>\n",
       "      <td>Pint Glass</td>\n",
       "      <td>Emphasizing hop aroma and flavor without braci...</td>\n",
       "    </tr>\n",
       "    <tr>\n",
       "      <th>2</th>\n",
       "      <td>125646</td>\n",
       "      <td>4.58</td>\n",
       "      <td>Haze</td>\n",
       "      <td>28743</td>\n",
       "      <td>MA</td>\n",
       "      <td>US</td>\n",
       "      <td>New England IPA</td>\n",
       "      <td>Rotating</td>\n",
       "      <td>8.2</td>\n",
       "      <td>Tree House Brewing Company</td>\n",
       "      <td>...</td>\n",
       "      <td>6.3</td>\n",
       "      <td>7.5</td>\n",
       "      <td>6.9</td>\n",
       "      <td>50</td>\n",
       "      <td>70</td>\n",
       "      <td>60.0</td>\n",
       "      <td>6</td>\n",
       "      <td>15</td>\n",
       "      <td>Pint Glass</td>\n",
       "      <td>Emphasizing hop aroma and flavor without braci...</td>\n",
       "    </tr>\n",
       "    <tr>\n",
       "      <th>3</th>\n",
       "      <td>125646</td>\n",
       "      <td>4.31</td>\n",
       "      <td>Haze</td>\n",
       "      <td>28743</td>\n",
       "      <td>MA</td>\n",
       "      <td>US</td>\n",
       "      <td>New England IPA</td>\n",
       "      <td>Rotating</td>\n",
       "      <td>8.2</td>\n",
       "      <td>Tree House Brewing Company</td>\n",
       "      <td>...</td>\n",
       "      <td>6.3</td>\n",
       "      <td>7.5</td>\n",
       "      <td>6.9</td>\n",
       "      <td>50</td>\n",
       "      <td>70</td>\n",
       "      <td>60.0</td>\n",
       "      <td>6</td>\n",
       "      <td>15</td>\n",
       "      <td>Pint Glass</td>\n",
       "      <td>Emphasizing hop aroma and flavor without braci...</td>\n",
       "    </tr>\n",
       "    <tr>\n",
       "      <th>4</th>\n",
       "      <td>125646</td>\n",
       "      <td>4.91</td>\n",
       "      <td>Haze</td>\n",
       "      <td>28743</td>\n",
       "      <td>MA</td>\n",
       "      <td>US</td>\n",
       "      <td>New England IPA</td>\n",
       "      <td>Rotating</td>\n",
       "      <td>8.2</td>\n",
       "      <td>Tree House Brewing Company</td>\n",
       "      <td>...</td>\n",
       "      <td>6.3</td>\n",
       "      <td>7.5</td>\n",
       "      <td>6.9</td>\n",
       "      <td>50</td>\n",
       "      <td>70</td>\n",
       "      <td>60.0</td>\n",
       "      <td>6</td>\n",
       "      <td>15</td>\n",
       "      <td>Pint Glass</td>\n",
       "      <td>Emphasizing hop aroma and flavor without braci...</td>\n",
       "    </tr>\n",
       "    <tr>\n",
       "      <th>...</th>\n",
       "      <td>...</td>\n",
       "      <td>...</td>\n",
       "      <td>...</td>\n",
       "      <td>...</td>\n",
       "      <td>...</td>\n",
       "      <td>...</td>\n",
       "      <td>...</td>\n",
       "      <td>...</td>\n",
       "      <td>...</td>\n",
       "      <td>...</td>\n",
       "      <td>...</td>\n",
       "      <td>...</td>\n",
       "      <td>...</td>\n",
       "      <td>...</td>\n",
       "      <td>...</td>\n",
       "      <td>...</td>\n",
       "      <td>...</td>\n",
       "      <td>...</td>\n",
       "      <td>...</td>\n",
       "      <td>...</td>\n",
       "      <td>...</td>\n",
       "    </tr>\n",
       "    <tr>\n",
       "      <th>3830008</th>\n",
       "      <td>58111</td>\n",
       "      <td>4.00</td>\n",
       "      <td>Coedo Beniaka</td>\n",
       "      <td>3551</td>\n",
       "      <td>NaN</td>\n",
       "      <td>JP</td>\n",
       "      <td>Japanese Happoshu</td>\n",
       "      <td>Year-round</td>\n",
       "      <td>7.0</td>\n",
       "      <td>Coedo Brewery (Kyodo Shoji Koedo Brewery)</td>\n",
       "      <td>...</td>\n",
       "      <td>4.0</td>\n",
       "      <td>7.0</td>\n",
       "      <td>5.5</td>\n",
       "      <td>0</td>\n",
       "      <td>0</td>\n",
       "      <td>0.0</td>\n",
       "      <td>2</td>\n",
       "      <td>7</td>\n",
       "      <td>Pilsener Glass</td>\n",
       "      <td>Happoshu is a sparkling low-malt beverage prod...</td>\n",
       "    </tr>\n",
       "    <tr>\n",
       "      <th>3830009</th>\n",
       "      <td>58111</td>\n",
       "      <td>4.25</td>\n",
       "      <td>Coedo Beniaka</td>\n",
       "      <td>3551</td>\n",
       "      <td>NaN</td>\n",
       "      <td>JP</td>\n",
       "      <td>Japanese Happoshu</td>\n",
       "      <td>Year-round</td>\n",
       "      <td>7.0</td>\n",
       "      <td>Coedo Brewery (Kyodo Shoji Koedo Brewery)</td>\n",
       "      <td>...</td>\n",
       "      <td>4.0</td>\n",
       "      <td>7.0</td>\n",
       "      <td>5.5</td>\n",
       "      <td>0</td>\n",
       "      <td>0</td>\n",
       "      <td>0.0</td>\n",
       "      <td>2</td>\n",
       "      <td>7</td>\n",
       "      <td>Pilsener Glass</td>\n",
       "      <td>Happoshu is a sparkling low-malt beverage prod...</td>\n",
       "    </tr>\n",
       "    <tr>\n",
       "      <th>3830010</th>\n",
       "      <td>58111</td>\n",
       "      <td>4.50</td>\n",
       "      <td>Coedo Beniaka</td>\n",
       "      <td>3551</td>\n",
       "      <td>NaN</td>\n",
       "      <td>JP</td>\n",
       "      <td>Japanese Happoshu</td>\n",
       "      <td>Year-round</td>\n",
       "      <td>7.0</td>\n",
       "      <td>Coedo Brewery (Kyodo Shoji Koedo Brewery)</td>\n",
       "      <td>...</td>\n",
       "      <td>4.0</td>\n",
       "      <td>7.0</td>\n",
       "      <td>5.5</td>\n",
       "      <td>0</td>\n",
       "      <td>0</td>\n",
       "      <td>0.0</td>\n",
       "      <td>2</td>\n",
       "      <td>7</td>\n",
       "      <td>Pilsener Glass</td>\n",
       "      <td>Happoshu is a sparkling low-malt beverage prod...</td>\n",
       "    </tr>\n",
       "    <tr>\n",
       "      <th>3830011</th>\n",
       "      <td>58111</td>\n",
       "      <td>4.00</td>\n",
       "      <td>Coedo Beniaka</td>\n",
       "      <td>3551</td>\n",
       "      <td>NaN</td>\n",
       "      <td>JP</td>\n",
       "      <td>Japanese Happoshu</td>\n",
       "      <td>Year-round</td>\n",
       "      <td>7.0</td>\n",
       "      <td>Coedo Brewery (Kyodo Shoji Koedo Brewery)</td>\n",
       "      <td>...</td>\n",
       "      <td>4.0</td>\n",
       "      <td>7.0</td>\n",
       "      <td>5.5</td>\n",
       "      <td>0</td>\n",
       "      <td>0</td>\n",
       "      <td>0.0</td>\n",
       "      <td>2</td>\n",
       "      <td>7</td>\n",
       "      <td>Pilsener Glass</td>\n",
       "      <td>Happoshu is a sparkling low-malt beverage prod...</td>\n",
       "    </tr>\n",
       "    <tr>\n",
       "      <th>3830012</th>\n",
       "      <td>58111</td>\n",
       "      <td>4.00</td>\n",
       "      <td>Coedo Beniaka</td>\n",
       "      <td>3551</td>\n",
       "      <td>NaN</td>\n",
       "      <td>JP</td>\n",
       "      <td>Japanese Happoshu</td>\n",
       "      <td>Year-round</td>\n",
       "      <td>7.0</td>\n",
       "      <td>Coedo Brewery (Kyodo Shoji Koedo Brewery)</td>\n",
       "      <td>...</td>\n",
       "      <td>4.0</td>\n",
       "      <td>7.0</td>\n",
       "      <td>5.5</td>\n",
       "      <td>0</td>\n",
       "      <td>0</td>\n",
       "      <td>0.0</td>\n",
       "      <td>2</td>\n",
       "      <td>7</td>\n",
       "      <td>Pilsener Glass</td>\n",
       "      <td>Happoshu is a sparkling low-malt beverage prod...</td>\n",
       "    </tr>\n",
       "  </tbody>\n",
       "</table>\n",
       "<p>3830013 rows × 24 columns</p>\n",
       "</div>"
      ],
      "text/plain": [
       "         beer_id  score      beer_name  brewery_id state country  \\\n",
       "0         125646   4.50           Haze       28743    MA      US   \n",
       "1         125646   4.75           Haze       28743    MA      US   \n",
       "2         125646   4.58           Haze       28743    MA      US   \n",
       "3         125646   4.31           Haze       28743    MA      US   \n",
       "4         125646   4.91           Haze       28743    MA      US   \n",
       "...          ...    ...            ...         ...   ...     ...   \n",
       "3830008    58111   4.00  Coedo Beniaka        3551   NaN      JP   \n",
       "3830009    58111   4.25  Coedo Beniaka        3551   NaN      JP   \n",
       "3830010    58111   4.50  Coedo Beniaka        3551   NaN      JP   \n",
       "3830011    58111   4.00  Coedo Beniaka        3551   NaN      JP   \n",
       "3830012    58111   4.00  Coedo Beniaka        3551   NaN      JP   \n",
       "\n",
       "                beer_style availability  abv  \\\n",
       "0          New England IPA     Rotating  8.2   \n",
       "1          New England IPA     Rotating  8.2   \n",
       "2          New England IPA     Rotating  8.2   \n",
       "3          New England IPA     Rotating  8.2   \n",
       "4          New England IPA     Rotating  8.2   \n",
       "...                    ...          ...  ...   \n",
       "3830008  Japanese Happoshu   Year-round  7.0   \n",
       "3830009  Japanese Happoshu   Year-round  7.0   \n",
       "3830010  Japanese Happoshu   Year-round  7.0   \n",
       "3830011  Japanese Happoshu   Year-round  7.0   \n",
       "3830012  Japanese Happoshu   Year-round  7.0   \n",
       "\n",
       "                                      brewery_name  ... ABV (min) ABV (max)  \\\n",
       "0                       Tree House Brewing Company  ...       6.3       7.5   \n",
       "1                       Tree House Brewing Company  ...       6.3       7.5   \n",
       "2                       Tree House Brewing Company  ...       6.3       7.5   \n",
       "3                       Tree House Brewing Company  ...       6.3       7.5   \n",
       "4                       Tree House Brewing Company  ...       6.3       7.5   \n",
       "...                                            ...  ...       ...       ...   \n",
       "3830008  Coedo Brewery (Kyodo Shoji Koedo Brewery)  ...       4.0       7.0   \n",
       "3830009  Coedo Brewery (Kyodo Shoji Koedo Brewery)  ...       4.0       7.0   \n",
       "3830010  Coedo Brewery (Kyodo Shoji Koedo Brewery)  ...       4.0       7.0   \n",
       "3830011  Coedo Brewery (Kyodo Shoji Koedo Brewery)  ...       4.0       7.0   \n",
       "3830012  Coedo Brewery (Kyodo Shoji Koedo Brewery)  ...       4.0       7.0   \n",
       "\n",
       "        ABV (avg) IBU (min)  IBU (max)  IBU (avg)  SRM (min)  SRM (max)  \\\n",
       "0             6.9        50         70       60.0          6         15   \n",
       "1             6.9        50         70       60.0          6         15   \n",
       "2             6.9        50         70       60.0          6         15   \n",
       "3             6.9        50         70       60.0          6         15   \n",
       "4             6.9        50         70       60.0          6         15   \n",
       "...           ...       ...        ...        ...        ...        ...   \n",
       "3830008       5.5         0          0        0.0          2          7   \n",
       "3830009       5.5         0          0        0.0          2          7   \n",
       "3830010       5.5         0          0        0.0          2          7   \n",
       "3830011       5.5         0          0        0.0          2          7   \n",
       "3830012       5.5         0          0        0.0          2          7   \n",
       "\n",
       "             Glassware                                         Description  \n",
       "0            Pint Glass  Emphasizing hop aroma and flavor without braci...  \n",
       "1            Pint Glass  Emphasizing hop aroma and flavor without braci...  \n",
       "2            Pint Glass  Emphasizing hop aroma and flavor without braci...  \n",
       "3            Pint Glass  Emphasizing hop aroma and flavor without braci...  \n",
       "4            Pint Glass  Emphasizing hop aroma and flavor without braci...  \n",
       "...                 ...                                                ...  \n",
       "3830008  Pilsener Glass  Happoshu is a sparkling low-malt beverage prod...  \n",
       "3830009  Pilsener Glass  Happoshu is a sparkling low-malt beverage prod...  \n",
       "3830010  Pilsener Glass  Happoshu is a sparkling low-malt beverage prod...  \n",
       "3830011  Pilsener Glass  Happoshu is a sparkling low-malt beverage prod...  \n",
       "3830012  Pilsener Glass  Happoshu is a sparkling low-malt beverage prod...  \n",
       "\n",
       "[3830013 rows x 24 columns]"
      ]
     },
     "execution_count": 59,
     "metadata": {},
     "output_type": "execute_result"
    }
   ],
   "source": [
    "df_merge3"
   ]
  },
  {
   "cell_type": "code",
   "execution_count": 60,
   "metadata": {},
   "outputs": [],
   "source": [
    "df_merge3 = df_merge3.drop([\"Style\"], axis=1)"
   ]
  },
  {
   "cell_type": "code",
   "execution_count": 61,
   "metadata": {},
   "outputs": [],
   "source": [
    "# df_merge3 = df_merge3.rename(columns={\"Style\": \"Category\"})"
   ]
  },
  {
   "cell_type": "code",
   "execution_count": 62,
   "metadata": {},
   "outputs": [],
   "source": [
    "#df_merge3 = df_merge3.rename(columns={\"Glassware \": \"Glassware\"})"
   ]
  },
  {
   "cell_type": "code",
   "execution_count": 63,
   "metadata": {},
   "outputs": [
    {
     "data": {
      "text/html": [
       "<div>\n",
       "<style scoped>\n",
       "    .dataframe tbody tr th:only-of-type {\n",
       "        vertical-align: middle;\n",
       "    }\n",
       "\n",
       "    .dataframe tbody tr th {\n",
       "        vertical-align: top;\n",
       "    }\n",
       "\n",
       "    .dataframe thead th {\n",
       "        text-align: right;\n",
       "    }\n",
       "</style>\n",
       "<table border=\"1\" class=\"dataframe\">\n",
       "  <thead>\n",
       "    <tr style=\"text-align: right;\">\n",
       "      <th></th>\n",
       "      <th>beer_id</th>\n",
       "      <th>score</th>\n",
       "      <th>beer_name</th>\n",
       "      <th>brewery_id</th>\n",
       "      <th>state</th>\n",
       "      <th>country</th>\n",
       "      <th>beer_style</th>\n",
       "      <th>availability</th>\n",
       "      <th>abv</th>\n",
       "      <th>brewery_name</th>\n",
       "      <th>...</th>\n",
       "      <th>ABV (min)</th>\n",
       "      <th>ABV (max)</th>\n",
       "      <th>ABV (avg)</th>\n",
       "      <th>IBU (min)</th>\n",
       "      <th>IBU (max)</th>\n",
       "      <th>IBU (avg)</th>\n",
       "      <th>SRM (min)</th>\n",
       "      <th>SRM (max)</th>\n",
       "      <th>Glassware</th>\n",
       "      <th>Description</th>\n",
       "    </tr>\n",
       "  </thead>\n",
       "  <tbody>\n",
       "    <tr>\n",
       "      <th>0</th>\n",
       "      <td>125646</td>\n",
       "      <td>4.50</td>\n",
       "      <td>Haze</td>\n",
       "      <td>28743</td>\n",
       "      <td>MA</td>\n",
       "      <td>US</td>\n",
       "      <td>New England IPA</td>\n",
       "      <td>Rotating</td>\n",
       "      <td>8.2</td>\n",
       "      <td>Tree House Brewing Company</td>\n",
       "      <td>...</td>\n",
       "      <td>6.3</td>\n",
       "      <td>7.5</td>\n",
       "      <td>6.9</td>\n",
       "      <td>50</td>\n",
       "      <td>70</td>\n",
       "      <td>60.0</td>\n",
       "      <td>6</td>\n",
       "      <td>15</td>\n",
       "      <td>Pint Glass</td>\n",
       "      <td>Emphasizing hop aroma and flavor without braci...</td>\n",
       "    </tr>\n",
       "    <tr>\n",
       "      <th>1</th>\n",
       "      <td>125646</td>\n",
       "      <td>4.75</td>\n",
       "      <td>Haze</td>\n",
       "      <td>28743</td>\n",
       "      <td>MA</td>\n",
       "      <td>US</td>\n",
       "      <td>New England IPA</td>\n",
       "      <td>Rotating</td>\n",
       "      <td>8.2</td>\n",
       "      <td>Tree House Brewing Company</td>\n",
       "      <td>...</td>\n",
       "      <td>6.3</td>\n",
       "      <td>7.5</td>\n",
       "      <td>6.9</td>\n",
       "      <td>50</td>\n",
       "      <td>70</td>\n",
       "      <td>60.0</td>\n",
       "      <td>6</td>\n",
       "      <td>15</td>\n",
       "      <td>Pint Glass</td>\n",
       "      <td>Emphasizing hop aroma and flavor without braci...</td>\n",
       "    </tr>\n",
       "    <tr>\n",
       "      <th>2</th>\n",
       "      <td>125646</td>\n",
       "      <td>4.58</td>\n",
       "      <td>Haze</td>\n",
       "      <td>28743</td>\n",
       "      <td>MA</td>\n",
       "      <td>US</td>\n",
       "      <td>New England IPA</td>\n",
       "      <td>Rotating</td>\n",
       "      <td>8.2</td>\n",
       "      <td>Tree House Brewing Company</td>\n",
       "      <td>...</td>\n",
       "      <td>6.3</td>\n",
       "      <td>7.5</td>\n",
       "      <td>6.9</td>\n",
       "      <td>50</td>\n",
       "      <td>70</td>\n",
       "      <td>60.0</td>\n",
       "      <td>6</td>\n",
       "      <td>15</td>\n",
       "      <td>Pint Glass</td>\n",
       "      <td>Emphasizing hop aroma and flavor without braci...</td>\n",
       "    </tr>\n",
       "    <tr>\n",
       "      <th>3</th>\n",
       "      <td>125646</td>\n",
       "      <td>4.31</td>\n",
       "      <td>Haze</td>\n",
       "      <td>28743</td>\n",
       "      <td>MA</td>\n",
       "      <td>US</td>\n",
       "      <td>New England IPA</td>\n",
       "      <td>Rotating</td>\n",
       "      <td>8.2</td>\n",
       "      <td>Tree House Brewing Company</td>\n",
       "      <td>...</td>\n",
       "      <td>6.3</td>\n",
       "      <td>7.5</td>\n",
       "      <td>6.9</td>\n",
       "      <td>50</td>\n",
       "      <td>70</td>\n",
       "      <td>60.0</td>\n",
       "      <td>6</td>\n",
       "      <td>15</td>\n",
       "      <td>Pint Glass</td>\n",
       "      <td>Emphasizing hop aroma and flavor without braci...</td>\n",
       "    </tr>\n",
       "    <tr>\n",
       "      <th>4</th>\n",
       "      <td>125646</td>\n",
       "      <td>4.91</td>\n",
       "      <td>Haze</td>\n",
       "      <td>28743</td>\n",
       "      <td>MA</td>\n",
       "      <td>US</td>\n",
       "      <td>New England IPA</td>\n",
       "      <td>Rotating</td>\n",
       "      <td>8.2</td>\n",
       "      <td>Tree House Brewing Company</td>\n",
       "      <td>...</td>\n",
       "      <td>6.3</td>\n",
       "      <td>7.5</td>\n",
       "      <td>6.9</td>\n",
       "      <td>50</td>\n",
       "      <td>70</td>\n",
       "      <td>60.0</td>\n",
       "      <td>6</td>\n",
       "      <td>15</td>\n",
       "      <td>Pint Glass</td>\n",
       "      <td>Emphasizing hop aroma and flavor without braci...</td>\n",
       "    </tr>\n",
       "  </tbody>\n",
       "</table>\n",
       "<p>5 rows × 23 columns</p>\n",
       "</div>"
      ],
      "text/plain": [
       "   beer_id  score beer_name  brewery_id state country       beer_style  \\\n",
       "0   125646   4.50      Haze       28743    MA      US  New England IPA   \n",
       "1   125646   4.75      Haze       28743    MA      US  New England IPA   \n",
       "2   125646   4.58      Haze       28743    MA      US  New England IPA   \n",
       "3   125646   4.31      Haze       28743    MA      US  New England IPA   \n",
       "4   125646   4.91      Haze       28743    MA      US  New England IPA   \n",
       "\n",
       "  availability  abv                brewery_name  ... ABV (min) ABV (max)  \\\n",
       "0     Rotating  8.2  Tree House Brewing Company  ...       6.3       7.5   \n",
       "1     Rotating  8.2  Tree House Brewing Company  ...       6.3       7.5   \n",
       "2     Rotating  8.2  Tree House Brewing Company  ...       6.3       7.5   \n",
       "3     Rotating  8.2  Tree House Brewing Company  ...       6.3       7.5   \n",
       "4     Rotating  8.2  Tree House Brewing Company  ...       6.3       7.5   \n",
       "\n",
       "  ABV (avg)  IBU (min)  IBU (max)  IBU (avg)  SRM (min)  SRM (max)  \\\n",
       "0       6.9         50         70       60.0          6         15   \n",
       "1       6.9         50         70       60.0          6         15   \n",
       "2       6.9         50         70       60.0          6         15   \n",
       "3       6.9         50         70       60.0          6         15   \n",
       "4       6.9         50         70       60.0          6         15   \n",
       "\n",
       "    Glassware                                        Description  \n",
       "0  Pint Glass  Emphasizing hop aroma and flavor without braci...  \n",
       "1  Pint Glass  Emphasizing hop aroma and flavor without braci...  \n",
       "2  Pint Glass  Emphasizing hop aroma and flavor without braci...  \n",
       "3  Pint Glass  Emphasizing hop aroma and flavor without braci...  \n",
       "4  Pint Glass  Emphasizing hop aroma and flavor without braci...  \n",
       "\n",
       "[5 rows x 23 columns]"
      ]
     },
     "execution_count": 63,
     "metadata": {},
     "output_type": "execute_result"
    }
   ],
   "source": [
    "df_merge3.head(5)"
   ]
  },
  {
   "cell_type": "code",
   "execution_count": 64,
   "metadata": {},
   "outputs": [
    {
     "data": {
      "text/html": [
       "<div>\n",
       "<style scoped>\n",
       "    .dataframe tbody tr th:only-of-type {\n",
       "        vertical-align: middle;\n",
       "    }\n",
       "\n",
       "    .dataframe tbody tr th {\n",
       "        vertical-align: top;\n",
       "    }\n",
       "\n",
       "    .dataframe thead th {\n",
       "        text-align: right;\n",
       "    }\n",
       "</style>\n",
       "<table border=\"1\" class=\"dataframe\">\n",
       "  <thead>\n",
       "    <tr style=\"text-align: right;\">\n",
       "      <th></th>\n",
       "      <th>beer_id</th>\n",
       "      <th>score</th>\n",
       "      <th>beer_name</th>\n",
       "      <th>brewery_id</th>\n",
       "      <th>state</th>\n",
       "      <th>country</th>\n",
       "      <th>beer_style</th>\n",
       "      <th>availability</th>\n",
       "      <th>abv</th>\n",
       "      <th>brewery_name</th>\n",
       "      <th>...</th>\n",
       "      <th>ABV (min)</th>\n",
       "      <th>ABV (max)</th>\n",
       "      <th>ABV (avg)</th>\n",
       "      <th>IBU (min)</th>\n",
       "      <th>IBU (max)</th>\n",
       "      <th>IBU (avg)</th>\n",
       "      <th>SRM (min)</th>\n",
       "      <th>SRM (max)</th>\n",
       "      <th>Glassware</th>\n",
       "      <th>Description</th>\n",
       "    </tr>\n",
       "  </thead>\n",
       "  <tbody>\n",
       "    <tr>\n",
       "      <th>False</th>\n",
       "      <td>3830013.0</td>\n",
       "      <td>3830013.0</td>\n",
       "      <td>3830013.0</td>\n",
       "      <td>3830013.0</td>\n",
       "      <td>3475764</td>\n",
       "      <td>3828212</td>\n",
       "      <td>3830013.0</td>\n",
       "      <td>3830013.0</td>\n",
       "      <td>3794514</td>\n",
       "      <td>3830013.0</td>\n",
       "      <td>...</td>\n",
       "      <td>3830013.0</td>\n",
       "      <td>3830013.0</td>\n",
       "      <td>3830013.0</td>\n",
       "      <td>3830013.0</td>\n",
       "      <td>3830013.0</td>\n",
       "      <td>3830013.0</td>\n",
       "      <td>3830013.0</td>\n",
       "      <td>3830013.0</td>\n",
       "      <td>3830013.0</td>\n",
       "      <td>3830013.0</td>\n",
       "    </tr>\n",
       "    <tr>\n",
       "      <th>True</th>\n",
       "      <td>NaN</td>\n",
       "      <td>NaN</td>\n",
       "      <td>NaN</td>\n",
       "      <td>NaN</td>\n",
       "      <td>354249</td>\n",
       "      <td>1801</td>\n",
       "      <td>NaN</td>\n",
       "      <td>NaN</td>\n",
       "      <td>35499</td>\n",
       "      <td>NaN</td>\n",
       "      <td>...</td>\n",
       "      <td>NaN</td>\n",
       "      <td>NaN</td>\n",
       "      <td>NaN</td>\n",
       "      <td>NaN</td>\n",
       "      <td>NaN</td>\n",
       "      <td>NaN</td>\n",
       "      <td>NaN</td>\n",
       "      <td>NaN</td>\n",
       "      <td>NaN</td>\n",
       "      <td>NaN</td>\n",
       "    </tr>\n",
       "  </tbody>\n",
       "</table>\n",
       "<p>2 rows × 23 columns</p>\n",
       "</div>"
      ],
      "text/plain": [
       "         beer_id      score  beer_name  brewery_id    state  country  \\\n",
       "False  3830013.0  3830013.0  3830013.0   3830013.0  3475764  3828212   \n",
       "True         NaN        NaN        NaN         NaN   354249     1801   \n",
       "\n",
       "       beer_style  availability      abv  brewery_name  ...  ABV (min)  \\\n",
       "False   3830013.0     3830013.0  3794514     3830013.0  ...  3830013.0   \n",
       "True          NaN           NaN    35499           NaN  ...        NaN   \n",
       "\n",
       "       ABV (max)  ABV (avg)  IBU (min)  IBU (max)  IBU (avg)  SRM (min)  \\\n",
       "False  3830013.0  3830013.0  3830013.0  3830013.0  3830013.0  3830013.0   \n",
       "True         NaN        NaN        NaN        NaN        NaN        NaN   \n",
       "\n",
       "       SRM (max)  Glassware  Description  \n",
       "False  3830013.0  3830013.0    3830013.0  \n",
       "True         NaN        NaN          NaN  \n",
       "\n",
       "[2 rows x 23 columns]"
      ]
     },
     "execution_count": 64,
     "metadata": {},
     "output_type": "execute_result"
    }
   ],
   "source": [
    "# Find number of nulls for every column\n",
    "df_merge3.apply(lambda x: x.isnull().value_counts())"
   ]
  },
  {
   "cell_type": "code",
   "execution_count": 65,
   "metadata": {},
   "outputs": [
    {
     "data": {
      "text/plain": [
       "beer_id         3830013\n",
       "score           3830013\n",
       "beer_name       3830013\n",
       "brewery_id      3830013\n",
       "state           3475764\n",
       "country         3828212\n",
       "beer_style      3830013\n",
       "availability    3830013\n",
       "abv             3794514\n",
       "brewery_name    3830013\n",
       "city            3823610\n",
       "types           3830013\n",
       "Category        3830013\n",
       "ABV (min)       3830013\n",
       "ABV (max)       3830013\n",
       "ABV (avg)       3830013\n",
       "IBU (min)       3830013\n",
       "IBU (max)       3830013\n",
       "IBU (avg)       3830013\n",
       "SRM (min)       3830013\n",
       "SRM (max)       3830013\n",
       "Glassware       3830013\n",
       "Description     3830013\n",
       "dtype: int64"
      ]
     },
     "execution_count": 65,
     "metadata": {},
     "output_type": "execute_result"
    }
   ],
   "source": [
    "df_merge3.count()"
   ]
  },
  {
   "cell_type": "code",
   "execution_count": 66,
   "metadata": {},
   "outputs": [],
   "source": [
    "# drop \"username\", \"types\"?\n",
    "# df_merge3 = df_merge3[['beer_id','beer_name','beer_style','Category','score','abv','brewery_name','brewery_id','city', 'state', 'country','ABV (min)', 'ABV (max)','ABV (avg)','IBU (min)','IBU (max)', 'IBU (avg)','SRM Range','Glassware','Description','types','availability']]"
   ]
  },
  {
   "cell_type": "code",
   "execution_count": 67,
   "metadata": {},
   "outputs": [],
   "source": [
    "df_merge3 = df_merge3.rename(\n",
    "    columns={\n",
    "        \"ABV (min)\": \"ABV_min\",\n",
    "        \"ABV (max)\": \"ABV_max\",\n",
    "        \"ABV (avg)\": \"ABV_avg\",\n",
    "        \"IBU (min)\": \"IBU_min\",\n",
    "        \"IBU (max)\": \"IBU_max\",\n",
    "        \"IBU (avg)\": \"IBU_avg\",\n",
    "        \"SRM (min)\": \"SRM_min\",\n",
    "        \"SRM (max)\": \"SRM_max\",\n",
    "    }\n",
    ")"
   ]
  },
  {
   "cell_type": "code",
   "execution_count": 68,
   "metadata": {},
   "outputs": [],
   "source": [
    "df_merge3.to_csv(\"../data/csv/final_merged_data.csv\", index=False)"
   ]
  },
  {
   "cell_type": "code",
   "execution_count": 69,
   "metadata": {},
   "outputs": [],
   "source": [
    "df_merge3.head(5)"
   ]
  },
  {
   "cell_type": "code",
   "execution_count": 76,
   "metadata": {},
   "outputs": [],
   "source": [
    "df_merge4 = pd.merge(df_merge1, df_beerstyles, left_on=\"beer_style\", right_on=\"Style\")\n",
    "df_merge4 = df_merge4.rename(\n",
    "    columns={\n",
    "        \"ABV (min)\": \"ABV_min\",\n",
    "        \"ABV (max)\": \"ABV_max\",\n",
    "        \"ABV (avg)\": \"ABV_avg\",\n",
    "        \"IBU (min)\": \"IBU_min\",\n",
    "        \"IBU (max)\": \"IBU_max\",\n",
    "        \"IBU (avg)\": \"IBU_avg\",\n",
    "        \"SRM (min)\": \"SRM_min\",\n",
    "        \"SRM (max)\": \"SRM_max\",\n",
    "    }\n",
    ")"
   ]
  },
  {
   "cell_type": "code",
   "execution_count": 82,
   "metadata": {},
   "outputs": [],
   "source": [
    "df_merge4 = df_merge4.drop([\"Style\"], axis=1)"
   ]
  },
  {
   "cell_type": "code",
   "execution_count": 86,
   "metadata": {},
   "outputs": [],
   "source": [
    "df_merge4 = df_merge4.rename(columns={\"Glassware \": \"Glassware\"})"
   ]
  },
  {
   "cell_type": "code",
   "execution_count": 87,
   "metadata": {},
   "outputs": [],
   "source": [
    "df_merge4.to_csv(\"../data/csv/final_beers.csv\", index=False)"
   ]
  },
  {
   "cell_type": "code",
   "execution_count": 94,
   "metadata": {},
   "outputs": [
    {
     "data": {
      "text/html": [
       "<div>\n",
       "<style scoped>\n",
       "    .dataframe tbody tr th:only-of-type {\n",
       "        vertical-align: middle;\n",
       "    }\n",
       "\n",
       "    .dataframe tbody tr th {\n",
       "        vertical-align: top;\n",
       "    }\n",
       "\n",
       "    .dataframe thead th {\n",
       "        text-align: right;\n",
       "    }\n",
       "</style>\n",
       "<table border=\"1\" class=\"dataframe\">\n",
       "  <thead>\n",
       "    <tr style=\"text-align: right;\">\n",
       "      <th></th>\n",
       "      <th>state</th>\n",
       "      <th>breweries</th>\n",
       "      <th>breweries_per_capita</th>\n",
       "      <th>yearly_barrels</th>\n",
       "    </tr>\n",
       "  </thead>\n",
       "  <tbody>\n",
       "    <tr>\n",
       "      <th>0</th>\n",
       "      <td>AK</td>\n",
       "      <td>41</td>\n",
       "      <td>1.1</td>\n",
       "      <td>71894</td>\n",
       "    </tr>\n",
       "    <tr>\n",
       "      <th>1</th>\n",
       "      <td>AL</td>\n",
       "      <td>42</td>\n",
       "      <td>7.8</td>\n",
       "      <td>210063</td>\n",
       "    </tr>\n",
       "    <tr>\n",
       "      <th>2</th>\n",
       "      <td>AR</td>\n",
       "      <td>117</td>\n",
       "      <td>2.2</td>\n",
       "      <td>173427</td>\n",
       "    </tr>\n",
       "    <tr>\n",
       "      <th>3</th>\n",
       "      <td>AZ</td>\n",
       "      <td>40</td>\n",
       "      <td>1.8</td>\n",
       "      <td>45720</td>\n",
       "    </tr>\n",
       "    <tr>\n",
       "      <th>4</th>\n",
       "      <td>CA</td>\n",
       "      <td>841</td>\n",
       "      <td>2.9</td>\n",
       "      <td>3421295</td>\n",
       "    </tr>\n",
       "  </tbody>\n",
       "</table>\n",
       "</div>"
      ],
      "text/plain": [
       "  state  breweries  breweries_per_capita  yearly_barrels\n",
       "0    AK         41                   1.1           71894\n",
       "1    AL         42                   7.8          210063\n",
       "2    AR        117                   2.2          173427\n",
       "3    AZ         40                   1.8           45720\n",
       "4    CA        841                   2.9         3421295"
      ]
     },
     "execution_count": 94,
     "metadata": {},
     "output_type": "execute_result"
    }
   ],
   "source": [
    "csv_path_us = os.path.join(\"../data/csv/us_state_data.csv\")\n",
    "df_usdata = pd.read_csv(csv_path_us)\n",
    "\n",
    "df_usdata.head()"
   ]
  },
  {
   "cell_type": "code",
   "execution_count": 95,
   "metadata": {},
   "outputs": [],
   "source": [
    "df_usdata.to_csv(\"../data/csv/us_state_data.csv\", index=False)"
   ]
  },
  {
   "cell_type": "markdown",
   "metadata": {},
   "source": [
    "### Recommender App"
   ]
  },
  {
   "cell_type": "code",
   "execution_count": 70,
   "metadata": {},
   "outputs": [
    {
     "data": {
      "text/html": [
       "<div>\n",
       "<style scoped>\n",
       "    .dataframe tbody tr th:only-of-type {\n",
       "        vertical-align: middle;\n",
       "    }\n",
       "\n",
       "    .dataframe tbody tr th {\n",
       "        vertical-align: top;\n",
       "    }\n",
       "\n",
       "    .dataframe thead th {\n",
       "        text-align: right;\n",
       "    }\n",
       "</style>\n",
       "<table border=\"1\" class=\"dataframe\">\n",
       "  <thead>\n",
       "    <tr style=\"text-align: right;\">\n",
       "      <th></th>\n",
       "      <th>beer_id</th>\n",
       "      <th>score</th>\n",
       "      <th>beer_name</th>\n",
       "      <th>brewery_id</th>\n",
       "      <th>state</th>\n",
       "      <th>country</th>\n",
       "      <th>beer_style</th>\n",
       "      <th>availability</th>\n",
       "      <th>abv</th>\n",
       "      <th>brewery_name</th>\n",
       "      <th>...</th>\n",
       "      <th>ABV_min</th>\n",
       "      <th>ABV_max</th>\n",
       "      <th>ABV_avg</th>\n",
       "      <th>IBU_min</th>\n",
       "      <th>IBU_max</th>\n",
       "      <th>IBU_avg</th>\n",
       "      <th>SRM_min</th>\n",
       "      <th>SRM_max</th>\n",
       "      <th>Glassware</th>\n",
       "      <th>Description</th>\n",
       "    </tr>\n",
       "  </thead>\n",
       "  <tbody>\n",
       "    <tr>\n",
       "      <th>1606118</th>\n",
       "      <td>4083</td>\n",
       "      <td>5.0</td>\n",
       "      <td>Ruination IPA</td>\n",
       "      <td>147</td>\n",
       "      <td>CA</td>\n",
       "      <td>US</td>\n",
       "      <td>American Imperial IPA</td>\n",
       "      <td>Year-round</td>\n",
       "      <td>8.2</td>\n",
       "      <td>Stone Brewing</td>\n",
       "      <td>...</td>\n",
       "      <td>7.0</td>\n",
       "      <td>12.0</td>\n",
       "      <td>9.5</td>\n",
       "      <td>65</td>\n",
       "      <td>100</td>\n",
       "      <td>82.5</td>\n",
       "      <td>6</td>\n",
       "      <td>15</td>\n",
       "      <td>Tulip</td>\n",
       "      <td>We have west coast American brewers to thank f...</td>\n",
       "    </tr>\n",
       "    <tr>\n",
       "      <th>3302523</th>\n",
       "      <td>5488</td>\n",
       "      <td>5.0</td>\n",
       "      <td>Wells Banana Bread Beer</td>\n",
       "      <td>664</td>\n",
       "      <td>GB2</td>\n",
       "      <td>GB</td>\n",
       "      <td>Fruit and Field Beer</td>\n",
       "      <td>Year-round</td>\n",
       "      <td>5.2</td>\n",
       "      <td>Wells &amp; Young's Ltd</td>\n",
       "      <td>...</td>\n",
       "      <td>2.5</td>\n",
       "      <td>13.3</td>\n",
       "      <td>7.9</td>\n",
       "      <td>5</td>\n",
       "      <td>45</td>\n",
       "      <td>25.0</td>\n",
       "      <td>3</td>\n",
       "      <td>12</td>\n",
       "      <td>Tulip</td>\n",
       "      <td>Fruit beer is made with fruit, or fruit extrac...</td>\n",
       "    </tr>\n",
       "    <tr>\n",
       "      <th>793828</th>\n",
       "      <td>88407</td>\n",
       "      <td>5.0</td>\n",
       "      <td>Baudoinia</td>\n",
       "      <td>1146</td>\n",
       "      <td>IL</td>\n",
       "      <td>US</td>\n",
       "      <td>American Imperial Stout</td>\n",
       "      <td>Limited (brewed once)</td>\n",
       "      <td>15.0</td>\n",
       "      <td>Goose Island Beer Co.</td>\n",
       "      <td>...</td>\n",
       "      <td>7.0</td>\n",
       "      <td>12.0</td>\n",
       "      <td>9.5</td>\n",
       "      <td>50</td>\n",
       "      <td>80</td>\n",
       "      <td>65.0</td>\n",
       "      <td>30</td>\n",
       "      <td>40</td>\n",
       "      <td>Snifter</td>\n",
       "      <td>The American-style Imperial Stout is the stron...</td>\n",
       "    </tr>\n",
       "    <tr>\n",
       "      <th>793826</th>\n",
       "      <td>88407</td>\n",
       "      <td>5.0</td>\n",
       "      <td>Baudoinia</td>\n",
       "      <td>1146</td>\n",
       "      <td>IL</td>\n",
       "      <td>US</td>\n",
       "      <td>American Imperial Stout</td>\n",
       "      <td>Limited (brewed once)</td>\n",
       "      <td>15.0</td>\n",
       "      <td>Goose Island Beer Co.</td>\n",
       "      <td>...</td>\n",
       "      <td>7.0</td>\n",
       "      <td>12.0</td>\n",
       "      <td>9.5</td>\n",
       "      <td>50</td>\n",
       "      <td>80</td>\n",
       "      <td>65.0</td>\n",
       "      <td>30</td>\n",
       "      <td>40</td>\n",
       "      <td>Snifter</td>\n",
       "      <td>The American-style Imperial Stout is the stron...</td>\n",
       "    </tr>\n",
       "    <tr>\n",
       "      <th>793820</th>\n",
       "      <td>88407</td>\n",
       "      <td>5.0</td>\n",
       "      <td>Baudoinia</td>\n",
       "      <td>1146</td>\n",
       "      <td>IL</td>\n",
       "      <td>US</td>\n",
       "      <td>American Imperial Stout</td>\n",
       "      <td>Limited (brewed once)</td>\n",
       "      <td>15.0</td>\n",
       "      <td>Goose Island Beer Co.</td>\n",
       "      <td>...</td>\n",
       "      <td>7.0</td>\n",
       "      <td>12.0</td>\n",
       "      <td>9.5</td>\n",
       "      <td>50</td>\n",
       "      <td>80</td>\n",
       "      <td>65.0</td>\n",
       "      <td>30</td>\n",
       "      <td>40</td>\n",
       "      <td>Snifter</td>\n",
       "      <td>The American-style Imperial Stout is the stron...</td>\n",
       "    </tr>\n",
       "    <tr>\n",
       "      <th>...</th>\n",
       "      <td>...</td>\n",
       "      <td>...</td>\n",
       "      <td>...</td>\n",
       "      <td>...</td>\n",
       "      <td>...</td>\n",
       "      <td>...</td>\n",
       "      <td>...</td>\n",
       "      <td>...</td>\n",
       "      <td>...</td>\n",
       "      <td>...</td>\n",
       "      <td>...</td>\n",
       "      <td>...</td>\n",
       "      <td>...</td>\n",
       "      <td>...</td>\n",
       "      <td>...</td>\n",
       "      <td>...</td>\n",
       "      <td>...</td>\n",
       "      <td>...</td>\n",
       "      <td>...</td>\n",
       "      <td>...</td>\n",
       "      <td>...</td>\n",
       "    </tr>\n",
       "    <tr>\n",
       "      <th>2382754</th>\n",
       "      <td>72361</td>\n",
       "      <td>4.0</td>\n",
       "      <td>Duchessa</td>\n",
       "      <td>14046</td>\n",
       "      <td>NaN</td>\n",
       "      <td>IT</td>\n",
       "      <td>Belgian Saison</td>\n",
       "      <td>Year-round</td>\n",
       "      <td>5.8</td>\n",
       "      <td>Birra Del Borgo</td>\n",
       "      <td>...</td>\n",
       "      <td>4.4</td>\n",
       "      <td>8.4</td>\n",
       "      <td>6.4</td>\n",
       "      <td>20</td>\n",
       "      <td>38</td>\n",
       "      <td>29.0</td>\n",
       "      <td>3</td>\n",
       "      <td>11</td>\n",
       "      <td>Tulip</td>\n",
       "      <td>Beers in this category are gold to light amber...</td>\n",
       "    </tr>\n",
       "    <tr>\n",
       "      <th>2382753</th>\n",
       "      <td>72361</td>\n",
       "      <td>4.0</td>\n",
       "      <td>Duchessa</td>\n",
       "      <td>14046</td>\n",
       "      <td>NaN</td>\n",
       "      <td>IT</td>\n",
       "      <td>Belgian Saison</td>\n",
       "      <td>Year-round</td>\n",
       "      <td>5.8</td>\n",
       "      <td>Birra Del Borgo</td>\n",
       "      <td>...</td>\n",
       "      <td>4.4</td>\n",
       "      <td>8.4</td>\n",
       "      <td>6.4</td>\n",
       "      <td>20</td>\n",
       "      <td>38</td>\n",
       "      <td>29.0</td>\n",
       "      <td>3</td>\n",
       "      <td>11</td>\n",
       "      <td>Tulip</td>\n",
       "      <td>Beers in this category are gold to light amber...</td>\n",
       "    </tr>\n",
       "    <tr>\n",
       "      <th>2382751</th>\n",
       "      <td>72361</td>\n",
       "      <td>4.0</td>\n",
       "      <td>Duchessa</td>\n",
       "      <td>14046</td>\n",
       "      <td>NaN</td>\n",
       "      <td>IT</td>\n",
       "      <td>Belgian Saison</td>\n",
       "      <td>Year-round</td>\n",
       "      <td>5.8</td>\n",
       "      <td>Birra Del Borgo</td>\n",
       "      <td>...</td>\n",
       "      <td>4.4</td>\n",
       "      <td>8.4</td>\n",
       "      <td>6.4</td>\n",
       "      <td>20</td>\n",
       "      <td>38</td>\n",
       "      <td>29.0</td>\n",
       "      <td>3</td>\n",
       "      <td>11</td>\n",
       "      <td>Tulip</td>\n",
       "      <td>Beers in this category are gold to light amber...</td>\n",
       "    </tr>\n",
       "    <tr>\n",
       "      <th>2382748</th>\n",
       "      <td>72361</td>\n",
       "      <td>4.0</td>\n",
       "      <td>Duchessa</td>\n",
       "      <td>14046</td>\n",
       "      <td>NaN</td>\n",
       "      <td>IT</td>\n",
       "      <td>Belgian Saison</td>\n",
       "      <td>Year-round</td>\n",
       "      <td>5.8</td>\n",
       "      <td>Birra Del Borgo</td>\n",
       "      <td>...</td>\n",
       "      <td>4.4</td>\n",
       "      <td>8.4</td>\n",
       "      <td>6.4</td>\n",
       "      <td>20</td>\n",
       "      <td>38</td>\n",
       "      <td>29.0</td>\n",
       "      <td>3</td>\n",
       "      <td>11</td>\n",
       "      <td>Tulip</td>\n",
       "      <td>Beers in this category are gold to light amber...</td>\n",
       "    </tr>\n",
       "    <tr>\n",
       "      <th>3830012</th>\n",
       "      <td>58111</td>\n",
       "      <td>4.0</td>\n",
       "      <td>Coedo Beniaka</td>\n",
       "      <td>3551</td>\n",
       "      <td>NaN</td>\n",
       "      <td>JP</td>\n",
       "      <td>Japanese Happoshu</td>\n",
       "      <td>Year-round</td>\n",
       "      <td>7.0</td>\n",
       "      <td>Coedo Brewery (Kyodo Shoji Koedo Brewery)</td>\n",
       "      <td>...</td>\n",
       "      <td>4.0</td>\n",
       "      <td>7.0</td>\n",
       "      <td>5.5</td>\n",
       "      <td>0</td>\n",
       "      <td>0</td>\n",
       "      <td>0.0</td>\n",
       "      <td>2</td>\n",
       "      <td>7</td>\n",
       "      <td>Pilsener Glass</td>\n",
       "      <td>Happoshu is a sparkling low-malt beverage prod...</td>\n",
       "    </tr>\n",
       "  </tbody>\n",
       "</table>\n",
       "<p>3830013 rows × 23 columns</p>\n",
       "</div>"
      ],
      "text/plain": [
       "         beer_id  score                beer_name  brewery_id state country  \\\n",
       "1606118     4083    5.0            Ruination IPA         147    CA      US   \n",
       "3302523     5488    5.0  Wells Banana Bread Beer         664   GB2      GB   \n",
       "793828     88407    5.0                Baudoinia        1146    IL      US   \n",
       "793826     88407    5.0                Baudoinia        1146    IL      US   \n",
       "793820     88407    5.0                Baudoinia        1146    IL      US   \n",
       "...          ...    ...                      ...         ...   ...     ...   \n",
       "2382754    72361    4.0                 Duchessa       14046   NaN      IT   \n",
       "2382753    72361    4.0                 Duchessa       14046   NaN      IT   \n",
       "2382751    72361    4.0                 Duchessa       14046   NaN      IT   \n",
       "2382748    72361    4.0                 Duchessa       14046   NaN      IT   \n",
       "3830012    58111    4.0            Coedo Beniaka        3551   NaN      JP   \n",
       "\n",
       "                      beer_style            availability   abv  \\\n",
       "1606118    American Imperial IPA              Year-round   8.2   \n",
       "3302523     Fruit and Field Beer              Year-round   5.2   \n",
       "793828   American Imperial Stout   Limited (brewed once)  15.0   \n",
       "793826   American Imperial Stout   Limited (brewed once)  15.0   \n",
       "793820   American Imperial Stout   Limited (brewed once)  15.0   \n",
       "...                          ...                     ...   ...   \n",
       "2382754           Belgian Saison              Year-round   5.8   \n",
       "2382753           Belgian Saison              Year-round   5.8   \n",
       "2382751           Belgian Saison              Year-round   5.8   \n",
       "2382748           Belgian Saison              Year-round   5.8   \n",
       "3830012        Japanese Happoshu              Year-round   7.0   \n",
       "\n",
       "                                      brewery_name  ... ABV_min ABV_max  \\\n",
       "1606118                              Stone Brewing  ...     7.0    12.0   \n",
       "3302523                        Wells & Young's Ltd  ...     2.5    13.3   \n",
       "793828                       Goose Island Beer Co.  ...     7.0    12.0   \n",
       "793826                       Goose Island Beer Co.  ...     7.0    12.0   \n",
       "793820                       Goose Island Beer Co.  ...     7.0    12.0   \n",
       "...                                            ...  ...     ...     ...   \n",
       "2382754                            Birra Del Borgo  ...     4.4     8.4   \n",
       "2382753                            Birra Del Borgo  ...     4.4     8.4   \n",
       "2382751                            Birra Del Borgo  ...     4.4     8.4   \n",
       "2382748                            Birra Del Borgo  ...     4.4     8.4   \n",
       "3830012  Coedo Brewery (Kyodo Shoji Koedo Brewery)  ...     4.0     7.0   \n",
       "\n",
       "        ABV_avg  IBU_min  IBU_max  IBU_avg  SRM_min  SRM_max       Glassware  \\\n",
       "1606118     9.5       65      100     82.5        6       15           Tulip   \n",
       "3302523     7.9        5       45     25.0        3       12           Tulip   \n",
       "793828      9.5       50       80     65.0       30       40         Snifter   \n",
       "793826      9.5       50       80     65.0       30       40         Snifter   \n",
       "793820      9.5       50       80     65.0       30       40         Snifter   \n",
       "...         ...      ...      ...      ...      ...      ...             ...   \n",
       "2382754     6.4       20       38     29.0        3       11           Tulip   \n",
       "2382753     6.4       20       38     29.0        3       11           Tulip   \n",
       "2382751     6.4       20       38     29.0        3       11           Tulip   \n",
       "2382748     6.4       20       38     29.0        3       11           Tulip   \n",
       "3830012     5.5        0        0      0.0        2        7  Pilsener Glass   \n",
       "\n",
       "                                               Description  \n",
       "1606118  We have west coast American brewers to thank f...  \n",
       "3302523  Fruit beer is made with fruit, or fruit extrac...  \n",
       "793828   The American-style Imperial Stout is the stron...  \n",
       "793826   The American-style Imperial Stout is the stron...  \n",
       "793820   The American-style Imperial Stout is the stron...  \n",
       "...                                                    ...  \n",
       "2382754  Beers in this category are gold to light amber...  \n",
       "2382753  Beers in this category are gold to light amber...  \n",
       "2382751  Beers in this category are gold to light amber...  \n",
       "2382748  Beers in this category are gold to light amber...  \n",
       "3830012  Happoshu is a sparkling low-malt beverage prod...  \n",
       "\n",
       "[3830013 rows x 23 columns]"
      ]
     },
     "execution_count": 70,
     "metadata": {},
     "output_type": "execute_result"
    }
   ],
   "source": [
    "df_merge3.sort_values(by=[\"score\"], ascending=False)"
   ]
  },
  {
   "cell_type": "code",
   "execution_count": 71,
   "metadata": {},
   "outputs": [
    {
     "data": {
      "text/plain": [
       "American IPA               524175\n",
       "American Imperial IPA      519752\n",
       "American Imperial Stout    442952\n",
       "American Wild Ale          196061\n",
       "Russian Imperial Stout     195276\n",
       "                            ...  \n",
       "English Pale Mild Ale         173\n",
       "Russian Kvass                 121\n",
       "American Brut IPA              51\n",
       "Low Alcohol Beer               35\n",
       "Japanese Happoshu              12\n",
       "Name: beer_style, Length: 94, dtype: int64"
      ]
     },
     "execution_count": 71,
     "metadata": {},
     "output_type": "execute_result"
    }
   ],
   "source": [
    "df_merge3[\"beer_style\"].value_counts()"
   ]
  },
  {
   "cell_type": "code",
   "execution_count": 72,
   "metadata": {},
   "outputs": [
    {
     "data": {
      "text/plain": [
       "beer_id           int64\n",
       "score           float64\n",
       "beer_name        object\n",
       "brewery_id        int64\n",
       "state            object\n",
       "country          object\n",
       "beer_style       object\n",
       "availability     object\n",
       "abv             float64\n",
       "brewery_name     object\n",
       "city             object\n",
       "types            object\n",
       "Category         object\n",
       "ABV_min         float64\n",
       "ABV_max         float64\n",
       "ABV_avg         float64\n",
       "IBU_min           int64\n",
       "IBU_max           int64\n",
       "IBU_avg         float64\n",
       "SRM_min           int64\n",
       "SRM_max           int64\n",
       "Glassware        object\n",
       "Description      object\n",
       "dtype: object"
      ]
     },
     "execution_count": 72,
     "metadata": {},
     "output_type": "execute_result"
    }
   ],
   "source": [
    "df_merge3.dtypes"
   ]
  },
  {
   "cell_type": "code",
   "execution_count": 73,
   "metadata": {},
   "outputs": [
    {
     "data": {
      "text/plain": [
       "18944"
      ]
     },
     "execution_count": 73,
     "metadata": {},
     "output_type": "execute_result"
    }
   ],
   "source": [
    "clean_breweries[\"name\"].count()"
   ]
  },
  {
   "cell_type": "code",
   "execution_count": 91,
   "metadata": {},
   "outputs": [
    {
     "data": {
      "text/plain": [
       "Tulip             131825\n",
       "Pint Glass         86354\n",
       "Snifter            24268\n",
       "Pilsener Glass     22677\n",
       "Goblet             16631\n",
       "Weizen Glass       11958\n",
       "Flute               6562\n",
       "Stange              1685\n",
       "Mug                 1152\n",
       "Name: Glassware, dtype: int64"
      ]
     },
     "execution_count": 91,
     "metadata": {},
     "output_type": "execute_result"
    }
   ],
   "source": [
    "df_merge4[\"Glassware\"].value_counts()"
   ]
  },
  {
   "cell_type": "code",
   "execution_count": 92,
   "metadata": {},
   "outputs": [
    {
     "data": {
      "text/plain": [
       "beer_id         303112\n",
       "beer_name       303112\n",
       "brewery_id      303112\n",
       "state           252569\n",
       "country         302986\n",
       "beer_style      303112\n",
       "availability    303112\n",
       "abv             270784\n",
       "brewery_name    303112\n",
       "city            300613\n",
       "types           303112\n",
       "Category        303112\n",
       "ABV_min         303112\n",
       "ABV_max         303112\n",
       "ABV_avg         303112\n",
       "IBU_min         303112\n",
       "IBU_max         303112\n",
       "IBU_avg         303112\n",
       "SRM_min         303112\n",
       "SRM_max         303112\n",
       "Glassware       303112\n",
       "Description     303112\n",
       "dtype: int64"
      ]
     },
     "execution_count": 92,
     "metadata": {},
     "output_type": "execute_result"
    }
   ],
   "source": [
    "df_merge4.count()"
   ]
  },
  {
   "cell_type": "code",
   "execution_count": null,
   "metadata": {},
   "outputs": [],
   "source": []
  }
 ],
 "metadata": {
  "kernelspec": {
   "display_name": "Ale-Kernel",
   "language": "python",
   "name": "python3"
  },
  "language_info": {
   "codemirror_mode": {
    "name": "ipython",
    "version": 3
   },
   "file_extension": ".py",
   "mimetype": "text/x-python",
   "name": "python",
   "nbconvert_exporter": "python",
   "pygments_lexer": "ipython3",
   "version": "3.8.0"
  }
 },
 "nbformat": 4,
 "nbformat_minor": 4
}
