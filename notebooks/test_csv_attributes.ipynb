{
 "cells": [
  {
   "cell_type": "code",
   "execution_count": 1,
   "metadata": {},
   "outputs": [],
   "source": [
    "import os\n",
    "import pandas as pd"
   ]
  },
  {
   "cell_type": "code",
   "execution_count": 2,
   "metadata": {},
   "outputs": [],
   "source": [
    "csv_path = os.path.join(\"../data/csv/final_merged_data.csv\")\n",
    "df_final = pd.read_csv(csv_path)"
   ]
  },
  {
   "cell_type": "code",
   "execution_count": 3,
   "metadata": {},
   "outputs": [
    {
     "data": {
      "text/html": [
       "<div>\n",
       "<style scoped>\n",
       "    .dataframe tbody tr th:only-of-type {\n",
       "        vertical-align: middle;\n",
       "    }\n",
       "\n",
       "    .dataframe tbody tr th {\n",
       "        vertical-align: top;\n",
       "    }\n",
       "\n",
       "    .dataframe thead th {\n",
       "        text-align: right;\n",
       "    }\n",
       "</style>\n",
       "<table border=\"1\" class=\"dataframe\">\n",
       "  <thead>\n",
       "    <tr style=\"text-align: right;\">\n",
       "      <th></th>\n",
       "      <th>beer_id</th>\n",
       "      <th>score</th>\n",
       "      <th>beer_name</th>\n",
       "      <th>brewery_id</th>\n",
       "      <th>state</th>\n",
       "      <th>country</th>\n",
       "      <th>beer_style</th>\n",
       "      <th>availability</th>\n",
       "      <th>abv</th>\n",
       "      <th>brewery_name</th>\n",
       "      <th>...</th>\n",
       "      <th>ABV_min</th>\n",
       "      <th>ABV_max</th>\n",
       "      <th>ABV_avg</th>\n",
       "      <th>IBU_min</th>\n",
       "      <th>IBU_max</th>\n",
       "      <th>IBU_avg</th>\n",
       "      <th>SRM_min</th>\n",
       "      <th>SRM_max</th>\n",
       "      <th>Glassware</th>\n",
       "      <th>Description</th>\n",
       "    </tr>\n",
       "  </thead>\n",
       "  <tbody>\n",
       "    <tr>\n",
       "      <th>0</th>\n",
       "      <td>125646</td>\n",
       "      <td>4.50</td>\n",
       "      <td>Haze</td>\n",
       "      <td>28743</td>\n",
       "      <td>MA</td>\n",
       "      <td>US</td>\n",
       "      <td>New England IPA</td>\n",
       "      <td>Rotating</td>\n",
       "      <td>8.2</td>\n",
       "      <td>Tree House Brewing Company</td>\n",
       "      <td>...</td>\n",
       "      <td>6.3</td>\n",
       "      <td>7.5</td>\n",
       "      <td>6.9</td>\n",
       "      <td>50</td>\n",
       "      <td>70</td>\n",
       "      <td>60.0</td>\n",
       "      <td>6</td>\n",
       "      <td>15</td>\n",
       "      <td>Pint Glass</td>\n",
       "      <td>Emphasizing hop aroma and flavor without braci...</td>\n",
       "    </tr>\n",
       "    <tr>\n",
       "      <th>1</th>\n",
       "      <td>125646</td>\n",
       "      <td>4.75</td>\n",
       "      <td>Haze</td>\n",
       "      <td>28743</td>\n",
       "      <td>MA</td>\n",
       "      <td>US</td>\n",
       "      <td>New England IPA</td>\n",
       "      <td>Rotating</td>\n",
       "      <td>8.2</td>\n",
       "      <td>Tree House Brewing Company</td>\n",
       "      <td>...</td>\n",
       "      <td>6.3</td>\n",
       "      <td>7.5</td>\n",
       "      <td>6.9</td>\n",
       "      <td>50</td>\n",
       "      <td>70</td>\n",
       "      <td>60.0</td>\n",
       "      <td>6</td>\n",
       "      <td>15</td>\n",
       "      <td>Pint Glass</td>\n",
       "      <td>Emphasizing hop aroma and flavor without braci...</td>\n",
       "    </tr>\n",
       "    <tr>\n",
       "      <th>2</th>\n",
       "      <td>125646</td>\n",
       "      <td>4.58</td>\n",
       "      <td>Haze</td>\n",
       "      <td>28743</td>\n",
       "      <td>MA</td>\n",
       "      <td>US</td>\n",
       "      <td>New England IPA</td>\n",
       "      <td>Rotating</td>\n",
       "      <td>8.2</td>\n",
       "      <td>Tree House Brewing Company</td>\n",
       "      <td>...</td>\n",
       "      <td>6.3</td>\n",
       "      <td>7.5</td>\n",
       "      <td>6.9</td>\n",
       "      <td>50</td>\n",
       "      <td>70</td>\n",
       "      <td>60.0</td>\n",
       "      <td>6</td>\n",
       "      <td>15</td>\n",
       "      <td>Pint Glass</td>\n",
       "      <td>Emphasizing hop aroma and flavor without braci...</td>\n",
       "    </tr>\n",
       "    <tr>\n",
       "      <th>3</th>\n",
       "      <td>125646</td>\n",
       "      <td>4.31</td>\n",
       "      <td>Haze</td>\n",
       "      <td>28743</td>\n",
       "      <td>MA</td>\n",
       "      <td>US</td>\n",
       "      <td>New England IPA</td>\n",
       "      <td>Rotating</td>\n",
       "      <td>8.2</td>\n",
       "      <td>Tree House Brewing Company</td>\n",
       "      <td>...</td>\n",
       "      <td>6.3</td>\n",
       "      <td>7.5</td>\n",
       "      <td>6.9</td>\n",
       "      <td>50</td>\n",
       "      <td>70</td>\n",
       "      <td>60.0</td>\n",
       "      <td>6</td>\n",
       "      <td>15</td>\n",
       "      <td>Pint Glass</td>\n",
       "      <td>Emphasizing hop aroma and flavor without braci...</td>\n",
       "    </tr>\n",
       "    <tr>\n",
       "      <th>4</th>\n",
       "      <td>125646</td>\n",
       "      <td>4.91</td>\n",
       "      <td>Haze</td>\n",
       "      <td>28743</td>\n",
       "      <td>MA</td>\n",
       "      <td>US</td>\n",
       "      <td>New England IPA</td>\n",
       "      <td>Rotating</td>\n",
       "      <td>8.2</td>\n",
       "      <td>Tree House Brewing Company</td>\n",
       "      <td>...</td>\n",
       "      <td>6.3</td>\n",
       "      <td>7.5</td>\n",
       "      <td>6.9</td>\n",
       "      <td>50</td>\n",
       "      <td>70</td>\n",
       "      <td>60.0</td>\n",
       "      <td>6</td>\n",
       "      <td>15</td>\n",
       "      <td>Pint Glass</td>\n",
       "      <td>Emphasizing hop aroma and flavor without braci...</td>\n",
       "    </tr>\n",
       "  </tbody>\n",
       "</table>\n",
       "<p>5 rows × 23 columns</p>\n",
       "</div>"
      ],
      "text/plain": [
       "   beer_id  score beer_name  brewery_id state country       beer_style  \\\n",
       "0   125646   4.50      Haze       28743    MA      US  New England IPA   \n",
       "1   125646   4.75      Haze       28743    MA      US  New England IPA   \n",
       "2   125646   4.58      Haze       28743    MA      US  New England IPA   \n",
       "3   125646   4.31      Haze       28743    MA      US  New England IPA   \n",
       "4   125646   4.91      Haze       28743    MA      US  New England IPA   \n",
       "\n",
       "  availability  abv                brewery_name  ... ABV_min ABV_max ABV_avg  \\\n",
       "0     Rotating  8.2  Tree House Brewing Company  ...     6.3     7.5     6.9   \n",
       "1     Rotating  8.2  Tree House Brewing Company  ...     6.3     7.5     6.9   \n",
       "2     Rotating  8.2  Tree House Brewing Company  ...     6.3     7.5     6.9   \n",
       "3     Rotating  8.2  Tree House Brewing Company  ...     6.3     7.5     6.9   \n",
       "4     Rotating  8.2  Tree House Brewing Company  ...     6.3     7.5     6.9   \n",
       "\n",
       "   IBU_min  IBU_max  IBU_avg  SRM_min  SRM_max   Glassware  \\\n",
       "0       50       70     60.0        6       15  Pint Glass   \n",
       "1       50       70     60.0        6       15  Pint Glass   \n",
       "2       50       70     60.0        6       15  Pint Glass   \n",
       "3       50       70     60.0        6       15  Pint Glass   \n",
       "4       50       70     60.0        6       15  Pint Glass   \n",
       "\n",
       "                                         Description  \n",
       "0  Emphasizing hop aroma and flavor without braci...  \n",
       "1  Emphasizing hop aroma and flavor without braci...  \n",
       "2  Emphasizing hop aroma and flavor without braci...  \n",
       "3  Emphasizing hop aroma and flavor without braci...  \n",
       "4  Emphasizing hop aroma and flavor without braci...  \n",
       "\n",
       "[5 rows x 23 columns]"
      ]
     },
     "execution_count": 3,
     "metadata": {},
     "output_type": "execute_result"
    }
   ],
   "source": [
    "# Check columns - note the index is created upon read.  \n",
    "df_final.head()"
   ]
  },
  {
   "cell_type": "code",
   "execution_count": 4,
   "metadata": {},
   "outputs": [
    {
     "data": {
      "text/plain": [
       "(3830013, 23)"
      ]
     },
     "execution_count": 4,
     "metadata": {},
     "output_type": "execute_result"
    }
   ],
   "source": [
    "df_final.shape"
   ]
  },
  {
   "cell_type": "code",
   "execution_count": 5,
   "metadata": {},
   "outputs": [
    {
     "data": {
      "text/plain": [
       "beer_id           int64\n",
       "score           float64\n",
       "beer_name        object\n",
       "brewery_id        int64\n",
       "state            object\n",
       "country          object\n",
       "beer_style       object\n",
       "availability     object\n",
       "abv             float64\n",
       "brewery_name     object\n",
       "city             object\n",
       "types            object\n",
       "Category         object\n",
       "ABV_min         float64\n",
       "ABV_max         float64\n",
       "ABV_avg         float64\n",
       "IBU_min           int64\n",
       "IBU_max           int64\n",
       "IBU_avg         float64\n",
       "SRM_min           int64\n",
       "SRM_max           int64\n",
       "Glassware        object\n",
       "Description      object\n",
       "dtype: object"
      ]
     },
     "execution_count": 5,
     "metadata": {},
     "output_type": "execute_result"
    }
   ],
   "source": [
    "df_final.dtypes"
   ]
  },
  {
   "cell_type": "code",
   "execution_count": 8,
   "metadata": {},
   "outputs": [],
   "source": []
  },
  {
   "cell_type": "code",
   "execution_count": 6,
   "metadata": {
    "scrolled": true
   },
   "outputs": [],
   "source": [
    "# # Remove unamed column - this is created when saved with pandas without index=False\n",
    "# df2 = df2.loc[:, ~df2.columns.str.contains('^Unnamed')]\n",
    "# df2.head()"
   ]
  },
  {
   "cell_type": "code",
   "execution_count": 12,
   "metadata": {},
   "outputs": [],
   "source": [
    "# Rename columns to eliminate space in names"
   ]
  },
  {
   "cell_type": "code",
   "execution_count": 10,
   "metadata": {},
   "outputs": [],
   "source": [
    "df_final.rename(columns = {'ABV (min)':'ABV_min', 'ABV (max)':'ABV_max', \n",
    "                              'ABV (avg)':'ABV_avg','IBU (min)':'IBU_min',\n",
    "                              'IBU (max)':'IBU_max', 'IBU (avg)':'IBU_avg',\n",
    "                              'SRM Range':'SRM_range'}, inplace = True) "
   ]
  },
  {
   "cell_type": "code",
   "execution_count": 11,
   "metadata": {},
   "outputs": [
    {
     "data": {
      "text/plain": [
       "beer_id           int64\n",
       "score           float64\n",
       "beer_name        object\n",
       "brewery_id        int64\n",
       "state            object\n",
       "country          object\n",
       "beer_style       object\n",
       "availability     object\n",
       "abv             float64\n",
       "brewery_name     object\n",
       "city             object\n",
       "types            object\n",
       "Category         object\n",
       "ABV_min         float64\n",
       "ABV_max         float64\n",
       "ABV_avg         float64\n",
       "IBU_min           int64\n",
       "IBU_max           int64\n",
       "IBU_avg         float64\n",
       "SRM_range        object\n",
       "Glassware        object\n",
       "Description      object\n",
       "dtype: object"
      ]
     },
     "execution_count": 11,
     "metadata": {},
     "output_type": "execute_result"
    }
   ],
   "source": [
    "df_final.dtypes"
   ]
  },
  {
   "cell_type": "code",
   "execution_count": 13,
   "metadata": {},
   "outputs": [],
   "source": [
    "# Output File (CSV)\n",
    "filename = \"final_merged_data_renamed.csv\"\n",
    "# Save and make sure to set index to False\n",
    "path = os.path.join(\"../data/csv/\"+filename)   \n",
    "df_final.to_csv(path,index = False)"
   ]
  },
  {
   "cell_type": "code",
   "execution_count": null,
   "metadata": {},
   "outputs": [],
   "source": []
  }
 ],
 "metadata": {
  "kernelspec": {
   "display_name": "sqlenv",
   "language": "python",
   "name": "python3"
  },
  "language_info": {
   "codemirror_mode": {
    "name": "ipython",
    "version": 3
   },
   "file_extension": ".py",
   "mimetype": "text/x-python",
   "name": "python",
   "nbconvert_exporter": "python",
   "pygments_lexer": "ipython3",
   "version": "3.7.4"
  }
 },
 "nbformat": 4,
 "nbformat_minor": 4
}
