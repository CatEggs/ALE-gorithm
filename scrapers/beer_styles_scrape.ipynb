{
 "cells": [
  {
   "cell_type": "code",
   "execution_count": 1,
   "metadata": {},
   "outputs": [],
   "source": [
    "# Website Craftbeer https://www.craftbeer.com/beer-styles\n",
    "# Install dependencies\n",
    "import pandas as pd\n",
    "import os\n",
    "from bs4 import BeautifulSoup\n",
    "import requests\n",
    "from pprint import pprint\n",
    "import json"
   ]
  },
  {
   "cell_type": "code",
   "execution_count": 73,
   "metadata": {},
   "outputs": [],
   "source": [
    "# Output File (CSV)\n",
    "output_data_file = \"beer_styles.csv\""
   ]
  },
  {
   "cell_type": "code",
   "execution_count": 2,
   "metadata": {},
   "outputs": [],
   "source": [
    "url = \"https://www.craftbeer.com/beer-styles\"\n",
    "def response(url):\n",
    "        response = requests.get(url)\n",
    "        return response"
   ]
  },
  {
   "cell_type": "code",
   "execution_count": 72,
   "metadata": {},
   "outputs": [],
   "source": [
    "# Use requests and BS4 to return web page text"
   ]
  },
  {
   "cell_type": "code",
   "execution_count": 3,
   "metadata": {},
   "outputs": [],
   "source": [
    "beer_styles_text = response(url).text\n",
    "soup = BeautifulSoup(beer_styles_text, 'lxml')"
   ]
  },
  {
   "cell_type": "code",
   "execution_count": 45,
   "metadata": {},
   "outputs": [],
   "source": [
    "# Get a list of the class='entry-title' elements which has the beer style and url\n",
    "entry_titles = soup.find_all(class_='entry-title')"
   ]
  },
  {
   "cell_type": "code",
   "execution_count": 46,
   "metadata": {},
   "outputs": [],
   "source": [
    "# Create a list of the beer styles\n",
    "styles = [t.text for t in entry_titles ]"
   ]
  },
  {
   "cell_type": "code",
   "execution_count": 50,
   "metadata": {},
   "outputs": [],
   "source": [
    "# Create a list of links with more information for each style\n",
    "beer_styles_links = []\n",
    "for h in entry_titles:\n",
    "    a = h.find(\"a\")\n",
    "    beer_styles_links.append(a.attrs['href'])"
   ]
  },
  {
   "cell_type": "code",
   "execution_count": 67,
   "metadata": {},
   "outputs": [],
   "source": [
    "# Get a list of the class='caption' elements which has the beer style image url\n",
    "images = soup.find_all(class_='featured-image')\n",
    "image_url = []\n",
    "for i in images:\n",
    "    image_url.append(i.attrs['src'])\n",
    "image_url.pop()"
   ]
  },
  {
   "cell_type": "code",
   "execution_count": 68,
   "metadata": {},
   "outputs": [],
   "source": [
    "df = pd.DataFrame(list(zip(styles,beer_styles_links,image_url)),\n",
    "                 columns = ['beer_style', 'info_link', 'image_link'])"
   ]
  },
  {
   "cell_type": "code",
   "execution_count": 69,
   "metadata": {},
   "outputs": [
    {
     "data": {
      "text/html": [
       "<div>\n",
       "<style scoped>\n",
       "    .dataframe tbody tr th:only-of-type {\n",
       "        vertical-align: middle;\n",
       "    }\n",
       "\n",
       "    .dataframe tbody tr th {\n",
       "        vertical-align: top;\n",
       "    }\n",
       "\n",
       "    .dataframe thead th {\n",
       "        text-align: right;\n",
       "    }\n",
       "</style>\n",
       "<table border=\"1\" class=\"dataframe\">\n",
       "  <thead>\n",
       "    <tr style=\"text-align: right;\">\n",
       "      <th></th>\n",
       "      <th>beer_style</th>\n",
       "      <th>info_link</th>\n",
       "      <th>image_link</th>\n",
       "    </tr>\n",
       "  </thead>\n",
       "  <tbody>\n",
       "    <tr>\n",
       "      <td>0</td>\n",
       "      <td>American Amber Ale</td>\n",
       "      <td>https://www.craftbeer.com/styles/amber-ale</td>\n",
       "      <td>https://www.craftbeer.com/wp-content/uploads/_...</td>\n",
       "    </tr>\n",
       "    <tr>\n",
       "      <td>1</td>\n",
       "      <td>American Amber Lager</td>\n",
       "      <td>https://www.craftbeer.com/styles/american-ambe...</td>\n",
       "      <td>https://www.craftbeer.com/wp-content/uploads/_...</td>\n",
       "    </tr>\n",
       "    <tr>\n",
       "      <td>2</td>\n",
       "      <td>American Barley Wine</td>\n",
       "      <td>https://www.craftbeer.com/styles/american-barl...</td>\n",
       "      <td>https://www.craftbeer.com/wp-content/uploads/_...</td>\n",
       "    </tr>\n",
       "    <tr>\n",
       "      <td>3</td>\n",
       "      <td>American Black Ale</td>\n",
       "      <td>https://www.craftbeer.com/styles/american-blac...</td>\n",
       "      <td>https://www.craftbeer.com/wp-content/uploads/_...</td>\n",
       "    </tr>\n",
       "    <tr>\n",
       "      <td>4</td>\n",
       "      <td>American Brett</td>\n",
       "      <td>https://www.craftbeer.com/styles/american-brett</td>\n",
       "      <td>https://www.craftbeer.com/wp-content/uploads/_...</td>\n",
       "    </tr>\n",
       "  </tbody>\n",
       "</table>\n",
       "</div>"
      ],
      "text/plain": [
       "             beer_style                                          info_link  \\\n",
       "0    American Amber Ale         https://www.craftbeer.com/styles/amber-ale   \n",
       "1  American Amber Lager  https://www.craftbeer.com/styles/american-ambe...   \n",
       "2  American Barley Wine  https://www.craftbeer.com/styles/american-barl...   \n",
       "3    American Black Ale  https://www.craftbeer.com/styles/american-blac...   \n",
       "4        American Brett    https://www.craftbeer.com/styles/american-brett   \n",
       "\n",
       "                                          image_link  \n",
       "0  https://www.craftbeer.com/wp-content/uploads/_...  \n",
       "1  https://www.craftbeer.com/wp-content/uploads/_...  \n",
       "2  https://www.craftbeer.com/wp-content/uploads/_...  \n",
       "3  https://www.craftbeer.com/wp-content/uploads/_...  \n",
       "4  https://www.craftbeer.com/wp-content/uploads/_...  "
      ]
     },
     "execution_count": 69,
     "metadata": {},
     "output_type": "execute_result"
    }
   ],
   "source": [
    "df.head()"
   ]
  },
  {
   "cell_type": "code",
   "execution_count": 74,
   "metadata": {},
   "outputs": [],
   "source": [
    "# Create a dict of results for use later\n",
    "beer_styles_dict = df.to_dict()"
   ]
  },
  {
   "cell_type": "code",
   "execution_count": 75,
   "metadata": {},
   "outputs": [],
   "source": [
    "# Create CSV file of raw data and store in Results Directory\n",
    "script_dir = os.path.dirname(\"\")\n",
    "results_dir = os.path.join(script_dir, \"Results/\")\n",
    "if not os.path.isdir(results_dir):\n",
    "    os.makedirs(results_dir)\n",
    "\n",
    "# Create directory to store results    \n",
    "df.to_csv(results_dir + output_data_file)"
   ]
  },
  {
   "cell_type": "code",
   "execution_count": null,
   "metadata": {},
   "outputs": [],
   "source": []
  }
 ],
 "metadata": {
  "kernelspec": {
   "display_name": "web_scrape",
   "language": "python",
   "name": "myenv"
  },
  "language_info": {
   "codemirror_mode": {
    "name": "ipython",
    "version": 3
   },
   "file_extension": ".py",
   "mimetype": "text/x-python",
   "name": "python",
   "nbconvert_exporter": "python",
   "pygments_lexer": "ipython3",
   "version": "3.7.4"
  }
 },
 "nbformat": 4,
 "nbformat_minor": 4
}
