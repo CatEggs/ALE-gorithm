{
 "cells": [
  {
   "cell_type": "code",
   "execution_count": 19,
   "metadata": {},
   "outputs": [],
   "source": [
    "# Install dependencies\n",
    "import pandas as pd\n",
    "import os\n",
    "from bs4 import BeautifulSoup\n",
    "import requests\n",
    "from pprint import pprint\n",
    "import json\n",
    "from fake_useragent import UserAgent\n",
    "from free_proxy import FreeProxy\n",
    "\n"
   ]
  },
  {
   "cell_type": "code",
   "execution_count": 2,
   "metadata": {},
   "outputs": [],
   "source": [
    "# Beeradvocate web page to scrape # https://www.beeradvocate.com/beer/profile/<brewery_id>/?view=beers&show=all\n",
    "base_url = 'https://www.beeradvocate.com/beer/profile/'\n",
    "test_url = 'https://www.beeradvocate.com/beer/profile/3/?view=beers&show=all'\n",
    "def response(url):\n",
    "        response = requests.get(url)\n",
    "        return response"
   ]
  },
  {
   "cell_type": "code",
   "execution_count": 3,
   "metadata": {},
   "outputs": [],
   "source": [
    "brewery_text = response(test_url).text\n",
    "soup = BeautifulSoup(brewery_text, 'lxml')"
   ]
  },
  {
   "cell_type": "code",
   "execution_count": 4,
   "metadata": {},
   "outputs": [
    {
     "name": "stdout",
     "output_type": "stream",
     "text": [
      "Abita Brewing Co.\n"
     ]
    }
   ],
   "source": [
    "# Get brewery name\n",
    "brewery_name = soup.find('h1').text\n",
    "print(brewery_name)"
   ]
  },
  {
   "cell_type": "code",
   "execution_count": 5,
   "metadata": {},
   "outputs": [
    {
     "name": "stdout",
     "output_type": "stream",
     "text": [
      "('Brewery, BarPO Box 1510Abita Springs,Louisiana, 70420-1510United States(800) '\n",
      " '737-2311 |mapabita.comNotes:')\n"
     ]
    }
   ],
   "source": [
    "brewery_location_text = soup.find(id=\"info_box\").get_text(strip=True)\n",
    "pprint(brewery_location_text)"
   ]
  },
  {
   "cell_type": "code",
   "execution_count": 6,
   "metadata": {},
   "outputs": [
    {
     "name": "stdout",
     "output_type": "stream",
     "text": [
      "'Average:3.54Beers:73Reviews:6,581Ratings:21,997'\n"
     ]
    }
   ],
   "source": [
    "brewery_facts_text= soup.find(id=\"item_stats\").get_text(strip=True)\n",
    "pprint(brewery_facts_text)"
   ]
  },
  {
   "cell_type": "code",
   "execution_count": 7,
   "metadata": {},
   "outputs": [],
   "source": [
    "dfs = pd.read_html(brewery_text)[2]"
   ]
  },
  {
   "cell_type": "code",
   "execution_count": 8,
   "metadata": {},
   "outputs": [
    {
     "name": "stdout",
     "output_type": "stream",
     "text": [
      "                                         Name                   Style  ABV  \\\n",
      "0                          2003 Symposium Ale          English Bitter  0.0   \n",
      "1                    20th Anniversary Pilsner       Bohemian Pilsener  5.0   \n",
      "2          25th Anniversary Vanilla Doubledog     American Strong Ale  7.0   \n",
      "3                        30th Anniversary Ale             Belgian IPA  7.0   \n",
      "4                                     30° 90°          American Lager  4.5   \n",
      "..                                        ...                     ...  ...   \n",
      "177  Watermelon Lemon Shandy (Harvest Series)    Fruit and Field Beer  3.5   \n",
      "178      Watermelon Seersucker Summer Pilsner    Fruit and Field Beer  4.8   \n",
      "179                                     Wheat  American Adjunct Lager  4.2   \n",
      "180                           White Linen Wit         Belgian Witbier  5.2   \n",
      "181                          Wrought Iron IPA            American IPA  6.9   \n",
      "\n",
      "     Ratings   Avg Yours  \n",
      "0          0  0.00     -  \n",
      "1         92  4.04     -  \n",
      "2        550  3.68     -  \n",
      "3         21  3.82     -  \n",
      "4         54  3.76     -  \n",
      "..       ...   ...   ...  \n",
      "177       23  3.25     -  \n",
      "178        1  3.70     -  \n",
      "179      140  3.35     -  \n",
      "180        3  3.84     -  \n",
      "181      866  3.87     -  \n",
      "\n",
      "[182 rows x 6 columns]\n"
     ]
    }
   ],
   "source": [
    "pprint(dfs)"
   ]
  },
  {
   "cell_type": "code",
   "execution_count": 9,
   "metadata": {},
   "outputs": [],
   "source": [
    "beer_df = pd.DataFrame(dfs)"
   ]
  },
  {
   "cell_type": "code",
   "execution_count": 10,
   "metadata": {},
   "outputs": [
    {
     "data": {
      "text/html": [
       "<div>\n",
       "<style scoped>\n",
       "    .dataframe tbody tr th:only-of-type {\n",
       "        vertical-align: middle;\n",
       "    }\n",
       "\n",
       "    .dataframe tbody tr th {\n",
       "        vertical-align: top;\n",
       "    }\n",
       "\n",
       "    .dataframe thead th {\n",
       "        text-align: right;\n",
       "    }\n",
       "</style>\n",
       "<table border=\"1\" class=\"dataframe\">\n",
       "  <thead>\n",
       "    <tr style=\"text-align: right;\">\n",
       "      <th></th>\n",
       "      <th>Name</th>\n",
       "      <th>Style</th>\n",
       "      <th>ABV</th>\n",
       "      <th>Ratings</th>\n",
       "      <th>Avg</th>\n",
       "      <th>Yours</th>\n",
       "    </tr>\n",
       "  </thead>\n",
       "  <tbody>\n",
       "    <tr>\n",
       "      <td>0</td>\n",
       "      <td>2003 Symposium Ale</td>\n",
       "      <td>English Bitter</td>\n",
       "      <td>0.0</td>\n",
       "      <td>0</td>\n",
       "      <td>0.00</td>\n",
       "      <td>-</td>\n",
       "    </tr>\n",
       "    <tr>\n",
       "      <td>1</td>\n",
       "      <td>20th Anniversary Pilsner</td>\n",
       "      <td>Bohemian Pilsener</td>\n",
       "      <td>5.0</td>\n",
       "      <td>92</td>\n",
       "      <td>4.04</td>\n",
       "      <td>-</td>\n",
       "    </tr>\n",
       "    <tr>\n",
       "      <td>2</td>\n",
       "      <td>25th Anniversary Vanilla Doubledog</td>\n",
       "      <td>American Strong Ale</td>\n",
       "      <td>7.0</td>\n",
       "      <td>550</td>\n",
       "      <td>3.68</td>\n",
       "      <td>-</td>\n",
       "    </tr>\n",
       "    <tr>\n",
       "      <td>3</td>\n",
       "      <td>30th Anniversary Ale</td>\n",
       "      <td>Belgian IPA</td>\n",
       "      <td>7.0</td>\n",
       "      <td>21</td>\n",
       "      <td>3.82</td>\n",
       "      <td>-</td>\n",
       "    </tr>\n",
       "    <tr>\n",
       "      <td>4</td>\n",
       "      <td>30° 90°</td>\n",
       "      <td>American Lager</td>\n",
       "      <td>4.5</td>\n",
       "      <td>54</td>\n",
       "      <td>3.76</td>\n",
       "      <td>-</td>\n",
       "    </tr>\n",
       "  </tbody>\n",
       "</table>\n",
       "</div>"
      ],
      "text/plain": [
       "                                 Name                Style  ABV  Ratings  \\\n",
       "0                  2003 Symposium Ale       English Bitter  0.0        0   \n",
       "1            20th Anniversary Pilsner    Bohemian Pilsener  5.0       92   \n",
       "2  25th Anniversary Vanilla Doubledog  American Strong Ale  7.0      550   \n",
       "3                30th Anniversary Ale          Belgian IPA  7.0       21   \n",
       "4                             30° 90°       American Lager  4.5       54   \n",
       "\n",
       "    Avg Yours  \n",
       "0  0.00     -  \n",
       "1  4.04     -  \n",
       "2  3.68     -  \n",
       "3  3.82     -  \n",
       "4  3.76     -  "
      ]
     },
     "execution_count": 10,
     "metadata": {},
     "output_type": "execute_result"
    }
   ],
   "source": [
    "beer_df.head()"
   ]
  },
  {
   "cell_type": "code",
   "execution_count": 22,
   "metadata": {},
   "outputs": [],
   "source": [
    "# proxy = FreeProxy().get() \n",
    "# print(proxy)"
   ]
  },
  {
   "cell_type": "code",
   "execution_count": 23,
   "metadata": {},
   "outputs": [
    {
     "name": "stdout",
     "output_type": "stream",
     "text": [
      "404\n"
     ]
    }
   ],
   "source": [
    "# Loop though and get all breweries\n",
    "\n",
    "ua = UserAgent()\n",
    "all_breweries = []\n",
    "brew_id = 1\n",
    "while True:\n",
    "#     proxy = FreeProxy(rand=True).get() **proxies={\"http\": proxy, \"https\": proxy}\n",
    "    headers = {'User-Agent':str(ua.random)}\n",
    "    r = requests.get(base_url+str(brew_id)+'/?view=beers&show=all', headers=headers)\n",
    "    brewery_text = r.text\n",
    "    soup = BeautifulSoup(brewery_text, 'lxml')\n",
    "    brewery_name = soup.find('h1').text\n",
    "    if r.status_code == 200:\n",
    "        all_breweries.append(brewery_name)\n",
    "        brew_id += 1\n",
    "    else:\n",
    "        print(r.status_code)\n",
    "        break"
   ]
  },
  {
   "cell_type": "code",
   "execution_count": 24,
   "metadata": {},
   "outputs": [
    {
     "name": "stdout",
     "output_type": "stream",
     "text": [
      "['Plzeňský Prazdroj',\n",
      " 'Yellow Rose Brewing Company',\n",
      " 'Abita Brewing Co.',\n",
      " 'Allagash Brewing Company',\n",
      " \"Yakima Brewing Co. / Bert Grant's Ales\",\n",
      " 'Brouwerij Slaghmuylder']\n"
     ]
    }
   ],
   "source": [
    "pprint(all_breweries)"
   ]
  },
  {
   "cell_type": "code",
   "execution_count": null,
   "metadata": {},
   "outputs": [],
   "source": []
  }
 ],
 "metadata": {
  "kernelspec": {
   "display_name": "web_scrape",
   "language": "python",
   "name": "myenv"
  },
  "language_info": {
   "codemirror_mode": {
    "name": "ipython",
    "version": 3
   },
   "file_extension": ".py",
   "mimetype": "text/x-python",
   "name": "python",
   "nbconvert_exporter": "python",
   "pygments_lexer": "ipython3",
   "version": "3.7.4"
  }
 },
 "nbformat": 4,
 "nbformat_minor": 2
}
